{
 "cells": [
  {
   "cell_type": "code",
   "execution_count": 1,
   "id": "fa286f33-8d6e-4345-906b-6fd0d811b79e",
   "metadata": {
    "execution": {
     "iopub.execute_input": "2023-06-03T16:54:13.002484Z",
     "iopub.status.busy": "2023-06-03T16:54:13.001805Z",
     "iopub.status.idle": "2023-06-03T16:54:15.729999Z",
     "shell.execute_reply": "2023-06-03T16:54:15.729493Z",
     "shell.execute_reply.started": "2023-06-03T16:54:13.002347Z"
    },
    "tags": []
   },
   "outputs": [],
   "source": [
    "import logging\n",
    "logging.basicConfig(level=logging.CRITICAL)\n",
    "\n",
    "import cv2\n",
    "import numpy as np\n",
    "import matplotlib.pyplot as plt\n",
    "import pandas as pd\n",
    "import glob\n",
    "\n",
    "from ultralytics import YOLO\n",
    "# Load a pretrained YOLO model (recommended for training)\n",
    "model = YOLO('./yolov8s.pt')"
   ]
  },
  {
   "cell_type": "code",
   "execution_count": 38,
   "id": "639fef1e-92b4-4556-b2b5-9bb5d30f6b4e",
   "metadata": {
    "execution": {
     "iopub.execute_input": "2023-06-03T17:03:02.000189Z",
     "iopub.status.busy": "2023-06-03T17:03:01.999759Z",
     "iopub.status.idle": "2023-06-03T17:03:02.044993Z",
     "shell.execute_reply": "2023-06-03T17:03:02.044298Z",
     "shell.execute_reply.started": "2023-06-03T17:03:02.000139Z"
    },
    "tags": []
   },
   "outputs": [],
   "source": [
    "train1_path = glob.glob('./交通场景运输车辆外廓视觉测量挑战赛公开数据-初赛/交通场景运输车辆赛题-训练集+开发集/训练集1/Imgs/*')\n",
    "train1_path.sort()\n",
    "train1_gt = pd.read_excel('./交通场景运输车辆外廓视觉测量挑战赛公开数据-初赛/交通场景运输车辆赛题-训练集+开发集/训练集1/Trainset1_gt.xls')\n",
    "\n",
    "train2_path = glob.glob('./交通场景运输车辆外廓视觉测量挑战赛公开数据-初赛/交通场景运输车辆赛题-训练集+开发集/训练集2/Imgs/*')\n",
    "train2_path.sort()\n",
    "train2_gt = pd.read_excel('./交通场景运输车辆外廓视觉测量挑战赛公开数据-初赛/交通场景运输车辆赛题-训练集+开发集/训练集2/Trainset2_gt.xls')\n",
    "\n",
    "dev_path = glob.glob('./交通场景运输车辆外廓视觉测量挑战赛公开数据-初赛/交通场景运输车辆赛题-训练集+开发集/开发集1/Imgs/*')\n",
    "dev_path.sort()\n",
    "dev_gt = pd.read_excel('./交通场景运输车辆外廓视觉测量挑战赛公开数据-初赛/交通场景运输车辆赛题-训练集+开发集/开发集1/Developset1_gt.xls')"
   ]
  },
  {
   "cell_type": "code",
   "execution_count": 68,
   "id": "3ca521aa-8b7f-4958-a860-ef45a703161d",
   "metadata": {
    "execution": {
     "iopub.execute_input": "2023-06-03T17:08:55.364117Z",
     "iopub.status.busy": "2023-06-03T17:08:55.363686Z",
     "iopub.status.idle": "2023-06-03T17:08:55.374028Z",
     "shell.execute_reply": "2023-06-03T17:08:55.372739Z",
     "shell.execute_reply.started": "2023-06-03T17:08:55.364067Z"
    },
    "tags": []
   },
   "outputs": [],
   "source": [
    "test1_path = glob.glob('./交通场景运输车辆外廓视觉测量挑战赛公开数据-初赛/交通场景运输车辆赛题-测试集/测试集1/Imgs/*')\n",
    "test1_path.sort()\n",
    "\n",
    "test2_path = glob.glob('./交通场景运输车辆外廓视觉测量挑战赛公开数据-初赛/交通场景运输车辆赛题-测试集/测试集2/Imgs/*')\n",
    "test2_path.sort()"
   ]
  },
  {
   "cell_type": "code",
   "execution_count": 39,
   "id": "fd25ebfd-d6f0-42ac-b5f6-2bb634272bf4",
   "metadata": {
    "execution": {
     "iopub.execute_input": "2023-06-03T17:03:02.173179Z",
     "iopub.status.busy": "2023-06-03T17:03:02.172641Z",
     "iopub.status.idle": "2023-06-03T17:03:02.380630Z",
     "shell.execute_reply": "2023-06-03T17:03:02.379567Z",
     "shell.execute_reply.started": "2023-06-03T17:03:02.173127Z"
    },
    "tags": []
   },
   "outputs": [],
   "source": [
    "def detect_car(path):\n",
    "    results = model(path)[0]\n",
    "    img = cv2.imread(path)\n",
    "    img = cv2.cvtColor(img, cv2.COLOR_BGR2RGB)\n",
    "    cls = list(results.boxes.cls.data.cpu().numpy().astype(int))\n",
    "    cls_name = [results.names[x] for x in cls]\n",
    "    print(cls_name)\n",
    "    \n",
    "    boxes = results.boxes.data.data.cpu().numpy().astype(int)\n",
    "    boxes_y_center = (boxes[:, 1] + boxes[:, 3]) / 2\n",
    "    boxes_idx = np.argmin(np.abs(boxes_y_center - img.shape[0] / 2))\n",
    "    \n",
    "    boxes = list(boxes[boxes_idx])[:4]\n",
    "    width = boxes[3] - boxes[1]\n",
    "    height = boxes[2] - boxes[0]\n",
    "    area = width * height\n",
    "    \n",
    "    boxes += [width, height, area]\n",
    "    return boxes"
   ]
  },
  {
   "cell_type": "code",
   "execution_count": 27,
   "id": "688c510c-1262-4fc0-a217-da4c305de04d",
   "metadata": {
    "execution": {
     "iopub.execute_input": "2023-06-03T17:00:16.005424Z",
     "iopub.status.busy": "2023-06-03T17:00:16.004989Z",
     "iopub.status.idle": "2023-06-03T17:00:57.713460Z",
     "shell.execute_reply": "2023-06-03T17:00:57.713085Z",
     "shell.execute_reply.started": "2023-06-03T17:00:16.005374Z"
    },
    "scrolled": true,
    "tags": []
   },
   "outputs": [
    {
     "name": "stderr",
     "output_type": "stream",
     "text": [
      "\n",
      "image 1/1 /home/lyz/work/kaggle/科大讯飞2023/交通场景运输车辆外廓视觉测量挑战赛/交通场景运输车辆外廓视觉测量挑战赛公开数据-初赛/交通场景运输车辆赛题-训练集+开发集/训练集1/Imgs/11001A.jpg: 352x640 2 cars, 1 truck, 6.4ms\n",
      "Speed: 18.6ms preprocess, 6.4ms inference, 1.0ms postprocess per image at shape (1, 3, 640, 640)\n",
      "\n",
      "image 1/1 /home/lyz/work/kaggle/科大讯飞2023/交通场景运输车辆外廓视觉测量挑战赛/交通场景运输车辆外廓视觉测量挑战赛公开数据-初赛/交通场景运输车辆赛题-训练集+开发集/训练集1/Imgs/11002A.jpg: 352x640 2 trucks, 6.3ms\n",
      "Speed: 1.7ms preprocess, 6.3ms inference, 1.0ms postprocess per image at shape (1, 3, 640, 640)\n",
      "\n"
     ]
    },
    {
     "name": "stdout",
     "output_type": "stream",
     "text": [
      "['truck', 'car', 'car']\n",
      "['truck', 'truck']\n"
     ]
    },
    {
     "name": "stderr",
     "output_type": "stream",
     "text": [
      "image 1/1 /home/lyz/work/kaggle/科大讯飞2023/交通场景运输车辆外廓视觉测量挑战赛/交通场景运输车辆外廓视觉测量挑战赛公开数据-初赛/交通场景运输车辆赛题-训练集+开发集/训练集1/Imgs/11003A.jpg: 352x640 1 truck, 6.3ms\n",
      "Speed: 1.8ms preprocess, 6.3ms inference, 0.9ms postprocess per image at shape (1, 3, 640, 640)\n",
      "\n",
      "image 1/1 /home/lyz/work/kaggle/科大讯飞2023/交通场景运输车辆外廓视觉测量挑战赛/交通场景运输车辆外廓视觉测量挑战赛公开数据-初赛/交通场景运输车辆赛题-训练集+开发集/训练集1/Imgs/11004A.jpg: 352x640 1 car, 1 truck, 6.3ms\n",
      "Speed: 1.7ms preprocess, 6.3ms inference, 0.9ms postprocess per image at shape (1, 3, 640, 640)\n",
      "\n"
     ]
    },
    {
     "name": "stdout",
     "output_type": "stream",
     "text": [
      "['truck']\n",
      "['truck', 'car']\n"
     ]
    },
    {
     "name": "stderr",
     "output_type": "stream",
     "text": [
      "image 1/1 /home/lyz/work/kaggle/科大讯飞2023/交通场景运输车辆外廓视觉测量挑战赛/交通场景运输车辆外廓视觉测量挑战赛公开数据-初赛/交通场景运输车辆赛题-训练集+开发集/训练集1/Imgs/11005A.jpg: 352x640 1 truck, 6.2ms\n",
      "Speed: 1.7ms preprocess, 6.2ms inference, 0.9ms postprocess per image at shape (1, 3, 640, 640)\n",
      "\n",
      "image 1/1 /home/lyz/work/kaggle/科大讯飞2023/交通场景运输车辆外廓视觉测量挑战赛/交通场景运输车辆外廓视觉测量挑战赛公开数据-初赛/交通场景运输车辆赛题-训练集+开发集/训练集1/Imgs/11006A.jpg: 352x640 1 car, 1 truck, 6.3ms\n",
      "Speed: 1.7ms preprocess, 6.3ms inference, 0.9ms postprocess per image at shape (1, 3, 640, 640)\n",
      "\n"
     ]
    },
    {
     "name": "stdout",
     "output_type": "stream",
     "text": [
      "['truck']\n",
      "['truck', 'car']\n"
     ]
    },
    {
     "name": "stderr",
     "output_type": "stream",
     "text": [
      "image 1/1 /home/lyz/work/kaggle/科大讯飞2023/交通场景运输车辆外廓视觉测量挑战赛/交通场景运输车辆外廓视觉测量挑战赛公开数据-初赛/交通场景运输车辆赛题-训练集+开发集/训练集1/Imgs/11007A.jpg: 352x640 1 bus, 2 trucks, 6.3ms\n",
      "Speed: 1.8ms preprocess, 6.3ms inference, 0.9ms postprocess per image at shape (1, 3, 640, 640)\n",
      "\n",
      "image 1/1 /home/lyz/work/kaggle/科大讯飞2023/交通场景运输车辆外廓视觉测量挑战赛/交通场景运输车辆外廓视觉测量挑战赛公开数据-初赛/交通场景运输车辆赛题-训练集+开发集/训练集1/Imgs/11008A.jpg: 352x640 1 person, 1 truck, 6.3ms\n",
      "Speed: 1.7ms preprocess, 6.3ms inference, 0.9ms postprocess per image at shape (1, 3, 640, 640)\n",
      "\n"
     ]
    },
    {
     "name": "stdout",
     "output_type": "stream",
     "text": [
      "['truck', 'truck', 'bus']\n",
      "['truck', 'person']\n"
     ]
    },
    {
     "name": "stderr",
     "output_type": "stream",
     "text": [
      "image 1/1 /home/lyz/work/kaggle/科大讯飞2023/交通场景运输车辆外廓视觉测量挑战赛/交通场景运输车辆外廓视觉测量挑战赛公开数据-初赛/交通场景运输车辆赛题-训练集+开发集/训练集1/Imgs/11009A.jpg: 352x640 1 truck, 6.3ms\n",
      "Speed: 1.8ms preprocess, 6.3ms inference, 0.9ms postprocess per image at shape (1, 3, 640, 640)\n",
      "\n",
      "image 1/1 /home/lyz/work/kaggle/科大讯飞2023/交通场景运输车辆外廓视觉测量挑战赛/交通场景运输车辆外廓视觉测量挑战赛公开数据-初赛/交通场景运输车辆赛题-训练集+开发集/训练集1/Imgs/11010A.jpg: 352x640 1 truck, 6.3ms\n",
      "Speed: 1.7ms preprocess, 6.3ms inference, 0.9ms postprocess per image at shape (1, 3, 640, 640)\n",
      "\n"
     ]
    },
    {
     "name": "stdout",
     "output_type": "stream",
     "text": [
      "['truck']\n",
      "['truck']\n"
     ]
    },
    {
     "name": "stderr",
     "output_type": "stream",
     "text": [
      "image 1/1 /home/lyz/work/kaggle/科大讯飞2023/交通场景运输车辆外廓视觉测量挑战赛/交通场景运输车辆外廓视觉测量挑战赛公开数据-初赛/交通场景运输车辆赛题-训练集+开发集/训练集1/Imgs/11011A.jpg: 352x640 2 trucks, 6.3ms\n",
      "Speed: 1.7ms preprocess, 6.3ms inference, 0.9ms postprocess per image at shape (1, 3, 640, 640)\n",
      "\n",
      "image 1/1 /home/lyz/work/kaggle/科大讯飞2023/交通场景运输车辆外廓视觉测量挑战赛/交通场景运输车辆外廓视觉测量挑战赛公开数据-初赛/交通场景运输车辆赛题-训练集+开发集/训练集1/Imgs/11012A.jpg: 352x640 1 truck, 6.3ms\n",
      "Speed: 1.7ms preprocess, 6.3ms inference, 0.9ms postprocess per image at shape (1, 3, 640, 640)\n",
      "\n"
     ]
    },
    {
     "name": "stdout",
     "output_type": "stream",
     "text": [
      "['truck', 'truck']\n",
      "['truck']\n"
     ]
    },
    {
     "name": "stderr",
     "output_type": "stream",
     "text": [
      "image 1/1 /home/lyz/work/kaggle/科大讯飞2023/交通场景运输车辆外廓视觉测量挑战赛/交通场景运输车辆外廓视觉测量挑战赛公开数据-初赛/交通场景运输车辆赛题-训练集+开发集/训练集1/Imgs/11013A.jpg: 352x640 1 truck, 6.3ms\n",
      "Speed: 1.7ms preprocess, 6.3ms inference, 0.9ms postprocess per image at shape (1, 3, 640, 640)\n",
      "\n",
      "image 1/1 /home/lyz/work/kaggle/科大讯飞2023/交通场景运输车辆外廓视觉测量挑战赛/交通场景运输车辆外廓视觉测量挑战赛公开数据-初赛/交通场景运输车辆赛题-训练集+开发集/训练集1/Imgs/11014A.jpg: 352x640 2 trucks, 6.3ms\n",
      "Speed: 1.7ms preprocess, 6.3ms inference, 0.9ms postprocess per image at shape (1, 3, 640, 640)\n",
      "\n"
     ]
    },
    {
     "name": "stdout",
     "output_type": "stream",
     "text": [
      "['truck']\n",
      "['truck', 'truck']\n"
     ]
    },
    {
     "name": "stderr",
     "output_type": "stream",
     "text": [
      "image 1/1 /home/lyz/work/kaggle/科大讯飞2023/交通场景运输车辆外廓视觉测量挑战赛/交通场景运输车辆外廓视觉测量挑战赛公开数据-初赛/交通场景运输车辆赛题-训练集+开发集/训练集1/Imgs/11015A.jpg: 352x640 2 trucks, 6.3ms\n",
      "Speed: 1.8ms preprocess, 6.3ms inference, 1.0ms postprocess per image at shape (1, 3, 640, 640)\n",
      "\n",
      "image 1/1 /home/lyz/work/kaggle/科大讯飞2023/交通场景运输车辆外廓视觉测量挑战赛/交通场景运输车辆外廓视觉测量挑战赛公开数据-初赛/交通场景运输车辆赛题-训练集+开发集/训练集1/Imgs/11016A.jpg: 352x640 1 truck, 6.3ms\n",
      "Speed: 1.7ms preprocess, 6.3ms inference, 0.9ms postprocess per image at shape (1, 3, 640, 640)\n",
      "\n"
     ]
    },
    {
     "name": "stdout",
     "output_type": "stream",
     "text": [
      "['truck', 'truck']\n",
      "['truck']\n"
     ]
    },
    {
     "name": "stderr",
     "output_type": "stream",
     "text": [
      "image 1/1 /home/lyz/work/kaggle/科大讯飞2023/交通场景运输车辆外廓视觉测量挑战赛/交通场景运输车辆外廓视觉测量挑战赛公开数据-初赛/交通场景运输车辆赛题-训练集+开发集/训练集1/Imgs/11017A.jpg: 352x640 1 truck, 6.2ms\n",
      "Speed: 1.7ms preprocess, 6.2ms inference, 0.9ms postprocess per image at shape (1, 3, 640, 640)\n",
      "\n",
      "image 1/1 /home/lyz/work/kaggle/科大讯飞2023/交通场景运输车辆外廓视觉测量挑战赛/交通场景运输车辆外廓视觉测量挑战赛公开数据-初赛/交通场景运输车辆赛题-训练集+开发集/训练集1/Imgs/11018A.jpg: 352x640 1 truck, 6.3ms\n",
      "Speed: 1.7ms preprocess, 6.3ms inference, 0.9ms postprocess per image at shape (1, 3, 640, 640)\n",
      "\n"
     ]
    },
    {
     "name": "stdout",
     "output_type": "stream",
     "text": [
      "['truck']\n",
      "['truck']\n"
     ]
    },
    {
     "name": "stderr",
     "output_type": "stream",
     "text": [
      "image 1/1 /home/lyz/work/kaggle/科大讯飞2023/交通场景运输车辆外廓视觉测量挑战赛/交通场景运输车辆外廓视觉测量挑战赛公开数据-初赛/交通场景运输车辆赛题-训练集+开发集/训练集1/Imgs/11019A.jpg: 352x640 1 car, 1 bus, 1 truck, 6.2ms\n",
      "Speed: 1.7ms preprocess, 6.2ms inference, 1.0ms postprocess per image at shape (1, 3, 640, 640)\n",
      "\n",
      "image 1/1 /home/lyz/work/kaggle/科大讯飞2023/交通场景运输车辆外廓视觉测量挑战赛/交通场景运输车辆外廓视觉测量挑战赛公开数据-初赛/交通场景运输车辆赛题-训练集+开发集/训练集1/Imgs/11020A.jpg: 352x640 1 bus, 6.3ms\n",
      "Speed: 1.7ms preprocess, 6.3ms inference, 0.9ms postprocess per image at shape (1, 3, 640, 640)\n",
      "\n"
     ]
    },
    {
     "name": "stdout",
     "output_type": "stream",
     "text": [
      "['truck', 'bus', 'car']\n",
      "['bus']\n"
     ]
    },
    {
     "name": "stderr",
     "output_type": "stream",
     "text": [
      "image 1/1 /home/lyz/work/kaggle/科大讯飞2023/交通场景运输车辆外廓视觉测量挑战赛/交通场景运输车辆外廓视觉测量挑战赛公开数据-初赛/交通场景运输车辆赛题-训练集+开发集/训练集1/Imgs/11021A.jpg: 352x640 1 car, 1 truck, 6.3ms\n",
      "Speed: 1.7ms preprocess, 6.3ms inference, 0.9ms postprocess per image at shape (1, 3, 640, 640)\n",
      "\n",
      "image 1/1 /home/lyz/work/kaggle/科大讯飞2023/交通场景运输车辆外廓视觉测量挑战赛/交通场景运输车辆外廓视觉测量挑战赛公开数据-初赛/交通场景运输车辆赛题-训练集+开发集/训练集1/Imgs/11022A.jpg: 352x640 1 bus, 6.3ms\n",
      "Speed: 1.7ms preprocess, 6.3ms inference, 0.9ms postprocess per image at shape (1, 3, 640, 640)\n",
      "\n"
     ]
    },
    {
     "name": "stdout",
     "output_type": "stream",
     "text": [
      "['truck', 'car']\n",
      "['bus']\n"
     ]
    },
    {
     "name": "stderr",
     "output_type": "stream",
     "text": [
      "image 1/1 /home/lyz/work/kaggle/科大讯飞2023/交通场景运输车辆外廓视觉测量挑战赛/交通场景运输车辆外廓视觉测量挑战赛公开数据-初赛/交通场景运输车辆赛题-训练集+开发集/训练集1/Imgs/11023A.jpg: 352x640 1 car, 1 bus, 6.3ms\n",
      "Speed: 1.7ms preprocess, 6.3ms inference, 0.9ms postprocess per image at shape (1, 3, 640, 640)\n",
      "\n",
      "image 1/1 /home/lyz/work/kaggle/科大讯飞2023/交通场景运输车辆外廓视觉测量挑战赛/交通场景运输车辆外廓视觉测量挑战赛公开数据-初赛/交通场景运输车辆赛题-训练集+开发集/训练集1/Imgs/11024A.jpg: 352x640 2 trucks, 6.3ms\n",
      "Speed: 1.7ms preprocess, 6.3ms inference, 0.9ms postprocess per image at shape (1, 3, 640, 640)\n",
      "\n"
     ]
    },
    {
     "name": "stdout",
     "output_type": "stream",
     "text": [
      "['car', 'bus']\n",
      "['truck', 'truck']\n"
     ]
    },
    {
     "name": "stderr",
     "output_type": "stream",
     "text": [
      "image 1/1 /home/lyz/work/kaggle/科大讯飞2023/交通场景运输车辆外廓视觉测量挑战赛/交通场景运输车辆外廓视觉测量挑战赛公开数据-初赛/交通场景运输车辆赛题-训练集+开发集/训练集1/Imgs/11025A.jpg: 352x640 2 cars, 3 trucks, 6.2ms\n",
      "Speed: 1.7ms preprocess, 6.2ms inference, 0.9ms postprocess per image at shape (1, 3, 640, 640)\n",
      "\n",
      "image 1/1 /home/lyz/work/kaggle/科大讯飞2023/交通场景运输车辆外廓视觉测量挑战赛/交通场景运输车辆外廓视觉测量挑战赛公开数据-初赛/交通场景运输车辆赛题-训练集+开发集/训练集1/Imgs/11026A.jpg: 352x640 1 truck, 6.3ms\n",
      "Speed: 1.7ms preprocess, 6.3ms inference, 0.9ms postprocess per image at shape (1, 3, 640, 640)\n",
      "\n"
     ]
    },
    {
     "name": "stdout",
     "output_type": "stream",
     "text": [
      "['truck', 'truck', 'car', 'truck', 'car']\n",
      "['truck']\n"
     ]
    },
    {
     "name": "stderr",
     "output_type": "stream",
     "text": [
      "image 1/1 /home/lyz/work/kaggle/科大讯飞2023/交通场景运输车辆外廓视觉测量挑战赛/交通场景运输车辆外廓视觉测量挑战赛公开数据-初赛/交通场景运输车辆赛题-训练集+开发集/训练集1/Imgs/11027A.jpg: 352x640 2 cars, 1 truck, 6.3ms\n",
      "Speed: 1.7ms preprocess, 6.3ms inference, 0.9ms postprocess per image at shape (1, 3, 640, 640)\n",
      "\n",
      "image 1/1 /home/lyz/work/kaggle/科大讯飞2023/交通场景运输车辆外廓视觉测量挑战赛/交通场景运输车辆外廓视觉测量挑战赛公开数据-初赛/交通场景运输车辆赛题-训练集+开发集/训练集1/Imgs/11028A.jpg: 352x640 1 bus, 2 trucks, 6.3ms\n",
      "Speed: 1.8ms preprocess, 6.3ms inference, 0.9ms postprocess per image at shape (1, 3, 640, 640)\n",
      "\n"
     ]
    },
    {
     "name": "stdout",
     "output_type": "stream",
     "text": [
      "['truck', 'car', 'car']\n",
      "['truck', 'bus', 'truck']\n"
     ]
    },
    {
     "name": "stderr",
     "output_type": "stream",
     "text": [
      "image 1/1 /home/lyz/work/kaggle/科大讯飞2023/交通场景运输车辆外廓视觉测量挑战赛/交通场景运输车辆外廓视觉测量挑战赛公开数据-初赛/交通场景运输车辆赛题-训练集+开发集/训练集1/Imgs/11029A.jpg: 352x640 1 truck, 6.3ms\n",
      "Speed: 1.7ms preprocess, 6.3ms inference, 0.9ms postprocess per image at shape (1, 3, 640, 640)\n",
      "\n",
      "image 1/1 /home/lyz/work/kaggle/科大讯飞2023/交通场景运输车辆外廓视觉测量挑战赛/交通场景运输车辆外廓视觉测量挑战赛公开数据-初赛/交通场景运输车辆赛题-训练集+开发集/训练集1/Imgs/11030A.jpg: 352x640 1 person, 3 cars, 1 truck, 6.3ms\n",
      "Speed: 1.7ms preprocess, 6.3ms inference, 0.9ms postprocess per image at shape (1, 3, 640, 640)\n",
      "\n"
     ]
    },
    {
     "name": "stdout",
     "output_type": "stream",
     "text": [
      "['truck']\n",
      "['truck', 'car', 'car', 'car', 'person']\n"
     ]
    },
    {
     "name": "stderr",
     "output_type": "stream",
     "text": [
      "image 1/1 /home/lyz/work/kaggle/科大讯飞2023/交通场景运输车辆外廓视觉测量挑战赛/交通场景运输车辆外廓视觉测量挑战赛公开数据-初赛/交通场景运输车辆赛题-训练集+开发集/训练集1/Imgs/11031A.jpg: 352x640 2 cars, 2 trucks, 6.3ms\n",
      "Speed: 1.7ms preprocess, 6.3ms inference, 0.9ms postprocess per image at shape (1, 3, 640, 640)\n",
      "\n",
      "image 1/1 /home/lyz/work/kaggle/科大讯飞2023/交通场景运输车辆外廓视觉测量挑战赛/交通场景运输车辆外廓视觉测量挑战赛公开数据-初赛/交通场景运输车辆赛题-训练集+开发集/训练集1/Imgs/11032A.jpg: 352x640 1 truck, 6.3ms\n",
      "Speed: 1.7ms preprocess, 6.3ms inference, 0.9ms postprocess per image at shape (1, 3, 640, 640)\n",
      "\n"
     ]
    },
    {
     "name": "stdout",
     "output_type": "stream",
     "text": [
      "['truck', 'car', 'car', 'truck']\n",
      "['truck']\n"
     ]
    },
    {
     "name": "stderr",
     "output_type": "stream",
     "text": [
      "image 1/1 /home/lyz/work/kaggle/科大讯飞2023/交通场景运输车辆外廓视觉测量挑战赛/交通场景运输车辆外廓视觉测量挑战赛公开数据-初赛/交通场景运输车辆赛题-训练集+开发集/训练集1/Imgs/11033A.jpg: 352x640 2 cars, 1 truck, 6.2ms\n",
      "Speed: 1.7ms preprocess, 6.2ms inference, 0.9ms postprocess per image at shape (1, 3, 640, 640)\n",
      "\n",
      "image 1/1 /home/lyz/work/kaggle/科大讯飞2023/交通场景运输车辆外廓视觉测量挑战赛/交通场景运输车辆外廓视觉测量挑战赛公开数据-初赛/交通场景运输车辆赛题-训练集+开发集/训练集1/Imgs/11034A.jpg: 352x640 1 truck, 6.3ms\n",
      "Speed: 1.7ms preprocess, 6.3ms inference, 1.0ms postprocess per image at shape (1, 3, 640, 640)\n",
      "\n"
     ]
    },
    {
     "name": "stdout",
     "output_type": "stream",
     "text": [
      "['truck', 'car', 'car']\n",
      "['truck']\n"
     ]
    },
    {
     "name": "stderr",
     "output_type": "stream",
     "text": [
      "image 1/1 /home/lyz/work/kaggle/科大讯飞2023/交通场景运输车辆外廓视觉测量挑战赛/交通场景运输车辆外廓视觉测量挑战赛公开数据-初赛/交通场景运输车辆赛题-训练集+开发集/训练集1/Imgs/11035A.jpg: 352x640 1 truck, 6.3ms\n",
      "Speed: 1.7ms preprocess, 6.3ms inference, 0.9ms postprocess per image at shape (1, 3, 640, 640)\n",
      "\n",
      "image 1/1 /home/lyz/work/kaggle/科大讯飞2023/交通场景运输车辆外廓视觉测量挑战赛/交通场景运输车辆外廓视觉测量挑战赛公开数据-初赛/交通场景运输车辆赛题-训练集+开发集/训练集1/Imgs/11036A.jpg: 352x640 1 truck, 6.3ms\n",
      "Speed: 1.7ms preprocess, 6.3ms inference, 1.0ms postprocess per image at shape (1, 3, 640, 640)\n",
      "\n"
     ]
    },
    {
     "name": "stdout",
     "output_type": "stream",
     "text": [
      "['truck']\n",
      "['truck']\n"
     ]
    },
    {
     "name": "stderr",
     "output_type": "stream",
     "text": [
      "image 1/1 /home/lyz/work/kaggle/科大讯飞2023/交通场景运输车辆外廓视觉测量挑战赛/交通场景运输车辆外廓视觉测量挑战赛公开数据-初赛/交通场景运输车辆赛题-训练集+开发集/训练集1/Imgs/11037A.jpg: 352x640 1 person, 1 car, 3 trucks, 6.2ms\n",
      "Speed: 1.7ms preprocess, 6.2ms inference, 0.9ms postprocess per image at shape (1, 3, 640, 640)\n",
      "\n",
      "image 1/1 /home/lyz/work/kaggle/科大讯飞2023/交通场景运输车辆外廓视觉测量挑战赛/交通场景运输车辆外廓视觉测量挑战赛公开数据-初赛/交通场景运输车辆赛题-训练集+开发集/训练集1/Imgs/11038A.jpg: 352x640 2 cars, 1 truck, 6.3ms\n",
      "Speed: 1.7ms preprocess, 6.3ms inference, 0.9ms postprocess per image at shape (1, 3, 640, 640)\n",
      "\n"
     ]
    },
    {
     "name": "stdout",
     "output_type": "stream",
     "text": [
      "['truck', 'truck', 'car', 'truck', 'person']\n",
      "['truck', 'car', 'car']\n"
     ]
    },
    {
     "name": "stderr",
     "output_type": "stream",
     "text": [
      "image 1/1 /home/lyz/work/kaggle/科大讯飞2023/交通场景运输车辆外廓视觉测量挑战赛/交通场景运输车辆外廓视觉测量挑战赛公开数据-初赛/交通场景运输车辆赛题-训练集+开发集/训练集1/Imgs/11039A.jpg: 352x640 2 trucks, 6.3ms\n",
      "Speed: 1.7ms preprocess, 6.3ms inference, 0.9ms postprocess per image at shape (1, 3, 640, 640)\n",
      "\n",
      "image 1/1 /home/lyz/work/kaggle/科大讯飞2023/交通场景运输车辆外廓视觉测量挑战赛/交通场景运输车辆外廓视觉测量挑战赛公开数据-初赛/交通场景运输车辆赛题-训练集+开发集/训练集1/Imgs/11040A.jpg: 352x640 1 truck, 6.3ms\n",
      "Speed: 1.7ms preprocess, 6.3ms inference, 0.9ms postprocess per image at shape (1, 3, 640, 640)\n",
      "\n"
     ]
    },
    {
     "name": "stdout",
     "output_type": "stream",
     "text": [
      "['truck', 'truck']\n",
      "['truck']\n"
     ]
    },
    {
     "name": "stderr",
     "output_type": "stream",
     "text": [
      "image 1/1 /home/lyz/work/kaggle/科大讯飞2023/交通场景运输车辆外廓视觉测量挑战赛/交通场景运输车辆外廓视觉测量挑战赛公开数据-初赛/交通场景运输车辆赛题-训练集+开发集/训练集1/Imgs/11041A.jpg: 352x640 1 car, 2 trucks, 6.3ms\n",
      "Speed: 1.8ms preprocess, 6.3ms inference, 1.0ms postprocess per image at shape (1, 3, 640, 640)\n",
      "\n",
      "image 1/1 /home/lyz/work/kaggle/科大讯飞2023/交通场景运输车辆外廓视觉测量挑战赛/交通场景运输车辆外廓视觉测量挑战赛公开数据-初赛/交通场景运输车辆赛题-训练集+开发集/训练集1/Imgs/11042A.jpg: 352x640 1 person, 1 truck, 6.3ms\n",
      "Speed: 1.7ms preprocess, 6.3ms inference, 0.9ms postprocess per image at shape (1, 3, 640, 640)\n",
      "\n"
     ]
    },
    {
     "name": "stdout",
     "output_type": "stream",
     "text": [
      "['truck', 'truck', 'car']\n",
      "['truck', 'person']\n"
     ]
    },
    {
     "name": "stderr",
     "output_type": "stream",
     "text": [
      "image 1/1 /home/lyz/work/kaggle/科大讯飞2023/交通场景运输车辆外廓视觉测量挑战赛/交通场景运输车辆外廓视觉测量挑战赛公开数据-初赛/交通场景运输车辆赛题-训练集+开发集/训练集1/Imgs/11043A.jpg: 352x640 1 person, 1 truck, 6.2ms\n",
      "Speed: 1.7ms preprocess, 6.2ms inference, 0.9ms postprocess per image at shape (1, 3, 640, 640)\n",
      "\n",
      "image 1/1 /home/lyz/work/kaggle/科大讯飞2023/交通场景运输车辆外廓视觉测量挑战赛/交通场景运输车辆外廓视觉测量挑战赛公开数据-初赛/交通场景运输车辆赛题-训练集+开发集/训练集1/Imgs/11044A.jpg: 352x640 1 truck, 6.3ms\n",
      "Speed: 1.7ms preprocess, 6.3ms inference, 0.9ms postprocess per image at shape (1, 3, 640, 640)\n",
      "\n"
     ]
    },
    {
     "name": "stdout",
     "output_type": "stream",
     "text": [
      "['truck', 'person']\n",
      "['truck']\n"
     ]
    },
    {
     "name": "stderr",
     "output_type": "stream",
     "text": [
      "image 1/1 /home/lyz/work/kaggle/科大讯飞2023/交通场景运输车辆外廓视觉测量挑战赛/交通场景运输车辆外廓视觉测量挑战赛公开数据-初赛/交通场景运输车辆赛题-训练集+开发集/训练集1/Imgs/11045A.jpg: 352x640 1 car, 1 truck, 6.3ms\n",
      "Speed: 1.7ms preprocess, 6.3ms inference, 0.9ms postprocess per image at shape (1, 3, 640, 640)\n",
      "\n",
      "image 1/1 /home/lyz/work/kaggle/科大讯飞2023/交通场景运输车辆外廓视觉测量挑战赛/交通场景运输车辆外廓视觉测量挑战赛公开数据-初赛/交通场景运输车辆赛题-训练集+开发集/训练集1/Imgs/11046A.jpg: 352x640 1 truck, 6.3ms\n",
      "Speed: 1.7ms preprocess, 6.3ms inference, 0.9ms postprocess per image at shape (1, 3, 640, 640)\n",
      "\n"
     ]
    },
    {
     "name": "stdout",
     "output_type": "stream",
     "text": [
      "['truck', 'car']\n",
      "['truck']\n"
     ]
    },
    {
     "name": "stderr",
     "output_type": "stream",
     "text": [
      "image 1/1 /home/lyz/work/kaggle/科大讯飞2023/交通场景运输车辆外廓视觉测量挑战赛/交通场景运输车辆外廓视觉测量挑战赛公开数据-初赛/交通场景运输车辆赛题-训练集+开发集/训练集1/Imgs/11047A.jpg: 352x640 2 cars, 1 truck, 6.3ms\n",
      "Speed: 1.8ms preprocess, 6.3ms inference, 0.9ms postprocess per image at shape (1, 3, 640, 640)\n",
      "\n",
      "image 1/1 /home/lyz/work/kaggle/科大讯飞2023/交通场景运输车辆外廓视觉测量挑战赛/交通场景运输车辆外廓视觉测量挑战赛公开数据-初赛/交通场景运输车辆赛题-训练集+开发集/训练集1/Imgs/11048A.jpg: 352x640 1 person, 1 car, 1 truck, 6.3ms\n",
      "Speed: 1.7ms preprocess, 6.3ms inference, 0.9ms postprocess per image at shape (1, 3, 640, 640)\n",
      "\n"
     ]
    },
    {
     "name": "stdout",
     "output_type": "stream",
     "text": [
      "['truck', 'car', 'car']\n",
      "['truck', 'car', 'person']\n"
     ]
    },
    {
     "name": "stderr",
     "output_type": "stream",
     "text": [
      "image 1/1 /home/lyz/work/kaggle/科大讯飞2023/交通场景运输车辆外廓视觉测量挑战赛/交通场景运输车辆外廓视觉测量挑战赛公开数据-初赛/交通场景运输车辆赛题-训练集+开发集/训练集1/Imgs/11049A.jpg: 352x640 1 truck, 6.3ms\n",
      "Speed: 1.7ms preprocess, 6.3ms inference, 0.9ms postprocess per image at shape (1, 3, 640, 640)\n",
      "\n",
      "image 1/1 /home/lyz/work/kaggle/科大讯飞2023/交通场景运输车辆外廓视觉测量挑战赛/交通场景运输车辆外廓视觉测量挑战赛公开数据-初赛/交通场景运输车辆赛题-训练集+开发集/训练集1/Imgs/11050A.jpg: 352x640 1 truck, 6.2ms\n",
      "Speed: 1.7ms preprocess, 6.2ms inference, 0.9ms postprocess per image at shape (1, 3, 640, 640)\n",
      "\n"
     ]
    },
    {
     "name": "stdout",
     "output_type": "stream",
     "text": [
      "['truck']\n",
      "['truck']\n"
     ]
    },
    {
     "name": "stderr",
     "output_type": "stream",
     "text": [
      "image 1/1 /home/lyz/work/kaggle/科大讯飞2023/交通场景运输车辆外廓视觉测量挑战赛/交通场景运输车辆外廓视觉测量挑战赛公开数据-初赛/交通场景运输车辆赛题-训练集+开发集/训练集2/Imgs/12001A.jpg: 352x640 1 truck, 6.3ms\n",
      "Speed: 1.8ms preprocess, 6.3ms inference, 0.9ms postprocess per image at shape (1, 3, 640, 640)\n",
      "\n",
      "image 1/1 /home/lyz/work/kaggle/科大讯飞2023/交通场景运输车辆外廓视觉测量挑战赛/交通场景运输车辆外廓视觉测量挑战赛公开数据-初赛/交通场景运输车辆赛题-训练集+开发集/训练集2/Imgs/12001B.jpg: 352x640 1 truck, 1 sports ball, 6.3ms\n",
      "Speed: 1.7ms preprocess, 6.3ms inference, 0.9ms postprocess per image at shape (1, 3, 640, 640)\n",
      "\n"
     ]
    },
    {
     "name": "stdout",
     "output_type": "stream",
     "text": [
      "['truck']\n",
      "['truck', 'sports ball']\n"
     ]
    },
    {
     "name": "stderr",
     "output_type": "stream",
     "text": [
      "image 1/1 /home/lyz/work/kaggle/科大讯飞2023/交通场景运输车辆外廓视觉测量挑战赛/交通场景运输车辆外廓视觉测量挑战赛公开数据-初赛/交通场景运输车辆赛题-训练集+开发集/训练集2/Imgs/12002A.jpg: 352x640 2 cars, 1 truck, 6.2ms\n",
      "Speed: 1.7ms preprocess, 6.2ms inference, 0.9ms postprocess per image at shape (1, 3, 640, 640)\n",
      "\n",
      "image 1/1 /home/lyz/work/kaggle/科大讯飞2023/交通场景运输车辆外廓视觉测量挑战赛/交通场景运输车辆外廓视觉测量挑战赛公开数据-初赛/交通场景运输车辆赛题-训练集+开发集/训练集2/Imgs/12002B.jpg: 352x640 1 car, 2 trucks, 1 apple, 6.3ms\n",
      "Speed: 1.8ms preprocess, 6.3ms inference, 0.9ms postprocess per image at shape (1, 3, 640, 640)\n",
      "\n"
     ]
    },
    {
     "name": "stdout",
     "output_type": "stream",
     "text": [
      "['truck', 'car', 'car']\n",
      "['truck', 'apple', 'truck', 'car']\n"
     ]
    },
    {
     "name": "stderr",
     "output_type": "stream",
     "text": [
      "image 1/1 /home/lyz/work/kaggle/科大讯飞2023/交通场景运输车辆外廓视觉测量挑战赛/交通场景运输车辆外廓视觉测量挑战赛公开数据-初赛/交通场景运输车辆赛题-训练集+开发集/训练集2/Imgs/12003A.jpg: 352x640 1 car, 1 truck, 6.2ms\n",
      "Speed: 1.7ms preprocess, 6.2ms inference, 0.9ms postprocess per image at shape (1, 3, 640, 640)\n",
      "\n",
      "image 1/1 /home/lyz/work/kaggle/科大讯飞2023/交通场景运输车辆外廓视觉测量挑战赛/交通场景运输车辆外廓视觉测量挑战赛公开数据-初赛/交通场景运输车辆赛题-训练集+开发集/训练集2/Imgs/12003B.jpg: 352x640 1 car, 1 truck, 2 sports balls, 6.3ms\n",
      "Speed: 1.7ms preprocess, 6.3ms inference, 0.9ms postprocess per image at shape (1, 3, 640, 640)\n",
      "\n"
     ]
    },
    {
     "name": "stdout",
     "output_type": "stream",
     "text": [
      "['truck', 'car']\n",
      "['truck', 'car', 'sports ball', 'sports ball']\n"
     ]
    },
    {
     "name": "stderr",
     "output_type": "stream",
     "text": [
      "image 1/1 /home/lyz/work/kaggle/科大讯飞2023/交通场景运输车辆外廓视觉测量挑战赛/交通场景运输车辆外廓视觉测量挑战赛公开数据-初赛/交通场景运输车辆赛题-训练集+开发集/训练集2/Imgs/12004A.jpg: 352x640 1 car, 1 truck, 6.3ms\n",
      "Speed: 1.7ms preprocess, 6.3ms inference, 0.9ms postprocess per image at shape (1, 3, 640, 640)\n",
      "\n",
      "image 1/1 /home/lyz/work/kaggle/科大讯飞2023/交通场景运输车辆外廓视觉测量挑战赛/交通场景运输车辆外廓视觉测量挑战赛公开数据-初赛/交通场景运输车辆赛题-训练集+开发集/训练集2/Imgs/12004B.jpg: 352x640 2 cars, 1 truck, 1 sports ball, 1 orange, 6.3ms\n",
      "Speed: 1.7ms preprocess, 6.3ms inference, 0.9ms postprocess per image at shape (1, 3, 640, 640)\n",
      "\n"
     ]
    },
    {
     "name": "stdout",
     "output_type": "stream",
     "text": [
      "['truck', 'car']\n",
      "['truck', 'car', 'car', 'orange', 'sports ball']\n"
     ]
    },
    {
     "name": "stderr",
     "output_type": "stream",
     "text": [
      "image 1/1 /home/lyz/work/kaggle/科大讯飞2023/交通场景运输车辆外廓视觉测量挑战赛/交通场景运输车辆外廓视觉测量挑战赛公开数据-初赛/交通场景运输车辆赛题-训练集+开发集/训练集2/Imgs/12005A.jpg: 352x640 2 cars, 2 trucks, 1 traffic light, 6.3ms\n",
      "Speed: 1.8ms preprocess, 6.3ms inference, 0.9ms postprocess per image at shape (1, 3, 640, 640)\n",
      "\n",
      "image 1/1 /home/lyz/work/kaggle/科大讯飞2023/交通场景运输车辆外廓视觉测量挑战赛/交通场景运输车辆外廓视觉测量挑战赛公开数据-初赛/交通场景运输车辆赛题-训练集+开发集/训练集2/Imgs/12005B.jpg: 352x640 1 bus, 1 truck, 6.3ms\n",
      "Speed: 1.8ms preprocess, 6.3ms inference, 0.9ms postprocess per image at shape (1, 3, 640, 640)\n",
      "\n"
     ]
    },
    {
     "name": "stdout",
     "output_type": "stream",
     "text": [
      "['truck', 'car', 'car', 'truck', 'traffic light']\n",
      "['truck', 'bus']\n"
     ]
    },
    {
     "name": "stderr",
     "output_type": "stream",
     "text": [
      "image 1/1 /home/lyz/work/kaggle/科大讯飞2023/交通场景运输车辆外廓视觉测量挑战赛/交通场景运输车辆外廓视觉测量挑战赛公开数据-初赛/交通场景运输车辆赛题-训练集+开发集/训练集2/Imgs/12006A.jpg: 352x640 1 truck, 6.2ms\n",
      "Speed: 1.7ms preprocess, 6.2ms inference, 0.9ms postprocess per image at shape (1, 3, 640, 640)\n",
      "\n",
      "image 1/1 /home/lyz/work/kaggle/科大讯飞2023/交通场景运输车辆外廓视觉测量挑战赛/交通场景运输车辆外廓视觉测量挑战赛公开数据-初赛/交通场景运输车辆赛题-训练集+开发集/训练集2/Imgs/12006B.jpg: 352x640 1 truck, 6.2ms\n",
      "Speed: 1.7ms preprocess, 6.2ms inference, 1.0ms postprocess per image at shape (1, 3, 640, 640)\n",
      "\n"
     ]
    },
    {
     "name": "stdout",
     "output_type": "stream",
     "text": [
      "['truck']\n",
      "['truck']\n"
     ]
    },
    {
     "name": "stderr",
     "output_type": "stream",
     "text": [
      "image 1/1 /home/lyz/work/kaggle/科大讯飞2023/交通场景运输车辆外廓视觉测量挑战赛/交通场景运输车辆外廓视觉测量挑战赛公开数据-初赛/交通场景运输车辆赛题-训练集+开发集/训练集2/Imgs/12007A.jpg: 352x640 1 person, 2 trucks, 6.3ms\n",
      "Speed: 1.7ms preprocess, 6.3ms inference, 0.9ms postprocess per image at shape (1, 3, 640, 640)\n",
      "\n",
      "image 1/1 /home/lyz/work/kaggle/科大讯飞2023/交通场景运输车辆外廓视觉测量挑战赛/交通场景运输车辆外廓视觉测量挑战赛公开数据-初赛/交通场景运输车辆赛题-训练集+开发集/训练集2/Imgs/12007B.jpg: 352x640 2 trucks, 1 sports ball, 6.3ms\n",
      "Speed: 1.7ms preprocess, 6.3ms inference, 0.9ms postprocess per image at shape (1, 3, 640, 640)\n",
      "\n"
     ]
    },
    {
     "name": "stdout",
     "output_type": "stream",
     "text": [
      "['truck', 'truck', 'person']\n",
      "['truck', 'truck', 'sports ball']\n"
     ]
    },
    {
     "name": "stderr",
     "output_type": "stream",
     "text": [
      "image 1/1 /home/lyz/work/kaggle/科大讯飞2023/交通场景运输车辆外廓视觉测量挑战赛/交通场景运输车辆外廓视觉测量挑战赛公开数据-初赛/交通场景运输车辆赛题-训练集+开发集/训练集2/Imgs/12008A.jpg: 352x640 1 person, 1 car, 2 trucks, 6.3ms\n",
      "Speed: 1.7ms preprocess, 6.3ms inference, 0.9ms postprocess per image at shape (1, 3, 640, 640)\n",
      "\n",
      "image 1/1 /home/lyz/work/kaggle/科大讯飞2023/交通场景运输车辆外廓视觉测量挑战赛/交通场景运输车辆外廓视觉测量挑战赛公开数据-初赛/交通场景运输车辆赛题-训练集+开发集/训练集2/Imgs/12008B.jpg: 352x640 1 car, 4 trucks, 1 orange, 6.3ms\n",
      "Speed: 1.7ms preprocess, 6.3ms inference, 0.9ms postprocess per image at shape (1, 3, 640, 640)\n",
      "\n"
     ]
    },
    {
     "name": "stdout",
     "output_type": "stream",
     "text": [
      "['truck', 'truck', 'car', 'person']\n",
      "['truck', 'truck', 'car', 'orange', 'truck', 'truck']\n"
     ]
    },
    {
     "name": "stderr",
     "output_type": "stream",
     "text": [
      "image 1/1 /home/lyz/work/kaggle/科大讯飞2023/交通场景运输车辆外廓视觉测量挑战赛/交通场景运输车辆外廓视觉测量挑战赛公开数据-初赛/交通场景运输车辆赛题-训练集+开发集/训练集2/Imgs/12009A.jpg: 352x640 1 truck, 6.3ms\n",
      "Speed: 1.7ms preprocess, 6.3ms inference, 0.9ms postprocess per image at shape (1, 3, 640, 640)\n",
      "\n",
      "image 1/1 /home/lyz/work/kaggle/科大讯飞2023/交通场景运输车辆外廓视觉测量挑战赛/交通场景运输车辆外廓视觉测量挑战赛公开数据-初赛/交通场景运输车辆赛题-训练集+开发集/训练集2/Imgs/12009B.jpg: 352x640 2 cars, 1 truck, 6.3ms\n",
      "Speed: 1.6ms preprocess, 6.3ms inference, 0.9ms postprocess per image at shape (1, 3, 640, 640)\n",
      "\n"
     ]
    },
    {
     "name": "stdout",
     "output_type": "stream",
     "text": [
      "['truck']\n",
      "['truck', 'car', 'car']\n"
     ]
    },
    {
     "name": "stderr",
     "output_type": "stream",
     "text": [
      "image 1/1 /home/lyz/work/kaggle/科大讯飞2023/交通场景运输车辆外廓视觉测量挑战赛/交通场景运输车辆外廓视觉测量挑战赛公开数据-初赛/交通场景运输车辆赛题-训练集+开发集/训练集2/Imgs/12010A.jpg: 352x640 1 car, 1 truck, 6.3ms\n",
      "Speed: 1.7ms preprocess, 6.3ms inference, 0.9ms postprocess per image at shape (1, 3, 640, 640)\n",
      "\n",
      "image 1/1 /home/lyz/work/kaggle/科大讯飞2023/交通场景运输车辆外廓视觉测量挑战赛/交通场景运输车辆外廓视觉测量挑战赛公开数据-初赛/交通场景运输车辆赛题-训练集+开发集/训练集2/Imgs/12010B.jpg: 352x640 3 cars, 1 truck, 1 sports ball, 6.3ms\n",
      "Speed: 1.7ms preprocess, 6.3ms inference, 0.9ms postprocess per image at shape (1, 3, 640, 640)\n",
      "\n"
     ]
    },
    {
     "name": "stdout",
     "output_type": "stream",
     "text": [
      "['truck', 'car']\n",
      "['truck', 'car', 'car', 'car', 'sports ball']\n"
     ]
    },
    {
     "name": "stderr",
     "output_type": "stream",
     "text": [
      "image 1/1 /home/lyz/work/kaggle/科大讯飞2023/交通场景运输车辆外廓视觉测量挑战赛/交通场景运输车辆外廓视觉测量挑战赛公开数据-初赛/交通场景运输车辆赛题-训练集+开发集/训练集2/Imgs/12011A.jpg: 352x640 1 car, 1 truck, 6.3ms\n",
      "Speed: 1.7ms preprocess, 6.3ms inference, 0.9ms postprocess per image at shape (1, 3, 640, 640)\n",
      "\n",
      "image 1/1 /home/lyz/work/kaggle/科大讯飞2023/交通场景运输车辆外廓视觉测量挑战赛/交通场景运输车辆外廓视觉测量挑战赛公开数据-初赛/交通场景运输车辆赛题-训练集+开发集/训练集2/Imgs/12011B.jpg: 352x640 2 cars, 1 truck, 6.3ms\n",
      "Speed: 1.8ms preprocess, 6.3ms inference, 0.9ms postprocess per image at shape (1, 3, 640, 640)\n",
      "\n"
     ]
    },
    {
     "name": "stdout",
     "output_type": "stream",
     "text": [
      "['truck', 'car']\n",
      "['truck', 'car', 'car']\n"
     ]
    },
    {
     "name": "stderr",
     "output_type": "stream",
     "text": [
      "image 1/1 /home/lyz/work/kaggle/科大讯飞2023/交通场景运输车辆外廓视觉测量挑战赛/交通场景运输车辆外廓视觉测量挑战赛公开数据-初赛/交通场景运输车辆赛题-训练集+开发集/训练集2/Imgs/12012A.jpg: 352x640 1 truck, 6.3ms\n",
      "Speed: 1.7ms preprocess, 6.3ms inference, 0.9ms postprocess per image at shape (1, 3, 640, 640)\n",
      "\n",
      "image 1/1 /home/lyz/work/kaggle/科大讯飞2023/交通场景运输车辆外廓视觉测量挑战赛/交通场景运输车辆外廓视觉测量挑战赛公开数据-初赛/交通场景运输车辆赛题-训练集+开发集/训练集2/Imgs/12012B.jpg: 352x640 1 truck, 1 sports ball, 1 apple, 7.5ms\n",
      "Speed: 1.8ms preprocess, 7.5ms inference, 1.0ms postprocess per image at shape (1, 3, 640, 640)\n",
      "\n"
     ]
    },
    {
     "name": "stdout",
     "output_type": "stream",
     "text": [
      "['truck']\n",
      "['truck', 'sports ball', 'apple']\n"
     ]
    },
    {
     "name": "stderr",
     "output_type": "stream",
     "text": [
      "image 1/1 /home/lyz/work/kaggle/科大讯飞2023/交通场景运输车辆外廓视觉测量挑战赛/交通场景运输车辆外廓视觉测量挑战赛公开数据-初赛/交通场景运输车辆赛题-训练集+开发集/训练集2/Imgs/12013A.jpg: 352x640 1 car, 2 trucks, 6.3ms\n",
      "Speed: 1.7ms preprocess, 6.3ms inference, 0.9ms postprocess per image at shape (1, 3, 640, 640)\n",
      "\n",
      "image 1/1 /home/lyz/work/kaggle/科大讯飞2023/交通场景运输车辆外廓视觉测量挑战赛/交通场景运输车辆外廓视觉测量挑战赛公开数据-初赛/交通场景运输车辆赛题-训练集+开发集/训练集2/Imgs/12013B.jpg: 352x640 1 truck, 1 sports ball, 6.3ms\n",
      "Speed: 1.7ms preprocess, 6.3ms inference, 0.9ms postprocess per image at shape (1, 3, 640, 640)\n",
      "\n"
     ]
    },
    {
     "name": "stdout",
     "output_type": "stream",
     "text": [
      "['truck', 'truck', 'car']\n",
      "['truck', 'sports ball']\n"
     ]
    },
    {
     "name": "stderr",
     "output_type": "stream",
     "text": [
      "image 1/1 /home/lyz/work/kaggle/科大讯飞2023/交通场景运输车辆外廓视觉测量挑战赛/交通场景运输车辆外廓视觉测量挑战赛公开数据-初赛/交通场景运输车辆赛题-训练集+开发集/训练集2/Imgs/12014A.jpg: 352x640 1 person, 3 cars, 1 truck, 6.3ms\n",
      "Speed: 1.8ms preprocess, 6.3ms inference, 0.9ms postprocess per image at shape (1, 3, 640, 640)\n",
      "\n",
      "image 1/1 /home/lyz/work/kaggle/科大讯飞2023/交通场景运输车辆外廓视觉测量挑战赛/交通场景运输车辆外廓视觉测量挑战赛公开数据-初赛/交通场景运输车辆赛题-训练集+开发集/训练集2/Imgs/12014B.jpg: 352x640 1 person, 1 car, 2 trucks, 6.3ms\n",
      "Speed: 1.8ms preprocess, 6.3ms inference, 1.0ms postprocess per image at shape (1, 3, 640, 640)\n",
      "\n"
     ]
    },
    {
     "name": "stdout",
     "output_type": "stream",
     "text": [
      "['truck', 'car', 'car', 'car', 'person']\n",
      "['truck', 'car', 'truck', 'person']\n"
     ]
    },
    {
     "name": "stderr",
     "output_type": "stream",
     "text": [
      "image 1/1 /home/lyz/work/kaggle/科大讯飞2023/交通场景运输车辆外廓视觉测量挑战赛/交通场景运输车辆外廓视觉测量挑战赛公开数据-初赛/交通场景运输车辆赛题-训练集+开发集/训练集2/Imgs/12015A.jpg: 352x640 1 truck, 6.2ms\n",
      "Speed: 1.7ms preprocess, 6.2ms inference, 0.9ms postprocess per image at shape (1, 3, 640, 640)\n",
      "\n",
      "image 1/1 /home/lyz/work/kaggle/科大讯飞2023/交通场景运输车辆外廓视觉测量挑战赛/交通场景运输车辆外廓视觉测量挑战赛公开数据-初赛/交通场景运输车辆赛题-训练集+开发集/训练集2/Imgs/12015B.jpg: 352x640 1 truck, 6.3ms\n",
      "Speed: 1.7ms preprocess, 6.3ms inference, 0.9ms postprocess per image at shape (1, 3, 640, 640)\n",
      "\n"
     ]
    },
    {
     "name": "stdout",
     "output_type": "stream",
     "text": [
      "['truck']\n",
      "['truck']\n"
     ]
    },
    {
     "name": "stderr",
     "output_type": "stream",
     "text": [
      "image 1/1 /home/lyz/work/kaggle/科大讯飞2023/交通场景运输车辆外廓视觉测量挑战赛/交通场景运输车辆外廓视觉测量挑战赛公开数据-初赛/交通场景运输车辆赛题-训练集+开发集/训练集2/Imgs/12016A.jpg: 352x640 2 cars, 1 truck, 6.3ms\n",
      "Speed: 1.7ms preprocess, 6.3ms inference, 0.9ms postprocess per image at shape (1, 3, 640, 640)\n",
      "\n",
      "image 1/1 /home/lyz/work/kaggle/科大讯飞2023/交通场景运输车辆外廓视觉测量挑战赛/交通场景运输车辆外廓视觉测量挑战赛公开数据-初赛/交通场景运输车辆赛题-训练集+开发集/训练集2/Imgs/12016B.jpg: 352x640 1 car, 1 truck, 6.3ms\n",
      "Speed: 1.7ms preprocess, 6.3ms inference, 0.9ms postprocess per image at shape (1, 3, 640, 640)\n",
      "\n"
     ]
    },
    {
     "name": "stdout",
     "output_type": "stream",
     "text": [
      "['truck', 'car', 'car']\n",
      "['truck', 'car']\n"
     ]
    },
    {
     "name": "stderr",
     "output_type": "stream",
     "text": [
      "image 1/1 /home/lyz/work/kaggle/科大讯飞2023/交通场景运输车辆外廓视觉测量挑战赛/交通场景运输车辆外廓视觉测量挑战赛公开数据-初赛/交通场景运输车辆赛题-训练集+开发集/训练集2/Imgs/12017A.jpg: 352x640 1 truck, 6.3ms\n",
      "Speed: 1.7ms preprocess, 6.3ms inference, 0.9ms postprocess per image at shape (1, 3, 640, 640)\n",
      "\n",
      "image 1/1 /home/lyz/work/kaggle/科大讯飞2023/交通场景运输车辆外廓视觉测量挑战赛/交通场景运输车辆外廓视觉测量挑战赛公开数据-初赛/交通场景运输车辆赛题-训练集+开发集/训练集2/Imgs/12017B.jpg: 352x640 1 person, 1 truck, 6.3ms\n",
      "Speed: 1.8ms preprocess, 6.3ms inference, 0.9ms postprocess per image at shape (1, 3, 640, 640)\n",
      "\n"
     ]
    },
    {
     "name": "stdout",
     "output_type": "stream",
     "text": [
      "['truck']\n",
      "['truck', 'person']\n"
     ]
    },
    {
     "name": "stderr",
     "output_type": "stream",
     "text": [
      "image 1/1 /home/lyz/work/kaggle/科大讯飞2023/交通场景运输车辆外廓视觉测量挑战赛/交通场景运输车辆外廓视觉测量挑战赛公开数据-初赛/交通场景运输车辆赛题-训练集+开发集/训练集2/Imgs/12018A.jpg: 352x640 1 truck, 6.2ms\n",
      "Speed: 1.7ms preprocess, 6.2ms inference, 0.9ms postprocess per image at shape (1, 3, 640, 640)\n",
      "\n",
      "image 1/1 /home/lyz/work/kaggle/科大讯飞2023/交通场景运输车辆外廓视觉测量挑战赛/交通场景运输车辆外廓视觉测量挑战赛公开数据-初赛/交通场景运输车辆赛题-训练集+开发集/训练集2/Imgs/12018B.jpg: 352x640 1 bus, 6.3ms\n",
      "Speed: 1.7ms preprocess, 6.3ms inference, 0.9ms postprocess per image at shape (1, 3, 640, 640)\n",
      "\n"
     ]
    },
    {
     "name": "stdout",
     "output_type": "stream",
     "text": [
      "['truck']\n",
      "['bus']\n"
     ]
    },
    {
     "name": "stderr",
     "output_type": "stream",
     "text": [
      "image 1/1 /home/lyz/work/kaggle/科大讯飞2023/交通场景运输车辆外廓视觉测量挑战赛/交通场景运输车辆外廓视觉测量挑战赛公开数据-初赛/交通场景运输车辆赛题-训练集+开发集/训练集2/Imgs/12019A.jpg: 352x640 2 cars, 1 truck, 6.3ms\n",
      "Speed: 1.7ms preprocess, 6.3ms inference, 0.9ms postprocess per image at shape (1, 3, 640, 640)\n",
      "\n",
      "image 1/1 /home/lyz/work/kaggle/科大讯飞2023/交通场景运输车辆外廓视觉测量挑战赛/交通场景运输车辆外廓视觉测量挑战赛公开数据-初赛/交通场景运输车辆赛题-训练集+开发集/训练集2/Imgs/12019B.jpg: 352x640 1 car, 1 truck, 6.3ms\n",
      "Speed: 1.7ms preprocess, 6.3ms inference, 0.9ms postprocess per image at shape (1, 3, 640, 640)\n",
      "\n"
     ]
    },
    {
     "name": "stdout",
     "output_type": "stream",
     "text": [
      "['truck', 'car', 'car']\n",
      "['truck', 'car']\n"
     ]
    },
    {
     "name": "stderr",
     "output_type": "stream",
     "text": [
      "image 1/1 /home/lyz/work/kaggle/科大讯飞2023/交通场景运输车辆外廓视觉测量挑战赛/交通场景运输车辆外廓视觉测量挑战赛公开数据-初赛/交通场景运输车辆赛题-训练集+开发集/训练集2/Imgs/12020A.jpg: 352x640 3 trucks, 6.3ms\n",
      "Speed: 1.7ms preprocess, 6.3ms inference, 0.9ms postprocess per image at shape (1, 3, 640, 640)\n",
      "\n",
      "image 1/1 /home/lyz/work/kaggle/科大讯飞2023/交通场景运输车辆外廓视觉测量挑战赛/交通场景运输车辆外廓视觉测量挑战赛公开数据-初赛/交通场景运输车辆赛题-训练集+开发集/训练集2/Imgs/12020B.jpg: 352x640 3 trucks, 6.3ms\n",
      "Speed: 1.8ms preprocess, 6.3ms inference, 0.9ms postprocess per image at shape (1, 3, 640, 640)\n",
      "\n"
     ]
    },
    {
     "name": "stdout",
     "output_type": "stream",
     "text": [
      "['truck', 'truck', 'truck']\n",
      "['truck', 'truck', 'truck']\n"
     ]
    },
    {
     "name": "stderr",
     "output_type": "stream",
     "text": [
      "image 1/1 /home/lyz/work/kaggle/科大讯飞2023/交通场景运输车辆外廓视觉测量挑战赛/交通场景运输车辆外廓视觉测量挑战赛公开数据-初赛/交通场景运输车辆赛题-训练集+开发集/训练集2/Imgs/12021A.jpg: 352x640 1 person, 1 truck, 6.2ms\n",
      "Speed: 1.7ms preprocess, 6.2ms inference, 0.9ms postprocess per image at shape (1, 3, 640, 640)\n",
      "\n",
      "image 1/1 /home/lyz/work/kaggle/科大讯飞2023/交通场景运输车辆外廓视觉测量挑战赛/交通场景运输车辆外廓视觉测量挑战赛公开数据-初赛/交通场景运输车辆赛题-训练集+开发集/训练集2/Imgs/12021B.jpg: 352x640 1 truck, 6.3ms\n",
      "Speed: 1.7ms preprocess, 6.3ms inference, 0.9ms postprocess per image at shape (1, 3, 640, 640)\n",
      "\n"
     ]
    },
    {
     "name": "stdout",
     "output_type": "stream",
     "text": [
      "['truck', 'person']\n",
      "['truck']\n"
     ]
    },
    {
     "name": "stderr",
     "output_type": "stream",
     "text": [
      "image 1/1 /home/lyz/work/kaggle/科大讯飞2023/交通场景运输车辆外廓视觉测量挑战赛/交通场景运输车辆外廓视觉测量挑战赛公开数据-初赛/交通场景运输车辆赛题-训练集+开发集/训练集2/Imgs/12022A.jpg: 352x640 1 car, 1 truck, 6.3ms\n",
      "Speed: 1.7ms preprocess, 6.3ms inference, 0.9ms postprocess per image at shape (1, 3, 640, 640)\n",
      "\n",
      "image 1/1 /home/lyz/work/kaggle/科大讯飞2023/交通场景运输车辆外廓视觉测量挑战赛/交通场景运输车辆外廓视觉测量挑战赛公开数据-初赛/交通场景运输车辆赛题-训练集+开发集/训练集2/Imgs/12022B.jpg: 352x640 1 car, 1 truck, 1 sports ball, 6.3ms\n",
      "Speed: 1.7ms preprocess, 6.3ms inference, 0.9ms postprocess per image at shape (1, 3, 640, 640)\n",
      "\n"
     ]
    },
    {
     "name": "stdout",
     "output_type": "stream",
     "text": [
      "['truck', 'car']\n",
      "['truck', 'car', 'sports ball']\n"
     ]
    },
    {
     "name": "stderr",
     "output_type": "stream",
     "text": [
      "image 1/1 /home/lyz/work/kaggle/科大讯飞2023/交通场景运输车辆外廓视觉测量挑战赛/交通场景运输车辆外廓视觉测量挑战赛公开数据-初赛/交通场景运输车辆赛题-训练集+开发集/训练集2/Imgs/12023A.jpg: 352x640 1 car, 1 truck, 6.3ms\n",
      "Speed: 1.7ms preprocess, 6.3ms inference, 0.9ms postprocess per image at shape (1, 3, 640, 640)\n",
      "\n",
      "image 1/1 /home/lyz/work/kaggle/科大讯飞2023/交通场景运输车辆外廓视觉测量挑战赛/交通场景运输车辆外廓视觉测量挑战赛公开数据-初赛/交通场景运输车辆赛题-训练集+开发集/训练集2/Imgs/12023B.jpg: 352x640 1 truck, 6.3ms\n",
      "Speed: 1.8ms preprocess, 6.3ms inference, 0.9ms postprocess per image at shape (1, 3, 640, 640)\n",
      "\n"
     ]
    },
    {
     "name": "stdout",
     "output_type": "stream",
     "text": [
      "['truck', 'car']\n",
      "['truck']\n"
     ]
    },
    {
     "name": "stderr",
     "output_type": "stream",
     "text": [
      "image 1/1 /home/lyz/work/kaggle/科大讯飞2023/交通场景运输车辆外廓视觉测量挑战赛/交通场景运输车辆外廓视觉测量挑战赛公开数据-初赛/交通场景运输车辆赛题-训练集+开发集/训练集2/Imgs/12024A.jpg: 352x640 1 car, 2 trucks, 6.3ms\n",
      "Speed: 1.7ms preprocess, 6.3ms inference, 0.9ms postprocess per image at shape (1, 3, 640, 640)\n",
      "\n",
      "image 1/1 /home/lyz/work/kaggle/科大讯飞2023/交通场景运输车辆外廓视觉测量挑战赛/交通场景运输车辆外廓视觉测量挑战赛公开数据-初赛/交通场景运输车辆赛题-训练集+开发集/训练集2/Imgs/12024B.jpg: 352x640 2 cars, 2 trucks, 6.3ms\n",
      "Speed: 1.7ms preprocess, 6.3ms inference, 0.9ms postprocess per image at shape (1, 3, 640, 640)\n",
      "\n"
     ]
    },
    {
     "name": "stdout",
     "output_type": "stream",
     "text": [
      "['truck', 'truck', 'car']\n",
      "['truck', 'truck', 'car', 'car']\n"
     ]
    },
    {
     "name": "stderr",
     "output_type": "stream",
     "text": [
      "image 1/1 /home/lyz/work/kaggle/科大讯飞2023/交通场景运输车辆外廓视觉测量挑战赛/交通场景运输车辆外廓视觉测量挑战赛公开数据-初赛/交通场景运输车辆赛题-训练集+开发集/训练集2/Imgs/12025A.jpg: 352x640 1 car, 1 truck, 6.3ms\n",
      "Speed: 1.7ms preprocess, 6.3ms inference, 0.9ms postprocess per image at shape (1, 3, 640, 640)\n",
      "\n",
      "image 1/1 /home/lyz/work/kaggle/科大讯飞2023/交通场景运输车辆外廓视觉测量挑战赛/交通场景运输车辆外廓视觉测量挑战赛公开数据-初赛/交通场景运输车辆赛题-训练集+开发集/训练集2/Imgs/12025B.jpg: 352x640 1 truck, 6.3ms\n",
      "Speed: 1.7ms preprocess, 6.3ms inference, 0.9ms postprocess per image at shape (1, 3, 640, 640)\n",
      "\n"
     ]
    },
    {
     "name": "stdout",
     "output_type": "stream",
     "text": [
      "['truck', 'car']\n",
      "['truck']\n"
     ]
    },
    {
     "name": "stderr",
     "output_type": "stream",
     "text": [
      "image 1/1 /home/lyz/work/kaggle/科大讯飞2023/交通场景运输车辆外廓视觉测量挑战赛/交通场景运输车辆外廓视觉测量挑战赛公开数据-初赛/交通场景运输车辆赛题-训练集+开发集/训练集2/Imgs/12026A.jpg: 352x640 2 persons, 2 cars, 1 truck, 6.3ms\n",
      "Speed: 1.7ms preprocess, 6.3ms inference, 0.9ms postprocess per image at shape (1, 3, 640, 640)\n",
      "\n",
      "image 1/1 /home/lyz/work/kaggle/科大讯飞2023/交通场景运输车辆外廓视觉测量挑战赛/交通场景运输车辆外廓视觉测量挑战赛公开数据-初赛/交通场景运输车辆赛题-训练集+开发集/训练集2/Imgs/12026B.jpg: 352x640 3 trucks, 6.3ms\n",
      "Speed: 1.8ms preprocess, 6.3ms inference, 0.9ms postprocess per image at shape (1, 3, 640, 640)\n",
      "\n"
     ]
    },
    {
     "name": "stdout",
     "output_type": "stream",
     "text": [
      "['truck', 'car', 'car', 'person', 'person']\n",
      "['truck', 'truck', 'truck']\n"
     ]
    },
    {
     "name": "stderr",
     "output_type": "stream",
     "text": [
      "image 1/1 /home/lyz/work/kaggle/科大讯飞2023/交通场景运输车辆外廓视觉测量挑战赛/交通场景运输车辆外廓视觉测量挑战赛公开数据-初赛/交通场景运输车辆赛题-训练集+开发集/训练集2/Imgs/12027A.jpg: 352x640 1 bus, 6.4ms\n",
      "Speed: 1.7ms preprocess, 6.4ms inference, 0.9ms postprocess per image at shape (1, 3, 640, 640)\n",
      "\n",
      "image 1/1 /home/lyz/work/kaggle/科大讯飞2023/交通场景运输车辆外廓视觉测量挑战赛/交通场景运输车辆外廓视觉测量挑战赛公开数据-初赛/交通场景运输车辆赛题-训练集+开发集/训练集2/Imgs/12027B.jpg: 352x640 1 car, 1 truck, 6.3ms\n",
      "Speed: 1.7ms preprocess, 6.3ms inference, 0.9ms postprocess per image at shape (1, 3, 640, 640)\n",
      "\n"
     ]
    },
    {
     "name": "stdout",
     "output_type": "stream",
     "text": [
      "['bus']\n",
      "['truck', 'car']\n"
     ]
    },
    {
     "name": "stderr",
     "output_type": "stream",
     "text": [
      "image 1/1 /home/lyz/work/kaggle/科大讯飞2023/交通场景运输车辆外廓视觉测量挑战赛/交通场景运输车辆外廓视觉测量挑战赛公开数据-初赛/交通场景运输车辆赛题-训练集+开发集/训练集2/Imgs/12028A.jpg: 352x640 3 cars, 1 truck, 6.3ms\n",
      "Speed: 1.7ms preprocess, 6.3ms inference, 0.9ms postprocess per image at shape (1, 3, 640, 640)\n",
      "\n",
      "image 1/1 /home/lyz/work/kaggle/科大讯飞2023/交通场景运输车辆外廓视觉测量挑战赛/交通场景运输车辆外廓视觉测量挑战赛公开数据-初赛/交通场景运输车辆赛题-训练集+开发集/训练集2/Imgs/12028B.jpg: 352x640 4 cars, 2 trucks, 6.3ms\n",
      "Speed: 1.6ms preprocess, 6.3ms inference, 0.9ms postprocess per image at shape (1, 3, 640, 640)\n",
      "\n"
     ]
    },
    {
     "name": "stdout",
     "output_type": "stream",
     "text": [
      "['truck', 'car', 'car', 'car']\n",
      "['truck', 'car', 'car', 'truck', 'car', 'car']\n"
     ]
    },
    {
     "name": "stderr",
     "output_type": "stream",
     "text": [
      "image 1/1 /home/lyz/work/kaggle/科大讯飞2023/交通场景运输车辆外廓视觉测量挑战赛/交通场景运输车辆外廓视觉测量挑战赛公开数据-初赛/交通场景运输车辆赛题-训练集+开发集/训练集2/Imgs/12029A.jpg: 352x640 1 truck, 6.3ms\n",
      "Speed: 1.8ms preprocess, 6.3ms inference, 0.9ms postprocess per image at shape (1, 3, 640, 640)\n",
      "\n",
      "image 1/1 /home/lyz/work/kaggle/科大讯飞2023/交通场景运输车辆外廓视觉测量挑战赛/交通场景运输车辆外廓视觉测量挑战赛公开数据-初赛/交通场景运输车辆赛题-训练集+开发集/训练集2/Imgs/12029B.jpg: 352x640 1 truck, 6.3ms\n",
      "Speed: 1.8ms preprocess, 6.3ms inference, 0.9ms postprocess per image at shape (1, 3, 640, 640)\n",
      "\n"
     ]
    },
    {
     "name": "stdout",
     "output_type": "stream",
     "text": [
      "['truck']\n",
      "['truck']\n"
     ]
    },
    {
     "name": "stderr",
     "output_type": "stream",
     "text": [
      "image 1/1 /home/lyz/work/kaggle/科大讯飞2023/交通场景运输车辆外廓视觉测量挑战赛/交通场景运输车辆外廓视觉测量挑战赛公开数据-初赛/交通场景运输车辆赛题-训练集+开发集/训练集2/Imgs/12030A.jpg: 352x640 1 person, 1 car, 1 truck, 6.2ms\n",
      "Speed: 1.7ms preprocess, 6.2ms inference, 0.9ms postprocess per image at shape (1, 3, 640, 640)\n",
      "\n",
      "image 1/1 /home/lyz/work/kaggle/科大讯飞2023/交通场景运输车辆外廓视觉测量挑战赛/交通场景运输车辆外廓视觉测量挑战赛公开数据-初赛/交通场景运输车辆赛题-训练集+开发集/训练集2/Imgs/12030B.jpg: 352x640 2 trucks, 6.3ms\n",
      "Speed: 1.7ms preprocess, 6.3ms inference, 0.9ms postprocess per image at shape (1, 3, 640, 640)\n",
      "\n"
     ]
    },
    {
     "name": "stdout",
     "output_type": "stream",
     "text": [
      "['truck', 'car', 'person']\n",
      "['truck', 'truck']\n"
     ]
    },
    {
     "name": "stderr",
     "output_type": "stream",
     "text": [
      "image 1/1 /home/lyz/work/kaggle/科大讯飞2023/交通场景运输车辆外廓视觉测量挑战赛/交通场景运输车辆外廓视觉测量挑战赛公开数据-初赛/交通场景运输车辆赛题-训练集+开发集/训练集2/Imgs/12031A.jpg: 352x640 1 truck, 6.3ms\n",
      "Speed: 1.7ms preprocess, 6.3ms inference, 0.9ms postprocess per image at shape (1, 3, 640, 640)\n",
      "\n",
      "image 1/1 /home/lyz/work/kaggle/科大讯飞2023/交通场景运输车辆外廓视觉测量挑战赛/交通场景运输车辆外廓视觉测量挑战赛公开数据-初赛/交通场景运输车辆赛题-训练集+开发集/训练集2/Imgs/12031B.jpg: 352x640 1 truck, 6.3ms\n",
      "Speed: 1.7ms preprocess, 6.3ms inference, 0.9ms postprocess per image at shape (1, 3, 640, 640)\n",
      "\n"
     ]
    },
    {
     "name": "stdout",
     "output_type": "stream",
     "text": [
      "['truck']\n",
      "['truck']\n"
     ]
    },
    {
     "name": "stderr",
     "output_type": "stream",
     "text": [
      "image 1/1 /home/lyz/work/kaggle/科大讯飞2023/交通场景运输车辆外廓视觉测量挑战赛/交通场景运输车辆外廓视觉测量挑战赛公开数据-初赛/交通场景运输车辆赛题-训练集+开发集/训练集2/Imgs/12032A.jpg: 352x640 1 person, 1 car, 2 trucks, 6.3ms\n",
      "Speed: 1.7ms preprocess, 6.3ms inference, 0.9ms postprocess per image at shape (1, 3, 640, 640)\n",
      "\n",
      "image 1/1 /home/lyz/work/kaggle/科大讯飞2023/交通场景运输车辆外廓视觉测量挑战赛/交通场景运输车辆外廓视觉测量挑战赛公开数据-初赛/交通场景运输车辆赛题-训练集+开发集/训练集2/Imgs/12032B.jpg: 352x640 1 car, 3 trucks, 6.3ms\n",
      "Speed: 1.8ms preprocess, 6.3ms inference, 1.0ms postprocess per image at shape (1, 3, 640, 640)\n",
      "\n"
     ]
    },
    {
     "name": "stdout",
     "output_type": "stream",
     "text": [
      "['truck', 'car', 'truck', 'person']\n",
      "['truck', 'truck', 'car', 'truck']\n"
     ]
    },
    {
     "name": "stderr",
     "output_type": "stream",
     "text": [
      "image 1/1 /home/lyz/work/kaggle/科大讯飞2023/交通场景运输车辆外廓视觉测量挑战赛/交通场景运输车辆外廓视觉测量挑战赛公开数据-初赛/交通场景运输车辆赛题-训练集+开发集/训练集2/Imgs/12033A.jpg: 352x640 1 truck, 6.2ms\n",
      "Speed: 1.7ms preprocess, 6.2ms inference, 0.9ms postprocess per image at shape (1, 3, 640, 640)\n",
      "\n",
      "image 1/1 /home/lyz/work/kaggle/科大讯飞2023/交通场景运输车辆外廓视觉测量挑战赛/交通场景运输车辆外廓视觉测量挑战赛公开数据-初赛/交通场景运输车辆赛题-训练集+开发集/训练集2/Imgs/12033B.jpg: 352x640 1 person, 1 truck, 6.3ms\n",
      "Speed: 1.7ms preprocess, 6.3ms inference, 1.0ms postprocess per image at shape (1, 3, 640, 640)\n",
      "\n"
     ]
    },
    {
     "name": "stdout",
     "output_type": "stream",
     "text": [
      "['truck']\n",
      "['truck', 'person']\n"
     ]
    },
    {
     "name": "stderr",
     "output_type": "stream",
     "text": [
      "image 1/1 /home/lyz/work/kaggle/科大讯飞2023/交通场景运输车辆外廓视觉测量挑战赛/交通场景运输车辆外廓视觉测量挑战赛公开数据-初赛/交通场景运输车辆赛题-训练集+开发集/训练集2/Imgs/12034A.jpg: 352x640 2 cars, 1 truck, 6.3ms\n",
      "Speed: 1.7ms preprocess, 6.3ms inference, 0.9ms postprocess per image at shape (1, 3, 640, 640)\n",
      "\n",
      "image 1/1 /home/lyz/work/kaggle/科大讯飞2023/交通场景运输车辆外廓视觉测量挑战赛/交通场景运输车辆外廓视觉测量挑战赛公开数据-初赛/交通场景运输车辆赛题-训练集+开发集/训练集2/Imgs/12034B.jpg: 352x640 1 person, 3 cars, 2 trucks, 6.3ms\n",
      "Speed: 1.7ms preprocess, 6.3ms inference, 0.9ms postprocess per image at shape (1, 3, 640, 640)\n",
      "\n"
     ]
    },
    {
     "name": "stdout",
     "output_type": "stream",
     "text": [
      "['truck', 'car', 'car']\n",
      "['truck', 'car', 'car', 'truck', 'person', 'car']\n"
     ]
    },
    {
     "name": "stderr",
     "output_type": "stream",
     "text": [
      "image 1/1 /home/lyz/work/kaggle/科大讯飞2023/交通场景运输车辆外廓视觉测量挑战赛/交通场景运输车辆外廓视觉测量挑战赛公开数据-初赛/交通场景运输车辆赛题-训练集+开发集/训练集2/Imgs/12035A.jpg: 352x640 2 cars, 1 truck, 6.3ms\n",
      "Speed: 1.7ms preprocess, 6.3ms inference, 0.9ms postprocess per image at shape (1, 3, 640, 640)\n",
      "\n",
      "image 1/1 /home/lyz/work/kaggle/科大讯飞2023/交通场景运输车辆外廓视觉测量挑战赛/交通场景运输车辆外廓视觉测量挑战赛公开数据-初赛/交通场景运输车辆赛题-训练集+开发集/训练集2/Imgs/12035B.jpg: 352x640 1 person, 1 car, 1 truck, 6.3ms\n",
      "Speed: 1.8ms preprocess, 6.3ms inference, 0.9ms postprocess per image at shape (1, 3, 640, 640)\n",
      "\n"
     ]
    },
    {
     "name": "stdout",
     "output_type": "stream",
     "text": [
      "['truck', 'car', 'car']\n",
      "['truck', 'person', 'car']\n"
     ]
    },
    {
     "name": "stderr",
     "output_type": "stream",
     "text": [
      "image 1/1 /home/lyz/work/kaggle/科大讯飞2023/交通场景运输车辆外廓视觉测量挑战赛/交通场景运输车辆外廓视觉测量挑战赛公开数据-初赛/交通场景运输车辆赛题-训练集+开发集/训练集2/Imgs/12036A.jpg: 352x640 1 truck, 6.2ms\n",
      "Speed: 1.7ms preprocess, 6.2ms inference, 0.9ms postprocess per image at shape (1, 3, 640, 640)\n",
      "\n",
      "image 1/1 /home/lyz/work/kaggle/科大讯飞2023/交通场景运输车辆外廓视觉测量挑战赛/交通场景运输车辆外廓视觉测量挑战赛公开数据-初赛/交通场景运输车辆赛题-训练集+开发集/训练集2/Imgs/12036B.jpg: 352x640 2 persons, 1 truck, 6.3ms\n",
      "Speed: 1.7ms preprocess, 6.3ms inference, 0.9ms postprocess per image at shape (1, 3, 640, 640)\n",
      "\n"
     ]
    },
    {
     "name": "stdout",
     "output_type": "stream",
     "text": [
      "['truck']\n",
      "['truck', 'person', 'person']\n"
     ]
    },
    {
     "name": "stderr",
     "output_type": "stream",
     "text": [
      "image 1/1 /home/lyz/work/kaggle/科大讯飞2023/交通场景运输车辆外廓视觉测量挑战赛/交通场景运输车辆外廓视觉测量挑战赛公开数据-初赛/交通场景运输车辆赛题-训练集+开发集/训练集2/Imgs/12037A.jpg: 352x640 1 truck, 6.3ms\n",
      "Speed: 1.7ms preprocess, 6.3ms inference, 0.9ms postprocess per image at shape (1, 3, 640, 640)\n",
      "\n",
      "image 1/1 /home/lyz/work/kaggle/科大讯飞2023/交通场景运输车辆外廓视觉测量挑战赛/交通场景运输车辆外廓视觉测量挑战赛公开数据-初赛/交通场景运输车辆赛题-训练集+开发集/训练集2/Imgs/12037B.jpg: 352x640 2 trucks, 1 sports ball, 6.3ms\n",
      "Speed: 1.7ms preprocess, 6.3ms inference, 0.9ms postprocess per image at shape (1, 3, 640, 640)\n",
      "\n"
     ]
    },
    {
     "name": "stdout",
     "output_type": "stream",
     "text": [
      "['truck']\n",
      "['truck', 'truck', 'sports ball']\n"
     ]
    },
    {
     "name": "stderr",
     "output_type": "stream",
     "text": [
      "image 1/1 /home/lyz/work/kaggle/科大讯飞2023/交通场景运输车辆外廓视觉测量挑战赛/交通场景运输车辆外廓视觉测量挑战赛公开数据-初赛/交通场景运输车辆赛题-训练集+开发集/训练集2/Imgs/12038A.jpg: 352x640 1 truck, 6.3ms\n",
      "Speed: 1.7ms preprocess, 6.3ms inference, 0.9ms postprocess per image at shape (1, 3, 640, 640)\n",
      "\n",
      "image 1/1 /home/lyz/work/kaggle/科大讯飞2023/交通场景运输车辆外廓视觉测量挑战赛/交通场景运输车辆外廓视觉测量挑战赛公开数据-初赛/交通场景运输车辆赛题-训练集+开发集/训练集2/Imgs/12038B.jpg: 352x640 1 truck, 2 sports balls, 6.3ms\n",
      "Speed: 1.7ms preprocess, 6.3ms inference, 0.9ms postprocess per image at shape (1, 3, 640, 640)\n",
      "\n"
     ]
    },
    {
     "name": "stdout",
     "output_type": "stream",
     "text": [
      "['truck']\n",
      "['truck', 'sports ball', 'sports ball']\n"
     ]
    },
    {
     "name": "stderr",
     "output_type": "stream",
     "text": [
      "image 1/1 /home/lyz/work/kaggle/科大讯飞2023/交通场景运输车辆外廓视觉测量挑战赛/交通场景运输车辆外廓视觉测量挑战赛公开数据-初赛/交通场景运输车辆赛题-训练集+开发集/训练集2/Imgs/12039A.jpg: 352x640 1 car, 2 trucks, 6.3ms\n",
      "Speed: 1.8ms preprocess, 6.3ms inference, 0.9ms postprocess per image at shape (1, 3, 640, 640)\n",
      "\n",
      "image 1/1 /home/lyz/work/kaggle/科大讯飞2023/交通场景运输车辆外廓视觉测量挑战赛/交通场景运输车辆外廓视觉测量挑战赛公开数据-初赛/交通场景运输车辆赛题-训练集+开发集/训练集2/Imgs/12039B.jpg: 352x640 1 car, 1 truck, 6.3ms\n",
      "Speed: 1.7ms preprocess, 6.3ms inference, 0.9ms postprocess per image at shape (1, 3, 640, 640)\n",
      "\n"
     ]
    },
    {
     "name": "stdout",
     "output_type": "stream",
     "text": [
      "['truck', 'car', 'truck']\n",
      "['truck', 'car']\n"
     ]
    },
    {
     "name": "stderr",
     "output_type": "stream",
     "text": [
      "image 1/1 /home/lyz/work/kaggle/科大讯飞2023/交通场景运输车辆外廓视觉测量挑战赛/交通场景运输车辆外廓视觉测量挑战赛公开数据-初赛/交通场景运输车辆赛题-训练集+开发集/训练集2/Imgs/12040A.jpg: 352x640 1 car, 1 truck, 6.3ms\n",
      "Speed: 1.7ms preprocess, 6.3ms inference, 0.9ms postprocess per image at shape (1, 3, 640, 640)\n",
      "\n",
      "image 1/1 /home/lyz/work/kaggle/科大讯飞2023/交通场景运输车辆外廓视觉测量挑战赛/交通场景运输车辆外廓视觉测量挑战赛公开数据-初赛/交通场景运输车辆赛题-训练集+开发集/训练集2/Imgs/12040B.jpg: 352x640 1 person, 1 truck, 1 traffic light, 6.3ms\n",
      "Speed: 1.7ms preprocess, 6.3ms inference, 0.9ms postprocess per image at shape (1, 3, 640, 640)\n",
      "\n"
     ]
    },
    {
     "name": "stdout",
     "output_type": "stream",
     "text": [
      "['truck', 'car']\n",
      "['truck', 'person', 'traffic light']\n"
     ]
    },
    {
     "name": "stderr",
     "output_type": "stream",
     "text": [
      "image 1/1 /home/lyz/work/kaggle/科大讯飞2023/交通场景运输车辆外廓视觉测量挑战赛/交通场景运输车辆外廓视觉测量挑战赛公开数据-初赛/交通场景运输车辆赛题-训练集+开发集/训练集2/Imgs/12041A.jpg: 352x640 1 person, 1 bus, 1 truck, 6.3ms\n",
      "Speed: 1.7ms preprocess, 6.3ms inference, 0.9ms postprocess per image at shape (1, 3, 640, 640)\n",
      "\n",
      "image 1/1 /home/lyz/work/kaggle/科大讯飞2023/交通场景运输车辆外廓视觉测量挑战赛/交通场景运输车辆外廓视觉测量挑战赛公开数据-初赛/交通场景运输车辆赛题-训练集+开发集/训练集2/Imgs/12041B.jpg: 352x640 1 truck, 2 oranges, 6.3ms\n",
      "Speed: 1.7ms preprocess, 6.3ms inference, 0.9ms postprocess per image at shape (1, 3, 640, 640)\n",
      "\n"
     ]
    },
    {
     "name": "stdout",
     "output_type": "stream",
     "text": [
      "['truck', 'bus', 'person']\n",
      "['truck', 'orange', 'orange']\n"
     ]
    },
    {
     "name": "stderr",
     "output_type": "stream",
     "text": [
      "image 1/1 /home/lyz/work/kaggle/科大讯飞2023/交通场景运输车辆外廓视觉测量挑战赛/交通场景运输车辆外廓视觉测量挑战赛公开数据-初赛/交通场景运输车辆赛题-训练集+开发集/训练集2/Imgs/12042A.jpg: 352x640 4 trucks, 6.3ms\n",
      "Speed: 1.8ms preprocess, 6.3ms inference, 0.9ms postprocess per image at shape (1, 3, 640, 640)\n",
      "\n",
      "image 1/1 /home/lyz/work/kaggle/科大讯飞2023/交通场景运输车辆外廓视觉测量挑战赛/交通场景运输车辆外廓视觉测量挑战赛公开数据-初赛/交通场景运输车辆赛题-训练集+开发集/训练集2/Imgs/12042B.jpg: 352x640 1 car, 2 trucks, 6.3ms\n",
      "Speed: 1.7ms preprocess, 6.3ms inference, 0.9ms postprocess per image at shape (1, 3, 640, 640)\n",
      "\n"
     ]
    },
    {
     "name": "stdout",
     "output_type": "stream",
     "text": [
      "['truck', 'truck', 'truck', 'truck']\n",
      "['truck', 'car', 'truck']\n"
     ]
    },
    {
     "name": "stderr",
     "output_type": "stream",
     "text": [
      "image 1/1 /home/lyz/work/kaggle/科大讯飞2023/交通场景运输车辆外廓视觉测量挑战赛/交通场景运输车辆外廓视觉测量挑战赛公开数据-初赛/交通场景运输车辆赛题-训练集+开发集/训练集2/Imgs/12043A.jpg: 352x640 2 trucks, 6.3ms\n",
      "Speed: 1.7ms preprocess, 6.3ms inference, 0.9ms postprocess per image at shape (1, 3, 640, 640)\n",
      "\n",
      "image 1/1 /home/lyz/work/kaggle/科大讯飞2023/交通场景运输车辆外廓视觉测量挑战赛/交通场景运输车辆外廓视觉测量挑战赛公开数据-初赛/交通场景运输车辆赛题-训练集+开发集/训练集2/Imgs/12043B.jpg: 352x640 1 car, 1 truck, 6.3ms\n",
      "Speed: 1.7ms preprocess, 6.3ms inference, 0.9ms postprocess per image at shape (1, 3, 640, 640)\n",
      "\n"
     ]
    },
    {
     "name": "stdout",
     "output_type": "stream",
     "text": [
      "['truck', 'truck']\n",
      "['truck', 'car']\n"
     ]
    },
    {
     "name": "stderr",
     "output_type": "stream",
     "text": [
      "image 1/1 /home/lyz/work/kaggle/科大讯飞2023/交通场景运输车辆外廓视觉测量挑战赛/交通场景运输车辆外廓视觉测量挑战赛公开数据-初赛/交通场景运输车辆赛题-训练集+开发集/训练集2/Imgs/12044A.jpg: 352x640 1 bus, 1 truck, 6.3ms\n",
      "Speed: 1.7ms preprocess, 6.3ms inference, 0.9ms postprocess per image at shape (1, 3, 640, 640)\n",
      "\n",
      "image 1/1 /home/lyz/work/kaggle/科大讯飞2023/交通场景运输车辆外廓视觉测量挑战赛/交通场景运输车辆外廓视觉测量挑战赛公开数据-初赛/交通场景运输车辆赛题-训练集+开发集/训练集2/Imgs/12044B.jpg: 352x640 1 car, 2 trucks, 6.3ms\n",
      "Speed: 1.7ms preprocess, 6.3ms inference, 0.9ms postprocess per image at shape (1, 3, 640, 640)\n",
      "\n"
     ]
    },
    {
     "name": "stdout",
     "output_type": "stream",
     "text": [
      "['truck', 'bus']\n",
      "['truck', 'truck', 'car']\n"
     ]
    },
    {
     "name": "stderr",
     "output_type": "stream",
     "text": [
      "image 1/1 /home/lyz/work/kaggle/科大讯飞2023/交通场景运输车辆外廓视觉测量挑战赛/交通场景运输车辆外廓视觉测量挑战赛公开数据-初赛/交通场景运输车辆赛题-训练集+开发集/训练集2/Imgs/12045A.jpg: 352x640 1 person, 1 car, 1 bus, 1 truck, 6.4ms\n",
      "Speed: 1.8ms preprocess, 6.4ms inference, 1.0ms postprocess per image at shape (1, 3, 640, 640)\n",
      "\n",
      "image 1/1 /home/lyz/work/kaggle/科大讯飞2023/交通场景运输车辆外廓视觉测量挑战赛/交通场景运输车辆外廓视觉测量挑战赛公开数据-初赛/交通场景运输车辆赛题-训练集+开发集/训练集2/Imgs/12045B.jpg: 352x640 1 car, 2 trucks, 1 sports ball, 6.3ms\n",
      "Speed: 1.7ms preprocess, 6.3ms inference, 0.9ms postprocess per image at shape (1, 3, 640, 640)\n",
      "\n"
     ]
    },
    {
     "name": "stdout",
     "output_type": "stream",
     "text": [
      "['truck', 'car', 'bus', 'person']\n",
      "['truck', 'truck', 'car', 'sports ball']\n"
     ]
    },
    {
     "name": "stderr",
     "output_type": "stream",
     "text": [
      "image 1/1 /home/lyz/work/kaggle/科大讯飞2023/交通场景运输车辆外廓视觉测量挑战赛/交通场景运输车辆外廓视觉测量挑战赛公开数据-初赛/交通场景运输车辆赛题-训练集+开发集/训练集2/Imgs/12046A.jpg: 352x640 1 person, 1 bus, 1 truck, 6.3ms\n",
      "Speed: 1.7ms preprocess, 6.3ms inference, 0.9ms postprocess per image at shape (1, 3, 640, 640)\n",
      "\n",
      "image 1/1 /home/lyz/work/kaggle/科大讯飞2023/交通场景运输车辆外廓视觉测量挑战赛/交通场景运输车辆外廓视觉测量挑战赛公开数据-初赛/交通场景运输车辆赛题-训练集+开发集/训练集2/Imgs/12046B.jpg: 352x640 1 train, 2 trucks, 1 orange, 6.3ms\n",
      "Speed: 1.7ms preprocess, 6.3ms inference, 0.9ms postprocess per image at shape (1, 3, 640, 640)\n",
      "\n"
     ]
    },
    {
     "name": "stdout",
     "output_type": "stream",
     "text": [
      "['bus', 'truck', 'person']\n",
      "['train', 'truck', 'truck', 'orange']\n"
     ]
    },
    {
     "name": "stderr",
     "output_type": "stream",
     "text": [
      "image 1/1 /home/lyz/work/kaggle/科大讯飞2023/交通场景运输车辆外廓视觉测量挑战赛/交通场景运输车辆外廓视觉测量挑战赛公开数据-初赛/交通场景运输车辆赛题-训练集+开发集/训练集2/Imgs/12047A.jpg: 352x640 1 person, 1 truck, 6.3ms\n",
      "Speed: 1.7ms preprocess, 6.3ms inference, 0.9ms postprocess per image at shape (1, 3, 640, 640)\n",
      "\n",
      "image 1/1 /home/lyz/work/kaggle/科大讯飞2023/交通场景运输车辆外廓视觉测量挑战赛/交通场景运输车辆外廓视觉测量挑战赛公开数据-初赛/交通场景运输车辆赛题-训练集+开发集/训练集2/Imgs/12047B.jpg: 352x640 1 truck, 1 sports ball, 1 orange, 6.3ms\n",
      "Speed: 1.7ms preprocess, 6.3ms inference, 1.2ms postprocess per image at shape (1, 3, 640, 640)\n",
      "\n"
     ]
    },
    {
     "name": "stdout",
     "output_type": "stream",
     "text": [
      "['truck', 'person']\n",
      "['truck', 'sports ball', 'orange']\n"
     ]
    },
    {
     "name": "stderr",
     "output_type": "stream",
     "text": [
      "image 1/1 /home/lyz/work/kaggle/科大讯飞2023/交通场景运输车辆外廓视觉测量挑战赛/交通场景运输车辆外廓视觉测量挑战赛公开数据-初赛/交通场景运输车辆赛题-训练集+开发集/训练集2/Imgs/12048A.jpg: 352x640 1 truck, 6.4ms\n",
      "Speed: 1.8ms preprocess, 6.4ms inference, 0.9ms postprocess per image at shape (1, 3, 640, 640)\n",
      "\n",
      "image 1/1 /home/lyz/work/kaggle/科大讯飞2023/交通场景运输车辆外廓视觉测量挑战赛/交通场景运输车辆外廓视觉测量挑战赛公开数据-初赛/交通场景运输车辆赛题-训练集+开发集/训练集2/Imgs/12048B.jpg: 352x640 1 truck, 6.3ms\n",
      "Speed: 1.7ms preprocess, 6.3ms inference, 1.1ms postprocess per image at shape (1, 3, 640, 640)\n",
      "\n"
     ]
    },
    {
     "name": "stdout",
     "output_type": "stream",
     "text": [
      "['truck']\n",
      "['truck']\n"
     ]
    },
    {
     "name": "stderr",
     "output_type": "stream",
     "text": [
      "image 1/1 /home/lyz/work/kaggle/科大讯飞2023/交通场景运输车辆外廓视觉测量挑战赛/交通场景运输车辆外廓视觉测量挑战赛公开数据-初赛/交通场景运输车辆赛题-训练集+开发集/训练集2/Imgs/12049A.jpg: 352x640 1 car, 1 truck, 6.4ms\n",
      "Speed: 1.7ms preprocess, 6.4ms inference, 0.9ms postprocess per image at shape (1, 3, 640, 640)\n",
      "\n",
      "image 1/1 /home/lyz/work/kaggle/科大讯飞2023/交通场景运输车辆外廓视觉测量挑战赛/交通场景运输车辆外廓视觉测量挑战赛公开数据-初赛/交通场景运输车辆赛题-训练集+开发集/训练集2/Imgs/12049B.jpg: 352x640 2 cars, 1 truck, 6.3ms\n",
      "Speed: 1.7ms preprocess, 6.3ms inference, 0.9ms postprocess per image at shape (1, 3, 640, 640)\n",
      "\n"
     ]
    },
    {
     "name": "stdout",
     "output_type": "stream",
     "text": [
      "['truck', 'car']\n",
      "['car', 'truck', 'car']\n"
     ]
    },
    {
     "name": "stderr",
     "output_type": "stream",
     "text": [
      "image 1/1 /home/lyz/work/kaggle/科大讯飞2023/交通场景运输车辆外廓视觉测量挑战赛/交通场景运输车辆外廓视觉测量挑战赛公开数据-初赛/交通场景运输车辆赛题-训练集+开发集/训练集2/Imgs/12050A.jpg: 352x640 1 bus, 1 truck, 6.5ms\n",
      "Speed: 1.8ms preprocess, 6.5ms inference, 0.9ms postprocess per image at shape (1, 3, 640, 640)\n",
      "\n",
      "image 1/1 /home/lyz/work/kaggle/科大讯飞2023/交通场景运输车辆外廓视觉测量挑战赛/交通场景运输车辆外廓视觉测量挑战赛公开数据-初赛/交通场景运输车辆赛题-训练集+开发集/训练集2/Imgs/12050B.jpg: 352x640 2 cars, 2 trucks, 6.5ms\n",
      "Speed: 1.7ms preprocess, 6.5ms inference, 0.9ms postprocess per image at shape (1, 3, 640, 640)\n",
      "\n"
     ]
    },
    {
     "name": "stdout",
     "output_type": "stream",
     "text": [
      "['truck', 'bus']\n",
      "['truck', 'car', 'car', 'truck']\n"
     ]
    },
    {
     "name": "stderr",
     "output_type": "stream",
     "text": [
      "image 1/1 /home/lyz/work/kaggle/科大讯飞2023/交通场景运输车辆外廓视觉测量挑战赛/交通场景运输车辆外廓视觉测量挑战赛公开数据-初赛/交通场景运输车辆赛题-训练集+开发集/开发集1/Imgs/21001A.jpg: 352x640 2 persons, 1 car, 1 truck, 6.3ms\n",
      "Speed: 1.9ms preprocess, 6.3ms inference, 1.0ms postprocess per image at shape (1, 3, 640, 640)\n",
      "\n",
      "image 1/1 /home/lyz/work/kaggle/科大讯飞2023/交通场景运输车辆外廓视觉测量挑战赛/交通场景运输车辆外廓视觉测量挑战赛公开数据-初赛/交通场景运输车辆赛题-训练集+开发集/开发集1/Imgs/21001B.jpg: 352x640 1 car, 1 truck, 6.4ms\n",
      "Speed: 1.7ms preprocess, 6.4ms inference, 0.9ms postprocess per image at shape (1, 3, 640, 640)\n",
      "\n"
     ]
    },
    {
     "name": "stdout",
     "output_type": "stream",
     "text": [
      "['truck', 'car', 'person', 'person']\n",
      "['truck', 'car']\n"
     ]
    },
    {
     "name": "stderr",
     "output_type": "stream",
     "text": [
      "image 1/1 /home/lyz/work/kaggle/科大讯飞2023/交通场景运输车辆外廓视觉测量挑战赛/交通场景运输车辆外廓视觉测量挑战赛公开数据-初赛/交通场景运输车辆赛题-训练集+开发集/开发集1/Imgs/21002A.jpg: 352x640 2 cars, 2 trucks, 6.3ms\n",
      "Speed: 1.7ms preprocess, 6.3ms inference, 0.9ms postprocess per image at shape (1, 3, 640, 640)\n",
      "\n",
      "image 1/1 /home/lyz/work/kaggle/科大讯飞2023/交通场景运输车辆外廓视觉测量挑战赛/交通场景运输车辆外廓视觉测量挑战赛公开数据-初赛/交通场景运输车辆赛题-训练集+开发集/开发集1/Imgs/21002B.jpg: 352x640 3 cars, 1 truck, 6.4ms\n",
      "Speed: 1.7ms preprocess, 6.4ms inference, 1.0ms postprocess per image at shape (1, 3, 640, 640)\n",
      "\n"
     ]
    },
    {
     "name": "stdout",
     "output_type": "stream",
     "text": [
      "['car', 'truck', 'car', 'truck']\n",
      "['truck', 'car', 'car', 'car']\n"
     ]
    },
    {
     "name": "stderr",
     "output_type": "stream",
     "text": [
      "image 1/1 /home/lyz/work/kaggle/科大讯飞2023/交通场景运输车辆外廓视觉测量挑战赛/交通场景运输车辆外廓视觉测量挑战赛公开数据-初赛/交通场景运输车辆赛题-训练集+开发集/开发集1/Imgs/21003A.jpg: 352x640 2 cars, 2 trucks, 6.3ms\n",
      "Speed: 1.8ms preprocess, 6.3ms inference, 0.9ms postprocess per image at shape (1, 3, 640, 640)\n",
      "\n",
      "image 1/1 /home/lyz/work/kaggle/科大讯飞2023/交通场景运输车辆外廓视觉测量挑战赛/交通场景运输车辆外廓视觉测量挑战赛公开数据-初赛/交通场景运输车辆赛题-训练集+开发集/开发集1/Imgs/21003B.jpg: 352x640 1 person, 4 cars, 1 truck, 1 sports ball, 6.3ms\n",
      "Speed: 1.7ms preprocess, 6.3ms inference, 1.1ms postprocess per image at shape (1, 3, 640, 640)\n",
      "\n"
     ]
    },
    {
     "name": "stdout",
     "output_type": "stream",
     "text": [
      "['truck', 'car', 'car', 'truck']\n",
      "['truck', 'car', 'car', 'person', 'sports ball', 'car', 'car']\n"
     ]
    },
    {
     "name": "stderr",
     "output_type": "stream",
     "text": [
      "image 1/1 /home/lyz/work/kaggle/科大讯飞2023/交通场景运输车辆外廓视觉测量挑战赛/交通场景运输车辆外廓视觉测量挑战赛公开数据-初赛/交通场景运输车辆赛题-训练集+开发集/开发集1/Imgs/21004A.jpg: 352x640 1 car, 1 truck, 6.3ms\n",
      "Speed: 1.8ms preprocess, 6.3ms inference, 0.9ms postprocess per image at shape (1, 3, 640, 640)\n",
      "\n",
      "image 1/1 /home/lyz/work/kaggle/科大讯飞2023/交通场景运输车辆外廓视觉测量挑战赛/交通场景运输车辆外廓视觉测量挑战赛公开数据-初赛/交通场景运输车辆赛题-训练集+开发集/开发集1/Imgs/21004B.jpg: 352x640 1 car, 1 truck, 1 orange, 6.3ms\n",
      "Speed: 1.7ms preprocess, 6.3ms inference, 1.0ms postprocess per image at shape (1, 3, 640, 640)\n",
      "\n"
     ]
    },
    {
     "name": "stdout",
     "output_type": "stream",
     "text": [
      "['truck', 'car']\n",
      "['truck', 'car', 'orange']\n"
     ]
    },
    {
     "name": "stderr",
     "output_type": "stream",
     "text": [
      "image 1/1 /home/lyz/work/kaggle/科大讯飞2023/交通场景运输车辆外廓视觉测量挑战赛/交通场景运输车辆外廓视觉测量挑战赛公开数据-初赛/交通场景运输车辆赛题-训练集+开发集/开发集1/Imgs/21005A.jpg: 352x640 1 truck, 6.3ms\n",
      "Speed: 1.7ms preprocess, 6.3ms inference, 0.9ms postprocess per image at shape (1, 3, 640, 640)\n",
      "\n",
      "image 1/1 /home/lyz/work/kaggle/科大讯飞2023/交通场景运输车辆外廓视觉测量挑战赛/交通场景运输车辆外廓视觉测量挑战赛公开数据-初赛/交通场景运输车辆赛题-训练集+开发集/开发集1/Imgs/21005B.jpg: 352x640 1 truck, 6.5ms\n",
      "Speed: 1.7ms preprocess, 6.5ms inference, 1.0ms postprocess per image at shape (1, 3, 640, 640)\n",
      "\n"
     ]
    },
    {
     "name": "stdout",
     "output_type": "stream",
     "text": [
      "['truck']\n",
      "['truck']\n"
     ]
    },
    {
     "name": "stderr",
     "output_type": "stream",
     "text": [
      "image 1/1 /home/lyz/work/kaggle/科大讯飞2023/交通场景运输车辆外廓视觉测量挑战赛/交通场景运输车辆外廓视觉测量挑战赛公开数据-初赛/交通场景运输车辆赛题-训练集+开发集/开发集1/Imgs/21006A.jpg: 352x640 1 truck, 6.3ms\n",
      "Speed: 1.8ms preprocess, 6.3ms inference, 0.9ms postprocess per image at shape (1, 3, 640, 640)\n",
      "\n",
      "image 1/1 /home/lyz/work/kaggle/科大讯飞2023/交通场景运输车辆外廓视觉测量挑战赛/交通场景运输车辆外廓视觉测量挑战赛公开数据-初赛/交通场景运输车辆赛题-训练集+开发集/开发集1/Imgs/21006B.jpg: 352x640 1 truck, 6.5ms\n",
      "Speed: 1.7ms preprocess, 6.5ms inference, 0.9ms postprocess per image at shape (1, 3, 640, 640)\n",
      "\n"
     ]
    },
    {
     "name": "stdout",
     "output_type": "stream",
     "text": [
      "['truck']\n",
      "['truck']\n"
     ]
    },
    {
     "name": "stderr",
     "output_type": "stream",
     "text": [
      "image 1/1 /home/lyz/work/kaggle/科大讯飞2023/交通场景运输车辆外廓视觉测量挑战赛/交通场景运输车辆外廓视觉测量挑战赛公开数据-初赛/交通场景运输车辆赛题-训练集+开发集/开发集1/Imgs/21007A.jpg: 352x640 1 person, 2 cars, 2 trucks, 6.3ms\n",
      "Speed: 1.8ms preprocess, 6.3ms inference, 0.9ms postprocess per image at shape (1, 3, 640, 640)\n",
      "\n",
      "image 1/1 /home/lyz/work/kaggle/科大讯飞2023/交通场景运输车辆外廓视觉测量挑战赛/交通场景运输车辆外廓视觉测量挑战赛公开数据-初赛/交通场景运输车辆赛题-训练集+开发集/开发集1/Imgs/21007B.jpg: 352x640 3 cars, 1 truck, 1 sports ball, 6.3ms\n",
      "Speed: 1.7ms preprocess, 6.3ms inference, 1.0ms postprocess per image at shape (1, 3, 640, 640)\n",
      "\n"
     ]
    },
    {
     "name": "stdout",
     "output_type": "stream",
     "text": [
      "['truck', 'car', 'car', 'person', 'truck']\n",
      "['truck', 'car', 'sports ball', 'car', 'car']\n"
     ]
    },
    {
     "name": "stderr",
     "output_type": "stream",
     "text": [
      "image 1/1 /home/lyz/work/kaggle/科大讯飞2023/交通场景运输车辆外廓视觉测量挑战赛/交通场景运输车辆外廓视觉测量挑战赛公开数据-初赛/交通场景运输车辆赛题-训练集+开发集/开发集1/Imgs/21008A.jpg: 352x640 1 car, 1 bus, 1 truck, 6.3ms\n",
      "Speed: 1.7ms preprocess, 6.3ms inference, 0.9ms postprocess per image at shape (1, 3, 640, 640)\n",
      "\n",
      "image 1/1 /home/lyz/work/kaggle/科大讯飞2023/交通场景运输车辆外廓视觉测量挑战赛/交通场景运输车辆外廓视觉测量挑战赛公开数据-初赛/交通场景运输车辆赛题-训练集+开发集/开发集1/Imgs/21008B.jpg: 352x640 1 car, 1 truck, 6.4ms\n",
      "Speed: 1.7ms preprocess, 6.4ms inference, 1.0ms postprocess per image at shape (1, 3, 640, 640)\n",
      "\n"
     ]
    },
    {
     "name": "stdout",
     "output_type": "stream",
     "text": [
      "['truck', 'bus', 'car']\n",
      "['truck', 'car']\n"
     ]
    },
    {
     "name": "stderr",
     "output_type": "stream",
     "text": [
      "image 1/1 /home/lyz/work/kaggle/科大讯飞2023/交通场景运输车辆外廓视觉测量挑战赛/交通场景运输车辆外廓视觉测量挑战赛公开数据-初赛/交通场景运输车辆赛题-训练集+开发集/开发集1/Imgs/21009A.jpg: 352x640 1 car, 1 truck, 6.3ms\n",
      "Speed: 1.7ms preprocess, 6.3ms inference, 0.9ms postprocess per image at shape (1, 3, 640, 640)\n",
      "\n",
      "image 1/1 /home/lyz/work/kaggle/科大讯飞2023/交通场景运输车辆外廓视觉测量挑战赛/交通场景运输车辆外廓视觉测量挑战赛公开数据-初赛/交通场景运输车辆赛题-训练集+开发集/开发集1/Imgs/21009B.jpg: 352x640 1 car, 2 trucks, 6.3ms\n",
      "Speed: 1.7ms preprocess, 6.3ms inference, 1.0ms postprocess per image at shape (1, 3, 640, 640)\n",
      "\n"
     ]
    },
    {
     "name": "stdout",
     "output_type": "stream",
     "text": [
      "['truck', 'car']\n",
      "['truck', 'car', 'truck']\n"
     ]
    },
    {
     "name": "stderr",
     "output_type": "stream",
     "text": [
      "image 1/1 /home/lyz/work/kaggle/科大讯飞2023/交通场景运输车辆外廓视觉测量挑战赛/交通场景运输车辆外廓视觉测量挑战赛公开数据-初赛/交通场景运输车辆赛题-训练集+开发集/开发集1/Imgs/21010A.jpg: 352x640 1 car, 1 truck, 6.3ms\n",
      "Speed: 1.8ms preprocess, 6.3ms inference, 1.1ms postprocess per image at shape (1, 3, 640, 640)\n",
      "\n",
      "image 1/1 /home/lyz/work/kaggle/科大讯飞2023/交通场景运输车辆外廓视觉测量挑战赛/交通场景运输车辆外廓视觉测量挑战赛公开数据-初赛/交通场景运输车辆赛题-训练集+开发集/开发集1/Imgs/21010B.jpg: 352x640 1 bus, 2 sports balls, 6.3ms\n",
      "Speed: 1.7ms preprocess, 6.3ms inference, 0.9ms postprocess per image at shape (1, 3, 640, 640)\n",
      "\n"
     ]
    },
    {
     "name": "stdout",
     "output_type": "stream",
     "text": [
      "['truck', 'car']\n",
      "['bus', 'sports ball', 'sports ball']\n"
     ]
    },
    {
     "name": "stderr",
     "output_type": "stream",
     "text": [
      "image 1/1 /home/lyz/work/kaggle/科大讯飞2023/交通场景运输车辆外廓视觉测量挑战赛/交通场景运输车辆外廓视觉测量挑战赛公开数据-初赛/交通场景运输车辆赛题-训练集+开发集/开发集1/Imgs/21011A.jpg: 352x640 1 truck, 6.4ms\n",
      "Speed: 1.7ms preprocess, 6.4ms inference, 1.0ms postprocess per image at shape (1, 3, 640, 640)\n",
      "\n",
      "image 1/1 /home/lyz/work/kaggle/科大讯飞2023/交通场景运输车辆外廓视觉测量挑战赛/交通场景运输车辆外廓视觉测量挑战赛公开数据-初赛/交通场景运输车辆赛题-训练集+开发集/开发集1/Imgs/21011B.jpg: 352x640 1 truck, 1 sports ball, 6.6ms\n",
      "Speed: 1.7ms preprocess, 6.6ms inference, 1.0ms postprocess per image at shape (1, 3, 640, 640)\n",
      "\n"
     ]
    },
    {
     "name": "stdout",
     "output_type": "stream",
     "text": [
      "['truck']\n",
      "['truck', 'sports ball']\n"
     ]
    },
    {
     "name": "stderr",
     "output_type": "stream",
     "text": [
      "image 1/1 /home/lyz/work/kaggle/科大讯飞2023/交通场景运输车辆外廓视觉测量挑战赛/交通场景运输车辆外廓视觉测量挑战赛公开数据-初赛/交通场景运输车辆赛题-训练集+开发集/开发集1/Imgs/21012A.jpg: 352x640 1 truck, 6.3ms\n",
      "Speed: 1.7ms preprocess, 6.3ms inference, 1.0ms postprocess per image at shape (1, 3, 640, 640)\n",
      "\n",
      "image 1/1 /home/lyz/work/kaggle/科大讯飞2023/交通场景运输车辆外廓视觉测量挑战赛/交通场景运输车辆外廓视觉测量挑战赛公开数据-初赛/交通场景运输车辆赛题-训练集+开发集/开发集1/Imgs/21012B.jpg: 352x640 1 truck, 1 sports ball, 6.3ms\n",
      "Speed: 1.7ms preprocess, 6.3ms inference, 1.0ms postprocess per image at shape (1, 3, 640, 640)\n",
      "\n"
     ]
    },
    {
     "name": "stdout",
     "output_type": "stream",
     "text": [
      "['truck']\n",
      "['truck', 'sports ball']\n"
     ]
    },
    {
     "name": "stderr",
     "output_type": "stream",
     "text": [
      "image 1/1 /home/lyz/work/kaggle/科大讯飞2023/交通场景运输车辆外廓视觉测量挑战赛/交通场景运输车辆外廓视觉测量挑战赛公开数据-初赛/交通场景运输车辆赛题-训练集+开发集/开发集1/Imgs/21013A.jpg: 352x640 2 cars, 1 bus, 6.7ms\n",
      "Speed: 1.8ms preprocess, 6.7ms inference, 1.0ms postprocess per image at shape (1, 3, 640, 640)\n",
      "\n",
      "image 1/1 /home/lyz/work/kaggle/科大讯飞2023/交通场景运输车辆外廓视觉测量挑战赛/交通场景运输车辆外廓视觉测量挑战赛公开数据-初赛/交通场景运输车辆赛题-训练集+开发集/开发集1/Imgs/21013B.jpg: 352x640 2 cars, 2 trucks, 1 sports ball, 6.3ms\n",
      "Speed: 1.7ms preprocess, 6.3ms inference, 0.9ms postprocess per image at shape (1, 3, 640, 640)\n",
      "\n"
     ]
    },
    {
     "name": "stdout",
     "output_type": "stream",
     "text": [
      "['car', 'bus', 'car']\n",
      "['truck', 'car', 'car', 'truck', 'sports ball']\n"
     ]
    },
    {
     "name": "stderr",
     "output_type": "stream",
     "text": [
      "image 1/1 /home/lyz/work/kaggle/科大讯飞2023/交通场景运输车辆外廓视觉测量挑战赛/交通场景运输车辆外廓视觉测量挑战赛公开数据-初赛/交通场景运输车辆赛题-训练集+开发集/开发集1/Imgs/21014A.jpg: 352x640 1 car, 1 truck, 6.4ms\n",
      "Speed: 1.7ms preprocess, 6.4ms inference, 0.9ms postprocess per image at shape (1, 3, 640, 640)\n",
      "\n",
      "image 1/1 /home/lyz/work/kaggle/科大讯飞2023/交通场景运输车辆外廓视觉测量挑战赛/交通场景运输车辆外廓视觉测量挑战赛公开数据-初赛/交通场景运输车辆赛题-训练集+开发集/开发集1/Imgs/21014B.jpg: 352x640 1 car, 1 truck, 1 sports ball, 6.3ms\n",
      "Speed: 1.8ms preprocess, 6.3ms inference, 1.1ms postprocess per image at shape (1, 3, 640, 640)\n",
      "\n"
     ]
    },
    {
     "name": "stdout",
     "output_type": "stream",
     "text": [
      "['truck', 'car']\n",
      "['truck', 'car', 'sports ball']\n"
     ]
    },
    {
     "name": "stderr",
     "output_type": "stream",
     "text": [
      "image 1/1 /home/lyz/work/kaggle/科大讯飞2023/交通场景运输车辆外廓视觉测量挑战赛/交通场景运输车辆外廓视觉测量挑战赛公开数据-初赛/交通场景运输车辆赛题-训练集+开发集/开发集1/Imgs/21015A.jpg: 352x640 1 truck, 6.3ms\n",
      "Speed: 1.7ms preprocess, 6.3ms inference, 0.9ms postprocess per image at shape (1, 3, 640, 640)\n",
      "\n",
      "image 1/1 /home/lyz/work/kaggle/科大讯飞2023/交通场景运输车辆外廓视觉测量挑战赛/交通场景运输车辆外廓视觉测量挑战赛公开数据-初赛/交通场景运输车辆赛题-训练集+开发集/开发集1/Imgs/21015B.jpg: 352x640 1 truck, 1 sports ball, 6.3ms\n",
      "Speed: 1.7ms preprocess, 6.3ms inference, 0.9ms postprocess per image at shape (1, 3, 640, 640)\n",
      "\n"
     ]
    },
    {
     "name": "stdout",
     "output_type": "stream",
     "text": [
      "['truck']\n",
      "['truck', 'sports ball']\n"
     ]
    },
    {
     "name": "stderr",
     "output_type": "stream",
     "text": [
      "image 1/1 /home/lyz/work/kaggle/科大讯飞2023/交通场景运输车辆外廓视觉测量挑战赛/交通场景运输车辆外廓视觉测量挑战赛公开数据-初赛/交通场景运输车辆赛题-训练集+开发集/开发集1/Imgs/21016A.jpg: 352x640 1 truck, 6.3ms\n",
      "Speed: 1.8ms preprocess, 6.3ms inference, 1.0ms postprocess per image at shape (1, 3, 640, 640)\n",
      "\n",
      "image 1/1 /home/lyz/work/kaggle/科大讯飞2023/交通场景运输车辆外廓视觉测量挑战赛/交通场景运输车辆外廓视觉测量挑战赛公开数据-初赛/交通场景运输车辆赛题-训练集+开发集/开发集1/Imgs/21016B.jpg: 352x640 1 truck, 1 sports ball, 6.3ms\n",
      "Speed: 1.8ms preprocess, 6.3ms inference, 1.1ms postprocess per image at shape (1, 3, 640, 640)\n",
      "\n"
     ]
    },
    {
     "name": "stdout",
     "output_type": "stream",
     "text": [
      "['truck']\n",
      "['truck', 'sports ball']\n"
     ]
    },
    {
     "name": "stderr",
     "output_type": "stream",
     "text": [
      "image 1/1 /home/lyz/work/kaggle/科大讯飞2023/交通场景运输车辆外廓视觉测量挑战赛/交通场景运输车辆外廓视觉测量挑战赛公开数据-初赛/交通场景运输车辆赛题-训练集+开发集/开发集1/Imgs/21017A.jpg: 352x640 1 car, 1 truck, 6.3ms\n",
      "Speed: 1.7ms preprocess, 6.3ms inference, 0.9ms postprocess per image at shape (1, 3, 640, 640)\n",
      "\n",
      "image 1/1 /home/lyz/work/kaggle/科大讯飞2023/交通场景运输车辆外廓视觉测量挑战赛/交通场景运输车辆外廓视觉测量挑战赛公开数据-初赛/交通场景运输车辆赛题-训练集+开发集/开发集1/Imgs/21017B.jpg: 352x640 1 truck, 1 sports ball, 6.4ms\n",
      "Speed: 1.8ms preprocess, 6.4ms inference, 1.0ms postprocess per image at shape (1, 3, 640, 640)\n",
      "\n"
     ]
    },
    {
     "name": "stdout",
     "output_type": "stream",
     "text": [
      "['truck', 'car']\n",
      "['truck', 'sports ball']\n"
     ]
    },
    {
     "name": "stderr",
     "output_type": "stream",
     "text": [
      "image 1/1 /home/lyz/work/kaggle/科大讯飞2023/交通场景运输车辆外廓视觉测量挑战赛/交通场景运输车辆外廓视觉测量挑战赛公开数据-初赛/交通场景运输车辆赛题-训练集+开发集/开发集1/Imgs/21018A.jpg: 352x640 1 car, 1 truck, 6.5ms\n",
      "Speed: 1.8ms preprocess, 6.5ms inference, 1.0ms postprocess per image at shape (1, 3, 640, 640)\n",
      "\n",
      "image 1/1 /home/lyz/work/kaggle/科大讯飞2023/交通场景运输车辆外廓视觉测量挑战赛/交通场景运输车辆外廓视觉测量挑战赛公开数据-初赛/交通场景运输车辆赛题-训练集+开发集/开发集1/Imgs/21018B.jpg: 352x640 1 car, 1 truck, 1 sports ball, 6.3ms\n",
      "Speed: 1.7ms preprocess, 6.3ms inference, 1.0ms postprocess per image at shape (1, 3, 640, 640)\n",
      "\n"
     ]
    },
    {
     "name": "stdout",
     "output_type": "stream",
     "text": [
      "['truck', 'car']\n",
      "['truck', 'car', 'sports ball']\n"
     ]
    },
    {
     "name": "stderr",
     "output_type": "stream",
     "text": [
      "image 1/1 /home/lyz/work/kaggle/科大讯飞2023/交通场景运输车辆外廓视觉测量挑战赛/交通场景运输车辆外廓视觉测量挑战赛公开数据-初赛/交通场景运输车辆赛题-训练集+开发集/开发集1/Imgs/21019A.jpg: 352x640 1 car, 1 bus, 1 truck, 6.4ms\n",
      "Speed: 1.7ms preprocess, 6.4ms inference, 0.9ms postprocess per image at shape (1, 3, 640, 640)\n",
      "\n",
      "image 1/1 /home/lyz/work/kaggle/科大讯飞2023/交通场景运输车辆外廓视觉测量挑战赛/交通场景运输车辆外廓视觉测量挑战赛公开数据-初赛/交通场景运输车辆赛题-训练集+开发集/开发集1/Imgs/21019B.jpg: 352x640 2 trucks, 1 sports ball, 6.6ms\n",
      "Speed: 1.7ms preprocess, 6.6ms inference, 0.9ms postprocess per image at shape (1, 3, 640, 640)\n",
      "\n"
     ]
    },
    {
     "name": "stdout",
     "output_type": "stream",
     "text": [
      "['truck', 'bus', 'car']\n",
      "['truck', 'truck', 'sports ball']\n"
     ]
    },
    {
     "name": "stderr",
     "output_type": "stream",
     "text": [
      "image 1/1 /home/lyz/work/kaggle/科大讯飞2023/交通场景运输车辆外廓视觉测量挑战赛/交通场景运输车辆外廓视觉测量挑战赛公开数据-初赛/交通场景运输车辆赛题-训练集+开发集/开发集1/Imgs/21020A.jpg: 352x640 1 truck, 6.3ms\n",
      "Speed: 1.7ms preprocess, 6.3ms inference, 0.9ms postprocess per image at shape (1, 3, 640, 640)\n",
      "\n",
      "image 1/1 /home/lyz/work/kaggle/科大讯飞2023/交通场景运输车辆外廓视觉测量挑战赛/交通场景运输车辆外廓视觉测量挑战赛公开数据-初赛/交通场景运输车辆赛题-训练集+开发集/开发集1/Imgs/21020B.jpg: 352x640 1 truck, 1 sports ball, 6.4ms\n",
      "Speed: 1.7ms preprocess, 6.4ms inference, 0.9ms postprocess per image at shape (1, 3, 640, 640)\n",
      "\n"
     ]
    },
    {
     "name": "stdout",
     "output_type": "stream",
     "text": [
      "['truck']\n",
      "['truck', 'sports ball']\n"
     ]
    },
    {
     "name": "stderr",
     "output_type": "stream",
     "text": [
      "image 1/1 /home/lyz/work/kaggle/科大讯飞2023/交通场景运输车辆外廓视觉测量挑战赛/交通场景运输车辆外廓视觉测量挑战赛公开数据-初赛/交通场景运输车辆赛题-训练集+开发集/开发集1/Imgs/21021A.jpg: 352x640 2 cars, 2 trucks, 6.3ms\n",
      "Speed: 1.8ms preprocess, 6.3ms inference, 0.9ms postprocess per image at shape (1, 3, 640, 640)\n",
      "\n",
      "image 1/1 /home/lyz/work/kaggle/科大讯飞2023/交通场景运输车辆外廓视觉测量挑战赛/交通场景运输车辆外廓视觉测量挑战赛公开数据-初赛/交通场景运输车辆赛题-训练集+开发集/开发集1/Imgs/21021B.jpg: 352x640 1 car, 2 trucks, 6.5ms\n",
      "Speed: 1.7ms preprocess, 6.5ms inference, 0.9ms postprocess per image at shape (1, 3, 640, 640)\n",
      "\n"
     ]
    },
    {
     "name": "stdout",
     "output_type": "stream",
     "text": [
      "['truck', 'truck', 'car', 'car']\n",
      "['truck', 'car', 'truck']\n"
     ]
    },
    {
     "name": "stderr",
     "output_type": "stream",
     "text": [
      "image 1/1 /home/lyz/work/kaggle/科大讯飞2023/交通场景运输车辆外廓视觉测量挑战赛/交通场景运输车辆外廓视觉测量挑战赛公开数据-初赛/交通场景运输车辆赛题-训练集+开发集/开发集1/Imgs/21022A.jpg: 352x640 1 car, 2 trucks, 6.4ms\n",
      "Speed: 1.7ms preprocess, 6.4ms inference, 0.9ms postprocess per image at shape (1, 3, 640, 640)\n",
      "\n",
      "image 1/1 /home/lyz/work/kaggle/科大讯飞2023/交通场景运输车辆外廓视觉测量挑战赛/交通场景运输车辆外廓视觉测量挑战赛公开数据-初赛/交通场景运输车辆赛题-训练集+开发集/开发集1/Imgs/21022B.jpg: 352x640 2 trucks, 1 sports ball, 6.3ms\n",
      "Speed: 1.8ms preprocess, 6.3ms inference, 0.9ms postprocess per image at shape (1, 3, 640, 640)\n",
      "\n"
     ]
    },
    {
     "name": "stdout",
     "output_type": "stream",
     "text": [
      "['truck', 'car', 'truck']\n",
      "['truck', 'truck', 'sports ball']\n"
     ]
    },
    {
     "name": "stderr",
     "output_type": "stream",
     "text": [
      "image 1/1 /home/lyz/work/kaggle/科大讯飞2023/交通场景运输车辆外廓视觉测量挑战赛/交通场景运输车辆外廓视觉测量挑战赛公开数据-初赛/交通场景运输车辆赛题-训练集+开发集/开发集1/Imgs/21023A.jpg: 352x640 1 motorcycle, 1 truck, 6.3ms\n",
      "Speed: 1.7ms preprocess, 6.3ms inference, 0.9ms postprocess per image at shape (1, 3, 640, 640)\n",
      "\n",
      "image 1/1 /home/lyz/work/kaggle/科大讯飞2023/交通场景运输车辆外廓视觉测量挑战赛/交通场景运输车辆外廓视觉测量挑战赛公开数据-初赛/交通场景运输车辆赛题-训练集+开发集/开发集1/Imgs/21023B.jpg: 352x640 1 truck, 6.3ms\n",
      "Speed: 1.7ms preprocess, 6.3ms inference, 0.9ms postprocess per image at shape (1, 3, 640, 640)\n",
      "\n"
     ]
    },
    {
     "name": "stdout",
     "output_type": "stream",
     "text": [
      "['truck', 'motorcycle']\n",
      "['truck']\n"
     ]
    },
    {
     "name": "stderr",
     "output_type": "stream",
     "text": [
      "image 1/1 /home/lyz/work/kaggle/科大讯飞2023/交通场景运输车辆外廓视觉测量挑战赛/交通场景运输车辆外廓视觉测量挑战赛公开数据-初赛/交通场景运输车辆赛题-训练集+开发集/开发集1/Imgs/21024A.jpg: 352x640 1 person, 2 cars, 1 truck, 6.3ms\n",
      "Speed: 1.7ms preprocess, 6.3ms inference, 0.9ms postprocess per image at shape (1, 3, 640, 640)\n",
      "\n",
      "image 1/1 /home/lyz/work/kaggle/科大讯飞2023/交通场景运输车辆外廓视觉测量挑战赛/交通场景运输车辆外廓视觉测量挑战赛公开数据-初赛/交通场景运输车辆赛题-训练集+开发集/开发集1/Imgs/21024B.jpg: 352x640 1 truck, 1 sports ball, 6.3ms\n",
      "Speed: 1.6ms preprocess, 6.3ms inference, 0.9ms postprocess per image at shape (1, 3, 640, 640)\n",
      "\n"
     ]
    },
    {
     "name": "stdout",
     "output_type": "stream",
     "text": [
      "['truck', 'person', 'car', 'car']\n",
      "['truck', 'sports ball']\n"
     ]
    },
    {
     "name": "stderr",
     "output_type": "stream",
     "text": [
      "image 1/1 /home/lyz/work/kaggle/科大讯飞2023/交通场景运输车辆外廓视觉测量挑战赛/交通场景运输车辆外廓视觉测量挑战赛公开数据-初赛/交通场景运输车辆赛题-训练集+开发集/开发集1/Imgs/21025A.jpg: 352x640 2 cars, 3 trucks, 6.3ms\n",
      "Speed: 1.7ms preprocess, 6.3ms inference, 0.9ms postprocess per image at shape (1, 3, 640, 640)\n",
      "\n",
      "image 1/1 /home/lyz/work/kaggle/科大讯飞2023/交通场景运输车辆外廓视觉测量挑战赛/交通场景运输车辆外廓视觉测量挑战赛公开数据-初赛/交通场景运输车辆赛题-训练集+开发集/开发集1/Imgs/21025B.jpg: 352x640 3 cars, 1 truck, 1 sports ball, 6.3ms\n",
      "Speed: 1.7ms preprocess, 6.3ms inference, 0.9ms postprocess per image at shape (1, 3, 640, 640)\n",
      "\n"
     ]
    },
    {
     "name": "stdout",
     "output_type": "stream",
     "text": [
      "['truck', 'truck', 'car', 'truck', 'car']\n",
      "['truck', 'car', 'car', 'sports ball', 'car']\n"
     ]
    },
    {
     "name": "stderr",
     "output_type": "stream",
     "text": [
      "image 1/1 /home/lyz/work/kaggle/科大讯飞2023/交通场景运输车辆外廓视觉测量挑战赛/交通场景运输车辆外廓视觉测量挑战赛公开数据-初赛/交通场景运输车辆赛题-训练集+开发集/开发集1/Imgs/21026A.jpg: 352x640 1 truck, 6.3ms\n",
      "Speed: 1.7ms preprocess, 6.3ms inference, 0.9ms postprocess per image at shape (1, 3, 640, 640)\n",
      "\n",
      "image 1/1 /home/lyz/work/kaggle/科大讯飞2023/交通场景运输车辆外廓视觉测量挑战赛/交通场景运输车辆外廓视觉测量挑战赛公开数据-初赛/交通场景运输车辆赛题-训练集+开发集/开发集1/Imgs/21026B.jpg: 352x640 1 truck, 6.3ms\n",
      "Speed: 1.7ms preprocess, 6.3ms inference, 0.9ms postprocess per image at shape (1, 3, 640, 640)\n",
      "\n"
     ]
    },
    {
     "name": "stdout",
     "output_type": "stream",
     "text": [
      "['truck']\n",
      "['truck']\n"
     ]
    },
    {
     "name": "stderr",
     "output_type": "stream",
     "text": [
      "image 1/1 /home/lyz/work/kaggle/科大讯飞2023/交通场景运输车辆外廓视觉测量挑战赛/交通场景运输车辆外廓视觉测量挑战赛公开数据-初赛/交通场景运输车辆赛题-训练集+开发集/开发集1/Imgs/21027A.jpg: 352x640 1 car, 1 bus, 1 truck, 6.3ms\n",
      "Speed: 1.7ms preprocess, 6.3ms inference, 0.9ms postprocess per image at shape (1, 3, 640, 640)\n",
      "\n",
      "image 1/1 /home/lyz/work/kaggle/科大讯飞2023/交通场景运输车辆外廓视觉测量挑战赛/交通场景运输车辆外廓视觉测量挑战赛公开数据-初赛/交通场景运输车辆赛题-训练集+开发集/开发集1/Imgs/21027B.jpg: 352x640 1 truck, 1 sports ball, 6.3ms\n",
      "Speed: 1.6ms preprocess, 6.3ms inference, 0.9ms postprocess per image at shape (1, 3, 640, 640)\n",
      "\n"
     ]
    },
    {
     "name": "stdout",
     "output_type": "stream",
     "text": [
      "['truck', 'bus', 'car']\n",
      "['truck', 'sports ball']\n"
     ]
    },
    {
     "name": "stderr",
     "output_type": "stream",
     "text": [
      "image 1/1 /home/lyz/work/kaggle/科大讯飞2023/交通场景运输车辆外廓视觉测量挑战赛/交通场景运输车辆外廓视觉测量挑战赛公开数据-初赛/交通场景运输车辆赛题-训练集+开发集/开发集1/Imgs/21028A.jpg: 352x640 1 bus, 1 truck, 6.3ms\n",
      "Speed: 1.7ms preprocess, 6.3ms inference, 0.9ms postprocess per image at shape (1, 3, 640, 640)\n",
      "\n",
      "image 1/1 /home/lyz/work/kaggle/科大讯飞2023/交通场景运输车辆外廓视觉测量挑战赛/交通场景运输车辆外廓视觉测量挑战赛公开数据-初赛/交通场景运输车辆赛题-训练集+开发集/开发集1/Imgs/21028B.jpg: 352x640 1 truck, 1 sports ball, 6.3ms\n",
      "Speed: 1.8ms preprocess, 6.3ms inference, 0.9ms postprocess per image at shape (1, 3, 640, 640)\n",
      "\n"
     ]
    },
    {
     "name": "stdout",
     "output_type": "stream",
     "text": [
      "['bus', 'truck']\n",
      "['truck', 'sports ball']\n"
     ]
    },
    {
     "name": "stderr",
     "output_type": "stream",
     "text": [
      "image 1/1 /home/lyz/work/kaggle/科大讯飞2023/交通场景运输车辆外廓视觉测量挑战赛/交通场景运输车辆外廓视觉测量挑战赛公开数据-初赛/交通场景运输车辆赛题-训练集+开发集/开发集1/Imgs/21029A.jpg: 352x640 2 cars, 1 truck, 6.3ms\n",
      "Speed: 1.7ms preprocess, 6.3ms inference, 0.9ms postprocess per image at shape (1, 3, 640, 640)\n",
      "\n",
      "image 1/1 /home/lyz/work/kaggle/科大讯飞2023/交通场景运输车辆外廓视觉测量挑战赛/交通场景运输车辆外廓视觉测量挑战赛公开数据-初赛/交通场景运输车辆赛题-训练集+开发集/开发集1/Imgs/21029B.jpg: 352x640 2 cars, 1 truck, 6.3ms\n",
      "Speed: 1.7ms preprocess, 6.3ms inference, 0.9ms postprocess per image at shape (1, 3, 640, 640)\n",
      "\n"
     ]
    },
    {
     "name": "stdout",
     "output_type": "stream",
     "text": [
      "['truck', 'car', 'car']\n",
      "['truck', 'car', 'car']\n"
     ]
    },
    {
     "name": "stderr",
     "output_type": "stream",
     "text": [
      "image 1/1 /home/lyz/work/kaggle/科大讯飞2023/交通场景运输车辆外廓视觉测量挑战赛/交通场景运输车辆外廓视觉测量挑战赛公开数据-初赛/交通场景运输车辆赛题-训练集+开发集/开发集1/Imgs/21030A.jpg: 352x640 1 car, 1 truck, 6.3ms\n",
      "Speed: 1.7ms preprocess, 6.3ms inference, 0.9ms postprocess per image at shape (1, 3, 640, 640)\n",
      "\n",
      "image 1/1 /home/lyz/work/kaggle/科大讯飞2023/交通场景运输车辆外廓视觉测量挑战赛/交通场景运输车辆外廓视觉测量挑战赛公开数据-初赛/交通场景运输车辆赛题-训练集+开发集/开发集1/Imgs/21030B.jpg: 352x640 2 cars, 1 truck, 6.3ms\n",
      "Speed: 1.7ms preprocess, 6.3ms inference, 0.9ms postprocess per image at shape (1, 3, 640, 640)\n",
      "\n"
     ]
    },
    {
     "name": "stdout",
     "output_type": "stream",
     "text": [
      "['truck', 'car']\n",
      "['truck', 'car', 'car']\n"
     ]
    },
    {
     "name": "stderr",
     "output_type": "stream",
     "text": [
      "image 1/1 /home/lyz/work/kaggle/科大讯飞2023/交通场景运输车辆外廓视觉测量挑战赛/交通场景运输车辆外廓视觉测量挑战赛公开数据-初赛/交通场景运输车辆赛题-训练集+开发集/开发集1/Imgs/21031A.jpg: 352x640 1 person, 2 trucks, 6.3ms\n",
      "Speed: 1.8ms preprocess, 6.3ms inference, 0.9ms postprocess per image at shape (1, 3, 640, 640)\n",
      "\n",
      "image 1/1 /home/lyz/work/kaggle/科大讯飞2023/交通场景运输车辆外廓视觉测量挑战赛/交通场景运输车辆外廓视觉测量挑战赛公开数据-初赛/交通场景运输车辆赛题-训练集+开发集/开发集1/Imgs/21031B.jpg: 352x640 1 truck, 1 sports ball, 6.3ms\n",
      "Speed: 1.8ms preprocess, 6.3ms inference, 0.9ms postprocess per image at shape (1, 3, 640, 640)\n",
      "\n"
     ]
    },
    {
     "name": "stdout",
     "output_type": "stream",
     "text": [
      "['truck', 'truck', 'person']\n",
      "['truck', 'sports ball']\n"
     ]
    },
    {
     "name": "stderr",
     "output_type": "stream",
     "text": [
      "image 1/1 /home/lyz/work/kaggle/科大讯飞2023/交通场景运输车辆外廓视觉测量挑战赛/交通场景运输车辆外廓视觉测量挑战赛公开数据-初赛/交通场景运输车辆赛题-训练集+开发集/开发集1/Imgs/21032A.jpg: 352x640 1 truck, 6.3ms\n",
      "Speed: 1.7ms preprocess, 6.3ms inference, 0.9ms postprocess per image at shape (1, 3, 640, 640)\n",
      "\n",
      "image 1/1 /home/lyz/work/kaggle/科大讯飞2023/交通场景运输车辆外廓视觉测量挑战赛/交通场景运输车辆外廓视觉测量挑战赛公开数据-初赛/交通场景运输车辆赛题-训练集+开发集/开发集1/Imgs/21032B.jpg: 352x640 1 truck, 6.3ms\n",
      "Speed: 1.7ms preprocess, 6.3ms inference, 0.9ms postprocess per image at shape (1, 3, 640, 640)\n",
      "\n"
     ]
    },
    {
     "name": "stdout",
     "output_type": "stream",
     "text": [
      "['truck']\n",
      "['truck']\n"
     ]
    },
    {
     "name": "stderr",
     "output_type": "stream",
     "text": [
      "image 1/1 /home/lyz/work/kaggle/科大讯飞2023/交通场景运输车辆外廓视觉测量挑战赛/交通场景运输车辆外廓视觉测量挑战赛公开数据-初赛/交通场景运输车辆赛题-训练集+开发集/开发集1/Imgs/21033A.jpg: 352x640 2 trucks, 6.2ms\n",
      "Speed: 1.7ms preprocess, 6.2ms inference, 0.9ms postprocess per image at shape (1, 3, 640, 640)\n",
      "\n",
      "image 1/1 /home/lyz/work/kaggle/科大讯飞2023/交通场景运输车辆外廓视觉测量挑战赛/交通场景运输车辆外廓视觉测量挑战赛公开数据-初赛/交通场景运输车辆赛题-训练集+开发集/开发集1/Imgs/21033B.jpg: 352x640 1 truck, 6.3ms\n",
      "Speed: 1.7ms preprocess, 6.3ms inference, 0.9ms postprocess per image at shape (1, 3, 640, 640)\n",
      "\n"
     ]
    },
    {
     "name": "stdout",
     "output_type": "stream",
     "text": [
      "['truck', 'truck']\n",
      "['truck']\n"
     ]
    },
    {
     "name": "stderr",
     "output_type": "stream",
     "text": [
      "image 1/1 /home/lyz/work/kaggle/科大讯飞2023/交通场景运输车辆外廓视觉测量挑战赛/交通场景运输车辆外廓视觉测量挑战赛公开数据-初赛/交通场景运输车辆赛题-训练集+开发集/开发集1/Imgs/21034A.jpg: 352x640 1 truck, 6.3ms\n",
      "Speed: 1.7ms preprocess, 6.3ms inference, 0.9ms postprocess per image at shape (1, 3, 640, 640)\n",
      "\n",
      "image 1/1 /home/lyz/work/kaggle/科大讯飞2023/交通场景运输车辆外廓视觉测量挑战赛/交通场景运输车辆外廓视觉测量挑战赛公开数据-初赛/交通场景运输车辆赛题-训练集+开发集/开发集1/Imgs/21034B.jpg: 352x640 1 person, 2 trucks, 6.3ms\n",
      "Speed: 1.8ms preprocess, 6.3ms inference, 0.9ms postprocess per image at shape (1, 3, 640, 640)\n",
      "\n"
     ]
    },
    {
     "name": "stdout",
     "output_type": "stream",
     "text": [
      "['truck']\n",
      "['truck', 'truck', 'person']\n"
     ]
    },
    {
     "name": "stderr",
     "output_type": "stream",
     "text": [
      "image 1/1 /home/lyz/work/kaggle/科大讯飞2023/交通场景运输车辆外廓视觉测量挑战赛/交通场景运输车辆外廓视觉测量挑战赛公开数据-初赛/交通场景运输车辆赛题-训练集+开发集/开发集1/Imgs/21035A.jpg: 352x640 1 car, 1 truck, 6.3ms\n",
      "Speed: 1.7ms preprocess, 6.3ms inference, 0.9ms postprocess per image at shape (1, 3, 640, 640)\n",
      "\n",
      "image 1/1 /home/lyz/work/kaggle/科大讯飞2023/交通场景运输车辆外廓视觉测量挑战赛/交通场景运输车辆外廓视觉测量挑战赛公开数据-初赛/交通场景运输车辆赛题-训练集+开发集/开发集1/Imgs/21035B.jpg: 352x640 1 car, 1 truck, 6.3ms\n",
      "Speed: 1.7ms preprocess, 6.3ms inference, 0.9ms postprocess per image at shape (1, 3, 640, 640)\n",
      "\n"
     ]
    },
    {
     "name": "stdout",
     "output_type": "stream",
     "text": [
      "['truck', 'car']\n",
      "['truck', 'car']\n"
     ]
    },
    {
     "name": "stderr",
     "output_type": "stream",
     "text": [
      "image 1/1 /home/lyz/work/kaggle/科大讯飞2023/交通场景运输车辆外廓视觉测量挑战赛/交通场景运输车辆外廓视觉测量挑战赛公开数据-初赛/交通场景运输车辆赛题-训练集+开发集/开发集1/Imgs/21036A.jpg: 352x640 2 cars, 1 truck, 6.3ms\n",
      "Speed: 1.7ms preprocess, 6.3ms inference, 0.9ms postprocess per image at shape (1, 3, 640, 640)\n",
      "\n",
      "image 1/1 /home/lyz/work/kaggle/科大讯飞2023/交通场景运输车辆外廓视觉测量挑战赛/交通场景运输车辆外廓视觉测量挑战赛公开数据-初赛/交通场景运输车辆赛题-训练集+开发集/开发集1/Imgs/21036B.jpg: 352x640 3 cars, 1 truck, 6.3ms\n",
      "Speed: 1.7ms preprocess, 6.3ms inference, 0.9ms postprocess per image at shape (1, 3, 640, 640)\n",
      "\n"
     ]
    },
    {
     "name": "stdout",
     "output_type": "stream",
     "text": [
      "['truck', 'car', 'car']\n",
      "['truck', 'car', 'car', 'car']\n"
     ]
    },
    {
     "name": "stderr",
     "output_type": "stream",
     "text": [
      "image 1/1 /home/lyz/work/kaggle/科大讯飞2023/交通场景运输车辆外廓视觉测量挑战赛/交通场景运输车辆外廓视觉测量挑战赛公开数据-初赛/交通场景运输车辆赛题-训练集+开发集/开发集1/Imgs/21037A.jpg: 352x640 1 truck, 6.3ms\n",
      "Speed: 1.7ms preprocess, 6.3ms inference, 0.9ms postprocess per image at shape (1, 3, 640, 640)\n",
      "\n",
      "image 1/1 /home/lyz/work/kaggle/科大讯飞2023/交通场景运输车辆外廓视觉测量挑战赛/交通场景运输车辆外廓视觉测量挑战赛公开数据-初赛/交通场景运输车辆赛题-训练集+开发集/开发集1/Imgs/21037B.jpg: 352x640 1 truck, 6.3ms\n",
      "Speed: 1.8ms preprocess, 6.3ms inference, 0.9ms postprocess per image at shape (1, 3, 640, 640)\n",
      "\n"
     ]
    },
    {
     "name": "stdout",
     "output_type": "stream",
     "text": [
      "['truck']\n",
      "['truck']\n"
     ]
    },
    {
     "name": "stderr",
     "output_type": "stream",
     "text": [
      "image 1/1 /home/lyz/work/kaggle/科大讯飞2023/交通场景运输车辆外廓视觉测量挑战赛/交通场景运输车辆外廓视觉测量挑战赛公开数据-初赛/交通场景运输车辆赛题-训练集+开发集/开发集1/Imgs/21038A.jpg: 352x640 1 truck, 6.3ms\n",
      "Speed: 1.7ms preprocess, 6.3ms inference, 0.9ms postprocess per image at shape (1, 3, 640, 640)\n",
      "\n",
      "image 1/1 /home/lyz/work/kaggle/科大讯飞2023/交通场景运输车辆外廓视觉测量挑战赛/交通场景运输车辆外廓视觉测量挑战赛公开数据-初赛/交通场景运输车辆赛题-训练集+开发集/开发集1/Imgs/21038B.jpg: 352x640 1 truck, 2 sports balls, 6.3ms\n",
      "Speed: 1.7ms preprocess, 6.3ms inference, 0.9ms postprocess per image at shape (1, 3, 640, 640)\n",
      "\n"
     ]
    },
    {
     "name": "stdout",
     "output_type": "stream",
     "text": [
      "['truck']\n",
      "['truck', 'sports ball', 'sports ball']\n"
     ]
    },
    {
     "name": "stderr",
     "output_type": "stream",
     "text": [
      "image 1/1 /home/lyz/work/kaggle/科大讯飞2023/交通场景运输车辆外廓视觉测量挑战赛/交通场景运输车辆外廓视觉测量挑战赛公开数据-初赛/交通场景运输车辆赛题-训练集+开发集/开发集1/Imgs/21039A.jpg: 352x640 1 truck, 6.3ms\n",
      "Speed: 1.7ms preprocess, 6.3ms inference, 0.9ms postprocess per image at shape (1, 3, 640, 640)\n",
      "\n",
      "image 1/1 /home/lyz/work/kaggle/科大讯飞2023/交通场景运输车辆外廓视觉测量挑战赛/交通场景运输车辆外廓视觉测量挑战赛公开数据-初赛/交通场景运输车辆赛题-训练集+开发集/开发集1/Imgs/21039B.jpg: 352x640 1 truck, 6.3ms\n",
      "Speed: 1.7ms preprocess, 6.3ms inference, 0.9ms postprocess per image at shape (1, 3, 640, 640)\n",
      "\n"
     ]
    },
    {
     "name": "stdout",
     "output_type": "stream",
     "text": [
      "['truck']\n",
      "['truck']\n"
     ]
    },
    {
     "name": "stderr",
     "output_type": "stream",
     "text": [
      "image 1/1 /home/lyz/work/kaggle/科大讯飞2023/交通场景运输车辆外廓视觉测量挑战赛/交通场景运输车辆外廓视觉测量挑战赛公开数据-初赛/交通场景运输车辆赛题-训练集+开发集/开发集1/Imgs/21040A.jpg: 352x640 1 car, 1 truck, 6.3ms\n",
      "Speed: 1.7ms preprocess, 6.3ms inference, 0.9ms postprocess per image at shape (1, 3, 640, 640)\n",
      "\n",
      "image 1/1 /home/lyz/work/kaggle/科大讯飞2023/交通场景运输车辆外廓视觉测量挑战赛/交通场景运输车辆外廓视觉测量挑战赛公开数据-初赛/交通场景运输车辆赛题-训练集+开发集/开发集1/Imgs/21040B.jpg: 352x640 1 car, 1 truck, 6.3ms\n",
      "Speed: 1.7ms preprocess, 6.3ms inference, 0.9ms postprocess per image at shape (1, 3, 640, 640)\n",
      "\n"
     ]
    },
    {
     "name": "stdout",
     "output_type": "stream",
     "text": [
      "['truck', 'car']\n",
      "['truck', 'car']\n"
     ]
    },
    {
     "name": "stderr",
     "output_type": "stream",
     "text": [
      "image 1/1 /home/lyz/work/kaggle/科大讯飞2023/交通场景运输车辆外廓视觉测量挑战赛/交通场景运输车辆外廓视觉测量挑战赛公开数据-初赛/交通场景运输车辆赛题-训练集+开发集/开发集1/Imgs/21041A.jpg: 352x640 1 person, 1 car, 2 trucks, 6.3ms\n",
      "Speed: 1.7ms preprocess, 6.3ms inference, 0.9ms postprocess per image at shape (1, 3, 640, 640)\n",
      "\n",
      "image 1/1 /home/lyz/work/kaggle/科大讯飞2023/交通场景运输车辆外廓视觉测量挑战赛/交通场景运输车辆外廓视觉测量挑战赛公开数据-初赛/交通场景运输车辆赛题-训练集+开发集/开发集1/Imgs/21041B.jpg: 352x640 1 truck, 1 sports ball, 1 orange, 6.3ms\n",
      "Speed: 1.7ms preprocess, 6.3ms inference, 0.9ms postprocess per image at shape (1, 3, 640, 640)\n",
      "\n"
     ]
    },
    {
     "name": "stdout",
     "output_type": "stream",
     "text": [
      "['truck', 'truck', 'person', 'car']\n",
      "['truck', 'orange', 'sports ball']\n"
     ]
    },
    {
     "name": "stderr",
     "output_type": "stream",
     "text": [
      "image 1/1 /home/lyz/work/kaggle/科大讯飞2023/交通场景运输车辆外廓视觉测量挑战赛/交通场景运输车辆外廓视觉测量挑战赛公开数据-初赛/交通场景运输车辆赛题-训练集+开发集/开发集1/Imgs/21042A.jpg: 352x640 1 truck, 6.3ms\n",
      "Speed: 1.7ms preprocess, 6.3ms inference, 0.9ms postprocess per image at shape (1, 3, 640, 640)\n",
      "\n",
      "image 1/1 /home/lyz/work/kaggle/科大讯飞2023/交通场景运输车辆外廓视觉测量挑战赛/交通场景运输车辆外廓视觉测量挑战赛公开数据-初赛/交通场景运输车辆赛题-训练集+开发集/开发集1/Imgs/21042B.jpg: 352x640 1 truck, 6.3ms\n",
      "Speed: 1.7ms preprocess, 6.3ms inference, 0.9ms postprocess per image at shape (1, 3, 640, 640)\n",
      "\n"
     ]
    },
    {
     "name": "stdout",
     "output_type": "stream",
     "text": [
      "['truck']\n",
      "['truck']\n"
     ]
    },
    {
     "name": "stderr",
     "output_type": "stream",
     "text": [
      "image 1/1 /home/lyz/work/kaggle/科大讯飞2023/交通场景运输车辆外廓视觉测量挑战赛/交通场景运输车辆外廓视觉测量挑战赛公开数据-初赛/交通场景运输车辆赛题-训练集+开发集/开发集1/Imgs/21043A.jpg: 352x640 1 truck, 6.3ms\n",
      "Speed: 1.7ms preprocess, 6.3ms inference, 0.9ms postprocess per image at shape (1, 3, 640, 640)\n",
      "\n",
      "image 1/1 /home/lyz/work/kaggle/科大讯飞2023/交通场景运输车辆外廓视觉测量挑战赛/交通场景运输车辆外廓视觉测量挑战赛公开数据-初赛/交通场景运输车辆赛题-训练集+开发集/开发集1/Imgs/21043B.jpg: 352x640 1 truck, 6.3ms\n",
      "Speed: 1.7ms preprocess, 6.3ms inference, 0.9ms postprocess per image at shape (1, 3, 640, 640)\n",
      "\n"
     ]
    },
    {
     "name": "stdout",
     "output_type": "stream",
     "text": [
      "['truck']\n",
      "['truck']\n"
     ]
    },
    {
     "name": "stderr",
     "output_type": "stream",
     "text": [
      "image 1/1 /home/lyz/work/kaggle/科大讯飞2023/交通场景运输车辆外廓视觉测量挑战赛/交通场景运输车辆外廓视觉测量挑战赛公开数据-初赛/交通场景运输车辆赛题-训练集+开发集/开发集1/Imgs/21044A.jpg: 352x640 2 persons, 1 motorcycle, 1 truck, 6.3ms\n",
      "Speed: 1.8ms preprocess, 6.3ms inference, 0.9ms postprocess per image at shape (1, 3, 640, 640)\n",
      "\n",
      "image 1/1 /home/lyz/work/kaggle/科大讯飞2023/交通场景运输车辆外廓视觉测量挑战赛/交通场景运输车辆外廓视觉测量挑战赛公开数据-初赛/交通场景运输车辆赛题-训练集+开发集/开发集1/Imgs/21044B.jpg: 352x640 1 truck, 6.3ms\n",
      "Speed: 1.7ms preprocess, 6.3ms inference, 0.9ms postprocess per image at shape (1, 3, 640, 640)\n",
      "\n"
     ]
    },
    {
     "name": "stdout",
     "output_type": "stream",
     "text": [
      "['truck', 'person', 'person', 'motorcycle']\n",
      "['truck']\n"
     ]
    },
    {
     "name": "stderr",
     "output_type": "stream",
     "text": [
      "image 1/1 /home/lyz/work/kaggle/科大讯飞2023/交通场景运输车辆外廓视觉测量挑战赛/交通场景运输车辆外廓视觉测量挑战赛公开数据-初赛/交通场景运输车辆赛题-训练集+开发集/开发集1/Imgs/21045A.jpg: 352x640 2 cars, 1 bus, 1 truck, 6.2ms\n",
      "Speed: 1.7ms preprocess, 6.2ms inference, 0.9ms postprocess per image at shape (1, 3, 640, 640)\n",
      "\n",
      "image 1/1 /home/lyz/work/kaggle/科大讯飞2023/交通场景运输车辆外廓视觉测量挑战赛/交通场景运输车辆外廓视觉测量挑战赛公开数据-初赛/交通场景运输车辆赛题-训练集+开发集/开发集1/Imgs/21045B.jpg: 352x640 2 cars, 1 bus, 1 truck, 6.2ms\n",
      "Speed: 1.7ms preprocess, 6.2ms inference, 0.9ms postprocess per image at shape (1, 3, 640, 640)\n",
      "\n"
     ]
    },
    {
     "name": "stdout",
     "output_type": "stream",
     "text": [
      "['truck', 'car', 'bus', 'car']\n",
      "['truck', 'car', 'car', 'bus']\n"
     ]
    },
    {
     "name": "stderr",
     "output_type": "stream",
     "text": [
      "image 1/1 /home/lyz/work/kaggle/科大讯飞2023/交通场景运输车辆外廓视觉测量挑战赛/交通场景运输车辆外廓视觉测量挑战赛公开数据-初赛/交通场景运输车辆赛题-训练集+开发集/开发集1/Imgs/21046A.jpg: 352x640 2 trucks, 6.3ms\n",
      "Speed: 1.7ms preprocess, 6.3ms inference, 0.9ms postprocess per image at shape (1, 3, 640, 640)\n",
      "\n",
      "image 1/1 /home/lyz/work/kaggle/科大讯飞2023/交通场景运输车辆外廓视觉测量挑战赛/交通场景运输车辆外廓视觉测量挑战赛公开数据-初赛/交通场景运输车辆赛题-训练集+开发集/开发集1/Imgs/21046B.jpg: 352x640 1 truck, 1 sports ball, 6.3ms\n",
      "Speed: 1.7ms preprocess, 6.3ms inference, 0.9ms postprocess per image at shape (1, 3, 640, 640)\n",
      "\n"
     ]
    },
    {
     "name": "stdout",
     "output_type": "stream",
     "text": [
      "['truck', 'truck']\n",
      "['truck', 'sports ball']\n"
     ]
    },
    {
     "name": "stderr",
     "output_type": "stream",
     "text": [
      "image 1/1 /home/lyz/work/kaggle/科大讯飞2023/交通场景运输车辆外廓视觉测量挑战赛/交通场景运输车辆外廓视觉测量挑战赛公开数据-初赛/交通场景运输车辆赛题-训练集+开发集/开发集1/Imgs/21047A.jpg: 352x640 1 car, 1 bus, 2 trucks, 6.3ms\n",
      "Speed: 1.8ms preprocess, 6.3ms inference, 0.9ms postprocess per image at shape (1, 3, 640, 640)\n",
      "\n",
      "image 1/1 /home/lyz/work/kaggle/科大讯飞2023/交通场景运输车辆外廓视觉测量挑战赛/交通场景运输车辆外廓视觉测量挑战赛公开数据-初赛/交通场景运输车辆赛题-训练集+开发集/开发集1/Imgs/21047B.jpg: 352x640 2 trucks, 1 sports ball, 6.3ms\n",
      "Speed: 1.7ms preprocess, 6.3ms inference, 0.9ms postprocess per image at shape (1, 3, 640, 640)\n",
      "\n"
     ]
    },
    {
     "name": "stdout",
     "output_type": "stream",
     "text": [
      "['truck', 'bus', 'car', 'truck']\n",
      "['truck', 'truck', 'sports ball']\n"
     ]
    },
    {
     "name": "stderr",
     "output_type": "stream",
     "text": [
      "image 1/1 /home/lyz/work/kaggle/科大讯飞2023/交通场景运输车辆外廓视觉测量挑战赛/交通场景运输车辆外廓视觉测量挑战赛公开数据-初赛/交通场景运输车辆赛题-训练集+开发集/开发集1/Imgs/21048A.jpg: 352x640 2 cars, 1 truck, 6.3ms\n",
      "Speed: 1.7ms preprocess, 6.3ms inference, 0.9ms postprocess per image at shape (1, 3, 640, 640)\n",
      "\n",
      "image 1/1 /home/lyz/work/kaggle/科大讯飞2023/交通场景运输车辆外廓视觉测量挑战赛/交通场景运输车辆外廓视觉测量挑战赛公开数据-初赛/交通场景运输车辆赛题-训练集+开发集/开发集1/Imgs/21048B.jpg: 352x640 1 car, 1 truck, 1 orange, 6.3ms\n",
      "Speed: 1.7ms preprocess, 6.3ms inference, 0.9ms postprocess per image at shape (1, 3, 640, 640)\n",
      "\n"
     ]
    },
    {
     "name": "stdout",
     "output_type": "stream",
     "text": [
      "['truck', 'car', 'car']\n",
      "['truck', 'car', 'orange']\n"
     ]
    },
    {
     "name": "stderr",
     "output_type": "stream",
     "text": [
      "image 1/1 /home/lyz/work/kaggle/科大讯飞2023/交通场景运输车辆外廓视觉测量挑战赛/交通场景运输车辆外廓视觉测量挑战赛公开数据-初赛/交通场景运输车辆赛题-训练集+开发集/开发集1/Imgs/21049A.jpg: 352x640 1 person, 1 truck, 6.3ms\n",
      "Speed: 1.8ms preprocess, 6.3ms inference, 0.9ms postprocess per image at shape (1, 3, 640, 640)\n",
      "\n",
      "image 1/1 /home/lyz/work/kaggle/科大讯飞2023/交通场景运输车辆外廓视觉测量挑战赛/交通场景运输车辆外廓视觉测量挑战赛公开数据-初赛/交通场景运输车辆赛题-训练集+开发集/开发集1/Imgs/21049B.jpg: 352x640 1 truck, 6.3ms\n",
      "Speed: 1.7ms preprocess, 6.3ms inference, 0.9ms postprocess per image at shape (1, 3, 640, 640)\n",
      "\n"
     ]
    },
    {
     "name": "stdout",
     "output_type": "stream",
     "text": [
      "['truck', 'person']\n",
      "['truck']\n"
     ]
    },
    {
     "name": "stderr",
     "output_type": "stream",
     "text": [
      "image 1/1 /home/lyz/work/kaggle/科大讯飞2023/交通场景运输车辆外廓视觉测量挑战赛/交通场景运输车辆外廓视觉测量挑战赛公开数据-初赛/交通场景运输车辆赛题-训练集+开发集/开发集1/Imgs/21050A.jpg: 352x640 1 truck, 6.4ms\n",
      "Speed: 1.8ms preprocess, 6.4ms inference, 0.9ms postprocess per image at shape (1, 3, 640, 640)\n",
      "\n",
      "image 1/1 /home/lyz/work/kaggle/科大讯飞2023/交通场景运输车辆外廓视觉测量挑战赛/交通场景运输车辆外廓视觉测量挑战赛公开数据-初赛/交通场景运输车辆赛题-训练集+开发集/开发集1/Imgs/21050B.jpg: 352x640 1 truck, 1 orange, 6.3ms\n",
      "Speed: 1.7ms preprocess, 6.3ms inference, 0.9ms postprocess per image at shape (1, 3, 640, 640)\n"
     ]
    },
    {
     "name": "stdout",
     "output_type": "stream",
     "text": [
      "['truck']\n",
      "['truck', 'orange']\n"
     ]
    }
   ],
   "source": [
    "train1_boxes = [detect_car(path) for path in train1_path]\n",
    "train2_boxes = [detect_car(path) for path in train2_path]\n",
    "dev_boxes = [detect_car(path) for path in dev_path]"
   ]
  },
  {
   "cell_type": "code",
   "execution_count": 69,
   "id": "030a3350-93ea-4b79-925e-338ec52781e3",
   "metadata": {
    "execution": {
     "iopub.execute_input": "2023-06-03T17:09:14.357520Z",
     "iopub.status.busy": "2023-06-03T17:09:14.356678Z",
     "iopub.status.idle": "2023-06-03T17:10:03.284124Z",
     "shell.execute_reply": "2023-06-03T17:10:03.283621Z",
     "shell.execute_reply.started": "2023-06-03T17:09:14.357467Z"
    },
    "scrolled": true,
    "tags": []
   },
   "outputs": [
    {
     "name": "stderr",
     "output_type": "stream",
     "text": [
      "\n",
      "image 1/1 /home/lyz/work/kaggle/科大讯飞2023/交通场景运输车辆外廓视觉测量挑战赛/交通场景运输车辆外廓视觉测量挑战赛公开数据-初赛/交通场景运输车辆赛题-测试集/测试集1/Imgs/31001A.jpg: 352x640 1 truck, 6.3ms\n",
      "Speed: 18.2ms preprocess, 6.3ms inference, 1.0ms postprocess per image at shape (1, 3, 640, 640)\n",
      "\n",
      "image 1/1 /home/lyz/work/kaggle/科大讯飞2023/交通场景运输车辆外廓视觉测量挑战赛/交通场景运输车辆外廓视觉测量挑战赛公开数据-初赛/交通场景运输车辆赛题-测试集/测试集1/Imgs/31002A.jpg: 352x640 1 truck, 6.3ms\n",
      "Speed: 1.8ms preprocess, 6.3ms inference, 0.9ms postprocess per image at shape (1, 3, 640, 640)\n",
      "\n"
     ]
    },
    {
     "name": "stdout",
     "output_type": "stream",
     "text": [
      "['truck']\n",
      "['truck']\n"
     ]
    },
    {
     "name": "stderr",
     "output_type": "stream",
     "text": [
      "image 1/1 /home/lyz/work/kaggle/科大讯飞2023/交通场景运输车辆外廓视觉测量挑战赛/交通场景运输车辆外廓视觉测量挑战赛公开数据-初赛/交通场景运输车辆赛题-测试集/测试集1/Imgs/31003A.jpg: 352x640 1 car, 1 truck, 6.2ms\n",
      "Speed: 1.7ms preprocess, 6.2ms inference, 0.9ms postprocess per image at shape (1, 3, 640, 640)\n",
      "\n",
      "image 1/1 /home/lyz/work/kaggle/科大讯飞2023/交通场景运输车辆外廓视觉测量挑战赛/交通场景运输车辆外廓视觉测量挑战赛公开数据-初赛/交通场景运输车辆赛题-测试集/测试集1/Imgs/31004A.jpg: 352x640 1 bus, 1 truck, 6.2ms\n",
      "Speed: 1.7ms preprocess, 6.2ms inference, 0.9ms postprocess per image at shape (1, 3, 640, 640)\n",
      "\n"
     ]
    },
    {
     "name": "stdout",
     "output_type": "stream",
     "text": [
      "['truck', 'car']\n",
      "['truck', 'bus']\n"
     ]
    },
    {
     "name": "stderr",
     "output_type": "stream",
     "text": [
      "image 1/1 /home/lyz/work/kaggle/科大讯飞2023/交通场景运输车辆外廓视觉测量挑战赛/交通场景运输车辆外廓视觉测量挑战赛公开数据-初赛/交通场景运输车辆赛题-测试集/测试集1/Imgs/31005A.jpg: 352x640 1 truck, 6.3ms\n",
      "Speed: 1.8ms preprocess, 6.3ms inference, 1.1ms postprocess per image at shape (1, 3, 640, 640)\n",
      "\n",
      "image 1/1 /home/lyz/work/kaggle/科大讯飞2023/交通场景运输车辆外廓视觉测量挑战赛/交通场景运输车辆外廓视觉测量挑战赛公开数据-初赛/交通场景运输车辆赛题-测试集/测试集1/Imgs/31006A.jpg: 352x640 2 trucks, 6.2ms\n",
      "Speed: 1.7ms preprocess, 6.2ms inference, 0.9ms postprocess per image at shape (1, 3, 640, 640)\n",
      "\n"
     ]
    },
    {
     "name": "stdout",
     "output_type": "stream",
     "text": [
      "['truck']\n",
      "['truck', 'truck']\n"
     ]
    },
    {
     "name": "stderr",
     "output_type": "stream",
     "text": [
      "image 1/1 /home/lyz/work/kaggle/科大讯飞2023/交通场景运输车辆外廓视觉测量挑战赛/交通场景运输车辆外廓视觉测量挑战赛公开数据-初赛/交通场景运输车辆赛题-测试集/测试集1/Imgs/31007A.jpg: 352x640 2 trucks, 6.4ms\n",
      "Speed: 1.7ms preprocess, 6.4ms inference, 0.9ms postprocess per image at shape (1, 3, 640, 640)\n",
      "\n",
      "image 1/1 /home/lyz/work/kaggle/科大讯飞2023/交通场景运输车辆外廓视觉测量挑战赛/交通场景运输车辆外廓视觉测量挑战赛公开数据-初赛/交通场景运输车辆赛题-测试集/测试集1/Imgs/31008A.jpg: 352x640 1 car, 1 truck, 6.3ms\n",
      "Speed: 1.8ms preprocess, 6.3ms inference, 1.0ms postprocess per image at shape (1, 3, 640, 640)\n",
      "\n"
     ]
    },
    {
     "name": "stdout",
     "output_type": "stream",
     "text": [
      "['truck', 'truck']\n",
      "['truck', 'car']\n"
     ]
    },
    {
     "name": "stderr",
     "output_type": "stream",
     "text": [
      "image 1/1 /home/lyz/work/kaggle/科大讯飞2023/交通场景运输车辆外廓视觉测量挑战赛/交通场景运输车辆外廓视觉测量挑战赛公开数据-初赛/交通场景运输车辆赛题-测试集/测试集1/Imgs/31009A.jpg: 352x640 1 truck, 6.4ms\n",
      "Speed: 1.7ms preprocess, 6.4ms inference, 0.9ms postprocess per image at shape (1, 3, 640, 640)\n",
      "\n",
      "image 1/1 /home/lyz/work/kaggle/科大讯飞2023/交通场景运输车辆外廓视觉测量挑战赛/交通场景运输车辆外廓视觉测量挑战赛公开数据-初赛/交通场景运输车辆赛题-测试集/测试集1/Imgs/31010A.jpg: 352x640 1 truck, 6.3ms\n",
      "Speed: 1.7ms preprocess, 6.3ms inference, 0.9ms postprocess per image at shape (1, 3, 640, 640)\n",
      "\n"
     ]
    },
    {
     "name": "stdout",
     "output_type": "stream",
     "text": [
      "['truck']\n",
      "['truck']\n"
     ]
    },
    {
     "name": "stderr",
     "output_type": "stream",
     "text": [
      "image 1/1 /home/lyz/work/kaggle/科大讯飞2023/交通场景运输车辆外廓视觉测量挑战赛/交通场景运输车辆外廓视觉测量挑战赛公开数据-初赛/交通场景运输车辆赛题-测试集/测试集1/Imgs/31011A.jpg: 352x640 1 truck, 6.3ms\n",
      "Speed: 1.7ms preprocess, 6.3ms inference, 0.9ms postprocess per image at shape (1, 3, 640, 640)\n",
      "\n",
      "image 1/1 /home/lyz/work/kaggle/科大讯飞2023/交通场景运输车辆外廓视觉测量挑战赛/交通场景运输车辆外廓视觉测量挑战赛公开数据-初赛/交通场景运输车辆赛题-测试集/测试集1/Imgs/31012A.jpg: 352x640 1 car, 1 truck, 6.3ms\n",
      "Speed: 1.7ms preprocess, 6.3ms inference, 1.1ms postprocess per image at shape (1, 3, 640, 640)\n",
      "\n"
     ]
    },
    {
     "name": "stdout",
     "output_type": "stream",
     "text": [
      "['truck']\n",
      "['truck', 'car']\n"
     ]
    },
    {
     "name": "stderr",
     "output_type": "stream",
     "text": [
      "image 1/1 /home/lyz/work/kaggle/科大讯飞2023/交通场景运输车辆外廓视觉测量挑战赛/交通场景运输车辆外廓视觉测量挑战赛公开数据-初赛/交通场景运输车辆赛题-测试集/测试集1/Imgs/31013A.jpg: 352x640 1 truck, 6.3ms\n",
      "Speed: 1.8ms preprocess, 6.3ms inference, 1.0ms postprocess per image at shape (1, 3, 640, 640)\n",
      "\n",
      "image 1/1 /home/lyz/work/kaggle/科大讯飞2023/交通场景运输车辆外廓视觉测量挑战赛/交通场景运输车辆外廓视觉测量挑战赛公开数据-初赛/交通场景运输车辆赛题-测试集/测试集1/Imgs/31014A.jpg: 352x640 1 car, 2 trucks, 6.3ms\n",
      "Speed: 1.8ms preprocess, 6.3ms inference, 0.9ms postprocess per image at shape (1, 3, 640, 640)\n",
      "\n"
     ]
    },
    {
     "name": "stdout",
     "output_type": "stream",
     "text": [
      "['truck']\n",
      "['truck', 'car', 'truck']\n"
     ]
    },
    {
     "name": "stderr",
     "output_type": "stream",
     "text": [
      "image 1/1 /home/lyz/work/kaggle/科大讯飞2023/交通场景运输车辆外廓视觉测量挑战赛/交通场景运输车辆外廓视觉测量挑战赛公开数据-初赛/交通场景运输车辆赛题-测试集/测试集1/Imgs/31015A.jpg: 352x640 1 person, 1 car, 1 truck, 6.2ms\n",
      "Speed: 1.7ms preprocess, 6.2ms inference, 0.9ms postprocess per image at shape (1, 3, 640, 640)\n",
      "\n",
      "image 1/1 /home/lyz/work/kaggle/科大讯飞2023/交通场景运输车辆外廓视觉测量挑战赛/交通场景运输车辆外廓视觉测量挑战赛公开数据-初赛/交通场景运输车辆赛题-测试集/测试集1/Imgs/31016A.jpg: 352x640 1 person, 1 truck, 6.3ms\n",
      "Speed: 1.7ms preprocess, 6.3ms inference, 0.9ms postprocess per image at shape (1, 3, 640, 640)\n",
      "\n"
     ]
    },
    {
     "name": "stdout",
     "output_type": "stream",
     "text": [
      "['truck', 'car', 'person']\n",
      "['truck', 'person']\n"
     ]
    },
    {
     "name": "stderr",
     "output_type": "stream",
     "text": [
      "image 1/1 /home/lyz/work/kaggle/科大讯飞2023/交通场景运输车辆外廓视觉测量挑战赛/交通场景运输车辆外廓视觉测量挑战赛公开数据-初赛/交通场景运输车辆赛题-测试集/测试集1/Imgs/31017A.jpg: 352x640 1 truck, 6.3ms\n",
      "Speed: 1.7ms preprocess, 6.3ms inference, 0.9ms postprocess per image at shape (1, 3, 640, 640)\n",
      "\n",
      "image 1/1 /home/lyz/work/kaggle/科大讯飞2023/交通场景运输车辆外廓视觉测量挑战赛/交通场景运输车辆外廓视觉测量挑战赛公开数据-初赛/交通场景运输车辆赛题-测试集/测试集1/Imgs/31018A.jpg: 352x640 1 truck, 6.3ms\n",
      "Speed: 1.7ms preprocess, 6.3ms inference, 0.9ms postprocess per image at shape (1, 3, 640, 640)\n",
      "\n"
     ]
    },
    {
     "name": "stdout",
     "output_type": "stream",
     "text": [
      "['truck']\n",
      "['truck']\n"
     ]
    },
    {
     "name": "stderr",
     "output_type": "stream",
     "text": [
      "image 1/1 /home/lyz/work/kaggle/科大讯飞2023/交通场景运输车辆外廓视觉测量挑战赛/交通场景运输车辆外廓视觉测量挑战赛公开数据-初赛/交通场景运输车辆赛题-测试集/测试集1/Imgs/31019A.jpg: 352x640 1 car, 1 truck, 6.2ms\n",
      "Speed: 1.7ms preprocess, 6.2ms inference, 0.9ms postprocess per image at shape (1, 3, 640, 640)\n",
      "\n",
      "image 1/1 /home/lyz/work/kaggle/科大讯飞2023/交通场景运输车辆外廓视觉测量挑战赛/交通场景运输车辆外廓视觉测量挑战赛公开数据-初赛/交通场景运输车辆赛题-测试集/测试集1/Imgs/31020A.jpg: 352x640 1 car, 1 truck, 6.3ms\n",
      "Speed: 1.8ms preprocess, 6.3ms inference, 0.9ms postprocess per image at shape (1, 3, 640, 640)\n",
      "\n"
     ]
    },
    {
     "name": "stdout",
     "output_type": "stream",
     "text": [
      "['truck', 'car']\n",
      "['truck', 'car']\n"
     ]
    },
    {
     "name": "stderr",
     "output_type": "stream",
     "text": [
      "image 1/1 /home/lyz/work/kaggle/科大讯飞2023/交通场景运输车辆外廓视觉测量挑战赛/交通场景运输车辆外廓视觉测量挑战赛公开数据-初赛/交通场景运输车辆赛题-测试集/测试集1/Imgs/31021A.jpg: 352x640 1 car, 1 truck, 6.3ms\n",
      "Speed: 1.7ms preprocess, 6.3ms inference, 0.9ms postprocess per image at shape (1, 3, 640, 640)\n",
      "\n",
      "image 1/1 /home/lyz/work/kaggle/科大讯飞2023/交通场景运输车辆外廓视觉测量挑战赛/交通场景运输车辆外廓视觉测量挑战赛公开数据-初赛/交通场景运输车辆赛题-测试集/测试集1/Imgs/31022A.jpg: 352x640 2 cars, 1 truck, 6.2ms\n",
      "Speed: 1.7ms preprocess, 6.2ms inference, 0.9ms postprocess per image at shape (1, 3, 640, 640)\n",
      "\n"
     ]
    },
    {
     "name": "stdout",
     "output_type": "stream",
     "text": [
      "['truck', 'car']\n",
      "['truck', 'car', 'car']\n"
     ]
    },
    {
     "name": "stderr",
     "output_type": "stream",
     "text": [
      "image 1/1 /home/lyz/work/kaggle/科大讯飞2023/交通场景运输车辆外廓视觉测量挑战赛/交通场景运输车辆外廓视觉测量挑战赛公开数据-初赛/交通场景运输车辆赛题-测试集/测试集1/Imgs/31023A.jpg: 352x640 1 car, 1 truck, 6.3ms\n",
      "Speed: 1.7ms preprocess, 6.3ms inference, 0.9ms postprocess per image at shape (1, 3, 640, 640)\n",
      "\n",
      "image 1/1 /home/lyz/work/kaggle/科大讯飞2023/交通场景运输车辆外廓视觉测量挑战赛/交通场景运输车辆外廓视觉测量挑战赛公开数据-初赛/交通场景运输车辆赛题-测试集/测试集1/Imgs/31024A.jpg: 352x640 1 person, 1 car, 1 truck, 6.3ms\n",
      "Speed: 1.8ms preprocess, 6.3ms inference, 1.0ms postprocess per image at shape (1, 3, 640, 640)\n",
      "\n"
     ]
    },
    {
     "name": "stdout",
     "output_type": "stream",
     "text": [
      "['truck', 'car']\n",
      "['truck', 'car', 'person']\n"
     ]
    },
    {
     "name": "stderr",
     "output_type": "stream",
     "text": [
      "image 1/1 /home/lyz/work/kaggle/科大讯飞2023/交通场景运输车辆外廓视觉测量挑战赛/交通场景运输车辆外廓视觉测量挑战赛公开数据-初赛/交通场景运输车辆赛题-测试集/测试集1/Imgs/31025A.jpg: 352x640 1 truck, 6.3ms\n",
      "Speed: 1.7ms preprocess, 6.3ms inference, 0.9ms postprocess per image at shape (1, 3, 640, 640)\n",
      "\n",
      "image 1/1 /home/lyz/work/kaggle/科大讯飞2023/交通场景运输车辆外廓视觉测量挑战赛/交通场景运输车辆外廓视觉测量挑战赛公开数据-初赛/交通场景运输车辆赛题-测试集/测试集1/Imgs/31026A.jpg: 352x640 2 persons, 2 trucks, 6.3ms\n",
      "Speed: 1.8ms preprocess, 6.3ms inference, 1.0ms postprocess per image at shape (1, 3, 640, 640)\n",
      "\n"
     ]
    },
    {
     "name": "stdout",
     "output_type": "stream",
     "text": [
      "['truck']\n",
      "['truck', 'truck', 'person', 'person']\n"
     ]
    },
    {
     "name": "stderr",
     "output_type": "stream",
     "text": [
      "image 1/1 /home/lyz/work/kaggle/科大讯飞2023/交通场景运输车辆外廓视觉测量挑战赛/交通场景运输车辆外廓视觉测量挑战赛公开数据-初赛/交通场景运输车辆赛题-测试集/测试集1/Imgs/31027A.jpg: 352x640 1 truck, 6.3ms\n",
      "Speed: 1.8ms preprocess, 6.3ms inference, 0.9ms postprocess per image at shape (1, 3, 640, 640)\n",
      "\n",
      "image 1/1 /home/lyz/work/kaggle/科大讯飞2023/交通场景运输车辆外廓视觉测量挑战赛/交通场景运输车辆外廓视觉测量挑战赛公开数据-初赛/交通场景运输车辆赛题-测试集/测试集1/Imgs/31028A.jpg: 352x640 1 car, 1 bus, 6.3ms\n",
      "Speed: 1.7ms preprocess, 6.3ms inference, 0.9ms postprocess per image at shape (1, 3, 640, 640)\n",
      "\n"
     ]
    },
    {
     "name": "stdout",
     "output_type": "stream",
     "text": [
      "['truck']\n",
      "['car', 'bus']\n"
     ]
    },
    {
     "name": "stderr",
     "output_type": "stream",
     "text": [
      "image 1/1 /home/lyz/work/kaggle/科大讯飞2023/交通场景运输车辆外廓视觉测量挑战赛/交通场景运输车辆外廓视觉测量挑战赛公开数据-初赛/交通场景运输车辆赛题-测试集/测试集1/Imgs/31029A.jpg: 352x640 1 truck, 6.2ms\n",
      "Speed: 1.7ms preprocess, 6.2ms inference, 0.9ms postprocess per image at shape (1, 3, 640, 640)\n",
      "\n",
      "image 1/1 /home/lyz/work/kaggle/科大讯飞2023/交通场景运输车辆外廓视觉测量挑战赛/交通场景运输车辆外廓视觉测量挑战赛公开数据-初赛/交通场景运输车辆赛题-测试集/测试集1/Imgs/31030A.jpg: 352x640 3 trucks, 6.3ms\n",
      "Speed: 1.8ms preprocess, 6.3ms inference, 0.9ms postprocess per image at shape (1, 3, 640, 640)\n",
      "\n"
     ]
    },
    {
     "name": "stdout",
     "output_type": "stream",
     "text": [
      "['truck']\n",
      "['truck', 'truck', 'truck']\n"
     ]
    },
    {
     "name": "stderr",
     "output_type": "stream",
     "text": [
      "image 1/1 /home/lyz/work/kaggle/科大讯飞2023/交通场景运输车辆外廓视觉测量挑战赛/交通场景运输车辆外廓视觉测量挑战赛公开数据-初赛/交通场景运输车辆赛题-测试集/测试集1/Imgs/31031A.jpg: 352x640 2 cars, 1 truck, 6.3ms\n",
      "Speed: 1.7ms preprocess, 6.3ms inference, 0.9ms postprocess per image at shape (1, 3, 640, 640)\n",
      "\n",
      "image 1/1 /home/lyz/work/kaggle/科大讯飞2023/交通场景运输车辆外廓视觉测量挑战赛/交通场景运输车辆外廓视觉测量挑战赛公开数据-初赛/交通场景运输车辆赛题-测试集/测试集1/Imgs/31032A.jpg: 352x640 1 car, 1 truck, 6.2ms\n",
      "Speed: 1.7ms preprocess, 6.2ms inference, 0.9ms postprocess per image at shape (1, 3, 640, 640)\n",
      "\n"
     ]
    },
    {
     "name": "stdout",
     "output_type": "stream",
     "text": [
      "['truck', 'car', 'car']\n",
      "['truck', 'car']\n"
     ]
    },
    {
     "name": "stderr",
     "output_type": "stream",
     "text": [
      "image 1/1 /home/lyz/work/kaggle/科大讯飞2023/交通场景运输车辆外廓视觉测量挑战赛/交通场景运输车辆外廓视觉测量挑战赛公开数据-初赛/交通场景运输车辆赛题-测试集/测试集1/Imgs/31033A.jpg: 352x640 1 truck, 6.3ms\n",
      "Speed: 1.8ms preprocess, 6.3ms inference, 0.9ms postprocess per image at shape (1, 3, 640, 640)\n",
      "\n",
      "image 1/1 /home/lyz/work/kaggle/科大讯飞2023/交通场景运输车辆外廓视觉测量挑战赛/交通场景运输车辆外廓视觉测量挑战赛公开数据-初赛/交通场景运输车辆赛题-测试集/测试集1/Imgs/31034A.jpg: 352x640 1 truck, 6.2ms\n",
      "Speed: 1.7ms preprocess, 6.2ms inference, 0.9ms postprocess per image at shape (1, 3, 640, 640)\n",
      "\n"
     ]
    },
    {
     "name": "stdout",
     "output_type": "stream",
     "text": [
      "['truck']\n",
      "['truck']\n"
     ]
    },
    {
     "name": "stderr",
     "output_type": "stream",
     "text": [
      "image 1/1 /home/lyz/work/kaggle/科大讯飞2023/交通场景运输车辆外廓视觉测量挑战赛/交通场景运输车辆外廓视觉测量挑战赛公开数据-初赛/交通场景运输车辆赛题-测试集/测试集1/Imgs/31035A.jpg: 352x640 2 cars, 2 trucks, 6.2ms\n",
      "Speed: 1.7ms preprocess, 6.2ms inference, 0.9ms postprocess per image at shape (1, 3, 640, 640)\n",
      "\n",
      "image 1/1 /home/lyz/work/kaggle/科大讯飞2023/交通场景运输车辆外廓视觉测量挑战赛/交通场景运输车辆外廓视觉测量挑战赛公开数据-初赛/交通场景运输车辆赛题-测试集/测试集1/Imgs/31036A.jpg: 352x640 1 car, 1 truck, 6.3ms\n",
      "Speed: 1.7ms preprocess, 6.3ms inference, 0.9ms postprocess per image at shape (1, 3, 640, 640)\n",
      "\n"
     ]
    },
    {
     "name": "stdout",
     "output_type": "stream",
     "text": [
      "['truck', 'car', 'truck', 'car']\n",
      "['truck', 'car']\n"
     ]
    },
    {
     "name": "stderr",
     "output_type": "stream",
     "text": [
      "image 1/1 /home/lyz/work/kaggle/科大讯飞2023/交通场景运输车辆外廓视觉测量挑战赛/交通场景运输车辆外廓视觉测量挑战赛公开数据-初赛/交通场景运输车辆赛题-测试集/测试集1/Imgs/31037A.jpg: 352x640 1 truck, 6.3ms\n",
      "Speed: 1.8ms preprocess, 6.3ms inference, 0.9ms postprocess per image at shape (1, 3, 640, 640)\n",
      "\n",
      "image 1/1 /home/lyz/work/kaggle/科大讯飞2023/交通场景运输车辆外廓视觉测量挑战赛/交通场景运输车辆外廓视觉测量挑战赛公开数据-初赛/交通场景运输车辆赛题-测试集/测试集1/Imgs/31038A.jpg: 352x640 1 car, 1 truck, 6.2ms\n",
      "Speed: 1.7ms preprocess, 6.2ms inference, 0.9ms postprocess per image at shape (1, 3, 640, 640)\n",
      "\n"
     ]
    },
    {
     "name": "stdout",
     "output_type": "stream",
     "text": [
      "['truck']\n",
      "['truck', 'car']\n"
     ]
    },
    {
     "name": "stderr",
     "output_type": "stream",
     "text": [
      "image 1/1 /home/lyz/work/kaggle/科大讯飞2023/交通场景运输车辆外廓视觉测量挑战赛/交通场景运输车辆外廓视觉测量挑战赛公开数据-初赛/交通场景运输车辆赛题-测试集/测试集1/Imgs/31039A.jpg: 352x640 1 car, 1 truck, 6.3ms\n",
      "Speed: 1.7ms preprocess, 6.3ms inference, 1.0ms postprocess per image at shape (1, 3, 640, 640)\n",
      "\n",
      "image 1/1 /home/lyz/work/kaggle/科大讯飞2023/交通场景运输车辆外廓视觉测量挑战赛/交通场景运输车辆外廓视觉测量挑战赛公开数据-初赛/交通场景运输车辆赛题-测试集/测试集1/Imgs/31040A.jpg: 352x640 1 car, 1 bus, 6.3ms\n",
      "Speed: 1.8ms preprocess, 6.3ms inference, 1.0ms postprocess per image at shape (1, 3, 640, 640)\n",
      "\n"
     ]
    },
    {
     "name": "stdout",
     "output_type": "stream",
     "text": [
      "['truck', 'car']\n",
      "['car', 'bus']\n"
     ]
    },
    {
     "name": "stderr",
     "output_type": "stream",
     "text": [
      "image 1/1 /home/lyz/work/kaggle/科大讯飞2023/交通场景运输车辆外廓视觉测量挑战赛/交通场景运输车辆外廓视觉测量挑战赛公开数据-初赛/交通场景运输车辆赛题-测试集/测试集1/Imgs/31041A.jpg: 352x640 1 car, 1 truck, 6.2ms\n",
      "Speed: 1.7ms preprocess, 6.2ms inference, 0.9ms postprocess per image at shape (1, 3, 640, 640)\n",
      "\n",
      "image 1/1 /home/lyz/work/kaggle/科大讯飞2023/交通场景运输车辆外廓视觉测量挑战赛/交通场景运输车辆外廓视觉测量挑战赛公开数据-初赛/交通场景运输车辆赛题-测试集/测试集1/Imgs/31042A.jpg: 352x640 1 car, 1 truck, 6.2ms\n",
      "Speed: 1.7ms preprocess, 6.2ms inference, 0.9ms postprocess per image at shape (1, 3, 640, 640)\n",
      "\n"
     ]
    },
    {
     "name": "stdout",
     "output_type": "stream",
     "text": [
      "['truck', 'car']\n",
      "['truck', 'car']\n"
     ]
    },
    {
     "name": "stderr",
     "output_type": "stream",
     "text": [
      "image 1/1 /home/lyz/work/kaggle/科大讯飞2023/交通场景运输车辆外廓视觉测量挑战赛/交通场景运输车辆外廓视觉测量挑战赛公开数据-初赛/交通场景运输车辆赛题-测试集/测试集1/Imgs/31043A.jpg: 352x640 2 trucks, 6.3ms\n",
      "Speed: 1.7ms preprocess, 6.3ms inference, 0.9ms postprocess per image at shape (1, 3, 640, 640)\n",
      "\n",
      "image 1/1 /home/lyz/work/kaggle/科大讯飞2023/交通场景运输车辆外廓视觉测量挑战赛/交通场景运输车辆外廓视觉测量挑战赛公开数据-初赛/交通场景运输车辆赛题-测试集/测试集1/Imgs/31044A.jpg: 352x640 2 trucks, 6.2ms\n",
      "Speed: 1.7ms preprocess, 6.2ms inference, 0.9ms postprocess per image at shape (1, 3, 640, 640)\n",
      "\n"
     ]
    },
    {
     "name": "stdout",
     "output_type": "stream",
     "text": [
      "['truck', 'truck']\n",
      "['truck', 'truck']\n"
     ]
    },
    {
     "name": "stderr",
     "output_type": "stream",
     "text": [
      "image 1/1 /home/lyz/work/kaggle/科大讯飞2023/交通场景运输车辆外廓视觉测量挑战赛/交通场景运输车辆外廓视觉测量挑战赛公开数据-初赛/交通场景运输车辆赛题-测试集/测试集1/Imgs/31045A.jpg: 352x640 1 car, 2 trucks, 6.3ms\n",
      "Speed: 1.7ms preprocess, 6.3ms inference, 0.9ms postprocess per image at shape (1, 3, 640, 640)\n",
      "\n",
      "image 1/1 /home/lyz/work/kaggle/科大讯飞2023/交通场景运输车辆外廓视觉测量挑战赛/交通场景运输车辆外廓视觉测量挑战赛公开数据-初赛/交通场景运输车辆赛题-测试集/测试集1/Imgs/31046A.jpg: 352x640 1 car, 1 truck, 6.3ms\n",
      "Speed: 1.8ms preprocess, 6.3ms inference, 1.0ms postprocess per image at shape (1, 3, 640, 640)\n",
      "\n"
     ]
    },
    {
     "name": "stdout",
     "output_type": "stream",
     "text": [
      "['truck', 'truck', 'car']\n",
      "['truck', 'car']\n"
     ]
    },
    {
     "name": "stderr",
     "output_type": "stream",
     "text": [
      "image 1/1 /home/lyz/work/kaggle/科大讯飞2023/交通场景运输车辆外廓视觉测量挑战赛/交通场景运输车辆外廓视觉测量挑战赛公开数据-初赛/交通场景运输车辆赛题-测试集/测试集1/Imgs/31047A.jpg: 352x640 1 truck, 6.2ms\n",
      "Speed: 1.7ms preprocess, 6.2ms inference, 0.9ms postprocess per image at shape (1, 3, 640, 640)\n",
      "\n",
      "image 1/1 /home/lyz/work/kaggle/科大讯飞2023/交通场景运输车辆外廓视觉测量挑战赛/交通场景运输车辆外廓视觉测量挑战赛公开数据-初赛/交通场景运输车辆赛题-测试集/测试集1/Imgs/31048A.jpg: 352x640 1 truck, 6.2ms\n",
      "Speed: 1.7ms preprocess, 6.2ms inference, 0.9ms postprocess per image at shape (1, 3, 640, 640)\n",
      "\n"
     ]
    },
    {
     "name": "stdout",
     "output_type": "stream",
     "text": [
      "['truck']\n",
      "['truck']\n"
     ]
    },
    {
     "name": "stderr",
     "output_type": "stream",
     "text": [
      "image 1/1 /home/lyz/work/kaggle/科大讯飞2023/交通场景运输车辆外廓视觉测量挑战赛/交通场景运输车辆外廓视觉测量挑战赛公开数据-初赛/交通场景运输车辆赛题-测试集/测试集1/Imgs/31049A.jpg: 352x640 1 truck, 6.3ms\n",
      "Speed: 1.7ms preprocess, 6.3ms inference, 0.9ms postprocess per image at shape (1, 3, 640, 640)\n",
      "\n",
      "image 1/1 /home/lyz/work/kaggle/科大讯飞2023/交通场景运输车辆外廓视觉测量挑战赛/交通场景运输车辆外廓视觉测量挑战赛公开数据-初赛/交通场景运输车辆赛题-测试集/测试集1/Imgs/31050A.jpg: 352x640 2 cars, 1 truck, 6.3ms\n",
      "Speed: 1.7ms preprocess, 6.3ms inference, 1.0ms postprocess per image at shape (1, 3, 640, 640)\n",
      "\n"
     ]
    },
    {
     "name": "stdout",
     "output_type": "stream",
     "text": [
      "['truck']\n",
      "['truck', 'car', 'car']\n"
     ]
    },
    {
     "name": "stderr",
     "output_type": "stream",
     "text": [
      "image 1/1 /home/lyz/work/kaggle/科大讯飞2023/交通场景运输车辆外廓视觉测量挑战赛/交通场景运输车辆外廓视觉测量挑战赛公开数据-初赛/交通场景运输车辆赛题-测试集/测试集1/Imgs/31051A.jpg: 352x640 1 bus, 6.3ms\n",
      "Speed: 1.7ms preprocess, 6.3ms inference, 0.9ms postprocess per image at shape (1, 3, 640, 640)\n",
      "\n",
      "image 1/1 /home/lyz/work/kaggle/科大讯飞2023/交通场景运输车辆外廓视觉测量挑战赛/交通场景运输车辆外廓视觉测量挑战赛公开数据-初赛/交通场景运输车辆赛题-测试集/测试集1/Imgs/31052A.jpg: 352x640 1 truck, 6.3ms\n",
      "Speed: 1.7ms preprocess, 6.3ms inference, 0.9ms postprocess per image at shape (1, 3, 640, 640)\n",
      "\n"
     ]
    },
    {
     "name": "stdout",
     "output_type": "stream",
     "text": [
      "['bus']\n",
      "['truck']\n"
     ]
    },
    {
     "name": "stderr",
     "output_type": "stream",
     "text": [
      "image 1/1 /home/lyz/work/kaggle/科大讯飞2023/交通场景运输车辆外廓视觉测量挑战赛/交通场景运输车辆外廓视觉测量挑战赛公开数据-初赛/交通场景运输车辆赛题-测试集/测试集1/Imgs/31053A.jpg: 352x640 1 truck, 6.3ms\n",
      "Speed: 1.8ms preprocess, 6.3ms inference, 1.0ms postprocess per image at shape (1, 3, 640, 640)\n",
      "\n",
      "image 1/1 /home/lyz/work/kaggle/科大讯飞2023/交通场景运输车辆外廓视觉测量挑战赛/交通场景运输车辆外廓视觉测量挑战赛公开数据-初赛/交通场景运输车辆赛题-测试集/测试集1/Imgs/31054A.jpg: 352x640 3 cars, 1 truck, 6.2ms\n",
      "Speed: 1.7ms preprocess, 6.2ms inference, 1.0ms postprocess per image at shape (1, 3, 640, 640)\n",
      "\n"
     ]
    },
    {
     "name": "stdout",
     "output_type": "stream",
     "text": [
      "['truck']\n",
      "['truck', 'car', 'car', 'car']\n"
     ]
    },
    {
     "name": "stderr",
     "output_type": "stream",
     "text": [
      "image 1/1 /home/lyz/work/kaggle/科大讯飞2023/交通场景运输车辆外廓视觉测量挑战赛/交通场景运输车辆外廓视觉测量挑战赛公开数据-初赛/交通场景运输车辆赛题-测试集/测试集1/Imgs/31055A.jpg: 352x640 1 car, 1 truck, 6.3ms\n",
      "Speed: 1.7ms preprocess, 6.3ms inference, 1.0ms postprocess per image at shape (1, 3, 640, 640)\n",
      "\n",
      "image 1/1 /home/lyz/work/kaggle/科大讯飞2023/交通场景运输车辆外廓视觉测量挑战赛/交通场景运输车辆外廓视觉测量挑战赛公开数据-初赛/交通场景运输车辆赛题-测试集/测试集1/Imgs/31056A.jpg: 352x640 2 trucks, 6.3ms\n",
      "Speed: 1.7ms preprocess, 6.3ms inference, 1.0ms postprocess per image at shape (1, 3, 640, 640)\n",
      "\n"
     ]
    },
    {
     "name": "stdout",
     "output_type": "stream",
     "text": [
      "['truck', 'car']\n",
      "['truck', 'truck']\n"
     ]
    },
    {
     "name": "stderr",
     "output_type": "stream",
     "text": [
      "image 1/1 /home/lyz/work/kaggle/科大讯飞2023/交通场景运输车辆外廓视觉测量挑战赛/交通场景运输车辆外廓视觉测量挑战赛公开数据-初赛/交通场景运输车辆赛题-测试集/测试集1/Imgs/31057A.jpg: 352x640 1 car, 1 truck, 6.3ms\n",
      "Speed: 1.7ms preprocess, 6.3ms inference, 1.0ms postprocess per image at shape (1, 3, 640, 640)\n",
      "\n",
      "image 1/1 /home/lyz/work/kaggle/科大讯飞2023/交通场景运输车辆外廓视觉测量挑战赛/交通场景运输车辆外廓视觉测量挑战赛公开数据-初赛/交通场景运输车辆赛题-测试集/测试集1/Imgs/31058A.jpg: 352x640 1 truck, 6.3ms\n",
      "Speed: 1.7ms preprocess, 6.3ms inference, 0.9ms postprocess per image at shape (1, 3, 640, 640)\n",
      "\n"
     ]
    },
    {
     "name": "stdout",
     "output_type": "stream",
     "text": [
      "['truck', 'car']\n",
      "['truck']\n"
     ]
    },
    {
     "name": "stderr",
     "output_type": "stream",
     "text": [
      "image 1/1 /home/lyz/work/kaggle/科大讯飞2023/交通场景运输车辆外廓视觉测量挑战赛/交通场景运输车辆外廓视觉测量挑战赛公开数据-初赛/交通场景运输车辆赛题-测试集/测试集1/Imgs/31059A.jpg: 352x640 1 truck, 6.3ms\n",
      "Speed: 1.8ms preprocess, 6.3ms inference, 0.9ms postprocess per image at shape (1, 3, 640, 640)\n",
      "\n",
      "image 1/1 /home/lyz/work/kaggle/科大讯飞2023/交通场景运输车辆外廓视觉测量挑战赛/交通场景运输车辆外廓视觉测量挑战赛公开数据-初赛/交通场景运输车辆赛题-测试集/测试集1/Imgs/31060A.jpg: 352x640 2 trucks, 6.2ms\n",
      "Speed: 1.7ms preprocess, 6.2ms inference, 0.9ms postprocess per image at shape (1, 3, 640, 640)\n",
      "\n"
     ]
    },
    {
     "name": "stdout",
     "output_type": "stream",
     "text": [
      "['truck']\n",
      "['truck', 'truck']\n"
     ]
    },
    {
     "name": "stderr",
     "output_type": "stream",
     "text": [
      "image 1/1 /home/lyz/work/kaggle/科大讯飞2023/交通场景运输车辆外廓视觉测量挑战赛/交通场景运输车辆外廓视觉测量挑战赛公开数据-初赛/交通场景运输车辆赛题-测试集/测试集1/Imgs/31061A.jpg: 352x640 1 truck, 6.3ms\n",
      "Speed: 1.7ms preprocess, 6.3ms inference, 0.9ms postprocess per image at shape (1, 3, 640, 640)\n",
      "\n",
      "image 1/1 /home/lyz/work/kaggle/科大讯飞2023/交通场景运输车辆外廓视觉测量挑战赛/交通场景运输车辆外廓视觉测量挑战赛公开数据-初赛/交通场景运输车辆赛题-测试集/测试集1/Imgs/31062A.jpg: 352x640 1 car, 1 truck, 6.3ms\n",
      "Speed: 1.7ms preprocess, 6.3ms inference, 0.9ms postprocess per image at shape (1, 3, 640, 640)\n",
      "\n"
     ]
    },
    {
     "name": "stdout",
     "output_type": "stream",
     "text": [
      "['truck']\n",
      "['truck', 'car']\n"
     ]
    },
    {
     "name": "stderr",
     "output_type": "stream",
     "text": [
      "image 1/1 /home/lyz/work/kaggle/科大讯飞2023/交通场景运输车辆外廓视觉测量挑战赛/交通场景运输车辆外廓视觉测量挑战赛公开数据-初赛/交通场景运输车辆赛题-测试集/测试集1/Imgs/31063A.jpg: 352x640 1 truck, 6.3ms\n",
      "Speed: 1.7ms preprocess, 6.3ms inference, 0.9ms postprocess per image at shape (1, 3, 640, 640)\n",
      "\n",
      "image 1/1 /home/lyz/work/kaggle/科大讯飞2023/交通场景运输车辆外廓视觉测量挑战赛/交通场景运输车辆外廓视觉测量挑战赛公开数据-初赛/交通场景运输车辆赛题-测试集/测试集1/Imgs/31064A.jpg: 352x640 3 trucks, 6.3ms\n",
      "Speed: 1.7ms preprocess, 6.3ms inference, 0.9ms postprocess per image at shape (1, 3, 640, 640)\n",
      "\n"
     ]
    },
    {
     "name": "stdout",
     "output_type": "stream",
     "text": [
      "['truck']\n",
      "['truck', 'truck', 'truck']\n"
     ]
    },
    {
     "name": "stderr",
     "output_type": "stream",
     "text": [
      "image 1/1 /home/lyz/work/kaggle/科大讯飞2023/交通场景运输车辆外廓视觉测量挑战赛/交通场景运输车辆外廓视觉测量挑战赛公开数据-初赛/交通场景运输车辆赛题-测试集/测试集1/Imgs/31065A.jpg: 352x640 2 cars, 1 truck, 6.5ms\n",
      "Speed: 1.8ms preprocess, 6.5ms inference, 1.0ms postprocess per image at shape (1, 3, 640, 640)\n",
      "\n",
      "image 1/1 /home/lyz/work/kaggle/科大讯飞2023/交通场景运输车辆外廓视觉测量挑战赛/交通场景运输车辆外廓视觉测量挑战赛公开数据-初赛/交通场景运输车辆赛题-测试集/测试集1/Imgs/31066A.jpg: 352x640 2 cars, 1 truck, 6.3ms\n",
      "Speed: 1.7ms preprocess, 6.3ms inference, 0.9ms postprocess per image at shape (1, 3, 640, 640)\n",
      "\n"
     ]
    },
    {
     "name": "stdout",
     "output_type": "stream",
     "text": [
      "['truck', 'car', 'car']\n",
      "['truck', 'car', 'car']\n"
     ]
    },
    {
     "name": "stderr",
     "output_type": "stream",
     "text": [
      "image 1/1 /home/lyz/work/kaggle/科大讯飞2023/交通场景运输车辆外廓视觉测量挑战赛/交通场景运输车辆外廓视觉测量挑战赛公开数据-初赛/交通场景运输车辆赛题-测试集/测试集1/Imgs/31067A.jpg: 352x640 1 person, 1 truck, 6.3ms\n",
      "Speed: 1.7ms preprocess, 6.3ms inference, 0.9ms postprocess per image at shape (1, 3, 640, 640)\n",
      "\n",
      "image 1/1 /home/lyz/work/kaggle/科大讯飞2023/交通场景运输车辆外廓视觉测量挑战赛/交通场景运输车辆外廓视觉测量挑战赛公开数据-初赛/交通场景运输车辆赛题-测试集/测试集1/Imgs/31068A.jpg: 352x640 1 truck, 6.3ms\n",
      "Speed: 1.8ms preprocess, 6.3ms inference, 0.9ms postprocess per image at shape (1, 3, 640, 640)\n",
      "\n"
     ]
    },
    {
     "name": "stdout",
     "output_type": "stream",
     "text": [
      "['truck', 'person']\n",
      "['truck']\n"
     ]
    },
    {
     "name": "stderr",
     "output_type": "stream",
     "text": [
      "image 1/1 /home/lyz/work/kaggle/科大讯飞2023/交通场景运输车辆外廓视觉测量挑战赛/交通场景运输车辆外廓视觉测量挑战赛公开数据-初赛/交通场景运输车辆赛题-测试集/测试集1/Imgs/31069A.jpg: 352x640 1 person, 3 cars, 1 truck, 6.2ms\n",
      "Speed: 1.7ms preprocess, 6.2ms inference, 0.9ms postprocess per image at shape (1, 3, 640, 640)\n",
      "\n",
      "image 1/1 /home/lyz/work/kaggle/科大讯飞2023/交通场景运输车辆外廓视觉测量挑战赛/交通场景运输车辆外廓视觉测量挑战赛公开数据-初赛/交通场景运输车辆赛题-测试集/测试集1/Imgs/31070A.jpg: 352x640 1 person, 1 car, 2 trucks, 6.2ms\n",
      "Speed: 1.7ms preprocess, 6.2ms inference, 0.9ms postprocess per image at shape (1, 3, 640, 640)\n",
      "\n"
     ]
    },
    {
     "name": "stdout",
     "output_type": "stream",
     "text": [
      "['truck', 'car', 'car', 'car', 'person']\n",
      "['truck', 'car', 'truck', 'person']\n"
     ]
    },
    {
     "name": "stderr",
     "output_type": "stream",
     "text": [
      "image 1/1 /home/lyz/work/kaggle/科大讯飞2023/交通场景运输车辆外廓视觉测量挑战赛/交通场景运输车辆外廓视觉测量挑战赛公开数据-初赛/交通场景运输车辆赛题-测试集/测试集1/Imgs/31071A.jpg: 352x640 1 person, 1 motorcycle, 1 truck, 6.3ms\n",
      "Speed: 1.7ms preprocess, 6.3ms inference, 0.9ms postprocess per image at shape (1, 3, 640, 640)\n",
      "\n",
      "image 1/1 /home/lyz/work/kaggle/科大讯飞2023/交通场景运输车辆外廓视觉测量挑战赛/交通场景运输车辆外廓视觉测量挑战赛公开数据-初赛/交通场景运输车辆赛题-测试集/测试集1/Imgs/31072A.jpg: 352x640 1 truck, 6.4ms\n",
      "Speed: 1.7ms preprocess, 6.4ms inference, 0.9ms postprocess per image at shape (1, 3, 640, 640)\n",
      "\n"
     ]
    },
    {
     "name": "stdout",
     "output_type": "stream",
     "text": [
      "['truck', 'motorcycle', 'person']\n",
      "['truck']\n"
     ]
    },
    {
     "name": "stderr",
     "output_type": "stream",
     "text": [
      "image 1/1 /home/lyz/work/kaggle/科大讯飞2023/交通场景运输车辆外廓视觉测量挑战赛/交通场景运输车辆外廓视觉测量挑战赛公开数据-初赛/交通场景运输车辆赛题-测试集/测试集1/Imgs/31073A.jpg: 352x640 1 truck, 6.2ms\n",
      "Speed: 1.7ms preprocess, 6.2ms inference, 0.9ms postprocess per image at shape (1, 3, 640, 640)\n",
      "\n",
      "image 1/1 /home/lyz/work/kaggle/科大讯飞2023/交通场景运输车辆外廓视觉测量挑战赛/交通场景运输车辆外廓视觉测量挑战赛公开数据-初赛/交通场景运输车辆赛题-测试集/测试集1/Imgs/31074A.jpg: 352x640 2 cars, 1 truck, 6.2ms\n",
      "Speed: 1.7ms preprocess, 6.2ms inference, 0.9ms postprocess per image at shape (1, 3, 640, 640)\n",
      "\n"
     ]
    },
    {
     "name": "stdout",
     "output_type": "stream",
     "text": [
      "['truck']\n",
      "['car', 'truck', 'car']\n"
     ]
    },
    {
     "name": "stderr",
     "output_type": "stream",
     "text": [
      "image 1/1 /home/lyz/work/kaggle/科大讯飞2023/交通场景运输车辆外廓视觉测量挑战赛/交通场景运输车辆外廓视觉测量挑战赛公开数据-初赛/交通场景运输车辆赛题-测试集/测试集1/Imgs/31075A.jpg: 352x640 1 truck, 6.3ms\n",
      "Speed: 1.7ms preprocess, 6.3ms inference, 0.9ms postprocess per image at shape (1, 3, 640, 640)\n",
      "\n",
      "image 1/1 /home/lyz/work/kaggle/科大讯飞2023/交通场景运输车辆外廓视觉测量挑战赛/交通场景运输车辆外廓视觉测量挑战赛公开数据-初赛/交通场景运输车辆赛题-测试集/测试集1/Imgs/31076A.jpg: 352x640 1 truck, 6.2ms\n",
      "Speed: 1.7ms preprocess, 6.2ms inference, 0.9ms postprocess per image at shape (1, 3, 640, 640)\n",
      "\n"
     ]
    },
    {
     "name": "stdout",
     "output_type": "stream",
     "text": [
      "['truck']\n",
      "['truck']\n"
     ]
    },
    {
     "name": "stderr",
     "output_type": "stream",
     "text": [
      "image 1/1 /home/lyz/work/kaggle/科大讯飞2023/交通场景运输车辆外廓视觉测量挑战赛/交通场景运输车辆外廓视觉测量挑战赛公开数据-初赛/交通场景运输车辆赛题-测试集/测试集1/Imgs/31077A.jpg: 352x640 1 truck, 6.3ms\n",
      "Speed: 1.7ms preprocess, 6.3ms inference, 0.9ms postprocess per image at shape (1, 3, 640, 640)\n",
      "\n",
      "image 1/1 /home/lyz/work/kaggle/科大讯飞2023/交通场景运输车辆外廓视觉测量挑战赛/交通场景运输车辆外廓视觉测量挑战赛公开数据-初赛/交通场景运输车辆赛题-测试集/测试集1/Imgs/31078A.jpg: 352x640 1 car, 1 truck, 6.3ms\n",
      "Speed: 1.8ms preprocess, 6.3ms inference, 1.0ms postprocess per image at shape (1, 3, 640, 640)\n",
      "\n"
     ]
    },
    {
     "name": "stdout",
     "output_type": "stream",
     "text": [
      "['truck']\n",
      "['truck', 'car']\n"
     ]
    },
    {
     "name": "stderr",
     "output_type": "stream",
     "text": [
      "image 1/1 /home/lyz/work/kaggle/科大讯飞2023/交通场景运输车辆外廓视觉测量挑战赛/交通场景运输车辆外廓视觉测量挑战赛公开数据-初赛/交通场景运输车辆赛题-测试集/测试集1/Imgs/31079A.jpg: 352x640 1 truck, 6.3ms\n",
      "Speed: 1.7ms preprocess, 6.3ms inference, 0.9ms postprocess per image at shape (1, 3, 640, 640)\n",
      "\n",
      "image 1/1 /home/lyz/work/kaggle/科大讯飞2023/交通场景运输车辆外廓视觉测量挑战赛/交通场景运输车辆外廓视觉测量挑战赛公开数据-初赛/交通场景运输车辆赛题-测试集/测试集1/Imgs/31080A.jpg: 352x640 2 cars, 1 truck, 6.2ms\n",
      "Speed: 1.7ms preprocess, 6.2ms inference, 0.9ms postprocess per image at shape (1, 3, 640, 640)\n",
      "\n"
     ]
    },
    {
     "name": "stdout",
     "output_type": "stream",
     "text": [
      "['truck']\n",
      "['truck', 'car', 'car']\n"
     ]
    },
    {
     "name": "stderr",
     "output_type": "stream",
     "text": [
      "image 1/1 /home/lyz/work/kaggle/科大讯飞2023/交通场景运输车辆外廓视觉测量挑战赛/交通场景运输车辆外廓视觉测量挑战赛公开数据-初赛/交通场景运输车辆赛题-测试集/测试集1/Imgs/31081A.jpg: 352x640 2 persons, 4 cars, 1 bus, 3 trucks, 6.3ms\n",
      "Speed: 1.7ms preprocess, 6.3ms inference, 0.9ms postprocess per image at shape (1, 3, 640, 640)\n",
      "\n",
      "image 1/1 /home/lyz/work/kaggle/科大讯飞2023/交通场景运输车辆外廓视觉测量挑战赛/交通场景运输车辆外廓视觉测量挑战赛公开数据-初赛/交通场景运输车辆赛题-测试集/测试集1/Imgs/31082A.jpg: 352x640 2 cars, 2 trucks, 6.2ms\n",
      "Speed: 1.7ms preprocess, 6.2ms inference, 0.9ms postprocess per image at shape (1, 3, 640, 640)\n",
      "\n"
     ]
    },
    {
     "name": "stdout",
     "output_type": "stream",
     "text": [
      "['truck', 'car', 'car', 'person', 'truck', 'person', 'bus', 'truck', 'car', 'car']\n",
      "['truck', 'car', 'truck', 'car']\n"
     ]
    },
    {
     "name": "stderr",
     "output_type": "stream",
     "text": [
      "image 1/1 /home/lyz/work/kaggle/科大讯飞2023/交通场景运输车辆外廓视觉测量挑战赛/交通场景运输车辆外廓视觉测量挑战赛公开数据-初赛/交通场景运输车辆赛题-测试集/测试集1/Imgs/31083A.jpg: 352x640 1 truck, 6.3ms\n",
      "Speed: 1.7ms preprocess, 6.3ms inference, 0.9ms postprocess per image at shape (1, 3, 640, 640)\n",
      "\n",
      "image 1/1 /home/lyz/work/kaggle/科大讯飞2023/交通场景运输车辆外廓视觉测量挑战赛/交通场景运输车辆外廓视觉测量挑战赛公开数据-初赛/交通场景运输车辆赛题-测试集/测试集1/Imgs/31084A.jpg: 352x640 2 cars, 2 trucks, 6.3ms\n",
      "Speed: 1.7ms preprocess, 6.3ms inference, 1.0ms postprocess per image at shape (1, 3, 640, 640)\n",
      "\n"
     ]
    },
    {
     "name": "stdout",
     "output_type": "stream",
     "text": [
      "['truck']\n",
      "['truck', 'car', 'truck', 'car']\n"
     ]
    },
    {
     "name": "stderr",
     "output_type": "stream",
     "text": [
      "image 1/1 /home/lyz/work/kaggle/科大讯飞2023/交通场景运输车辆外廓视觉测量挑战赛/交通场景运输车辆外廓视觉测量挑战赛公开数据-初赛/交通场景运输车辆赛题-测试集/测试集1/Imgs/31085A.jpg: 352x640 1 person, 2 cars, 1 truck, 6.3ms\n",
      "Speed: 1.7ms preprocess, 6.3ms inference, 1.0ms postprocess per image at shape (1, 3, 640, 640)\n",
      "\n",
      "image 1/1 /home/lyz/work/kaggle/科大讯飞2023/交通场景运输车辆外廓视觉测量挑战赛/交通场景运输车辆外廓视觉测量挑战赛公开数据-初赛/交通场景运输车辆赛题-测试集/测试集1/Imgs/31086A.jpg: 352x640 1 truck, 6.2ms\n",
      "Speed: 1.7ms preprocess, 6.2ms inference, 0.9ms postprocess per image at shape (1, 3, 640, 640)\n",
      "\n"
     ]
    },
    {
     "name": "stdout",
     "output_type": "stream",
     "text": [
      "['truck', 'car', 'car', 'person']\n",
      "['truck']\n"
     ]
    },
    {
     "name": "stderr",
     "output_type": "stream",
     "text": [
      "image 1/1 /home/lyz/work/kaggle/科大讯飞2023/交通场景运输车辆外廓视觉测量挑战赛/交通场景运输车辆外廓视觉测量挑战赛公开数据-初赛/交通场景运输车辆赛题-测试集/测试集1/Imgs/31087A.jpg: 352x640 1 truck, 6.3ms\n",
      "Speed: 1.7ms preprocess, 6.3ms inference, 0.9ms postprocess per image at shape (1, 3, 640, 640)\n",
      "\n",
      "image 1/1 /home/lyz/work/kaggle/科大讯飞2023/交通场景运输车辆外廓视觉测量挑战赛/交通场景运输车辆外廓视觉测量挑战赛公开数据-初赛/交通场景运输车辆赛题-测试集/测试集1/Imgs/31088A.jpg: 352x640 1 person, 1 car, 1 truck, 6.3ms\n",
      "Speed: 1.7ms preprocess, 6.3ms inference, 0.9ms postprocess per image at shape (1, 3, 640, 640)\n",
      "\n"
     ]
    },
    {
     "name": "stdout",
     "output_type": "stream",
     "text": [
      "['truck']\n",
      "['truck', 'car', 'person']\n"
     ]
    },
    {
     "name": "stderr",
     "output_type": "stream",
     "text": [
      "image 1/1 /home/lyz/work/kaggle/科大讯飞2023/交通场景运输车辆外廓视觉测量挑战赛/交通场景运输车辆外廓视觉测量挑战赛公开数据-初赛/交通场景运输车辆赛题-测试集/测试集1/Imgs/31089A.jpg: 352x640 1 truck, 6.3ms\n",
      "Speed: 1.7ms preprocess, 6.3ms inference, 0.9ms postprocess per image at shape (1, 3, 640, 640)\n",
      "\n",
      "image 1/1 /home/lyz/work/kaggle/科大讯飞2023/交通场景运输车辆外廓视觉测量挑战赛/交通场景运输车辆外廓视觉测量挑战赛公开数据-初赛/交通场景运输车辆赛题-测试集/测试集1/Imgs/31090A.jpg: 352x640 2 cars, 1 truck, 6.3ms\n",
      "Speed: 1.7ms preprocess, 6.3ms inference, 0.9ms postprocess per image at shape (1, 3, 640, 640)\n",
      "\n"
     ]
    },
    {
     "name": "stdout",
     "output_type": "stream",
     "text": [
      "['truck']\n",
      "['truck', 'car', 'car']\n"
     ]
    },
    {
     "name": "stderr",
     "output_type": "stream",
     "text": [
      "image 1/1 /home/lyz/work/kaggle/科大讯飞2023/交通场景运输车辆外廓视觉测量挑战赛/交通场景运输车辆外廓视觉测量挑战赛公开数据-初赛/交通场景运输车辆赛题-测试集/测试集1/Imgs/31091A.jpg: 352x640 1 car, 1 truck, 6.3ms\n",
      "Speed: 1.8ms preprocess, 6.3ms inference, 1.0ms postprocess per image at shape (1, 3, 640, 640)\n",
      "\n",
      "image 1/1 /home/lyz/work/kaggle/科大讯飞2023/交通场景运输车辆外廓视觉测量挑战赛/交通场景运输车辆外廓视觉测量挑战赛公开数据-初赛/交通场景运输车辆赛题-测试集/测试集1/Imgs/31092A.jpg: 352x640 1 truck, 6.3ms\n",
      "Speed: 1.7ms preprocess, 6.3ms inference, 0.9ms postprocess per image at shape (1, 3, 640, 640)\n",
      "\n"
     ]
    },
    {
     "name": "stdout",
     "output_type": "stream",
     "text": [
      "['truck', 'car']\n",
      "['truck']\n"
     ]
    },
    {
     "name": "stderr",
     "output_type": "stream",
     "text": [
      "image 1/1 /home/lyz/work/kaggle/科大讯飞2023/交通场景运输车辆外廓视觉测量挑战赛/交通场景运输车辆外廓视觉测量挑战赛公开数据-初赛/交通场景运输车辆赛题-测试集/测试集1/Imgs/31093A.jpg: 352x640 1 bus, 1 truck, 6.3ms\n",
      "Speed: 1.7ms preprocess, 6.3ms inference, 0.9ms postprocess per image at shape (1, 3, 640, 640)\n",
      "\n",
      "image 1/1 /home/lyz/work/kaggle/科大讯飞2023/交通场景运输车辆外廓视觉测量挑战赛/交通场景运输车辆外廓视觉测量挑战赛公开数据-初赛/交通场景运输车辆赛题-测试集/测试集1/Imgs/31094A.jpg: 352x640 1 truck, 6.3ms\n",
      "Speed: 1.7ms preprocess, 6.3ms inference, 0.9ms postprocess per image at shape (1, 3, 640, 640)\n",
      "\n"
     ]
    },
    {
     "name": "stdout",
     "output_type": "stream",
     "text": [
      "['truck', 'bus']\n",
      "['truck']\n"
     ]
    },
    {
     "name": "stderr",
     "output_type": "stream",
     "text": [
      "image 1/1 /home/lyz/work/kaggle/科大讯飞2023/交通场景运输车辆外廓视觉测量挑战赛/交通场景运输车辆外廓视觉测量挑战赛公开数据-初赛/交通场景运输车辆赛题-测试集/测试集1/Imgs/31095A.jpg: 352x640 2 persons, 4 motorcycles, 1 truck, 6.3ms\n",
      "Speed: 1.7ms preprocess, 6.3ms inference, 0.9ms postprocess per image at shape (1, 3, 640, 640)\n",
      "\n",
      "image 1/1 /home/lyz/work/kaggle/科大讯飞2023/交通场景运输车辆外廓视觉测量挑战赛/交通场景运输车辆外廓视觉测量挑战赛公开数据-初赛/交通场景运输车辆赛题-测试集/测试集1/Imgs/31096A.jpg: 352x640 2 cars, 1 bus, 6.3ms\n",
      "Speed: 1.7ms preprocess, 6.3ms inference, 0.9ms postprocess per image at shape (1, 3, 640, 640)\n",
      "\n"
     ]
    },
    {
     "name": "stdout",
     "output_type": "stream",
     "text": [
      "['truck', 'motorcycle', 'motorcycle', 'motorcycle', 'person', 'motorcycle', 'person']\n",
      "['car', 'bus', 'car']\n"
     ]
    },
    {
     "name": "stderr",
     "output_type": "stream",
     "text": [
      "image 1/1 /home/lyz/work/kaggle/科大讯飞2023/交通场景运输车辆外廓视觉测量挑战赛/交通场景运输车辆外廓视觉测量挑战赛公开数据-初赛/交通场景运输车辆赛题-测试集/测试集1/Imgs/31097A.jpg: 352x640 1 car, 2 trucks, 6.3ms\n",
      "Speed: 1.7ms preprocess, 6.3ms inference, 0.9ms postprocess per image at shape (1, 3, 640, 640)\n",
      "\n",
      "image 1/1 /home/lyz/work/kaggle/科大讯飞2023/交通场景运输车辆外廓视觉测量挑战赛/交通场景运输车辆外廓视觉测量挑战赛公开数据-初赛/交通场景运输车辆赛题-测试集/测试集1/Imgs/31098A.jpg: 352x640 1 truck, 6.3ms\n",
      "Speed: 1.7ms preprocess, 6.3ms inference, 0.9ms postprocess per image at shape (1, 3, 640, 640)\n",
      "\n"
     ]
    },
    {
     "name": "stdout",
     "output_type": "stream",
     "text": [
      "['truck', 'truck', 'car']\n",
      "['truck']\n"
     ]
    },
    {
     "name": "stderr",
     "output_type": "stream",
     "text": [
      "image 1/1 /home/lyz/work/kaggle/科大讯飞2023/交通场景运输车辆外廓视觉测量挑战赛/交通场景运输车辆外廓视觉测量挑战赛公开数据-初赛/交通场景运输车辆赛题-测试集/测试集1/Imgs/31099A.jpg: 352x640 2 cars, 1 truck, 6.2ms\n",
      "Speed: 1.7ms preprocess, 6.2ms inference, 0.9ms postprocess per image at shape (1, 3, 640, 640)\n",
      "\n",
      "image 1/1 /home/lyz/work/kaggle/科大讯飞2023/交通场景运输车辆外廓视觉测量挑战赛/交通场景运输车辆外廓视觉测量挑战赛公开数据-初赛/交通场景运输车辆赛题-测试集/测试集1/Imgs/31100A.jpg: 352x640 1 car, 1 truck, 6.3ms\n",
      "Speed: 1.7ms preprocess, 6.3ms inference, 0.9ms postprocess per image at shape (1, 3, 640, 640)\n",
      "\n"
     ]
    },
    {
     "name": "stdout",
     "output_type": "stream",
     "text": [
      "['truck', 'car', 'car']\n",
      "['truck', 'car']\n"
     ]
    },
    {
     "name": "stderr",
     "output_type": "stream",
     "text": [
      "image 1/1 /home/lyz/work/kaggle/科大讯飞2023/交通场景运输车辆外廓视觉测量挑战赛/交通场景运输车辆外廓视觉测量挑战赛公开数据-初赛/交通场景运输车辆赛题-测试集/测试集2/Imgs/32001A.jpg: 352x640 1 car, 2 trucks, 6.3ms\n",
      "Speed: 1.7ms preprocess, 6.3ms inference, 0.9ms postprocess per image at shape (1, 3, 640, 640)\n",
      "\n",
      "image 1/1 /home/lyz/work/kaggle/科大讯飞2023/交通场景运输车辆外廓视觉测量挑战赛/交通场景运输车辆外廓视觉测量挑战赛公开数据-初赛/交通场景运输车辆赛题-测试集/测试集2/Imgs/32001B.jpg: 352x640 3 trucks, 6.2ms\n",
      "Speed: 1.7ms preprocess, 6.2ms inference, 0.9ms postprocess per image at shape (1, 3, 640, 640)\n",
      "\n"
     ]
    },
    {
     "name": "stdout",
     "output_type": "stream",
     "text": [
      "['truck', 'truck', 'car']\n",
      "['truck', 'truck', 'truck']\n"
     ]
    },
    {
     "name": "stderr",
     "output_type": "stream",
     "text": [
      "image 1/1 /home/lyz/work/kaggle/科大讯飞2023/交通场景运输车辆外廓视觉测量挑战赛/交通场景运输车辆外廓视觉测量挑战赛公开数据-初赛/交通场景运输车辆赛题-测试集/测试集2/Imgs/32002A.jpg: 352x640 1 truck, 6.3ms\n",
      "Speed: 1.7ms preprocess, 6.3ms inference, 0.9ms postprocess per image at shape (1, 3, 640, 640)\n",
      "\n",
      "image 1/1 /home/lyz/work/kaggle/科大讯飞2023/交通场景运输车辆外廓视觉测量挑战赛/交通场景运输车辆外廓视觉测量挑战赛公开数据-初赛/交通场景运输车辆赛题-测试集/测试集2/Imgs/32002B.jpg: 352x640 1 car, 1 truck, 6.4ms\n",
      "Speed: 1.8ms preprocess, 6.4ms inference, 0.9ms postprocess per image at shape (1, 3, 640, 640)\n",
      "\n"
     ]
    },
    {
     "name": "stdout",
     "output_type": "stream",
     "text": [
      "['truck']\n",
      "['truck', 'car']\n"
     ]
    },
    {
     "name": "stderr",
     "output_type": "stream",
     "text": [
      "image 1/1 /home/lyz/work/kaggle/科大讯飞2023/交通场景运输车辆外廓视觉测量挑战赛/交通场景运输车辆外廓视觉测量挑战赛公开数据-初赛/交通场景运输车辆赛题-测试集/测试集2/Imgs/32003A.jpg: 352x640 1 person, 1 car, 1 truck, 6.3ms\n",
      "Speed: 1.7ms preprocess, 6.3ms inference, 0.9ms postprocess per image at shape (1, 3, 640, 640)\n",
      "\n",
      "image 1/1 /home/lyz/work/kaggle/科大讯飞2023/交通场景运输车辆外廓视觉测量挑战赛/交通场景运输车辆外廓视觉测量挑战赛公开数据-初赛/交通场景运输车辆赛题-测试集/测试集2/Imgs/32003B.jpg: 352x640 1 person, 1 car, 1 truck, 6.3ms\n",
      "Speed: 1.8ms preprocess, 6.3ms inference, 0.9ms postprocess per image at shape (1, 3, 640, 640)\n",
      "\n"
     ]
    },
    {
     "name": "stdout",
     "output_type": "stream",
     "text": [
      "['truck', 'car', 'person']\n",
      "['truck', 'car', 'person']\n"
     ]
    },
    {
     "name": "stderr",
     "output_type": "stream",
     "text": [
      "image 1/1 /home/lyz/work/kaggle/科大讯飞2023/交通场景运输车辆外廓视觉测量挑战赛/交通场景运输车辆外廓视觉测量挑战赛公开数据-初赛/交通场景运输车辆赛题-测试集/测试集2/Imgs/32004A.jpg: 352x640 2 persons, 1 truck, 6.2ms\n",
      "Speed: 1.7ms preprocess, 6.2ms inference, 0.9ms postprocess per image at shape (1, 3, 640, 640)\n",
      "\n",
      "image 1/1 /home/lyz/work/kaggle/科大讯飞2023/交通场景运输车辆外廓视觉测量挑战赛/交通场景运输车辆外廓视觉测量挑战赛公开数据-初赛/交通场景运输车辆赛题-测试集/测试集2/Imgs/32004B.jpg: 352x640 1 truck, 6.4ms\n",
      "Speed: 1.7ms preprocess, 6.4ms inference, 0.9ms postprocess per image at shape (1, 3, 640, 640)\n",
      "\n"
     ]
    },
    {
     "name": "stdout",
     "output_type": "stream",
     "text": [
      "['truck', 'person', 'person']\n",
      "['truck']\n"
     ]
    },
    {
     "name": "stderr",
     "output_type": "stream",
     "text": [
      "image 1/1 /home/lyz/work/kaggle/科大讯飞2023/交通场景运输车辆外廓视觉测量挑战赛/交通场景运输车辆外廓视觉测量挑战赛公开数据-初赛/交通场景运输车辆赛题-测试集/测试集2/Imgs/32005A.jpg: 352x640 1 person, 1 truck, 6.3ms\n",
      "Speed: 1.7ms preprocess, 6.3ms inference, 1.0ms postprocess per image at shape (1, 3, 640, 640)\n",
      "\n",
      "image 1/1 /home/lyz/work/kaggle/科大讯飞2023/交通场景运输车辆外廓视觉测量挑战赛/交通场景运输车辆外廓视觉测量挑战赛公开数据-初赛/交通场景运输车辆赛题-测试集/测试集2/Imgs/32005B.jpg: 352x640 1 truck, 6.3ms\n",
      "Speed: 1.8ms preprocess, 6.3ms inference, 1.1ms postprocess per image at shape (1, 3, 640, 640)\n",
      "\n"
     ]
    },
    {
     "name": "stdout",
     "output_type": "stream",
     "text": [
      "['truck', 'person']\n",
      "['truck']\n"
     ]
    },
    {
     "name": "stderr",
     "output_type": "stream",
     "text": [
      "image 1/1 /home/lyz/work/kaggle/科大讯飞2023/交通场景运输车辆外廓视觉测量挑战赛/交通场景运输车辆外廓视觉测量挑战赛公开数据-初赛/交通场景运输车辆赛题-测试集/测试集2/Imgs/32006A.jpg: 352x640 2 cars, 1 truck, 6.4ms\n",
      "Speed: 1.7ms preprocess, 6.4ms inference, 0.9ms postprocess per image at shape (1, 3, 640, 640)\n",
      "\n",
      "image 1/1 /home/lyz/work/kaggle/科大讯飞2023/交通场景运输车辆外廓视觉测量挑战赛/交通场景运输车辆外廓视觉测量挑战赛公开数据-初赛/交通场景运输车辆赛题-测试集/测试集2/Imgs/32006B.jpg: 352x640 2 cars, 1 truck, 6.5ms\n",
      "Speed: 1.8ms preprocess, 6.5ms inference, 0.9ms postprocess per image at shape (1, 3, 640, 640)\n",
      "\n"
     ]
    },
    {
     "name": "stdout",
     "output_type": "stream",
     "text": [
      "['truck', 'car', 'car']\n",
      "['truck', 'car', 'car']\n"
     ]
    },
    {
     "name": "stderr",
     "output_type": "stream",
     "text": [
      "image 1/1 /home/lyz/work/kaggle/科大讯飞2023/交通场景运输车辆外廓视觉测量挑战赛/交通场景运输车辆外廓视觉测量挑战赛公开数据-初赛/交通场景运输车辆赛题-测试集/测试集2/Imgs/32007A.jpg: 352x640 4 cars, 1 truck, 6.2ms\n",
      "Speed: 1.7ms preprocess, 6.2ms inference, 1.1ms postprocess per image at shape (1, 3, 640, 640)\n",
      "\n",
      "image 1/1 /home/lyz/work/kaggle/科大讯飞2023/交通场景运输车辆外廓视觉测量挑战赛/交通场景运输车辆外廓视觉测量挑战赛公开数据-初赛/交通场景运输车辆赛题-测试集/测试集2/Imgs/32007B.jpg: 352x640 4 cars, 3 trucks, 6.2ms\n",
      "Speed: 1.7ms preprocess, 6.2ms inference, 1.2ms postprocess per image at shape (1, 3, 640, 640)\n",
      "\n"
     ]
    },
    {
     "name": "stdout",
     "output_type": "stream",
     "text": [
      "['truck', 'car', 'car', 'car', 'car']\n",
      "['truck', 'car', 'car', 'car', 'truck', 'car', 'truck']\n"
     ]
    },
    {
     "name": "stderr",
     "output_type": "stream",
     "text": [
      "image 1/1 /home/lyz/work/kaggle/科大讯飞2023/交通场景运输车辆外廓视觉测量挑战赛/交通场景运输车辆外廓视觉测量挑战赛公开数据-初赛/交通场景运输车辆赛题-测试集/测试集2/Imgs/32008A.jpg: 352x640 2 persons, 2 trucks, 6.2ms\n",
      "Speed: 1.7ms preprocess, 6.2ms inference, 0.9ms postprocess per image at shape (1, 3, 640, 640)\n",
      "\n",
      "image 1/1 /home/lyz/work/kaggle/科大讯飞2023/交通场景运输车辆外廓视觉测量挑战赛/交通场景运输车辆外廓视觉测量挑战赛公开数据-初赛/交通场景运输车辆赛题-测试集/测试集2/Imgs/32008B.jpg: 352x640 1 truck, 6.3ms\n",
      "Speed: 1.7ms preprocess, 6.3ms inference, 1.0ms postprocess per image at shape (1, 3, 640, 640)\n",
      "\n"
     ]
    },
    {
     "name": "stdout",
     "output_type": "stream",
     "text": [
      "['truck', 'truck', 'person', 'person']\n",
      "['truck']\n"
     ]
    },
    {
     "name": "stderr",
     "output_type": "stream",
     "text": [
      "image 1/1 /home/lyz/work/kaggle/科大讯飞2023/交通场景运输车辆外廓视觉测量挑战赛/交通场景运输车辆外廓视觉测量挑战赛公开数据-初赛/交通场景运输车辆赛题-测试集/测试集2/Imgs/32009A.jpg: 352x640 1 bus, 2 trucks, 6.4ms\n",
      "Speed: 1.7ms preprocess, 6.4ms inference, 0.9ms postprocess per image at shape (1, 3, 640, 640)\n",
      "\n",
      "image 1/1 /home/lyz/work/kaggle/科大讯飞2023/交通场景运输车辆外廓视觉测量挑战赛/交通场景运输车辆外廓视觉测量挑战赛公开数据-初赛/交通场景运输车辆赛题-测试集/测试集2/Imgs/32009B.jpg: 352x640 1 truck, 6.3ms\n",
      "Speed: 1.7ms preprocess, 6.3ms inference, 0.9ms postprocess per image at shape (1, 3, 640, 640)\n",
      "\n"
     ]
    },
    {
     "name": "stdout",
     "output_type": "stream",
     "text": [
      "['truck', 'truck', 'bus']\n",
      "['truck']\n"
     ]
    },
    {
     "name": "stderr",
     "output_type": "stream",
     "text": [
      "image 1/1 /home/lyz/work/kaggle/科大讯飞2023/交通场景运输车辆外廓视觉测量挑战赛/交通场景运输车辆外廓视觉测量挑战赛公开数据-初赛/交通场景运输车辆赛题-测试集/测试集2/Imgs/32010A.jpg: 352x640 1 person, 2 trucks, 6.3ms\n",
      "Speed: 1.8ms preprocess, 6.3ms inference, 1.1ms postprocess per image at shape (1, 3, 640, 640)\n",
      "\n",
      "image 1/1 /home/lyz/work/kaggle/科大讯飞2023/交通场景运输车辆外廓视觉测量挑战赛/交通场景运输车辆外廓视觉测量挑战赛公开数据-初赛/交通场景运输车辆赛题-测试集/测试集2/Imgs/32010B.jpg: 352x640 1 person, 1 truck, 6.3ms\n",
      "Speed: 1.7ms preprocess, 6.3ms inference, 0.9ms postprocess per image at shape (1, 3, 640, 640)\n",
      "\n"
     ]
    },
    {
     "name": "stdout",
     "output_type": "stream",
     "text": [
      "['truck', 'truck', 'person']\n",
      "['truck', 'person']\n"
     ]
    },
    {
     "name": "stderr",
     "output_type": "stream",
     "text": [
      "image 1/1 /home/lyz/work/kaggle/科大讯飞2023/交通场景运输车辆外廓视觉测量挑战赛/交通场景运输车辆外廓视觉测量挑战赛公开数据-初赛/交通场景运输车辆赛题-测试集/测试集2/Imgs/32011A.jpg: 352x640 2 trucks, 6.6ms\n",
      "Speed: 1.7ms preprocess, 6.6ms inference, 0.9ms postprocess per image at shape (1, 3, 640, 640)\n",
      "\n",
      "image 1/1 /home/lyz/work/kaggle/科大讯飞2023/交通场景运输车辆外廓视觉测量挑战赛/交通场景运输车辆外廓视觉测量挑战赛公开数据-初赛/交通场景运输车辆赛题-测试集/测试集2/Imgs/32011B.jpg: 352x640 1 truck, 6.4ms\n",
      "Speed: 1.8ms preprocess, 6.4ms inference, 1.0ms postprocess per image at shape (1, 3, 640, 640)\n",
      "\n"
     ]
    },
    {
     "name": "stdout",
     "output_type": "stream",
     "text": [
      "['truck', 'truck']\n",
      "['truck']\n"
     ]
    },
    {
     "name": "stderr",
     "output_type": "stream",
     "text": [
      "image 1/1 /home/lyz/work/kaggle/科大讯飞2023/交通场景运输车辆外廓视觉测量挑战赛/交通场景运输车辆外廓视觉测量挑战赛公开数据-初赛/交通场景运输车辆赛题-测试集/测试集2/Imgs/32012A.jpg: 352x640 1 car, 1 truck, 6.3ms\n",
      "Speed: 1.8ms preprocess, 6.3ms inference, 0.9ms postprocess per image at shape (1, 3, 640, 640)\n",
      "\n",
      "image 1/1 /home/lyz/work/kaggle/科大讯飞2023/交通场景运输车辆外廓视觉测量挑战赛/交通场景运输车辆外廓视觉测量挑战赛公开数据-初赛/交通场景运输车辆赛题-测试集/测试集2/Imgs/32012B.jpg: 352x640 2 trucks, 6.3ms\n",
      "Speed: 1.7ms preprocess, 6.3ms inference, 1.1ms postprocess per image at shape (1, 3, 640, 640)\n",
      "\n"
     ]
    },
    {
     "name": "stdout",
     "output_type": "stream",
     "text": [
      "['truck', 'car']\n",
      "['truck', 'truck']\n"
     ]
    },
    {
     "name": "stderr",
     "output_type": "stream",
     "text": [
      "image 1/1 /home/lyz/work/kaggle/科大讯飞2023/交通场景运输车辆外廓视觉测量挑战赛/交通场景运输车辆外廓视觉测量挑战赛公开数据-初赛/交通场景运输车辆赛题-测试集/测试集2/Imgs/32013A.jpg: 352x640 1 car, 1 bus, 1 truck, 6.3ms\n",
      "Speed: 1.8ms preprocess, 6.3ms inference, 1.0ms postprocess per image at shape (1, 3, 640, 640)\n",
      "\n",
      "image 1/1 /home/lyz/work/kaggle/科大讯飞2023/交通场景运输车辆外廓视觉测量挑战赛/交通场景运输车辆外廓视觉测量挑战赛公开数据-初赛/交通场景运输车辆赛题-测试集/测试集2/Imgs/32013B.jpg: 352x640 1 car, 1 truck, 6.4ms\n",
      "Speed: 1.8ms preprocess, 6.4ms inference, 1.0ms postprocess per image at shape (1, 3, 640, 640)\n",
      "\n"
     ]
    },
    {
     "name": "stdout",
     "output_type": "stream",
     "text": [
      "['truck', 'car', 'bus']\n",
      "['truck', 'car']\n"
     ]
    },
    {
     "name": "stderr",
     "output_type": "stream",
     "text": [
      "image 1/1 /home/lyz/work/kaggle/科大讯飞2023/交通场景运输车辆外廓视觉测量挑战赛/交通场景运输车辆外廓视觉测量挑战赛公开数据-初赛/交通场景运输车辆赛题-测试集/测试集2/Imgs/32014A.jpg: 352x640 1 truck, 6.6ms\n",
      "Speed: 1.7ms preprocess, 6.6ms inference, 0.9ms postprocess per image at shape (1, 3, 640, 640)\n",
      "\n",
      "image 1/1 /home/lyz/work/kaggle/科大讯飞2023/交通场景运输车辆外廓视觉测量挑战赛/交通场景运输车辆外廓视觉测量挑战赛公开数据-初赛/交通场景运输车辆赛题-测试集/测试集2/Imgs/32014B.jpg: 352x640 1 truck, 1 sports ball, 6.3ms\n",
      "Speed: 1.7ms preprocess, 6.3ms inference, 0.9ms postprocess per image at shape (1, 3, 640, 640)\n",
      "\n"
     ]
    },
    {
     "name": "stdout",
     "output_type": "stream",
     "text": [
      "['truck']\n",
      "['truck', 'sports ball']\n"
     ]
    },
    {
     "name": "stderr",
     "output_type": "stream",
     "text": [
      "image 1/1 /home/lyz/work/kaggle/科大讯飞2023/交通场景运输车辆外廓视觉测量挑战赛/交通场景运输车辆外廓视觉测量挑战赛公开数据-初赛/交通场景运输车辆赛题-测试集/测试集2/Imgs/32015A.jpg: 352x640 2 cars, 1 bus, 1 truck, 6.4ms\n",
      "Speed: 1.7ms preprocess, 6.4ms inference, 0.9ms postprocess per image at shape (1, 3, 640, 640)\n",
      "\n",
      "image 1/1 /home/lyz/work/kaggle/科大讯飞2023/交通场景运输车辆外廓视觉测量挑战赛/交通场景运输车辆外廓视觉测量挑战赛公开数据-初赛/交通场景运输车辆赛题-测试集/测试集2/Imgs/32015B.jpg: 352x640 1 person, 1 truck, 1 sports ball, 6.3ms\n",
      "Speed: 1.8ms preprocess, 6.3ms inference, 1.0ms postprocess per image at shape (1, 3, 640, 640)\n",
      "\n"
     ]
    },
    {
     "name": "stdout",
     "output_type": "stream",
     "text": [
      "['car', 'car', 'truck', 'bus']\n",
      "['truck', 'person', 'sports ball']\n"
     ]
    },
    {
     "name": "stderr",
     "output_type": "stream",
     "text": [
      "image 1/1 /home/lyz/work/kaggle/科大讯飞2023/交通场景运输车辆外廓视觉测量挑战赛/交通场景运输车辆外廓视觉测量挑战赛公开数据-初赛/交通场景运输车辆赛题-测试集/测试集2/Imgs/32016A.jpg: 352x640 1 person, 1 car, 1 truck, 6.3ms\n",
      "Speed: 1.7ms preprocess, 6.3ms inference, 1.0ms postprocess per image at shape (1, 3, 640, 640)\n",
      "\n",
      "image 1/1 /home/lyz/work/kaggle/科大讯飞2023/交通场景运输车辆外廓视觉测量挑战赛/交通场景运输车辆外廓视觉测量挑战赛公开数据-初赛/交通场景运输车辆赛题-测试集/测试集2/Imgs/32016B.jpg: 352x640 1 car, 1 truck, 2 sports balls, 6.3ms\n",
      "Speed: 1.8ms preprocess, 6.3ms inference, 1.0ms postprocess per image at shape (1, 3, 640, 640)\n",
      "\n"
     ]
    },
    {
     "name": "stdout",
     "output_type": "stream",
     "text": [
      "['truck', 'car', 'person']\n",
      "['truck', 'car', 'sports ball', 'sports ball']\n"
     ]
    },
    {
     "name": "stderr",
     "output_type": "stream",
     "text": [
      "image 1/1 /home/lyz/work/kaggle/科大讯飞2023/交通场景运输车辆外廓视觉测量挑战赛/交通场景运输车辆外廓视觉测量挑战赛公开数据-初赛/交通场景运输车辆赛题-测试集/测试集2/Imgs/32017A.jpg: 352x640 1 truck, 6.3ms\n",
      "Speed: 1.7ms preprocess, 6.3ms inference, 0.9ms postprocess per image at shape (1, 3, 640, 640)\n",
      "\n",
      "image 1/1 /home/lyz/work/kaggle/科大讯飞2023/交通场景运输车辆外廓视觉测量挑战赛/交通场景运输车辆外廓视觉测量挑战赛公开数据-初赛/交通场景运输车辆赛题-测试集/测试集2/Imgs/32017B.jpg: 352x640 2 persons, 1 truck, 1 sports ball, 6.3ms\n",
      "Speed: 1.7ms preprocess, 6.3ms inference, 1.0ms postprocess per image at shape (1, 3, 640, 640)\n",
      "\n"
     ]
    },
    {
     "name": "stdout",
     "output_type": "stream",
     "text": [
      "['truck']\n",
      "['truck', 'sports ball', 'person', 'person']\n"
     ]
    },
    {
     "name": "stderr",
     "output_type": "stream",
     "text": [
      "image 1/1 /home/lyz/work/kaggle/科大讯飞2023/交通场景运输车辆外廓视觉测量挑战赛/交通场景运输车辆外廓视觉测量挑战赛公开数据-初赛/交通场景运输车辆赛题-测试集/测试集2/Imgs/32018A.jpg: 352x640 2 persons, 3 trucks, 6.3ms\n",
      "Speed: 1.7ms preprocess, 6.3ms inference, 0.9ms postprocess per image at shape (1, 3, 640, 640)\n",
      "\n",
      "image 1/1 /home/lyz/work/kaggle/科大讯飞2023/交通场景运输车辆外廓视觉测量挑战赛/交通场景运输车辆外廓视觉测量挑战赛公开数据-初赛/交通场景运输车辆赛题-测试集/测试集2/Imgs/32018B.jpg: 352x640 1 person, 1 car, 2 trucks, 6.3ms\n",
      "Speed: 1.7ms preprocess, 6.3ms inference, 0.9ms postprocess per image at shape (1, 3, 640, 640)\n",
      "\n"
     ]
    },
    {
     "name": "stdout",
     "output_type": "stream",
     "text": [
      "['truck', 'truck', 'truck', 'person', 'person']\n",
      "['truck', 'truck', 'car', 'person']\n"
     ]
    },
    {
     "name": "stderr",
     "output_type": "stream",
     "text": [
      "image 1/1 /home/lyz/work/kaggle/科大讯飞2023/交通场景运输车辆外廓视觉测量挑战赛/交通场景运输车辆外廓视觉测量挑战赛公开数据-初赛/交通场景运输车辆赛题-测试集/测试集2/Imgs/32019A.jpg: 352x640 1 person, 1 truck, 6.2ms\n",
      "Speed: 1.7ms preprocess, 6.2ms inference, 0.9ms postprocess per image at shape (1, 3, 640, 640)\n",
      "\n",
      "image 1/1 /home/lyz/work/kaggle/科大讯飞2023/交通场景运输车辆外廓视觉测量挑战赛/交通场景运输车辆外廓视觉测量挑战赛公开数据-初赛/交通场景运输车辆赛题-测试集/测试集2/Imgs/32019B.jpg: 352x640 1 truck, 6.2ms\n",
      "Speed: 1.7ms preprocess, 6.2ms inference, 0.9ms postprocess per image at shape (1, 3, 640, 640)\n",
      "\n"
     ]
    },
    {
     "name": "stdout",
     "output_type": "stream",
     "text": [
      "['truck', 'person']\n",
      "['truck']\n"
     ]
    },
    {
     "name": "stderr",
     "output_type": "stream",
     "text": [
      "image 1/1 /home/lyz/work/kaggle/科大讯飞2023/交通场景运输车辆外廓视觉测量挑战赛/交通场景运输车辆外廓视觉测量挑战赛公开数据-初赛/交通场景运输车辆赛题-测试集/测试集2/Imgs/32020A.jpg: 352x640 1 person, 1 truck, 6.6ms\n",
      "Speed: 1.7ms preprocess, 6.6ms inference, 0.9ms postprocess per image at shape (1, 3, 640, 640)\n",
      "\n",
      "image 1/1 /home/lyz/work/kaggle/科大讯飞2023/交通场景运输车辆外廓视觉测量挑战赛/交通场景运输车辆外廓视觉测量挑战赛公开数据-初赛/交通场景运输车辆赛题-测试集/测试集2/Imgs/32020B.jpg: 352x640 1 truck, 6.3ms\n",
      "Speed: 1.7ms preprocess, 6.3ms inference, 0.9ms postprocess per image at shape (1, 3, 640, 640)\n",
      "\n"
     ]
    },
    {
     "name": "stdout",
     "output_type": "stream",
     "text": [
      "['truck', 'person']\n",
      "['truck']\n"
     ]
    },
    {
     "name": "stderr",
     "output_type": "stream",
     "text": [
      "image 1/1 /home/lyz/work/kaggle/科大讯飞2023/交通场景运输车辆外廓视觉测量挑战赛/交通场景运输车辆外廓视觉测量挑战赛公开数据-初赛/交通场景运输车辆赛题-测试集/测试集2/Imgs/32021A.jpg: 352x640 1 car, 2 trucks, 6.3ms\n",
      "Speed: 1.8ms preprocess, 6.3ms inference, 0.9ms postprocess per image at shape (1, 3, 640, 640)\n",
      "\n",
      "image 1/1 /home/lyz/work/kaggle/科大讯飞2023/交通场景运输车辆外廓视觉测量挑战赛/交通场景运输车辆外廓视觉测量挑战赛公开数据-初赛/交通场景运输车辆赛题-测试集/测试集2/Imgs/32021B.jpg: 352x640 1 car, 1 truck, 1 sports ball, 6.3ms\n",
      "Speed: 1.7ms preprocess, 6.3ms inference, 0.9ms postprocess per image at shape (1, 3, 640, 640)\n",
      "\n"
     ]
    },
    {
     "name": "stdout",
     "output_type": "stream",
     "text": [
      "['truck', 'car', 'truck']\n",
      "['truck', 'sports ball', 'car']\n"
     ]
    },
    {
     "name": "stderr",
     "output_type": "stream",
     "text": [
      "image 1/1 /home/lyz/work/kaggle/科大讯飞2023/交通场景运输车辆外廓视觉测量挑战赛/交通场景运输车辆外廓视觉测量挑战赛公开数据-初赛/交通场景运输车辆赛题-测试集/测试集2/Imgs/32022A.jpg: 352x640 1 truck, 6.3ms\n",
      "Speed: 1.8ms preprocess, 6.3ms inference, 0.9ms postprocess per image at shape (1, 3, 640, 640)\n",
      "\n",
      "image 1/1 /home/lyz/work/kaggle/科大讯飞2023/交通场景运输车辆外廓视觉测量挑战赛/交通场景运输车辆外廓视觉测量挑战赛公开数据-初赛/交通场景运输车辆赛题-测试集/测试集2/Imgs/32022B.jpg: 352x640 1 truck, 6.3ms\n",
      "Speed: 1.7ms preprocess, 6.3ms inference, 0.9ms postprocess per image at shape (1, 3, 640, 640)\n",
      "\n"
     ]
    },
    {
     "name": "stdout",
     "output_type": "stream",
     "text": [
      "['truck']\n",
      "['truck']\n"
     ]
    },
    {
     "name": "stderr",
     "output_type": "stream",
     "text": [
      "image 1/1 /home/lyz/work/kaggle/科大讯飞2023/交通场景运输车辆外廓视觉测量挑战赛/交通场景运输车辆外廓视觉测量挑战赛公开数据-初赛/交通场景运输车辆赛题-测试集/测试集2/Imgs/32023A.jpg: 352x640 1 car, 1 truck, 6.3ms\n",
      "Speed: 1.7ms preprocess, 6.3ms inference, 0.9ms postprocess per image at shape (1, 3, 640, 640)\n",
      "\n",
      "image 1/1 /home/lyz/work/kaggle/科大讯飞2023/交通场景运输车辆外廓视觉测量挑战赛/交通场景运输车辆外廓视觉测量挑战赛公开数据-初赛/交通场景运输车辆赛题-测试集/测试集2/Imgs/32023B.jpg: 352x640 1 truck, 6.2ms\n",
      "Speed: 1.7ms preprocess, 6.2ms inference, 0.9ms postprocess per image at shape (1, 3, 640, 640)\n",
      "\n"
     ]
    },
    {
     "name": "stdout",
     "output_type": "stream",
     "text": [
      "['truck', 'car']\n",
      "['truck']\n"
     ]
    },
    {
     "name": "stderr",
     "output_type": "stream",
     "text": [
      "image 1/1 /home/lyz/work/kaggle/科大讯飞2023/交通场景运输车辆外廓视觉测量挑战赛/交通场景运输车辆外廓视觉测量挑战赛公开数据-初赛/交通场景运输车辆赛题-测试集/测试集2/Imgs/32024A.jpg: 352x640 1 car, 1 truck, 6.3ms\n",
      "Speed: 1.7ms preprocess, 6.3ms inference, 0.9ms postprocess per image at shape (1, 3, 640, 640)\n",
      "\n",
      "image 1/1 /home/lyz/work/kaggle/科大讯飞2023/交通场景运输车辆外廓视觉测量挑战赛/交通场景运输车辆外廓视觉测量挑战赛公开数据-初赛/交通场景运输车辆赛题-测试集/测试集2/Imgs/32024B.jpg: 352x640 1 truck, 2 sports balls, 6.3ms\n",
      "Speed: 1.8ms preprocess, 6.3ms inference, 0.9ms postprocess per image at shape (1, 3, 640, 640)\n",
      "\n"
     ]
    },
    {
     "name": "stdout",
     "output_type": "stream",
     "text": [
      "['truck', 'car']\n",
      "['truck', 'sports ball', 'sports ball']\n"
     ]
    },
    {
     "name": "stderr",
     "output_type": "stream",
     "text": [
      "image 1/1 /home/lyz/work/kaggle/科大讯飞2023/交通场景运输车辆外廓视觉测量挑战赛/交通场景运输车辆外廓视觉测量挑战赛公开数据-初赛/交通场景运输车辆赛题-测试集/测试集2/Imgs/32025A.jpg: 352x640 1 truck, 6.3ms\n",
      "Speed: 1.7ms preprocess, 6.3ms inference, 0.9ms postprocess per image at shape (1, 3, 640, 640)\n",
      "\n",
      "image 1/1 /home/lyz/work/kaggle/科大讯飞2023/交通场景运输车辆外廓视觉测量挑战赛/交通场景运输车辆外廓视觉测量挑战赛公开数据-初赛/交通场景运输车辆赛题-测试集/测试集2/Imgs/32025B.jpg: 352x640 1 truck, 6.2ms\n",
      "Speed: 1.7ms preprocess, 6.2ms inference, 0.9ms postprocess per image at shape (1, 3, 640, 640)\n",
      "\n"
     ]
    },
    {
     "name": "stdout",
     "output_type": "stream",
     "text": [
      "['truck']\n",
      "['truck']\n"
     ]
    },
    {
     "name": "stderr",
     "output_type": "stream",
     "text": [
      "image 1/1 /home/lyz/work/kaggle/科大讯飞2023/交通场景运输车辆外廓视觉测量挑战赛/交通场景运输车辆外廓视觉测量挑战赛公开数据-初赛/交通场景运输车辆赛题-测试集/测试集2/Imgs/32026A.jpg: 352x640 1 truck, 6.2ms\n",
      "Speed: 1.7ms preprocess, 6.2ms inference, 0.9ms postprocess per image at shape (1, 3, 640, 640)\n",
      "\n",
      "image 1/1 /home/lyz/work/kaggle/科大讯飞2023/交通场景运输车辆外廓视觉测量挑战赛/交通场景运输车辆外廓视觉测量挑战赛公开数据-初赛/交通场景运输车辆赛题-测试集/测试集2/Imgs/32026B.jpg: 352x640 1 person, 1 truck, 6.2ms\n",
      "Speed: 1.7ms preprocess, 6.2ms inference, 0.9ms postprocess per image at shape (1, 3, 640, 640)\n",
      "\n"
     ]
    },
    {
     "name": "stdout",
     "output_type": "stream",
     "text": [
      "['truck']\n",
      "['truck', 'person']\n"
     ]
    },
    {
     "name": "stderr",
     "output_type": "stream",
     "text": [
      "image 1/1 /home/lyz/work/kaggle/科大讯飞2023/交通场景运输车辆外廓视觉测量挑战赛/交通场景运输车辆外廓视觉测量挑战赛公开数据-初赛/交通场景运输车辆赛题-测试集/测试集2/Imgs/32027A.jpg: 352x640 2 trucks, 6.3ms\n",
      "Speed: 1.8ms preprocess, 6.3ms inference, 0.9ms postprocess per image at shape (1, 3, 640, 640)\n",
      "\n",
      "image 1/1 /home/lyz/work/kaggle/科大讯飞2023/交通场景运输车辆外廓视觉测量挑战赛/交通场景运输车辆外廓视觉测量挑战赛公开数据-初赛/交通场景运输车辆赛题-测试集/测试集2/Imgs/32027B.jpg: 352x640 1 truck, 6.2ms\n",
      "Speed: 1.7ms preprocess, 6.2ms inference, 0.9ms postprocess per image at shape (1, 3, 640, 640)\n",
      "\n"
     ]
    },
    {
     "name": "stdout",
     "output_type": "stream",
     "text": [
      "['truck', 'truck']\n",
      "['truck']\n"
     ]
    },
    {
     "name": "stderr",
     "output_type": "stream",
     "text": [
      "image 1/1 /home/lyz/work/kaggle/科大讯飞2023/交通场景运输车辆外廓视觉测量挑战赛/交通场景运输车辆外廓视觉测量挑战赛公开数据-初赛/交通场景运输车辆赛题-测试集/测试集2/Imgs/32028A.jpg: 352x640 1 truck, 1 traffic light, 6.3ms\n",
      "Speed: 1.8ms preprocess, 6.3ms inference, 0.9ms postprocess per image at shape (1, 3, 640, 640)\n",
      "\n",
      "image 1/1 /home/lyz/work/kaggle/科大讯飞2023/交通场景运输车辆外廓视觉测量挑战赛/交通场景运输车辆外廓视觉测量挑战赛公开数据-初赛/交通场景运输车辆赛题-测试集/测试集2/Imgs/32028B.jpg: 352x640 2 trucks, 6.2ms\n",
      "Speed: 1.7ms preprocess, 6.2ms inference, 0.9ms postprocess per image at shape (1, 3, 640, 640)\n",
      "\n"
     ]
    },
    {
     "name": "stdout",
     "output_type": "stream",
     "text": [
      "['truck', 'traffic light']\n",
      "['truck', 'truck']\n"
     ]
    },
    {
     "name": "stderr",
     "output_type": "stream",
     "text": [
      "image 1/1 /home/lyz/work/kaggle/科大讯飞2023/交通场景运输车辆外廓视觉测量挑战赛/交通场景运输车辆外廓视觉测量挑战赛公开数据-初赛/交通场景运输车辆赛题-测试集/测试集2/Imgs/32029A.jpg: 352x640 1 person, 2 cars, 2 trucks, 6.2ms\n",
      "Speed: 1.7ms preprocess, 6.2ms inference, 0.9ms postprocess per image at shape (1, 3, 640, 640)\n",
      "\n",
      "image 1/1 /home/lyz/work/kaggle/科大讯飞2023/交通场景运输车辆外廓视觉测量挑战赛/交通场景运输车辆外廓视觉测量挑战赛公开数据-初赛/交通场景运输车辆赛题-测试集/测试集2/Imgs/32029B.jpg: 352x640 3 cars, 3 trucks, 6.3ms\n",
      "Speed: 1.7ms preprocess, 6.3ms inference, 1.0ms postprocess per image at shape (1, 3, 640, 640)\n",
      "\n"
     ]
    },
    {
     "name": "stdout",
     "output_type": "stream",
     "text": [
      "['truck', 'truck', 'car', 'car', 'person']\n",
      "['truck', 'car', 'car', 'car', 'truck', 'truck']\n"
     ]
    },
    {
     "name": "stderr",
     "output_type": "stream",
     "text": [
      "image 1/1 /home/lyz/work/kaggle/科大讯飞2023/交通场景运输车辆外廓视觉测量挑战赛/交通场景运输车辆外廓视觉测量挑战赛公开数据-初赛/交通场景运输车辆赛题-测试集/测试集2/Imgs/32030A.jpg: 352x640 1 person, 1 truck, 6.3ms\n",
      "Speed: 1.7ms preprocess, 6.3ms inference, 0.9ms postprocess per image at shape (1, 3, 640, 640)\n",
      "\n",
      "image 1/1 /home/lyz/work/kaggle/科大讯飞2023/交通场景运输车辆外廓视觉测量挑战赛/交通场景运输车辆外廓视觉测量挑战赛公开数据-初赛/交通场景运输车辆赛题-测试集/测试集2/Imgs/32030B.jpg: 352x640 1 truck, 6.3ms\n",
      "Speed: 1.8ms preprocess, 6.3ms inference, 0.9ms postprocess per image at shape (1, 3, 640, 640)\n",
      "\n"
     ]
    },
    {
     "name": "stdout",
     "output_type": "stream",
     "text": [
      "['truck', 'person']\n",
      "['truck']\n"
     ]
    },
    {
     "name": "stderr",
     "output_type": "stream",
     "text": [
      "image 1/1 /home/lyz/work/kaggle/科大讯飞2023/交通场景运输车辆外廓视觉测量挑战赛/交通场景运输车辆外廓视觉测量挑战赛公开数据-初赛/交通场景运输车辆赛题-测试集/测试集2/Imgs/32031A.jpg: 352x640 1 person, 1 car, 1 truck, 6.2ms\n",
      "Speed: 1.7ms preprocess, 6.2ms inference, 0.9ms postprocess per image at shape (1, 3, 640, 640)\n",
      "\n",
      "image 1/1 /home/lyz/work/kaggle/科大讯飞2023/交通场景运输车辆外廓视觉测量挑战赛/交通场景运输车辆外廓视觉测量挑战赛公开数据-初赛/交通场景运输车辆赛题-测试集/测试集2/Imgs/32031B.jpg: 352x640 1 car, 1 truck, 6.3ms\n",
      "Speed: 1.8ms preprocess, 6.3ms inference, 1.0ms postprocess per image at shape (1, 3, 640, 640)\n",
      "\n"
     ]
    },
    {
     "name": "stdout",
     "output_type": "stream",
     "text": [
      "['truck', 'car', 'person']\n",
      "['truck', 'car']\n"
     ]
    },
    {
     "name": "stderr",
     "output_type": "stream",
     "text": [
      "image 1/1 /home/lyz/work/kaggle/科大讯飞2023/交通场景运输车辆外廓视觉测量挑战赛/交通场景运输车辆外廓视觉测量挑战赛公开数据-初赛/交通场景运输车辆赛题-测试集/测试集2/Imgs/32032A.jpg: 352x640 1 car, 1 bus, 2 trucks, 6.3ms\n",
      "Speed: 1.7ms preprocess, 6.3ms inference, 1.0ms postprocess per image at shape (1, 3, 640, 640)\n",
      "\n",
      "image 1/1 /home/lyz/work/kaggle/科大讯飞2023/交通场景运输车辆外廓视觉测量挑战赛/交通场景运输车辆外廓视觉测量挑战赛公开数据-初赛/交通场景运输车辆赛题-测试集/测试集2/Imgs/32032B.jpg: 352x640 1 car, 1 truck, 6.2ms\n",
      "Speed: 1.7ms preprocess, 6.2ms inference, 0.9ms postprocess per image at shape (1, 3, 640, 640)\n",
      "\n"
     ]
    },
    {
     "name": "stdout",
     "output_type": "stream",
     "text": [
      "['truck', 'car', 'bus', 'truck']\n",
      "['truck', 'car']\n"
     ]
    },
    {
     "name": "stderr",
     "output_type": "stream",
     "text": [
      "image 1/1 /home/lyz/work/kaggle/科大讯飞2023/交通场景运输车辆外廓视觉测量挑战赛/交通场景运输车辆外廓视觉测量挑战赛公开数据-初赛/交通场景运输车辆赛题-测试集/测试集2/Imgs/32033A.jpg: 352x640 1 car, 2 trucks, 6.3ms\n",
      "Speed: 1.7ms preprocess, 6.3ms inference, 0.9ms postprocess per image at shape (1, 3, 640, 640)\n",
      "\n",
      "image 1/1 /home/lyz/work/kaggle/科大讯飞2023/交通场景运输车辆外廓视觉测量挑战赛/交通场景运输车辆外廓视觉测量挑战赛公开数据-初赛/交通场景运输车辆赛题-测试集/测试集2/Imgs/32033B.jpg: 352x640 1 car, 2 trucks, 1 dog, 6.3ms\n",
      "Speed: 1.8ms preprocess, 6.3ms inference, 0.9ms postprocess per image at shape (1, 3, 640, 640)\n",
      "\n"
     ]
    },
    {
     "name": "stdout",
     "output_type": "stream",
     "text": [
      "['truck', 'car', 'truck']\n",
      "['truck', 'car', 'truck', 'dog']\n"
     ]
    },
    {
     "name": "stderr",
     "output_type": "stream",
     "text": [
      "image 1/1 /home/lyz/work/kaggle/科大讯飞2023/交通场景运输车辆外廓视觉测量挑战赛/交通场景运输车辆外廓视觉测量挑战赛公开数据-初赛/交通场景运输车辆赛题-测试集/测试集2/Imgs/32034A.jpg: 352x640 1 truck, 6.3ms\n",
      "Speed: 1.7ms preprocess, 6.3ms inference, 0.9ms postprocess per image at shape (1, 3, 640, 640)\n",
      "\n",
      "image 1/1 /home/lyz/work/kaggle/科大讯飞2023/交通场景运输车辆外廓视觉测量挑战赛/交通场景运输车辆外廓视觉测量挑战赛公开数据-初赛/交通场景运输车辆赛题-测试集/测试集2/Imgs/32034B.jpg: 352x640 1 truck, 6.3ms\n",
      "Speed: 1.7ms preprocess, 6.3ms inference, 0.9ms postprocess per image at shape (1, 3, 640, 640)\n",
      "\n"
     ]
    },
    {
     "name": "stdout",
     "output_type": "stream",
     "text": [
      "['truck']\n",
      "['truck']\n"
     ]
    },
    {
     "name": "stderr",
     "output_type": "stream",
     "text": [
      "image 1/1 /home/lyz/work/kaggle/科大讯飞2023/交通场景运输车辆外廓视觉测量挑战赛/交通场景运输车辆外廓视觉测量挑战赛公开数据-初赛/交通场景运输车辆赛题-测试集/测试集2/Imgs/32035A.jpg: 352x640 1 car, 1 truck, 6.3ms\n",
      "Speed: 1.7ms preprocess, 6.3ms inference, 0.9ms postprocess per image at shape (1, 3, 640, 640)\n",
      "\n",
      "image 1/1 /home/lyz/work/kaggle/科大讯飞2023/交通场景运输车辆外廓视觉测量挑战赛/交通场景运输车辆外廓视觉测量挑战赛公开数据-初赛/交通场景运输车辆赛题-测试集/测试集2/Imgs/32035B.jpg: 352x640 1 truck, 1 sports ball, 6.3ms\n",
      "Speed: 1.7ms preprocess, 6.3ms inference, 0.9ms postprocess per image at shape (1, 3, 640, 640)\n",
      "\n"
     ]
    },
    {
     "name": "stdout",
     "output_type": "stream",
     "text": [
      "['truck', 'car']\n",
      "['truck', 'sports ball']\n"
     ]
    },
    {
     "name": "stderr",
     "output_type": "stream",
     "text": [
      "image 1/1 /home/lyz/work/kaggle/科大讯飞2023/交通场景运输车辆外廓视觉测量挑战赛/交通场景运输车辆外廓视觉测量挑战赛公开数据-初赛/交通场景运输车辆赛题-测试集/测试集2/Imgs/32036A.jpg: 352x640 1 car, 1 truck, 6.2ms\n",
      "Speed: 1.7ms preprocess, 6.2ms inference, 0.9ms postprocess per image at shape (1, 3, 640, 640)\n",
      "\n",
      "image 1/1 /home/lyz/work/kaggle/科大讯飞2023/交通场景运输车辆外廓视觉测量挑战赛/交通场景运输车辆外廓视觉测量挑战赛公开数据-初赛/交通场景运输车辆赛题-测试集/测试集2/Imgs/32036B.jpg: 352x640 1 truck, 6.3ms\n",
      "Speed: 1.8ms preprocess, 6.3ms inference, 0.9ms postprocess per image at shape (1, 3, 640, 640)\n",
      "\n"
     ]
    },
    {
     "name": "stdout",
     "output_type": "stream",
     "text": [
      "['truck', 'car']\n",
      "['truck']\n"
     ]
    },
    {
     "name": "stderr",
     "output_type": "stream",
     "text": [
      "image 1/1 /home/lyz/work/kaggle/科大讯飞2023/交通场景运输车辆外廓视觉测量挑战赛/交通场景运输车辆外廓视觉测量挑战赛公开数据-初赛/交通场景运输车辆赛题-测试集/测试集2/Imgs/32037A.jpg: 352x640 1 bus, 2 trucks, 6.3ms\n",
      "Speed: 1.7ms preprocess, 6.3ms inference, 0.9ms postprocess per image at shape (1, 3, 640, 640)\n",
      "\n",
      "image 1/1 /home/lyz/work/kaggle/科大讯飞2023/交通场景运输车辆外廓视觉测量挑战赛/交通场景运输车辆外廓视觉测量挑战赛公开数据-初赛/交通场景运输车辆赛题-测试集/测试集2/Imgs/32037B.jpg: 352x640 1 person, 1 car, 3 trucks, 6.3ms\n",
      "Speed: 1.7ms preprocess, 6.3ms inference, 0.9ms postprocess per image at shape (1, 3, 640, 640)\n",
      "\n"
     ]
    },
    {
     "name": "stdout",
     "output_type": "stream",
     "text": [
      "['truck', 'truck', 'bus']\n",
      "['truck', 'truck', 'truck', 'car', 'person']\n"
     ]
    },
    {
     "name": "stderr",
     "output_type": "stream",
     "text": [
      "image 1/1 /home/lyz/work/kaggle/科大讯飞2023/交通场景运输车辆外廓视觉测量挑战赛/交通场景运输车辆外廓视觉测量挑战赛公开数据-初赛/交通场景运输车辆赛题-测试集/测试集2/Imgs/32038A.jpg: 352x640 1 car, 1 truck, 6.3ms\n",
      "Speed: 1.7ms preprocess, 6.3ms inference, 0.9ms postprocess per image at shape (1, 3, 640, 640)\n",
      "\n",
      "image 1/1 /home/lyz/work/kaggle/科大讯飞2023/交通场景运输车辆外廓视觉测量挑战赛/交通场景运输车辆外廓视觉测量挑战赛公开数据-初赛/交通场景运输车辆赛题-测试集/测试集2/Imgs/32038B.jpg: 352x640 1 car, 2 trucks, 6.2ms\n",
      "Speed: 1.7ms preprocess, 6.2ms inference, 0.9ms postprocess per image at shape (1, 3, 640, 640)\n",
      "\n"
     ]
    },
    {
     "name": "stdout",
     "output_type": "stream",
     "text": [
      "['truck', 'car']\n",
      "['truck', 'truck', 'car']\n"
     ]
    },
    {
     "name": "stderr",
     "output_type": "stream",
     "text": [
      "image 1/1 /home/lyz/work/kaggle/科大讯飞2023/交通场景运输车辆外廓视觉测量挑战赛/交通场景运输车辆外廓视觉测量挑战赛公开数据-初赛/交通场景运输车辆赛题-测试集/测试集2/Imgs/32039A.jpg: 352x640 1 person, 1 truck, 6.2ms\n",
      "Speed: 1.7ms preprocess, 6.2ms inference, 0.9ms postprocess per image at shape (1, 3, 640, 640)\n",
      "\n",
      "image 1/1 /home/lyz/work/kaggle/科大讯飞2023/交通场景运输车辆外廓视觉测量挑战赛/交通场景运输车辆外廓视觉测量挑战赛公开数据-初赛/交通场景运输车辆赛题-测试集/测试集2/Imgs/32039B.jpg: 352x640 1 truck, 6.3ms\n",
      "Speed: 1.8ms preprocess, 6.3ms inference, 0.9ms postprocess per image at shape (1, 3, 640, 640)\n",
      "\n"
     ]
    },
    {
     "name": "stdout",
     "output_type": "stream",
     "text": [
      "['truck', 'person']\n",
      "['truck']\n"
     ]
    },
    {
     "name": "stderr",
     "output_type": "stream",
     "text": [
      "image 1/1 /home/lyz/work/kaggle/科大讯飞2023/交通场景运输车辆外廓视觉测量挑战赛/交通场景运输车辆外廓视觉测量挑战赛公开数据-初赛/交通场景运输车辆赛题-测试集/测试集2/Imgs/32040A.jpg: 352x640 1 car, 2 trucks, 6.3ms\n",
      "Speed: 1.7ms preprocess, 6.3ms inference, 0.9ms postprocess per image at shape (1, 3, 640, 640)\n",
      "\n",
      "image 1/1 /home/lyz/work/kaggle/科大讯飞2023/交通场景运输车辆外廓视觉测量挑战赛/交通场景运输车辆外廓视觉测量挑战赛公开数据-初赛/交通场景运输车辆赛题-测试集/测试集2/Imgs/32040B.jpg: 352x640 2 trucks, 6.3ms\n",
      "Speed: 1.8ms preprocess, 6.3ms inference, 1.0ms postprocess per image at shape (1, 3, 640, 640)\n",
      "\n"
     ]
    },
    {
     "name": "stdout",
     "output_type": "stream",
     "text": [
      "['truck', 'truck', 'car']\n",
      "['truck', 'truck']\n"
     ]
    },
    {
     "name": "stderr",
     "output_type": "stream",
     "text": [
      "image 1/1 /home/lyz/work/kaggle/科大讯飞2023/交通场景运输车辆外廓视觉测量挑战赛/交通场景运输车辆外廓视觉测量挑战赛公开数据-初赛/交通场景运输车辆赛题-测试集/测试集2/Imgs/32041A.jpg: 352x640 1 person, 1 truck, 6.3ms\n",
      "Speed: 1.7ms preprocess, 6.3ms inference, 0.9ms postprocess per image at shape (1, 3, 640, 640)\n",
      "\n",
      "image 1/1 /home/lyz/work/kaggle/科大讯飞2023/交通场景运输车辆外廓视觉测量挑战赛/交通场景运输车辆外廓视觉测量挑战赛公开数据-初赛/交通场景运输车辆赛题-测试集/测试集2/Imgs/32041B.jpg: 352x640 1 person, 1 truck, 6.2ms\n",
      "Speed: 1.7ms preprocess, 6.2ms inference, 0.9ms postprocess per image at shape (1, 3, 640, 640)\n",
      "\n"
     ]
    },
    {
     "name": "stdout",
     "output_type": "stream",
     "text": [
      "['truck', 'person']\n",
      "['truck', 'person']\n"
     ]
    },
    {
     "name": "stderr",
     "output_type": "stream",
     "text": [
      "image 1/1 /home/lyz/work/kaggle/科大讯飞2023/交通场景运输车辆外廓视觉测量挑战赛/交通场景运输车辆外廓视觉测量挑战赛公开数据-初赛/交通场景运输车辆赛题-测试集/测试集2/Imgs/32042A.jpg: 352x640 1 person, 1 truck, 6.3ms\n",
      "Speed: 1.7ms preprocess, 6.3ms inference, 0.9ms postprocess per image at shape (1, 3, 640, 640)\n",
      "\n",
      "image 1/1 /home/lyz/work/kaggle/科大讯飞2023/交通场景运输车辆外廓视觉测量挑战赛/交通场景运输车辆外廓视觉测量挑战赛公开数据-初赛/交通场景运输车辆赛题-测试集/测试集2/Imgs/32042B.jpg: 352x640 1 car, 1 truck, 6.3ms\n",
      "Speed: 1.8ms preprocess, 6.3ms inference, 0.9ms postprocess per image at shape (1, 3, 640, 640)\n",
      "\n"
     ]
    },
    {
     "name": "stdout",
     "output_type": "stream",
     "text": [
      "['truck', 'person']\n",
      "['truck', 'car']\n"
     ]
    },
    {
     "name": "stderr",
     "output_type": "stream",
     "text": [
      "image 1/1 /home/lyz/work/kaggle/科大讯飞2023/交通场景运输车辆外廓视觉测量挑战赛/交通场景运输车辆外廓视觉测量挑战赛公开数据-初赛/交通场景运输车辆赛题-测试集/测试集2/Imgs/32043A.jpg: 352x640 2 trucks, 6.2ms\n",
      "Speed: 1.7ms preprocess, 6.2ms inference, 0.9ms postprocess per image at shape (1, 3, 640, 640)\n",
      "\n",
      "image 1/1 /home/lyz/work/kaggle/科大讯飞2023/交通场景运输车辆外廓视觉测量挑战赛/交通场景运输车辆外廓视觉测量挑战赛公开数据-初赛/交通场景运输车辆赛题-测试集/测试集2/Imgs/32043B.jpg: 352x640 1 car, 1 truck, 6.2ms\n",
      "Speed: 1.7ms preprocess, 6.2ms inference, 0.9ms postprocess per image at shape (1, 3, 640, 640)\n",
      "\n"
     ]
    },
    {
     "name": "stdout",
     "output_type": "stream",
     "text": [
      "['truck', 'truck']\n",
      "['truck', 'car']\n"
     ]
    },
    {
     "name": "stderr",
     "output_type": "stream",
     "text": [
      "image 1/1 /home/lyz/work/kaggle/科大讯飞2023/交通场景运输车辆外廓视觉测量挑战赛/交通场景运输车辆外廓视觉测量挑战赛公开数据-初赛/交通场景运输车辆赛题-测试集/测试集2/Imgs/32044A.jpg: 352x640 1 person, 1 truck, 6.3ms\n",
      "Speed: 1.8ms preprocess, 6.3ms inference, 0.9ms postprocess per image at shape (1, 3, 640, 640)\n",
      "\n",
      "image 1/1 /home/lyz/work/kaggle/科大讯飞2023/交通场景运输车辆外廓视觉测量挑战赛/交通场景运输车辆外廓视觉测量挑战赛公开数据-初赛/交通场景运输车辆赛题-测试集/测试集2/Imgs/32044B.jpg: 352x640 1 truck, 6.3ms\n",
      "Speed: 1.7ms preprocess, 6.3ms inference, 0.9ms postprocess per image at shape (1, 3, 640, 640)\n",
      "\n"
     ]
    },
    {
     "name": "stdout",
     "output_type": "stream",
     "text": [
      "['truck', 'person']\n",
      "['truck']\n"
     ]
    },
    {
     "name": "stderr",
     "output_type": "stream",
     "text": [
      "image 1/1 /home/lyz/work/kaggle/科大讯飞2023/交通场景运输车辆外廓视觉测量挑战赛/交通场景运输车辆外廓视觉测量挑战赛公开数据-初赛/交通场景运输车辆赛题-测试集/测试集2/Imgs/32045A.jpg: 352x640 1 car, 1 truck, 6.2ms\n",
      "Speed: 1.7ms preprocess, 6.2ms inference, 1.0ms postprocess per image at shape (1, 3, 640, 640)\n",
      "\n",
      "image 1/1 /home/lyz/work/kaggle/科大讯飞2023/交通场景运输车辆外廓视觉测量挑战赛/交通场景运输车辆外廓视觉测量挑战赛公开数据-初赛/交通场景运输车辆赛题-测试集/测试集2/Imgs/32045B.jpg: 352x640 1 car, 1 truck, 6.3ms\n",
      "Speed: 1.8ms preprocess, 6.3ms inference, 1.0ms postprocess per image at shape (1, 3, 640, 640)\n",
      "\n"
     ]
    },
    {
     "name": "stdout",
     "output_type": "stream",
     "text": [
      "['truck', 'car']\n",
      "['truck', 'car']\n"
     ]
    },
    {
     "name": "stderr",
     "output_type": "stream",
     "text": [
      "image 1/1 /home/lyz/work/kaggle/科大讯飞2023/交通场景运输车辆外廓视觉测量挑战赛/交通场景运输车辆外廓视觉测量挑战赛公开数据-初赛/交通场景运输车辆赛题-测试集/测试集2/Imgs/32046A.jpg: 352x640 2 cars, 1 truck, 6.2ms\n",
      "Speed: 1.7ms preprocess, 6.2ms inference, 0.9ms postprocess per image at shape (1, 3, 640, 640)\n",
      "\n",
      "image 1/1 /home/lyz/work/kaggle/科大讯飞2023/交通场景运输车辆外廓视觉测量挑战赛/交通场景运输车辆外廓视觉测量挑战赛公开数据-初赛/交通场景运输车辆赛题-测试集/测试集2/Imgs/32046B.jpg: 352x640 2 cars, 1 truck, 6.2ms\n",
      "Speed: 1.7ms preprocess, 6.2ms inference, 0.9ms postprocess per image at shape (1, 3, 640, 640)\n",
      "\n"
     ]
    },
    {
     "name": "stdout",
     "output_type": "stream",
     "text": [
      "['car', 'truck', 'car']\n",
      "['truck', 'car', 'car']\n"
     ]
    },
    {
     "name": "stderr",
     "output_type": "stream",
     "text": [
      "image 1/1 /home/lyz/work/kaggle/科大讯飞2023/交通场景运输车辆外廓视觉测量挑战赛/交通场景运输车辆外廓视觉测量挑战赛公开数据-初赛/交通场景运输车辆赛题-测试集/测试集2/Imgs/32047A.jpg: 352x640 1 person, 1 car, 1 truck, 6.3ms\n",
      "Speed: 1.7ms preprocess, 6.3ms inference, 0.9ms postprocess per image at shape (1, 3, 640, 640)\n",
      "\n",
      "image 1/1 /home/lyz/work/kaggle/科大讯飞2023/交通场景运输车辆外廓视觉测量挑战赛/交通场景运输车辆外廓视觉测量挑战赛公开数据-初赛/交通场景运输车辆赛题-测试集/测试集2/Imgs/32047B.jpg: 352x640 2 trucks, 6.2ms\n",
      "Speed: 1.7ms preprocess, 6.2ms inference, 0.9ms postprocess per image at shape (1, 3, 640, 640)\n",
      "\n"
     ]
    },
    {
     "name": "stdout",
     "output_type": "stream",
     "text": [
      "['truck', 'car', 'person']\n",
      "['truck', 'truck']\n"
     ]
    },
    {
     "name": "stderr",
     "output_type": "stream",
     "text": [
      "image 1/1 /home/lyz/work/kaggle/科大讯飞2023/交通场景运输车辆外廓视觉测量挑战赛/交通场景运输车辆外廓视觉测量挑战赛公开数据-初赛/交通场景运输车辆赛题-测试集/测试集2/Imgs/32048A.jpg: 352x640 1 car, 2 trucks, 6.3ms\n",
      "Speed: 1.7ms preprocess, 6.3ms inference, 0.9ms postprocess per image at shape (1, 3, 640, 640)\n",
      "\n",
      "image 1/1 /home/lyz/work/kaggle/科大讯飞2023/交通场景运输车辆外廓视觉测量挑战赛/交通场景运输车辆外廓视觉测量挑战赛公开数据-初赛/交通场景运输车辆赛题-测试集/测试集2/Imgs/32048B.jpg: 352x640 2 cars, 1 truck, 6.3ms\n",
      "Speed: 1.7ms preprocess, 6.3ms inference, 0.9ms postprocess per image at shape (1, 3, 640, 640)\n",
      "\n"
     ]
    },
    {
     "name": "stdout",
     "output_type": "stream",
     "text": [
      "['truck', 'car', 'truck']\n",
      "['truck', 'car', 'car']\n"
     ]
    },
    {
     "name": "stderr",
     "output_type": "stream",
     "text": [
      "image 1/1 /home/lyz/work/kaggle/科大讯飞2023/交通场景运输车辆外廓视觉测量挑战赛/交通场景运输车辆外廓视觉测量挑战赛公开数据-初赛/交通场景运输车辆赛题-测试集/测试集2/Imgs/32049A.jpg: 352x640 1 person, 1 car, 1 truck, 6.3ms\n",
      "Speed: 1.8ms preprocess, 6.3ms inference, 1.0ms postprocess per image at shape (1, 3, 640, 640)\n",
      "\n",
      "image 1/1 /home/lyz/work/kaggle/科大讯飞2023/交通场景运输车辆外廓视觉测量挑战赛/交通场景运输车辆外廓视觉测量挑战赛公开数据-初赛/交通场景运输车辆赛题-测试集/测试集2/Imgs/32049B.jpg: 352x640 1 car, 1 truck, 6.3ms\n",
      "Speed: 1.7ms preprocess, 6.3ms inference, 0.9ms postprocess per image at shape (1, 3, 640, 640)\n",
      "\n"
     ]
    },
    {
     "name": "stdout",
     "output_type": "stream",
     "text": [
      "['truck', 'car', 'person']\n",
      "['truck', 'car']\n"
     ]
    },
    {
     "name": "stderr",
     "output_type": "stream",
     "text": [
      "image 1/1 /home/lyz/work/kaggle/科大讯飞2023/交通场景运输车辆外廓视觉测量挑战赛/交通场景运输车辆外廓视觉测量挑战赛公开数据-初赛/交通场景运输车辆赛题-测试集/测试集2/Imgs/32050A.jpg: 352x640 2 persons, 1 truck, 6.3ms\n",
      "Speed: 1.8ms preprocess, 6.3ms inference, 1.0ms postprocess per image at shape (1, 3, 640, 640)\n",
      "\n",
      "image 1/1 /home/lyz/work/kaggle/科大讯飞2023/交通场景运输车辆外廓视觉测量挑战赛/交通场景运输车辆外廓视觉测量挑战赛公开数据-初赛/交通场景运输车辆赛题-测试集/测试集2/Imgs/32050B.jpg: 352x640 1 car, 1 truck, 6.3ms\n",
      "Speed: 1.7ms preprocess, 6.3ms inference, 0.9ms postprocess per image at shape (1, 3, 640, 640)\n",
      "\n"
     ]
    },
    {
     "name": "stdout",
     "output_type": "stream",
     "text": [
      "['truck', 'person', 'person']\n",
      "['truck', 'car']\n"
     ]
    },
    {
     "name": "stderr",
     "output_type": "stream",
     "text": [
      "image 1/1 /home/lyz/work/kaggle/科大讯飞2023/交通场景运输车辆外廓视觉测量挑战赛/交通场景运输车辆外廓视觉测量挑战赛公开数据-初赛/交通场景运输车辆赛题-测试集/测试集2/Imgs/32051A.jpg: 352x640 2 cars, 2 trucks, 6.2ms\n",
      "Speed: 1.7ms preprocess, 6.2ms inference, 0.9ms postprocess per image at shape (1, 3, 640, 640)\n",
      "\n",
      "image 1/1 /home/lyz/work/kaggle/科大讯飞2023/交通场景运输车辆外廓视觉测量挑战赛/交通场景运输车辆外廓视觉测量挑战赛公开数据-初赛/交通场景运输车辆赛题-测试集/测试集2/Imgs/32051B.jpg: 352x640 1 person, 1 car, 2 trucks, 1 fire hydrant, 1 sports ball, 6.3ms\n",
      "Speed: 1.7ms preprocess, 6.3ms inference, 0.9ms postprocess per image at shape (1, 3, 640, 640)\n",
      "\n"
     ]
    },
    {
     "name": "stdout",
     "output_type": "stream",
     "text": [
      "['truck', 'truck', 'car', 'car']\n",
      "['truck', 'truck', 'car', 'sports ball', 'person', 'fire hydrant']\n"
     ]
    },
    {
     "name": "stderr",
     "output_type": "stream",
     "text": [
      "image 1/1 /home/lyz/work/kaggle/科大讯飞2023/交通场景运输车辆外廓视觉测量挑战赛/交通场景运输车辆外廓视觉测量挑战赛公开数据-初赛/交通场景运输车辆赛题-测试集/测试集2/Imgs/32052A.jpg: 352x640 1 car, 2 trucks, 6.3ms\n",
      "Speed: 1.8ms preprocess, 6.3ms inference, 0.9ms postprocess per image at shape (1, 3, 640, 640)\n",
      "\n",
      "image 1/1 /home/lyz/work/kaggle/科大讯飞2023/交通场景运输车辆外廓视觉测量挑战赛/交通场景运输车辆外廓视觉测量挑战赛公开数据-初赛/交通场景运输车辆赛题-测试集/测试集2/Imgs/32052B.jpg: 352x640 1 person, 2 trucks, 6.2ms\n",
      "Speed: 1.7ms preprocess, 6.2ms inference, 0.9ms postprocess per image at shape (1, 3, 640, 640)\n",
      "\n"
     ]
    },
    {
     "name": "stdout",
     "output_type": "stream",
     "text": [
      "['truck', 'car', 'truck']\n",
      "['truck', 'truck', 'person']\n"
     ]
    },
    {
     "name": "stderr",
     "output_type": "stream",
     "text": [
      "image 1/1 /home/lyz/work/kaggle/科大讯飞2023/交通场景运输车辆外廓视觉测量挑战赛/交通场景运输车辆外廓视觉测量挑战赛公开数据-初赛/交通场景运输车辆赛题-测试集/测试集2/Imgs/32053A.jpg: 352x640 1 car, 2 trucks, 6.3ms\n",
      "Speed: 1.7ms preprocess, 6.3ms inference, 0.9ms postprocess per image at shape (1, 3, 640, 640)\n",
      "\n",
      "image 1/1 /home/lyz/work/kaggle/科大讯飞2023/交通场景运输车辆外廓视觉测量挑战赛/交通场景运输车辆外廓视觉测量挑战赛公开数据-初赛/交通场景运输车辆赛题-测试集/测试集2/Imgs/32053B.jpg: 352x640 2 persons, 1 truck, 6.2ms\n",
      "Speed: 1.7ms preprocess, 6.2ms inference, 0.9ms postprocess per image at shape (1, 3, 640, 640)\n",
      "\n"
     ]
    },
    {
     "name": "stdout",
     "output_type": "stream",
     "text": [
      "['truck', 'truck', 'car']\n",
      "['truck', 'person', 'person']\n"
     ]
    },
    {
     "name": "stderr",
     "output_type": "stream",
     "text": [
      "image 1/1 /home/lyz/work/kaggle/科大讯飞2023/交通场景运输车辆外廓视觉测量挑战赛/交通场景运输车辆外廓视觉测量挑战赛公开数据-初赛/交通场景运输车辆赛题-测试集/测试集2/Imgs/32054A.jpg: 352x640 2 cars, 2 trucks, 6.3ms\n",
      "Speed: 1.7ms preprocess, 6.3ms inference, 0.9ms postprocess per image at shape (1, 3, 640, 640)\n",
      "\n",
      "image 1/1 /home/lyz/work/kaggle/科大讯飞2023/交通场景运输车辆外廓视觉测量挑战赛/交通场景运输车辆外廓视觉测量挑战赛公开数据-初赛/交通场景运输车辆赛题-测试集/测试集2/Imgs/32054B.jpg: 352x640 2 trucks, 6.3ms\n",
      "Speed: 1.8ms preprocess, 6.3ms inference, 0.9ms postprocess per image at shape (1, 3, 640, 640)\n",
      "\n"
     ]
    },
    {
     "name": "stdout",
     "output_type": "stream",
     "text": [
      "['truck', 'car', 'truck', 'car']\n",
      "['truck', 'truck']\n"
     ]
    },
    {
     "name": "stderr",
     "output_type": "stream",
     "text": [
      "image 1/1 /home/lyz/work/kaggle/科大讯飞2023/交通场景运输车辆外廓视觉测量挑战赛/交通场景运输车辆外廓视觉测量挑战赛公开数据-初赛/交通场景运输车辆赛题-测试集/测试集2/Imgs/32055A.jpg: 352x640 1 car, 2 trucks, 6.3ms\n",
      "Speed: 1.8ms preprocess, 6.3ms inference, 0.9ms postprocess per image at shape (1, 3, 640, 640)\n",
      "\n",
      "image 1/1 /home/lyz/work/kaggle/科大讯飞2023/交通场景运输车辆外廓视觉测量挑战赛/交通场景运输车辆外廓视觉测量挑战赛公开数据-初赛/交通场景运输车辆赛题-测试集/测试集2/Imgs/32055B.jpg: 352x640 1 truck, 6.3ms\n",
      "Speed: 1.7ms preprocess, 6.3ms inference, 0.9ms postprocess per image at shape (1, 3, 640, 640)\n",
      "\n"
     ]
    },
    {
     "name": "stdout",
     "output_type": "stream",
     "text": [
      "['truck', 'car', 'truck']\n",
      "['truck']\n"
     ]
    },
    {
     "name": "stderr",
     "output_type": "stream",
     "text": [
      "image 1/1 /home/lyz/work/kaggle/科大讯飞2023/交通场景运输车辆外廓视觉测量挑战赛/交通场景运输车辆外廓视觉测量挑战赛公开数据-初赛/交通场景运输车辆赛题-测试集/测试集2/Imgs/32056A.jpg: 352x640 1 car, 2 trucks, 6.3ms\n",
      "Speed: 1.7ms preprocess, 6.3ms inference, 0.9ms postprocess per image at shape (1, 3, 640, 640)\n",
      "\n",
      "image 1/1 /home/lyz/work/kaggle/科大讯飞2023/交通场景运输车辆外廓视觉测量挑战赛/交通场景运输车辆外廓视觉测量挑战赛公开数据-初赛/交通场景运输车辆赛题-测试集/测试集2/Imgs/32056B.jpg: 352x640 1 truck, 6.3ms\n",
      "Speed: 1.7ms preprocess, 6.3ms inference, 0.9ms postprocess per image at shape (1, 3, 640, 640)\n",
      "\n"
     ]
    },
    {
     "name": "stdout",
     "output_type": "stream",
     "text": [
      "['truck', 'truck', 'car']\n",
      "['truck']\n"
     ]
    },
    {
     "name": "stderr",
     "output_type": "stream",
     "text": [
      "image 1/1 /home/lyz/work/kaggle/科大讯飞2023/交通场景运输车辆外廓视觉测量挑战赛/交通场景运输车辆外廓视觉测量挑战赛公开数据-初赛/交通场景运输车辆赛题-测试集/测试集2/Imgs/32057A.jpg: 352x640 1 car, 2 trucks, 6.3ms\n",
      "Speed: 1.7ms preprocess, 6.3ms inference, 0.9ms postprocess per image at shape (1, 3, 640, 640)\n",
      "\n",
      "image 1/1 /home/lyz/work/kaggle/科大讯飞2023/交通场景运输车辆外廓视觉测量挑战赛/交通场景运输车辆外廓视觉测量挑战赛公开数据-初赛/交通场景运输车辆赛题-测试集/测试集2/Imgs/32057B.jpg: 352x640 1 truck, 6.3ms\n",
      "Speed: 1.7ms preprocess, 6.3ms inference, 0.9ms postprocess per image at shape (1, 3, 640, 640)\n",
      "\n"
     ]
    },
    {
     "name": "stdout",
     "output_type": "stream",
     "text": [
      "['truck', 'truck', 'car']\n",
      "['truck']\n"
     ]
    },
    {
     "name": "stderr",
     "output_type": "stream",
     "text": [
      "image 1/1 /home/lyz/work/kaggle/科大讯飞2023/交通场景运输车辆外廓视觉测量挑战赛/交通场景运输车辆外廓视觉测量挑战赛公开数据-初赛/交通场景运输车辆赛题-测试集/测试集2/Imgs/32058A.jpg: 352x640 1 car, 2 trucks, 6.3ms\n",
      "Speed: 1.8ms preprocess, 6.3ms inference, 0.9ms postprocess per image at shape (1, 3, 640, 640)\n",
      "\n",
      "image 1/1 /home/lyz/work/kaggle/科大讯飞2023/交通场景运输车辆外廓视觉测量挑战赛/交通场景运输车辆外廓视觉测量挑战赛公开数据-初赛/交通场景运输车辆赛题-测试集/测试集2/Imgs/32058B.jpg: 352x640 1 car, 1 truck, 6.2ms\n",
      "Speed: 1.7ms preprocess, 6.2ms inference, 0.9ms postprocess per image at shape (1, 3, 640, 640)\n",
      "\n"
     ]
    },
    {
     "name": "stdout",
     "output_type": "stream",
     "text": [
      "['truck', 'truck', 'car']\n",
      "['truck', 'car']\n"
     ]
    },
    {
     "name": "stderr",
     "output_type": "stream",
     "text": [
      "image 1/1 /home/lyz/work/kaggle/科大讯飞2023/交通场景运输车辆外廓视觉测量挑战赛/交通场景运输车辆外廓视觉测量挑战赛公开数据-初赛/交通场景运输车辆赛题-测试集/测试集2/Imgs/32059A.jpg: 352x640 1 person, 1 car, 2 trucks, 6.3ms\n",
      "Speed: 1.7ms preprocess, 6.3ms inference, 0.9ms postprocess per image at shape (1, 3, 640, 640)\n",
      "\n",
      "image 1/1 /home/lyz/work/kaggle/科大讯飞2023/交通场景运输车辆外廓视觉测量挑战赛/交通场景运输车辆外廓视觉测量挑战赛公开数据-初赛/交通场景运输车辆赛题-测试集/测试集2/Imgs/32059B.jpg: 352x640 1 truck, 6.2ms\n",
      "Speed: 1.7ms preprocess, 6.2ms inference, 0.9ms postprocess per image at shape (1, 3, 640, 640)\n",
      "\n"
     ]
    },
    {
     "name": "stdout",
     "output_type": "stream",
     "text": [
      "['truck', 'car', 'truck', 'person']\n",
      "['truck']\n"
     ]
    },
    {
     "name": "stderr",
     "output_type": "stream",
     "text": [
      "image 1/1 /home/lyz/work/kaggle/科大讯飞2023/交通场景运输车辆外廓视觉测量挑战赛/交通场景运输车辆外廓视觉测量挑战赛公开数据-初赛/交通场景运输车辆赛题-测试集/测试集2/Imgs/32060A.jpg: 352x640 2 cars, 1 truck, 6.2ms\n",
      "Speed: 1.7ms preprocess, 6.2ms inference, 0.9ms postprocess per image at shape (1, 3, 640, 640)\n",
      "\n",
      "image 1/1 /home/lyz/work/kaggle/科大讯飞2023/交通场景运输车辆外廓视觉测量挑战赛/交通场景运输车辆外廓视觉测量挑战赛公开数据-初赛/交通场景运输车辆赛题-测试集/测试集2/Imgs/32060B.jpg: 352x640 2 cars, 1 truck, 6.3ms\n",
      "Speed: 1.7ms preprocess, 6.3ms inference, 0.9ms postprocess per image at shape (1, 3, 640, 640)\n",
      "\n"
     ]
    },
    {
     "name": "stdout",
     "output_type": "stream",
     "text": [
      "['truck', 'car', 'car']\n",
      "['truck', 'car', 'car']\n"
     ]
    },
    {
     "name": "stderr",
     "output_type": "stream",
     "text": [
      "image 1/1 /home/lyz/work/kaggle/科大讯飞2023/交通场景运输车辆外廓视觉测量挑战赛/交通场景运输车辆外廓视觉测量挑战赛公开数据-初赛/交通场景运输车辆赛题-测试集/测试集2/Imgs/32061A.jpg: 352x640 2 trucks, 6.3ms\n",
      "Speed: 1.8ms preprocess, 6.3ms inference, 0.9ms postprocess per image at shape (1, 3, 640, 640)\n",
      "\n",
      "image 1/1 /home/lyz/work/kaggle/科大讯飞2023/交通场景运输车辆外廓视觉测量挑战赛/交通场景运输车辆外廓视觉测量挑战赛公开数据-初赛/交通场景运输车辆赛题-测试集/测试集2/Imgs/32061B.jpg: 352x640 2 trucks, 6.3ms\n",
      "Speed: 1.7ms preprocess, 6.3ms inference, 1.0ms postprocess per image at shape (1, 3, 640, 640)\n",
      "\n"
     ]
    },
    {
     "name": "stdout",
     "output_type": "stream",
     "text": [
      "['truck', 'truck']\n",
      "['truck', 'truck']\n"
     ]
    },
    {
     "name": "stderr",
     "output_type": "stream",
     "text": [
      "image 1/1 /home/lyz/work/kaggle/科大讯飞2023/交通场景运输车辆外廓视觉测量挑战赛/交通场景运输车辆外廓视觉测量挑战赛公开数据-初赛/交通场景运输车辆赛题-测试集/测试集2/Imgs/32062A.jpg: 352x640 1 bus, 2 trucks, 6.3ms\n",
      "Speed: 1.8ms preprocess, 6.3ms inference, 0.9ms postprocess per image at shape (1, 3, 640, 640)\n",
      "\n",
      "image 1/1 /home/lyz/work/kaggle/科大讯飞2023/交通场景运输车辆外廓视觉测量挑战赛/交通场景运输车辆外廓视觉测量挑战赛公开数据-初赛/交通场景运输车辆赛题-测试集/测试集2/Imgs/32062B.jpg: 352x640 3 trucks, 6.2ms\n",
      "Speed: 1.7ms preprocess, 6.2ms inference, 0.9ms postprocess per image at shape (1, 3, 640, 640)\n",
      "\n"
     ]
    },
    {
     "name": "stdout",
     "output_type": "stream",
     "text": [
      "['truck', 'bus', 'truck']\n",
      "['truck', 'truck', 'truck']\n"
     ]
    },
    {
     "name": "stderr",
     "output_type": "stream",
     "text": [
      "image 1/1 /home/lyz/work/kaggle/科大讯飞2023/交通场景运输车辆外廓视觉测量挑战赛/交通场景运输车辆外廓视觉测量挑战赛公开数据-初赛/交通场景运输车辆赛题-测试集/测试集2/Imgs/32063A.jpg: 352x640 1 person, 1 truck, 6.2ms\n",
      "Speed: 1.7ms preprocess, 6.2ms inference, 0.9ms postprocess per image at shape (1, 3, 640, 640)\n",
      "\n",
      "image 1/1 /home/lyz/work/kaggle/科大讯飞2023/交通场景运输车辆外廓视觉测量挑战赛/交通场景运输车辆外廓视觉测量挑战赛公开数据-初赛/交通场景运输车辆赛题-测试集/测试集2/Imgs/32063B.jpg: 352x640 1 person, 1 bus, 6.3ms\n",
      "Speed: 1.8ms preprocess, 6.3ms inference, 0.9ms postprocess per image at shape (1, 3, 640, 640)\n",
      "\n"
     ]
    },
    {
     "name": "stdout",
     "output_type": "stream",
     "text": [
      "['truck', 'person']\n",
      "['bus', 'person']\n"
     ]
    },
    {
     "name": "stderr",
     "output_type": "stream",
     "text": [
      "image 1/1 /home/lyz/work/kaggle/科大讯飞2023/交通场景运输车辆外廓视觉测量挑战赛/交通场景运输车辆外廓视觉测量挑战赛公开数据-初赛/交通场景运输车辆赛题-测试集/测试集2/Imgs/32064A.jpg: 352x640 1 person, 1 car, 1 truck, 6.3ms\n",
      "Speed: 1.8ms preprocess, 6.3ms inference, 1.0ms postprocess per image at shape (1, 3, 640, 640)\n",
      "\n",
      "image 1/1 /home/lyz/work/kaggle/科大讯飞2023/交通场景运输车辆外廓视觉测量挑战赛/交通场景运输车辆外廓视觉测量挑战赛公开数据-初赛/交通场景运输车辆赛题-测试集/测试集2/Imgs/32064B.jpg: 352x640 1 person, 2 cars, 1 truck, 6.3ms\n",
      "Speed: 1.7ms preprocess, 6.3ms inference, 0.9ms postprocess per image at shape (1, 3, 640, 640)\n",
      "\n"
     ]
    },
    {
     "name": "stdout",
     "output_type": "stream",
     "text": [
      "['truck', 'car', 'person']\n",
      "['truck', 'car', 'car', 'person']\n"
     ]
    },
    {
     "name": "stderr",
     "output_type": "stream",
     "text": [
      "image 1/1 /home/lyz/work/kaggle/科大讯飞2023/交通场景运输车辆外廓视觉测量挑战赛/交通场景运输车辆外廓视觉测量挑战赛公开数据-初赛/交通场景运输车辆赛题-测试集/测试集2/Imgs/32065A.jpg: 352x640 2 trucks, 6.3ms\n",
      "Speed: 1.8ms preprocess, 6.3ms inference, 0.9ms postprocess per image at shape (1, 3, 640, 640)\n",
      "\n",
      "image 1/1 /home/lyz/work/kaggle/科大讯飞2023/交通场景运输车辆外廓视觉测量挑战赛/交通场景运输车辆外廓视觉测量挑战赛公开数据-初赛/交通场景运输车辆赛题-测试集/测试集2/Imgs/32065B.jpg: 352x640 2 trucks, 1 sports ball, 6.2ms\n",
      "Speed: 1.7ms preprocess, 6.2ms inference, 0.9ms postprocess per image at shape (1, 3, 640, 640)\n",
      "\n"
     ]
    },
    {
     "name": "stdout",
     "output_type": "stream",
     "text": [
      "['truck', 'truck']\n",
      "['truck', 'truck', 'sports ball']\n"
     ]
    },
    {
     "name": "stderr",
     "output_type": "stream",
     "text": [
      "image 1/1 /home/lyz/work/kaggle/科大讯飞2023/交通场景运输车辆外廓视觉测量挑战赛/交通场景运输车辆外廓视觉测量挑战赛公开数据-初赛/交通场景运输车辆赛题-测试集/测试集2/Imgs/32066A.jpg: 352x640 1 car, 1 truck, 6.3ms\n",
      "Speed: 1.7ms preprocess, 6.3ms inference, 0.9ms postprocess per image at shape (1, 3, 640, 640)\n",
      "\n",
      "image 1/1 /home/lyz/work/kaggle/科大讯飞2023/交通场景运输车辆外廓视觉测量挑战赛/交通场景运输车辆外廓视觉测量挑战赛公开数据-初赛/交通场景运输车辆赛题-测试集/测试集2/Imgs/32066B.jpg: 352x640 1 car, 1 truck, 6.3ms\n",
      "Speed: 1.7ms preprocess, 6.3ms inference, 0.9ms postprocess per image at shape (1, 3, 640, 640)\n",
      "\n"
     ]
    },
    {
     "name": "stdout",
     "output_type": "stream",
     "text": [
      "['car', 'truck']\n",
      "['truck', 'car']\n"
     ]
    },
    {
     "name": "stderr",
     "output_type": "stream",
     "text": [
      "image 1/1 /home/lyz/work/kaggle/科大讯飞2023/交通场景运输车辆外廓视觉测量挑战赛/交通场景运输车辆外廓视觉测量挑战赛公开数据-初赛/交通场景运输车辆赛题-测试集/测试集2/Imgs/32067A.jpg: 352x640 1 truck, 6.3ms\n",
      "Speed: 1.8ms preprocess, 6.3ms inference, 0.9ms postprocess per image at shape (1, 3, 640, 640)\n",
      "\n",
      "image 1/1 /home/lyz/work/kaggle/科大讯飞2023/交通场景运输车辆外廓视觉测量挑战赛/交通场景运输车辆外廓视觉测量挑战赛公开数据-初赛/交通场景运输车辆赛题-测试集/测试集2/Imgs/32067B.jpg: 352x640 1 truck, 6.3ms\n",
      "Speed: 1.8ms preprocess, 6.3ms inference, 1.0ms postprocess per image at shape (1, 3, 640, 640)\n",
      "\n"
     ]
    },
    {
     "name": "stdout",
     "output_type": "stream",
     "text": [
      "['truck']\n",
      "['truck']\n"
     ]
    },
    {
     "name": "stderr",
     "output_type": "stream",
     "text": [
      "image 1/1 /home/lyz/work/kaggle/科大讯飞2023/交通场景运输车辆外廓视觉测量挑战赛/交通场景运输车辆外廓视觉测量挑战赛公开数据-初赛/交通场景运输车辆赛题-测试集/测试集2/Imgs/32068A.jpg: 352x640 1 truck, 6.3ms\n",
      "Speed: 1.7ms preprocess, 6.3ms inference, 0.9ms postprocess per image at shape (1, 3, 640, 640)\n",
      "\n",
      "image 1/1 /home/lyz/work/kaggle/科大讯飞2023/交通场景运输车辆外廓视觉测量挑战赛/交通场景运输车辆外廓视觉测量挑战赛公开数据-初赛/交通场景运输车辆赛题-测试集/测试集2/Imgs/32068B.jpg: 352x640 1 truck, 6.3ms\n",
      "Speed: 1.7ms preprocess, 6.3ms inference, 0.9ms postprocess per image at shape (1, 3, 640, 640)\n",
      "\n"
     ]
    },
    {
     "name": "stdout",
     "output_type": "stream",
     "text": [
      "['truck']\n",
      "['truck']\n"
     ]
    },
    {
     "name": "stderr",
     "output_type": "stream",
     "text": [
      "image 1/1 /home/lyz/work/kaggle/科大讯飞2023/交通场景运输车辆外廓视觉测量挑战赛/交通场景运输车辆外廓视觉测量挑战赛公开数据-初赛/交通场景运输车辆赛题-测试集/测试集2/Imgs/32069A.jpg: 352x640 1 person, 1 car, 1 truck, 6.3ms\n",
      "Speed: 1.7ms preprocess, 6.3ms inference, 0.9ms postprocess per image at shape (1, 3, 640, 640)\n",
      "\n",
      "image 1/1 /home/lyz/work/kaggle/科大讯飞2023/交通场景运输车辆外廓视觉测量挑战赛/交通场景运输车辆外廓视觉测量挑战赛公开数据-初赛/交通场景运输车辆赛题-测试集/测试集2/Imgs/32069B.jpg: 352x640 1 car, 1 truck, 6.2ms\n",
      "Speed: 1.7ms preprocess, 6.2ms inference, 0.9ms postprocess per image at shape (1, 3, 640, 640)\n",
      "\n"
     ]
    },
    {
     "name": "stdout",
     "output_type": "stream",
     "text": [
      "['truck', 'car', 'person']\n",
      "['truck', 'car']\n"
     ]
    },
    {
     "name": "stderr",
     "output_type": "stream",
     "text": [
      "image 1/1 /home/lyz/work/kaggle/科大讯飞2023/交通场景运输车辆外廓视觉测量挑战赛/交通场景运输车辆外廓视觉测量挑战赛公开数据-初赛/交通场景运输车辆赛题-测试集/测试集2/Imgs/32070A.jpg: 352x640 1 person, 1 car, 1 truck, 6.3ms\n",
      "Speed: 1.7ms preprocess, 6.3ms inference, 0.9ms postprocess per image at shape (1, 3, 640, 640)\n",
      "\n",
      "image 1/1 /home/lyz/work/kaggle/科大讯飞2023/交通场景运输车辆外廓视觉测量挑战赛/交通场景运输车辆外廓视觉测量挑战赛公开数据-初赛/交通场景运输车辆赛题-测试集/测试集2/Imgs/32070B.jpg: 352x640 1 person, 1 car, 1 truck, 6.3ms\n",
      "Speed: 1.8ms preprocess, 6.3ms inference, 0.9ms postprocess per image at shape (1, 3, 640, 640)\n",
      "\n"
     ]
    },
    {
     "name": "stdout",
     "output_type": "stream",
     "text": [
      "['truck', 'car', 'person']\n",
      "['truck', 'car', 'person']\n"
     ]
    },
    {
     "name": "stderr",
     "output_type": "stream",
     "text": [
      "image 1/1 /home/lyz/work/kaggle/科大讯飞2023/交通场景运输车辆外廓视觉测量挑战赛/交通场景运输车辆外廓视觉测量挑战赛公开数据-初赛/交通场景运输车辆赛题-测试集/测试集2/Imgs/32071A.jpg: 352x640 1 person, 1 bus, 1 truck, 6.3ms\n",
      "Speed: 1.7ms preprocess, 6.3ms inference, 1.0ms postprocess per image at shape (1, 3, 640, 640)\n",
      "\n",
      "image 1/1 /home/lyz/work/kaggle/科大讯飞2023/交通场景运输车辆外廓视觉测量挑战赛/交通场景运输车辆外廓视觉测量挑战赛公开数据-初赛/交通场景运输车辆赛题-测试集/测试集2/Imgs/32071B.jpg: 352x640 1 truck, 6.2ms\n",
      "Speed: 1.7ms preprocess, 6.2ms inference, 0.9ms postprocess per image at shape (1, 3, 640, 640)\n",
      "\n"
     ]
    },
    {
     "name": "stdout",
     "output_type": "stream",
     "text": [
      "['truck', 'person', 'bus']\n",
      "['truck']\n"
     ]
    },
    {
     "name": "stderr",
     "output_type": "stream",
     "text": [
      "image 1/1 /home/lyz/work/kaggle/科大讯飞2023/交通场景运输车辆外廓视觉测量挑战赛/交通场景运输车辆外廓视觉测量挑战赛公开数据-初赛/交通场景运输车辆赛题-测试集/测试集2/Imgs/32072A.jpg: 352x640 1 person, 1 truck, 6.3ms\n",
      "Speed: 1.7ms preprocess, 6.3ms inference, 0.9ms postprocess per image at shape (1, 3, 640, 640)\n",
      "\n",
      "image 1/1 /home/lyz/work/kaggle/科大讯飞2023/交通场景运输车辆外廓视觉测量挑战赛/交通场景运输车辆外廓视觉测量挑战赛公开数据-初赛/交通场景运输车辆赛题-测试集/测试集2/Imgs/32072B.jpg: 352x640 1 truck, 6.2ms\n",
      "Speed: 1.7ms preprocess, 6.2ms inference, 0.9ms postprocess per image at shape (1, 3, 640, 640)\n",
      "\n"
     ]
    },
    {
     "name": "stdout",
     "output_type": "stream",
     "text": [
      "['truck', 'person']\n",
      "['truck']\n"
     ]
    },
    {
     "name": "stderr",
     "output_type": "stream",
     "text": [
      "image 1/1 /home/lyz/work/kaggle/科大讯飞2023/交通场景运输车辆外廓视觉测量挑战赛/交通场景运输车辆外廓视觉测量挑战赛公开数据-初赛/交通场景运输车辆赛题-测试集/测试集2/Imgs/32073A.jpg: 352x640 1 person, 1 truck, 6.3ms\n",
      "Speed: 1.8ms preprocess, 6.3ms inference, 1.0ms postprocess per image at shape (1, 3, 640, 640)\n",
      "\n",
      "image 1/1 /home/lyz/work/kaggle/科大讯飞2023/交通场景运输车辆外廓视觉测量挑战赛/交通场景运输车辆外廓视觉测量挑战赛公开数据-初赛/交通场景运输车辆赛题-测试集/测试集2/Imgs/32073B.jpg: 352x640 1 person, 1 truck, 6.3ms\n",
      "Speed: 1.8ms preprocess, 6.3ms inference, 0.9ms postprocess per image at shape (1, 3, 640, 640)\n",
      "\n"
     ]
    },
    {
     "name": "stdout",
     "output_type": "stream",
     "text": [
      "['truck', 'person']\n",
      "['truck', 'person']\n"
     ]
    },
    {
     "name": "stderr",
     "output_type": "stream",
     "text": [
      "image 1/1 /home/lyz/work/kaggle/科大讯飞2023/交通场景运输车辆外廓视觉测量挑战赛/交通场景运输车辆外廓视觉测量挑战赛公开数据-初赛/交通场景运输车辆赛题-测试集/测试集2/Imgs/32074A.jpg: 352x640 2 cars, 2 trucks, 6.3ms\n",
      "Speed: 1.7ms preprocess, 6.3ms inference, 0.9ms postprocess per image at shape (1, 3, 640, 640)\n",
      "\n",
      "image 1/1 /home/lyz/work/kaggle/科大讯飞2023/交通场景运输车辆外廓视觉测量挑战赛/交通场景运输车辆外廓视觉测量挑战赛公开数据-初赛/交通场景运输车辆赛题-测试集/测试集2/Imgs/32074B.jpg: 352x640 1 person, 1 car, 3 trucks, 6.2ms\n",
      "Speed: 1.7ms preprocess, 6.2ms inference, 0.9ms postprocess per image at shape (1, 3, 640, 640)\n",
      "\n"
     ]
    },
    {
     "name": "stdout",
     "output_type": "stream",
     "text": [
      "['truck', 'car', 'car', 'truck']\n",
      "['truck', 'car', 'person', 'truck', 'truck']\n"
     ]
    },
    {
     "name": "stderr",
     "output_type": "stream",
     "text": [
      "image 1/1 /home/lyz/work/kaggle/科大讯飞2023/交通场景运输车辆外廓视觉测量挑战赛/交通场景运输车辆外廓视觉测量挑战赛公开数据-初赛/交通场景运输车辆赛题-测试集/测试集2/Imgs/32075A.jpg: 352x640 1 truck, 6.2ms\n",
      "Speed: 1.7ms preprocess, 6.2ms inference, 0.9ms postprocess per image at shape (1, 3, 640, 640)\n",
      "\n",
      "image 1/1 /home/lyz/work/kaggle/科大讯飞2023/交通场景运输车辆外廓视觉测量挑战赛/交通场景运输车辆外廓视觉测量挑战赛公开数据-初赛/交通场景运输车辆赛题-测试集/测试集2/Imgs/32075B.jpg: 352x640 1 truck, 6.2ms\n",
      "Speed: 1.7ms preprocess, 6.2ms inference, 0.9ms postprocess per image at shape (1, 3, 640, 640)\n",
      "\n"
     ]
    },
    {
     "name": "stdout",
     "output_type": "stream",
     "text": [
      "['truck']\n",
      "['truck']\n"
     ]
    },
    {
     "name": "stderr",
     "output_type": "stream",
     "text": [
      "image 1/1 /home/lyz/work/kaggle/科大讯飞2023/交通场景运输车辆外廓视觉测量挑战赛/交通场景运输车辆外廓视觉测量挑战赛公开数据-初赛/交通场景运输车辆赛题-测试集/测试集2/Imgs/32076A.jpg: 352x640 1 truck, 6.3ms\n",
      "Speed: 1.7ms preprocess, 6.3ms inference, 0.9ms postprocess per image at shape (1, 3, 640, 640)\n",
      "\n",
      "image 1/1 /home/lyz/work/kaggle/科大讯飞2023/交通场景运输车辆外廓视觉测量挑战赛/交通场景运输车辆外廓视觉测量挑战赛公开数据-初赛/交通场景运输车辆赛题-测试集/测试集2/Imgs/32076B.jpg: 352x640 1 bus, 2 trucks, 6.3ms\n",
      "Speed: 1.7ms preprocess, 6.3ms inference, 0.9ms postprocess per image at shape (1, 3, 640, 640)\n",
      "\n"
     ]
    },
    {
     "name": "stdout",
     "output_type": "stream",
     "text": [
      "['truck']\n",
      "['truck', 'truck', 'bus']\n"
     ]
    },
    {
     "name": "stderr",
     "output_type": "stream",
     "text": [
      "image 1/1 /home/lyz/work/kaggle/科大讯飞2023/交通场景运输车辆外廓视觉测量挑战赛/交通场景运输车辆外廓视觉测量挑战赛公开数据-初赛/交通场景运输车辆赛题-测试集/测试集2/Imgs/32077A.jpg: 352x640 1 truck, 6.3ms\n",
      "Speed: 1.8ms preprocess, 6.3ms inference, 0.9ms postprocess per image at shape (1, 3, 640, 640)\n",
      "\n",
      "image 1/1 /home/lyz/work/kaggle/科大讯飞2023/交通场景运输车辆外廓视觉测量挑战赛/交通场景运输车辆外廓视觉测量挑战赛公开数据-初赛/交通场景运输车辆赛题-测试集/测试集2/Imgs/32077B.jpg: 352x640 1 truck, 6.3ms\n",
      "Speed: 1.7ms preprocess, 6.3ms inference, 0.9ms postprocess per image at shape (1, 3, 640, 640)\n",
      "\n"
     ]
    },
    {
     "name": "stdout",
     "output_type": "stream",
     "text": [
      "['truck']\n",
      "['truck']\n"
     ]
    },
    {
     "name": "stderr",
     "output_type": "stream",
     "text": [
      "image 1/1 /home/lyz/work/kaggle/科大讯飞2023/交通场景运输车辆外廓视觉测量挑战赛/交通场景运输车辆外廓视觉测量挑战赛公开数据-初赛/交通场景运输车辆赛题-测试集/测试集2/Imgs/32078A.jpg: 352x640 1 car, 1 truck, 6.2ms\n",
      "Speed: 1.7ms preprocess, 6.2ms inference, 0.9ms postprocess per image at shape (1, 3, 640, 640)\n",
      "\n",
      "image 1/1 /home/lyz/work/kaggle/科大讯飞2023/交通场景运输车辆外廓视觉测量挑战赛/交通场景运输车辆外廓视觉测量挑战赛公开数据-初赛/交通场景运输车辆赛题-测试集/测试集2/Imgs/32078B.jpg: 352x640 1 car, 1 truck, 6.2ms\n",
      "Speed: 1.7ms preprocess, 6.2ms inference, 0.9ms postprocess per image at shape (1, 3, 640, 640)\n",
      "\n"
     ]
    },
    {
     "name": "stdout",
     "output_type": "stream",
     "text": [
      "['truck', 'car']\n",
      "['truck', 'car']\n"
     ]
    },
    {
     "name": "stderr",
     "output_type": "stream",
     "text": [
      "image 1/1 /home/lyz/work/kaggle/科大讯飞2023/交通场景运输车辆外廓视觉测量挑战赛/交通场景运输车辆外廓视觉测量挑战赛公开数据-初赛/交通场景运输车辆赛题-测试集/测试集2/Imgs/32079A.jpg: 352x640 1 car, 2 trucks, 6.3ms\n",
      "Speed: 1.7ms preprocess, 6.3ms inference, 1.0ms postprocess per image at shape (1, 3, 640, 640)\n",
      "\n",
      "image 1/1 /home/lyz/work/kaggle/科大讯飞2023/交通场景运输车辆外廓视觉测量挑战赛/交通场景运输车辆外廓视觉测量挑战赛公开数据-初赛/交通场景运输车辆赛题-测试集/测试集2/Imgs/32079B.jpg: 352x640 1 car, 3 trucks, 6.3ms\n",
      "Speed: 1.8ms preprocess, 6.3ms inference, 1.0ms postprocess per image at shape (1, 3, 640, 640)\n",
      "\n"
     ]
    },
    {
     "name": "stdout",
     "output_type": "stream",
     "text": [
      "['truck', 'car', 'truck']\n",
      "['truck', 'car', 'truck', 'truck']\n"
     ]
    },
    {
     "name": "stderr",
     "output_type": "stream",
     "text": [
      "image 1/1 /home/lyz/work/kaggle/科大讯飞2023/交通场景运输车辆外廓视觉测量挑战赛/交通场景运输车辆外廓视觉测量挑战赛公开数据-初赛/交通场景运输车辆赛题-测试集/测试集2/Imgs/32080A.jpg: 352x640 1 person, 1 truck, 6.3ms\n",
      "Speed: 1.8ms preprocess, 6.3ms inference, 0.9ms postprocess per image at shape (1, 3, 640, 640)\n",
      "\n",
      "image 1/1 /home/lyz/work/kaggle/科大讯飞2023/交通场景运输车辆外廓视觉测量挑战赛/交通场景运输车辆外廓视觉测量挑战赛公开数据-初赛/交通场景运输车辆赛题-测试集/测试集2/Imgs/32080B.jpg: 352x640 1 truck, 6.3ms\n",
      "Speed: 1.8ms preprocess, 6.3ms inference, 0.9ms postprocess per image at shape (1, 3, 640, 640)\n",
      "\n"
     ]
    },
    {
     "name": "stdout",
     "output_type": "stream",
     "text": [
      "['truck', 'person']\n",
      "['truck']\n"
     ]
    },
    {
     "name": "stderr",
     "output_type": "stream",
     "text": [
      "image 1/1 /home/lyz/work/kaggle/科大讯飞2023/交通场景运输车辆外廓视觉测量挑战赛/交通场景运输车辆外廓视觉测量挑战赛公开数据-初赛/交通场景运输车辆赛题-测试集/测试集2/Imgs/32081A.jpg: 352x640 1 bus, 1 truck, 6.3ms\n",
      "Speed: 1.8ms preprocess, 6.3ms inference, 1.1ms postprocess per image at shape (1, 3, 640, 640)\n",
      "\n",
      "image 1/1 /home/lyz/work/kaggle/科大讯飞2023/交通场景运输车辆外廓视觉测量挑战赛/交通场景运输车辆外廓视觉测量挑战赛公开数据-初赛/交通场景运输车辆赛题-测试集/测试集2/Imgs/32081B.jpg: 352x640 1 truck, 6.3ms\n",
      "Speed: 1.7ms preprocess, 6.3ms inference, 0.9ms postprocess per image at shape (1, 3, 640, 640)\n",
      "\n"
     ]
    },
    {
     "name": "stdout",
     "output_type": "stream",
     "text": [
      "['truck', 'bus']\n",
      "['truck']\n"
     ]
    },
    {
     "name": "stderr",
     "output_type": "stream",
     "text": [
      "image 1/1 /home/lyz/work/kaggle/科大讯飞2023/交通场景运输车辆外廓视觉测量挑战赛/交通场景运输车辆外廓视觉测量挑战赛公开数据-初赛/交通场景运输车辆赛题-测试集/测试集2/Imgs/32082A.jpg: 352x640 1 car, 1 bus, 1 truck, 6.2ms\n",
      "Speed: 1.7ms preprocess, 6.2ms inference, 0.9ms postprocess per image at shape (1, 3, 640, 640)\n",
      "\n",
      "image 1/1 /home/lyz/work/kaggle/科大讯飞2023/交通场景运输车辆外廓视觉测量挑战赛/交通场景运输车辆外廓视觉测量挑战赛公开数据-初赛/交通场景运输车辆赛题-测试集/测试集2/Imgs/32082B.jpg: 352x640 1 truck, 6.3ms\n",
      "Speed: 1.8ms preprocess, 6.3ms inference, 0.9ms postprocess per image at shape (1, 3, 640, 640)\n",
      "\n"
     ]
    },
    {
     "name": "stdout",
     "output_type": "stream",
     "text": [
      "['truck', 'bus', 'car']\n",
      "['truck']\n"
     ]
    },
    {
     "name": "stderr",
     "output_type": "stream",
     "text": [
      "image 1/1 /home/lyz/work/kaggle/科大讯飞2023/交通场景运输车辆外廓视觉测量挑战赛/交通场景运输车辆外廓视觉测量挑战赛公开数据-初赛/交通场景运输车辆赛题-测试集/测试集2/Imgs/32083A.jpg: 352x640 2 cars, 1 truck, 6.3ms\n",
      "Speed: 1.8ms preprocess, 6.3ms inference, 0.9ms postprocess per image at shape (1, 3, 640, 640)\n",
      "\n",
      "image 1/1 /home/lyz/work/kaggle/科大讯飞2023/交通场景运输车辆外廓视觉测量挑战赛/交通场景运输车辆外廓视觉测量挑战赛公开数据-初赛/交通场景运输车辆赛题-测试集/测试集2/Imgs/32083B.jpg: 352x640 1 car, 1 truck, 6.3ms\n",
      "Speed: 1.7ms preprocess, 6.3ms inference, 0.9ms postprocess per image at shape (1, 3, 640, 640)\n",
      "\n"
     ]
    },
    {
     "name": "stdout",
     "output_type": "stream",
     "text": [
      "['truck', 'car', 'car']\n",
      "['truck', 'car']\n"
     ]
    },
    {
     "name": "stderr",
     "output_type": "stream",
     "text": [
      "image 1/1 /home/lyz/work/kaggle/科大讯飞2023/交通场景运输车辆外廓视觉测量挑战赛/交通场景运输车辆外廓视觉测量挑战赛公开数据-初赛/交通场景运输车辆赛题-测试集/测试集2/Imgs/32084A.jpg: 352x640 2 trucks, 6.2ms\n",
      "Speed: 1.7ms preprocess, 6.2ms inference, 0.9ms postprocess per image at shape (1, 3, 640, 640)\n",
      "\n",
      "image 1/1 /home/lyz/work/kaggle/科大讯飞2023/交通场景运输车辆外廓视觉测量挑战赛/交通场景运输车辆外廓视觉测量挑战赛公开数据-初赛/交通场景运输车辆赛题-测试集/测试集2/Imgs/32084B.jpg: 352x640 1 truck, 6.2ms\n",
      "Speed: 1.7ms preprocess, 6.2ms inference, 0.9ms postprocess per image at shape (1, 3, 640, 640)\n",
      "\n"
     ]
    },
    {
     "name": "stdout",
     "output_type": "stream",
     "text": [
      "['truck', 'truck']\n",
      "['truck']\n"
     ]
    },
    {
     "name": "stderr",
     "output_type": "stream",
     "text": [
      "image 1/1 /home/lyz/work/kaggle/科大讯飞2023/交通场景运输车辆外廓视觉测量挑战赛/交通场景运输车辆外廓视觉测量挑战赛公开数据-初赛/交通场景运输车辆赛题-测试集/测试集2/Imgs/32085A.jpg: 352x640 2 cars, 1 truck, 6.3ms\n",
      "Speed: 1.7ms preprocess, 6.3ms inference, 0.9ms postprocess per image at shape (1, 3, 640, 640)\n",
      "\n",
      "image 1/1 /home/lyz/work/kaggle/科大讯飞2023/交通场景运输车辆外廓视觉测量挑战赛/交通场景运输车辆外廓视觉测量挑战赛公开数据-初赛/交通场景运输车辆赛题-测试集/测试集2/Imgs/32085B.jpg: 352x640 4 trucks, 6.3ms\n",
      "Speed: 1.7ms preprocess, 6.3ms inference, 1.0ms postprocess per image at shape (1, 3, 640, 640)\n",
      "\n"
     ]
    },
    {
     "name": "stdout",
     "output_type": "stream",
     "text": [
      "['car', 'truck', 'car']\n",
      "['truck', 'truck', 'truck', 'truck']\n"
     ]
    },
    {
     "name": "stderr",
     "output_type": "stream",
     "text": [
      "image 1/1 /home/lyz/work/kaggle/科大讯飞2023/交通场景运输车辆外廓视觉测量挑战赛/交通场景运输车辆外廓视觉测量挑战赛公开数据-初赛/交通场景运输车辆赛题-测试集/测试集2/Imgs/32086A.jpg: 352x640 2 cars, 3 trucks, 6.3ms\n",
      "Speed: 1.8ms preprocess, 6.3ms inference, 1.0ms postprocess per image at shape (1, 3, 640, 640)\n",
      "\n",
      "image 1/1 /home/lyz/work/kaggle/科大讯飞2023/交通场景运输车辆外廓视觉测量挑战赛/交通场景运输车辆外廓视觉测量挑战赛公开数据-初赛/交通场景运输车辆赛题-测试集/测试集2/Imgs/32086B.jpg: 352x640 1 truck, 1 sports ball, 6.3ms\n",
      "Speed: 1.8ms preprocess, 6.3ms inference, 1.0ms postprocess per image at shape (1, 3, 640, 640)\n",
      "\n"
     ]
    },
    {
     "name": "stdout",
     "output_type": "stream",
     "text": [
      "['truck', 'truck', 'car', 'car', 'truck']\n",
      "['truck', 'sports ball']\n"
     ]
    },
    {
     "name": "stderr",
     "output_type": "stream",
     "text": [
      "image 1/1 /home/lyz/work/kaggle/科大讯飞2023/交通场景运输车辆外廓视觉测量挑战赛/交通场景运输车辆外廓视觉测量挑战赛公开数据-初赛/交通场景运输车辆赛题-测试集/测试集2/Imgs/32087A.jpg: 352x640 2 trucks, 6.3ms\n",
      "Speed: 1.7ms preprocess, 6.3ms inference, 0.9ms postprocess per image at shape (1, 3, 640, 640)\n",
      "\n",
      "image 1/1 /home/lyz/work/kaggle/科大讯飞2023/交通场景运输车辆外廓视觉测量挑战赛/交通场景运输车辆外廓视觉测量挑战赛公开数据-初赛/交通场景运输车辆赛题-测试集/测试集2/Imgs/32087B.jpg: 352x640 1 truck, 6.2ms\n",
      "Speed: 1.7ms preprocess, 6.2ms inference, 0.9ms postprocess per image at shape (1, 3, 640, 640)\n",
      "\n"
     ]
    },
    {
     "name": "stdout",
     "output_type": "stream",
     "text": [
      "['truck', 'truck']\n",
      "['truck']\n"
     ]
    },
    {
     "name": "stderr",
     "output_type": "stream",
     "text": [
      "image 1/1 /home/lyz/work/kaggle/科大讯飞2023/交通场景运输车辆外廓视觉测量挑战赛/交通场景运输车辆外廓视觉测量挑战赛公开数据-初赛/交通场景运输车辆赛题-测试集/测试集2/Imgs/32088A.jpg: 352x640 1 car, 2 trucks, 6.3ms\n",
      "Speed: 1.8ms preprocess, 6.3ms inference, 0.9ms postprocess per image at shape (1, 3, 640, 640)\n",
      "\n",
      "image 1/1 /home/lyz/work/kaggle/科大讯飞2023/交通场景运输车辆外廓视觉测量挑战赛/交通场景运输车辆外廓视觉测量挑战赛公开数据-初赛/交通场景运输车辆赛题-测试集/测试集2/Imgs/32088B.jpg: 352x640 1 truck, 6.2ms\n",
      "Speed: 1.7ms preprocess, 6.2ms inference, 0.9ms postprocess per image at shape (1, 3, 640, 640)\n",
      "\n"
     ]
    },
    {
     "name": "stdout",
     "output_type": "stream",
     "text": [
      "['truck', 'car', 'truck']\n",
      "['truck']\n"
     ]
    },
    {
     "name": "stderr",
     "output_type": "stream",
     "text": [
      "image 1/1 /home/lyz/work/kaggle/科大讯飞2023/交通场景运输车辆外廓视觉测量挑战赛/交通场景运输车辆外廓视觉测量挑战赛公开数据-初赛/交通场景运输车辆赛题-测试集/测试集2/Imgs/32089A.jpg: 352x640 1 person, 1 bus, 1 truck, 6.3ms\n",
      "Speed: 1.7ms preprocess, 6.3ms inference, 0.9ms postprocess per image at shape (1, 3, 640, 640)\n",
      "\n",
      "image 1/1 /home/lyz/work/kaggle/科大讯飞2023/交通场景运输车辆外廓视觉测量挑战赛/交通场景运输车辆外廓视觉测量挑战赛公开数据-初赛/交通场景运输车辆赛题-测试集/测试集2/Imgs/32089B.jpg: 352x640 1 truck, 1 sports ball, 6.3ms\n",
      "Speed: 1.8ms preprocess, 6.3ms inference, 0.9ms postprocess per image at shape (1, 3, 640, 640)\n",
      "\n"
     ]
    },
    {
     "name": "stdout",
     "output_type": "stream",
     "text": [
      "['bus', 'person', 'truck']\n",
      "['truck', 'sports ball']\n"
     ]
    },
    {
     "name": "stderr",
     "output_type": "stream",
     "text": [
      "image 1/1 /home/lyz/work/kaggle/科大讯飞2023/交通场景运输车辆外廓视觉测量挑战赛/交通场景运输车辆外廓视觉测量挑战赛公开数据-初赛/交通场景运输车辆赛题-测试集/测试集2/Imgs/32090A.jpg: 352x640 1 person, 1 bus, 6.2ms\n",
      "Speed: 1.7ms preprocess, 6.2ms inference, 0.9ms postprocess per image at shape (1, 3, 640, 640)\n",
      "\n",
      "image 1/1 /home/lyz/work/kaggle/科大讯飞2023/交通场景运输车辆外廓视觉测量挑战赛/交通场景运输车辆外廓视觉测量挑战赛公开数据-初赛/交通场景运输车辆赛题-测试集/测试集2/Imgs/32090B.jpg: 352x640 1 truck, 6.2ms\n",
      "Speed: 1.7ms preprocess, 6.2ms inference, 0.9ms postprocess per image at shape (1, 3, 640, 640)\n",
      "\n"
     ]
    },
    {
     "name": "stdout",
     "output_type": "stream",
     "text": [
      "['bus', 'person']\n",
      "['truck']\n"
     ]
    },
    {
     "name": "stderr",
     "output_type": "stream",
     "text": [
      "image 1/1 /home/lyz/work/kaggle/科大讯飞2023/交通场景运输车辆外廓视觉测量挑战赛/交通场景运输车辆外廓视觉测量挑战赛公开数据-初赛/交通场景运输车辆赛题-测试集/测试集2/Imgs/32091A.jpg: 352x640 2 cars, 1 truck, 6.3ms\n",
      "Speed: 1.7ms preprocess, 6.3ms inference, 0.9ms postprocess per image at shape (1, 3, 640, 640)\n",
      "\n",
      "image 1/1 /home/lyz/work/kaggle/科大讯飞2023/交通场景运输车辆外廓视觉测量挑战赛/交通场景运输车辆外廓视觉测量挑战赛公开数据-初赛/交通场景运输车辆赛题-测试集/测试集2/Imgs/32091B.jpg: 352x640 1 car, 1 truck, 6.2ms\n",
      "Speed: 1.7ms preprocess, 6.2ms inference, 0.9ms postprocess per image at shape (1, 3, 640, 640)\n",
      "\n"
     ]
    },
    {
     "name": "stdout",
     "output_type": "stream",
     "text": [
      "['truck', 'car', 'car']\n",
      "['truck', 'car']\n"
     ]
    },
    {
     "name": "stderr",
     "output_type": "stream",
     "text": [
      "image 1/1 /home/lyz/work/kaggle/科大讯飞2023/交通场景运输车辆外廓视觉测量挑战赛/交通场景运输车辆外廓视觉测量挑战赛公开数据-初赛/交通场景运输车辆赛题-测试集/测试集2/Imgs/32092A.jpg: 352x640 3 cars, 1 truck, 6.3ms\n",
      "Speed: 1.7ms preprocess, 6.3ms inference, 0.9ms postprocess per image at shape (1, 3, 640, 640)\n",
      "\n",
      "image 1/1 /home/lyz/work/kaggle/科大讯飞2023/交通场景运输车辆外廓视觉测量挑战赛/交通场景运输车辆外廓视觉测量挑战赛公开数据-初赛/交通场景运输车辆赛题-测试集/测试集2/Imgs/32092B.jpg: 352x640 1 truck, 6.3ms\n",
      "Speed: 1.8ms preprocess, 6.3ms inference, 0.9ms postprocess per image at shape (1, 3, 640, 640)\n",
      "\n"
     ]
    },
    {
     "name": "stdout",
     "output_type": "stream",
     "text": [
      "['truck', 'car', 'car', 'car']\n",
      "['truck']\n"
     ]
    },
    {
     "name": "stderr",
     "output_type": "stream",
     "text": [
      "image 1/1 /home/lyz/work/kaggle/科大讯飞2023/交通场景运输车辆外廓视觉测量挑战赛/交通场景运输车辆外廓视觉测量挑战赛公开数据-初赛/交通场景运输车辆赛题-测试集/测试集2/Imgs/32093A.jpg: 352x640 1 truck, 6.3ms\n",
      "Speed: 1.7ms preprocess, 6.3ms inference, 0.9ms postprocess per image at shape (1, 3, 640, 640)\n",
      "\n",
      "image 1/1 /home/lyz/work/kaggle/科大讯飞2023/交通场景运输车辆外廓视觉测量挑战赛/交通场景运输车辆外廓视觉测量挑战赛公开数据-初赛/交通场景运输车辆赛题-测试集/测试集2/Imgs/32093B.jpg: 352x640 1 truck, 1 sports ball, 6.2ms\n",
      "Speed: 1.7ms preprocess, 6.2ms inference, 0.9ms postprocess per image at shape (1, 3, 640, 640)\n",
      "\n"
     ]
    },
    {
     "name": "stdout",
     "output_type": "stream",
     "text": [
      "['truck']\n",
      "['truck', 'sports ball']\n"
     ]
    },
    {
     "name": "stderr",
     "output_type": "stream",
     "text": [
      "image 1/1 /home/lyz/work/kaggle/科大讯飞2023/交通场景运输车辆外廓视觉测量挑战赛/交通场景运输车辆外廓视觉测量挑战赛公开数据-初赛/交通场景运输车辆赛题-测试集/测试集2/Imgs/32094A.jpg: 352x640 1 person, 1 truck, 6.3ms\n",
      "Speed: 1.7ms preprocess, 6.3ms inference, 0.9ms postprocess per image at shape (1, 3, 640, 640)\n",
      "\n",
      "image 1/1 /home/lyz/work/kaggle/科大讯飞2023/交通场景运输车辆外廓视觉测量挑战赛/交通场景运输车辆外廓视觉测量挑战赛公开数据-初赛/交通场景运输车辆赛题-测试集/测试集2/Imgs/32094B.jpg: 352x640 1 person, 1 truck, 6.2ms\n",
      "Speed: 1.7ms preprocess, 6.2ms inference, 0.9ms postprocess per image at shape (1, 3, 640, 640)\n",
      "\n"
     ]
    },
    {
     "name": "stdout",
     "output_type": "stream",
     "text": [
      "['truck', 'person']\n",
      "['truck', 'person']\n"
     ]
    },
    {
     "name": "stderr",
     "output_type": "stream",
     "text": [
      "image 1/1 /home/lyz/work/kaggle/科大讯飞2023/交通场景运输车辆外廓视觉测量挑战赛/交通场景运输车辆外廓视觉测量挑战赛公开数据-初赛/交通场景运输车辆赛题-测试集/测试集2/Imgs/32095A.jpg: 352x640 1 truck, 1 stop sign, 6.4ms\n",
      "Speed: 1.7ms preprocess, 6.4ms inference, 0.9ms postprocess per image at shape (1, 3, 640, 640)\n",
      "\n",
      "image 1/1 /home/lyz/work/kaggle/科大讯飞2023/交通场景运输车辆外廓视觉测量挑战赛/交通场景运输车辆外廓视觉测量挑战赛公开数据-初赛/交通场景运输车辆赛题-测试集/测试集2/Imgs/32095B.jpg: 352x640 1 truck, 6.3ms\n",
      "Speed: 1.8ms preprocess, 6.3ms inference, 0.9ms postprocess per image at shape (1, 3, 640, 640)\n",
      "\n"
     ]
    },
    {
     "name": "stdout",
     "output_type": "stream",
     "text": [
      "['truck', 'stop sign']\n",
      "['truck']\n"
     ]
    },
    {
     "name": "stderr",
     "output_type": "stream",
     "text": [
      "image 1/1 /home/lyz/work/kaggle/科大讯飞2023/交通场景运输车辆外廓视觉测量挑战赛/交通场景运输车辆外廓视觉测量挑战赛公开数据-初赛/交通场景运输车辆赛题-测试集/测试集2/Imgs/32096A.jpg: 352x640 1 car, 1 bus, 2 trucks, 6.2ms\n",
      "Speed: 1.7ms preprocess, 6.2ms inference, 0.9ms postprocess per image at shape (1, 3, 640, 640)\n",
      "\n",
      "image 1/1 /home/lyz/work/kaggle/科大讯飞2023/交通场景运输车辆外廓视觉测量挑战赛/交通场景运输车辆外廓视觉测量挑战赛公开数据-初赛/交通场景运输车辆赛题-测试集/测试集2/Imgs/32096B.jpg: 352x640 1 truck, 6.2ms\n",
      "Speed: 1.7ms preprocess, 6.2ms inference, 0.9ms postprocess per image at shape (1, 3, 640, 640)\n",
      "\n"
     ]
    },
    {
     "name": "stdout",
     "output_type": "stream",
     "text": [
      "['car', 'bus', 'truck', 'truck']\n",
      "['truck']\n"
     ]
    },
    {
     "name": "stderr",
     "output_type": "stream",
     "text": [
      "image 1/1 /home/lyz/work/kaggle/科大讯飞2023/交通场景运输车辆外廓视觉测量挑战赛/交通场景运输车辆外廓视觉测量挑战赛公开数据-初赛/交通场景运输车辆赛题-测试集/测试集2/Imgs/32097A.jpg: 352x640 1 car, 1 truck, 6.3ms\n",
      "Speed: 1.7ms preprocess, 6.3ms inference, 0.9ms postprocess per image at shape (1, 3, 640, 640)\n",
      "\n",
      "image 1/1 /home/lyz/work/kaggle/科大讯飞2023/交通场景运输车辆外廓视觉测量挑战赛/交通场景运输车辆外廓视觉测量挑战赛公开数据-初赛/交通场景运输车辆赛题-测试集/测试集2/Imgs/32097B.jpg: 352x640 1 truck, 6.3ms\n",
      "Speed: 1.7ms preprocess, 6.3ms inference, 0.9ms postprocess per image at shape (1, 3, 640, 640)\n",
      "\n"
     ]
    },
    {
     "name": "stdout",
     "output_type": "stream",
     "text": [
      "['truck', 'car']\n",
      "['truck']\n"
     ]
    },
    {
     "name": "stderr",
     "output_type": "stream",
     "text": [
      "image 1/1 /home/lyz/work/kaggle/科大讯飞2023/交通场景运输车辆外廓视觉测量挑战赛/交通场景运输车辆外廓视觉测量挑战赛公开数据-初赛/交通场景运输车辆赛题-测试集/测试集2/Imgs/32098A.jpg: 352x640 1 truck, 6.3ms\n",
      "Speed: 1.8ms preprocess, 6.3ms inference, 1.0ms postprocess per image at shape (1, 3, 640, 640)\n",
      "\n",
      "image 1/1 /home/lyz/work/kaggle/科大讯飞2023/交通场景运输车辆外廓视觉测量挑战赛/交通场景运输车辆外廓视觉测量挑战赛公开数据-初赛/交通场景运输车辆赛题-测试集/测试集2/Imgs/32098B.jpg: 352x640 1 truck, 6.3ms\n",
      "Speed: 1.8ms preprocess, 6.3ms inference, 1.0ms postprocess per image at shape (1, 3, 640, 640)\n",
      "\n"
     ]
    },
    {
     "name": "stdout",
     "output_type": "stream",
     "text": [
      "['truck']\n",
      "['truck']\n"
     ]
    },
    {
     "name": "stderr",
     "output_type": "stream",
     "text": [
      "image 1/1 /home/lyz/work/kaggle/科大讯飞2023/交通场景运输车辆外廓视觉测量挑战赛/交通场景运输车辆外廓视觉测量挑战赛公开数据-初赛/交通场景运输车辆赛题-测试集/测试集2/Imgs/32099A.jpg: 352x640 1 car, 1 truck, 6.2ms\n",
      "Speed: 1.7ms preprocess, 6.2ms inference, 0.9ms postprocess per image at shape (1, 3, 640, 640)\n",
      "\n",
      "image 1/1 /home/lyz/work/kaggle/科大讯飞2023/交通场景运输车辆外廓视觉测量挑战赛/交通场景运输车辆外廓视觉测量挑战赛公开数据-初赛/交通场景运输车辆赛题-测试集/测试集2/Imgs/32099B.jpg: 352x640 1 truck, 6.2ms\n",
      "Speed: 1.7ms preprocess, 6.2ms inference, 0.9ms postprocess per image at shape (1, 3, 640, 640)\n",
      "\n"
     ]
    },
    {
     "name": "stdout",
     "output_type": "stream",
     "text": [
      "['truck', 'car']\n",
      "['truck']\n"
     ]
    },
    {
     "name": "stderr",
     "output_type": "stream",
     "text": [
      "image 1/1 /home/lyz/work/kaggle/科大讯飞2023/交通场景运输车辆外廓视觉测量挑战赛/交通场景运输车辆外廓视觉测量挑战赛公开数据-初赛/交通场景运输车辆赛题-测试集/测试集2/Imgs/32100A.jpg: 352x640 1 person, 1 car, 1 truck, 6.3ms\n",
      "Speed: 1.7ms preprocess, 6.3ms inference, 0.9ms postprocess per image at shape (1, 3, 640, 640)\n",
      "\n",
      "image 1/1 /home/lyz/work/kaggle/科大讯飞2023/交通场景运输车辆外廓视觉测量挑战赛/交通场景运输车辆外廓视觉测量挑战赛公开数据-初赛/交通场景运输车辆赛题-测试集/测试集2/Imgs/32100B.jpg: 352x640 1 bus, 1 truck, 6.3ms\n",
      "Speed: 1.7ms preprocess, 6.3ms inference, 0.9ms postprocess per image at shape (1, 3, 640, 640)\n"
     ]
    },
    {
     "name": "stdout",
     "output_type": "stream",
     "text": [
      "['truck', 'car', 'person']\n",
      "['truck', 'bus']\n"
     ]
    }
   ],
   "source": [
    "test1_boxes = [detect_car(path) for path in test1_path]\n",
    "test2_boxes = [detect_car(path) for path in test2_path]"
   ]
  },
  {
   "cell_type": "code",
   "execution_count": 40,
   "id": "e6ce6722-a189-4126-9843-2269444c8175",
   "metadata": {
    "execution": {
     "iopub.execute_input": "2023-06-03T17:03:07.001095Z",
     "iopub.status.busy": "2023-06-03T17:03:07.000664Z",
     "iopub.status.idle": "2023-06-03T17:03:07.013250Z",
     "shell.execute_reply": "2023-06-03T17:03:07.012599Z",
     "shell.execute_reply.started": "2023-06-03T17:03:07.001043Z"
    },
    "tags": []
   },
   "outputs": [
    {
     "name": "stderr",
     "output_type": "stream",
     "text": [
      "/tmp/ipykernel_17508/1051037499.py:1: FutureWarning: In a future version of pandas all arguments of concat except for the argument 'objs' will be keyword-only\n",
      "  train1_gt = pd.concat([train1_gt, pd.DataFrame(train1_boxes)], 1)\n",
      "/tmp/ipykernel_17508/1051037499.py:2: FutureWarning: In a future version of pandas all arguments of concat except for the argument 'objs' will be keyword-only\n",
      "  train2_gt = pd.concat([train2_gt, (pd.DataFrame(train2_boxes[::2]) + pd.DataFrame(train2_boxes[1::2])) / 2], 1)\n",
      "/tmp/ipykernel_17508/1051037499.py:3: FutureWarning: In a future version of pandas all arguments of concat except for the argument 'objs' will be keyword-only\n",
      "  dev_gt = pd.concat([dev_gt, (pd.DataFrame(dev_boxes[::2]) + pd.DataFrame(dev_boxes[1::2])) / 2], 1)\n"
     ]
    }
   ],
   "source": [
    "train1_gt = pd.concat([train1_gt, pd.DataFrame(train1_boxes)], 1)\n",
    "train2_gt = pd.concat([train2_gt, (pd.DataFrame(train2_boxes[::2]) + pd.DataFrame(train2_boxes[1::2])) / 2], 1)\n",
    "dev_gt = pd.concat([dev_gt, (pd.DataFrame(dev_boxes[::2]) + pd.DataFrame(dev_boxes[1::2])) / 2], 1)"
   ]
  },
  {
   "cell_type": "code",
   "execution_count": 70,
   "id": "6588315e-cf35-4319-834c-90cce7171409",
   "metadata": {
    "execution": {
     "iopub.execute_input": "2023-06-03T17:10:25.994982Z",
     "iopub.status.busy": "2023-06-03T17:10:25.994552Z",
     "iopub.status.idle": "2023-06-03T17:10:26.005760Z",
     "shell.execute_reply": "2023-06-03T17:10:26.005257Z",
     "shell.execute_reply.started": "2023-06-03T17:10:25.994923Z"
    }
   },
   "outputs": [],
   "source": [
    "test1_gt = pd.DataFrame(test1_boxes)\n",
    "test2_gt = (pd.DataFrame(test2_boxes[::2]) + pd.DataFrame(test2_boxes[1::2])) / 2"
   ]
  },
  {
   "cell_type": "code",
   "execution_count": 71,
   "id": "636b5672-e91d-4eb8-9074-2bc4bdc0354e",
   "metadata": {
    "execution": {
     "iopub.execute_input": "2023-06-03T17:10:27.249438Z",
     "iopub.status.busy": "2023-06-03T17:10:27.249004Z",
     "iopub.status.idle": "2023-06-03T17:10:27.257419Z",
     "shell.execute_reply": "2023-06-03T17:10:27.256870Z",
     "shell.execute_reply.started": "2023-06-03T17:10:27.249388Z"
    },
    "tags": []
   },
   "outputs": [
    {
     "name": "stderr",
     "output_type": "stream",
     "text": [
      "/tmp/ipykernel_17508/587936660.py:1: FutureWarning: In a future version of pandas all arguments of concat except for the argument 'objs' will be keyword-only\n",
      "  train_val = pd.concat([train1_gt, train2_gt.drop('Bname', axis=1), dev_gt.drop('Bname', axis=1)], 0)\n"
     ]
    }
   ],
   "source": [
    "train_val = pd.concat([train1_gt, train2_gt.drop('Bname', axis=1), dev_gt.drop('Bname', axis=1)], 0)"
   ]
  },
  {
   "cell_type": "code",
   "execution_count": 72,
   "id": "b08a6487-124c-4926-8966-afd2017c9475",
   "metadata": {
    "execution": {
     "iopub.execute_input": "2023-06-03T17:10:27.999720Z",
     "iopub.status.busy": "2023-06-03T17:10:27.999296Z",
     "iopub.status.idle": "2023-06-03T17:10:28.005423Z",
     "shell.execute_reply": "2023-06-03T17:10:28.004924Z",
     "shell.execute_reply.started": "2023-06-03T17:10:27.999671Z"
    },
    "tags": []
   },
   "outputs": [],
   "source": [
    "from sklearn.linear_model import LinearRegression\n",
    "from sklearn.model_selection import cross_val_predict\n",
    "lr = LinearRegression()"
   ]
  },
  {
   "cell_type": "code",
   "execution_count": 73,
   "id": "b46b7760-1706-4b2d-a0a6-bb5523b76e36",
   "metadata": {
    "execution": {
     "iopub.execute_input": "2023-06-03T17:10:28.126821Z",
     "iopub.status.busy": "2023-06-03T17:10:28.126552Z",
     "iopub.status.idle": "2023-06-03T17:10:28.147727Z",
     "shell.execute_reply": "2023-06-03T17:10:28.147286Z",
     "shell.execute_reply.started": "2023-06-03T17:10:28.126801Z"
    },
    "scrolled": true,
    "tags": []
   },
   "outputs": [
    {
     "data": {
      "text/plain": [
       "0.15020412722737797"
      ]
     },
     "execution_count": 73,
     "metadata": {},
     "output_type": "execute_result"
    }
   ],
   "source": [
    "pred = cross_val_predict(lr, train_val.iloc[:, -7:], train_val['length'])\n",
    "((pred - train_val['length']).abs() / train_val['length']).mean()"
   ]
  },
  {
   "cell_type": "code",
   "execution_count": 74,
   "id": "8fec4d30-a940-4c4c-bd99-57b6cf97c2c2",
   "metadata": {
    "execution": {
     "iopub.execute_input": "2023-06-03T17:10:29.004930Z",
     "iopub.status.busy": "2023-06-03T17:10:29.004334Z",
     "iopub.status.idle": "2023-06-03T17:10:29.028231Z",
     "shell.execute_reply": "2023-06-03T17:10:29.027690Z",
     "shell.execute_reply.started": "2023-06-03T17:10:29.004877Z"
    },
    "tags": []
   },
   "outputs": [
    {
     "data": {
      "text/plain": [
       "0.06717274937796626"
      ]
     },
     "execution_count": 74,
     "metadata": {},
     "output_type": "execute_result"
    }
   ],
   "source": [
    "pred = cross_val_predict(lr, train_val.iloc[:, -7:], train_val['width'])\n",
    "((pred - train_val['width']).abs() / train_val['width']).mean()"
   ]
  },
  {
   "cell_type": "code",
   "execution_count": 75,
   "id": "b34753b8-0076-422c-8284-93f36c778eaf",
   "metadata": {
    "execution": {
     "iopub.execute_input": "2023-06-03T17:10:29.029364Z",
     "iopub.status.busy": "2023-06-03T17:10:29.029131Z",
     "iopub.status.idle": "2023-06-03T17:10:29.095490Z",
     "shell.execute_reply": "2023-06-03T17:10:29.095006Z",
     "shell.execute_reply.started": "2023-06-03T17:10:29.029346Z"
    },
    "tags": []
   },
   "outputs": [
    {
     "data": {
      "text/plain": [
       "0.0744191217055368"
      ]
     },
     "execution_count": 75,
     "metadata": {},
     "output_type": "execute_result"
    }
   ],
   "source": [
    "pred = cross_val_predict(lr, train_val.iloc[:, -7:], train_val['height'])\n",
    "((pred - train_val['height']).abs() / train_val['height']).mean()"
   ]
  },
  {
   "cell_type": "code",
   "execution_count": 83,
   "id": "e2c17759-eb38-47fa-b345-3797513dfbff",
   "metadata": {
    "execution": {
     "iopub.execute_input": "2023-06-03T17:14:29.997935Z",
     "iopub.status.busy": "2023-06-03T17:14:29.997428Z",
     "iopub.status.idle": "2023-06-03T17:14:30.017117Z",
     "shell.execute_reply": "2023-06-03T17:14:30.016649Z",
     "shell.execute_reply.started": "2023-06-03T17:14:29.997891Z"
    },
    "tags": []
   },
   "outputs": [],
   "source": [
    "df = pd.DataFrame()\n",
    "import os\n",
    "df['Aname'] = [os.path.basename(x) for x in test1_path]\n",
    "\n",
    "lr.fit(train_val.iloc[:, -7:], train_val['length'])\n",
    "df['length'] = lr.predict(test1_gt).round().astype(int)\n",
    "\n",
    "lr.fit(train_val.iloc[:, -7:], train_val['width'])\n",
    "df['width'] = lr.predict(test1_gt).round().astype(int)\n",
    "\n",
    "lr.fit(train_val.iloc[:, -7:], train_val['height'])\n",
    "df['height'] = lr.predict(test1_gt).round().astype(int)\n"
   ]
  },
  {
   "cell_type": "code",
   "execution_count": 87,
   "id": "0226361c-ce68-42ef-9035-5c00423807e0",
   "metadata": {
    "execution": {
     "iopub.execute_input": "2023-06-03T17:15:35.086004Z",
     "iopub.status.busy": "2023-06-03T17:15:35.085457Z",
     "iopub.status.idle": "2023-06-03T17:15:35.240506Z",
     "shell.execute_reply": "2023-06-03T17:15:35.239836Z",
     "shell.execute_reply.started": "2023-06-03T17:15:35.085941Z"
    },
    "tags": []
   },
   "outputs": [],
   "source": [
    "df.to_excel('t1.xls', index=None, engine='openpyxl')"
   ]
  },
  {
   "cell_type": "code",
   "execution_count": 88,
   "id": "30bbe4f1-2cda-4cda-8cab-39201029c997",
   "metadata": {
    "execution": {
     "iopub.execute_input": "2023-06-03T17:19:46.448996Z",
     "iopub.status.busy": "2023-06-03T17:19:46.448561Z",
     "iopub.status.idle": "2023-06-03T17:19:46.455332Z",
     "shell.execute_reply": "2023-06-03T17:19:46.454870Z",
     "shell.execute_reply.started": "2023-06-03T17:19:46.448947Z"
    }
   },
   "outputs": [
    {
     "data": {
      "text/plain": [
       "200"
      ]
     },
     "execution_count": 88,
     "metadata": {},
     "output_type": "execute_result"
    }
   ],
   "source": [
    "len(test2_path)"
   ]
  },
  {
   "cell_type": "code",
   "execution_count": null,
   "id": "58e2b288-2d48-4edf-bea9-9cf71594d7ba",
   "metadata": {},
   "outputs": [],
   "source": []
  }
 ],
 "metadata": {
  "kernelspec": {
   "display_name": "Python 3 (ipykernel)",
   "language": "python",
   "name": "python3.10"
  },
  "language_info": {
   "codemirror_mode": {
    "name": "ipython",
    "version": 3
   },
   "file_extension": ".py",
   "mimetype": "text/x-python",
   "name": "python",
   "nbconvert_exporter": "python",
   "pygments_lexer": "ipython3",
   "version": "3.9.10"
  },
  "widgets": {
   "application/vnd.jupyter.widget-state+json": {
    "state": {},
    "version_major": 2,
    "version_minor": 0
   }
  }
 },
 "nbformat": 4,
 "nbformat_minor": 5
}
