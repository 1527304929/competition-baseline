{
 "cells": [
  {
   "cell_type": "code",
   "execution_count": 35,
   "id": "7b64866b-0f27-4b58-8199-2e5fbd687063",
   "metadata": {
    "tags": []
   },
   "outputs": [],
   "source": [
    "import pandas as pd\n",
    "import numpy as np\n",
    "\n",
    "train_data = pd.read_csv('空气质量指数预测挑战赛公开数据/train.csv')\n",
    "test_data = pd.read_csv('空气质量指数预测挑战赛公开数据/test.csv')"
   ]
  },
  {
   "cell_type": "code",
   "execution_count": 36,
   "id": "1c970923-ef12-44dc-a358-4c07a4f6cba4",
   "metadata": {
    "tags": []
   },
   "outputs": [
    {
     "data": {
      "text/html": [
       "<div>\n",
       "<style scoped>\n",
       "    .dataframe tbody tr th:only-of-type {\n",
       "        vertical-align: middle;\n",
       "    }\n",
       "\n",
       "    .dataframe tbody tr th {\n",
       "        vertical-align: top;\n",
       "    }\n",
       "\n",
       "    .dataframe thead th {\n",
       "        text-align: right;\n",
       "    }\n",
       "</style>\n",
       "<table border=\"1\" class=\"dataframe\">\n",
       "  <thead>\n",
       "    <tr style=\"text-align: right;\">\n",
       "      <th></th>\n",
       "      <th>date</th>\n",
       "      <th>stationID</th>\n",
       "      <th>PM2.5</th>\n",
       "      <th>PM10</th>\n",
       "      <th>NO</th>\n",
       "      <th>NO2</th>\n",
       "      <th>NOx</th>\n",
       "      <th>NH3</th>\n",
       "      <th>CO</th>\n",
       "      <th>SO2</th>\n",
       "      <th>O3</th>\n",
       "      <th>Benzene</th>\n",
       "      <th>Toluene</th>\n",
       "      <th>Xylene</th>\n",
       "      <th>target</th>\n",
       "    </tr>\n",
       "  </thead>\n",
       "  <tbody>\n",
       "    <tr>\n",
       "      <th>0</th>\n",
       "      <td>2018010100</td>\n",
       "      <td>0</td>\n",
       "      <td>78.43</td>\n",
       "      <td>120.06</td>\n",
       "      <td>23.79</td>\n",
       "      <td>126.91</td>\n",
       "      <td>79.66</td>\n",
       "      <td>19.88</td>\n",
       "      <td>23.79</td>\n",
       "      <td>74.95</td>\n",
       "      <td>24.63</td>\n",
       "      <td>11.18</td>\n",
       "      <td>40.92</td>\n",
       "      <td>3.21</td>\n",
       "      <td>340.0</td>\n",
       "    </tr>\n",
       "  </tbody>\n",
       "</table>\n",
       "</div>"
      ],
      "text/plain": [
       "         date  stationID  PM2.5    PM10     NO     NO2    NOx    NH3     CO  \\\n",
       "0  2018010100          0  78.43  120.06  23.79  126.91  79.66  19.88  23.79   \n",
       "\n",
       "     SO2     O3  Benzene  Toluene  Xylene  target  \n",
       "0  74.95  24.63    11.18    40.92    3.21   340.0  "
      ]
     },
     "execution_count": 36,
     "metadata": {},
     "output_type": "execute_result"
    }
   ],
   "source": [
    "train_data.head(1)"
   ]
  },
  {
   "cell_type": "code",
   "execution_count": 37,
   "id": "a9d3d00f-9da6-4923-850f-4d98361417b4",
   "metadata": {
    "tags": []
   },
   "outputs": [
    {
     "data": {
      "text/html": [
       "<div>\n",
       "<style scoped>\n",
       "    .dataframe tbody tr th:only-of-type {\n",
       "        vertical-align: middle;\n",
       "    }\n",
       "\n",
       "    .dataframe tbody tr th {\n",
       "        vertical-align: top;\n",
       "    }\n",
       "\n",
       "    .dataframe thead th {\n",
       "        text-align: right;\n",
       "    }\n",
       "</style>\n",
       "<table border=\"1\" class=\"dataframe\">\n",
       "  <thead>\n",
       "    <tr style=\"text-align: right;\">\n",
       "      <th></th>\n",
       "      <th>date</th>\n",
       "      <th>stationID</th>\n",
       "    </tr>\n",
       "  </thead>\n",
       "  <tbody>\n",
       "    <tr>\n",
       "      <th>0</th>\n",
       "      <td>2020060100</td>\n",
       "      <td>0</td>\n",
       "    </tr>\n",
       "  </tbody>\n",
       "</table>\n",
       "</div>"
      ],
      "text/plain": [
       "         date  stationID\n",
       "0  2020060100          0"
      ]
     },
     "execution_count": 37,
     "metadata": {},
     "output_type": "execute_result"
    }
   ],
   "source": [
    "test_data.head(1)"
   ]
  },
  {
   "cell_type": "code",
   "execution_count": 38,
   "id": "5e618c0c-bc8f-4532-ac83-c24c98f81964",
   "metadata": {
    "tags": []
   },
   "outputs": [
    {
     "data": {
      "text/plain": [
       "<Axes: >"
      ]
     },
     "execution_count": 38,
     "metadata": {},
     "output_type": "execute_result"
    },
    {
     "data": {
      "image/png": "[encoded data removed]",
      "text/plain": [
       "<Figure size 432x288 with 1 Axes>"
      ]
     },
     "metadata": {
      "needs_background": "light"
     },
     "output_type": "display_data"
    }
   ],
   "source": [
    "train_data[train_data['stationID'] == 0]['target'].plot()"
   ]
  },
  {
   "cell_type": "code",
   "execution_count": 39,
   "id": "08d11b6e-d6b9-4e1e-968e-d428a717196b",
   "metadata": {
    "tags": []
   },
   "outputs": [],
   "source": [
    "train_data['new_date'] = pd.to_datetime(train_data['date'], format='%Y%m%d%H')\n",
    "test_data['new_date'] = pd.to_datetime(test_data['date'], format='%Y%m%d%H')"
   ]
  },
  {
   "cell_type": "code",
   "execution_count": 40,
   "id": "80970219-5f6c-492a-81e7-e202d5ae5598",
   "metadata": {
    "tags": []
   },
   "outputs": [],
   "source": [
    "train_data['new_date_hour'] = train_data['new_date'].dt.hour\n",
    "test_data['new_date_hour'] = test_data['new_date'].dt.hour"
   ]
  },
  {
   "cell_type": "code",
   "execution_count": 41,
   "id": "b1e2b979-fb7e-4a00-b446-4f37c9040504",
   "metadata": {
    "tags": []
   },
   "outputs": [],
   "source": [
    "mean_target = train_data.groupby(['stationID', 'new_date_hour'])['target'].mean().reset_index()"
   ]
  },
  {
   "cell_type": "code",
   "execution_count": 42,
   "id": "f5e0510f-df55-44c6-83c9-1d9f009e1ab1",
   "metadata": {
    "tags": []
   },
   "outputs": [],
   "source": [
    "pd.merge(test_data, mean_target, \n",
    "         on=['stationID', 'new_date_hour'], how='left'\n",
    ")[['date', 'stationID', 'target']].to_csv('submit.csv', index=None)"
   ]
  },
  {
   "cell_type": "code",
   "execution_count": null,
   "id": "87a02e11-b8b2-41a4-81e2-66391a77d32a",
   "metadata": {},
   "outputs": [],
   "source": []
  },
  {
   "cell_type": "code",
   "execution_count": null,
   "id": "04d0409d-800e-40b8-98a7-8662ca6ebd7a",
   "metadata": {},
   "outputs": [],
   "source": []
  }
 ],
 "metadata": {
  "kernelspec": {
   "display_name": "Python 3 (ipykernel)",
   "language": "python",
   "name": "python3.10"
  },
  "language_info": {
   "codemirror_mode": {
    "name": "ipython",
    "version": 3
   },
   "file_extension": ".py",
   "mimetype": "text/x-python",
   "name": "python",
   "nbconvert_exporter": "python",
   "pygments_lexer": "ipython3",
   "version": "3.9.10"
  },
  "widgets": {
   "application/vnd.jupyter.widget-state+json": {
    "state": {},
    "version_major": 2,
    "version_minor": 0
   }
  }
 },
 "nbformat": 4,
 "nbformat_minor": 5
}
