{
 "cells": [
  {
   "cell_type": "code",
   "execution_count": 1,
   "metadata": {
    "execution": {
     "iopub.execute_input": "2021-08-09T05:56:58.598624Z",
     "iopub.status.busy": "2021-08-09T05:56:58.598057Z",
     "iopub.status.idle": "2021-08-09T05:57:00.112912Z",
     "shell.execute_reply": "2021-08-09T05:57:00.112386Z",
     "shell.execute_reply.started": "2021-08-09T05:56:58.598576Z"
    }
   },
   "outputs": [],
   "source": [
    "import pandas as pd\n",
    "import numpy as np"
   ]
  },
  {
   "cell_type": "code",
   "execution_count": 3,
   "metadata": {
    "execution": {
     "iopub.execute_input": "2021-08-09T05:57:09.987256Z",
     "iopub.status.busy": "2021-08-09T05:57:09.986631Z",
     "iopub.status.idle": "2021-08-09T05:57:10.110312Z",
     "shell.execute_reply": "2021-08-09T05:57:10.108834Z",
     "shell.execute_reply.started": "2021-08-09T05:57:09.987204Z"
    },
    "tags": []
   },
   "outputs": [
    {
     "name": "stdout",
     "output_type": "stream",
     "text": [
      "总用量 611464\n",
      "-rw-rw-r-- 1 lyz lyz     49324 8月   5 16:54 sample_submit.csv\n",
      "-rw-rw-r-- 1 lyz lyz 151068800 7月  31 18:11 test.npy\n",
      "-rw-rw-r-- 1 lyz lyz  30636709 8月   5 16:57 test.npy.zip\n",
      "-rw-rw-r-- 1 lyz lyz    577557 8月   5 16:54 train.csv\n",
      "-rw-rw-r-- 1 lyz lyz 368640128 7月  31 18:11 train.npy\n",
      "-rw-rw-r-- 1 lyz lyz  75144987 8月   5 16:57 train.npy.zip\n"
     ]
    }
   ],
   "source": [
    "!ls ./人脸关键点检测挑战赛_数据集/ -l"
   ]
  },
  {
   "cell_type": "code",
   "execution_count": 86,
   "metadata": {
    "execution": {
     "iopub.execute_input": "2021-08-09T06:18:52.347104Z",
     "iopub.status.busy": "2021-08-09T06:18:52.346491Z",
     "iopub.status.idle": "2021-08-09T06:18:52.368945Z",
     "shell.execute_reply": "2021-08-09T06:18:52.368306Z",
     "shell.execute_reply.started": "2021-08-09T06:18:52.347053Z"
    },
    "tags": []
   },
   "outputs": [
    {
     "data": {
      "text/html": [
       "<div>\n",
       "<style scoped>\n",
       "    .dataframe tbody tr th:only-of-type {\n",
       "        vertical-align: middle;\n",
       "    }\n",
       "\n",
       "    .dataframe tbody tr th {\n",
       "        vertical-align: top;\n",
       "    }\n",
       "\n",
       "    .dataframe thead th {\n",
       "        text-align: right;\n",
       "    }\n",
       "</style>\n",
       "<table border=\"1\" class=\"dataframe\">\n",
       "  <thead>\n",
       "    <tr style=\"text-align: right;\">\n",
       "      <th></th>\n",
       "      <th>left_eye_center_x</th>\n",
       "      <th>left_eye_center_y</th>\n",
       "      <th>right_eye_center_x</th>\n",
       "      <th>right_eye_center_y</th>\n",
       "      <th>nose_tip_x</th>\n",
       "      <th>nose_tip_y</th>\n",
       "      <th>mouth_center_bottom_lip_x</th>\n",
       "      <th>mouth_center_bottom_lip_y</th>\n",
       "    </tr>\n",
       "  </thead>\n",
       "  <tbody>\n",
       "    <tr>\n",
       "      <th>0</th>\n",
       "      <td>66.342364</td>\n",
       "      <td>38.523613</td>\n",
       "      <td>28.930840</td>\n",
       "      <td>35.577773</td>\n",
       "      <td>49.256845</td>\n",
       "      <td>68.275955</td>\n",
       "      <td>47.783946</td>\n",
       "      <td>85.361582</td>\n",
       "    </tr>\n",
       "    <tr>\n",
       "      <th>1</th>\n",
       "      <td>68.912604</td>\n",
       "      <td>31.409117</td>\n",
       "      <td>29.652226</td>\n",
       "      <td>33.028075</td>\n",
       "      <td>51.913358</td>\n",
       "      <td>48.408453</td>\n",
       "      <td>50.698868</td>\n",
       "      <td>79.574038</td>\n",
       "    </tr>\n",
       "    <tr>\n",
       "      <th>2</th>\n",
       "      <td>68.708994</td>\n",
       "      <td>40.371149</td>\n",
       "      <td>27.130820</td>\n",
       "      <td>40.940680</td>\n",
       "      <td>44.502523</td>\n",
       "      <td>69.988486</td>\n",
       "      <td>45.926427</td>\n",
       "      <td>86.221009</td>\n",
       "    </tr>\n",
       "    <tr>\n",
       "      <th>3</th>\n",
       "      <td>65.334176</td>\n",
       "      <td>35.471878</td>\n",
       "      <td>29.366461</td>\n",
       "      <td>37.767684</td>\n",
       "      <td>50.411373</td>\n",
       "      <td>64.934767</td>\n",
       "      <td>50.028780</td>\n",
       "      <td>74.883241</td>\n",
       "    </tr>\n",
       "    <tr>\n",
       "      <th>4</th>\n",
       "      <td>68.634857</td>\n",
       "      <td>29.999486</td>\n",
       "      <td>31.094571</td>\n",
       "      <td>29.616429</td>\n",
       "      <td>50.247429</td>\n",
       "      <td>51.450857</td>\n",
       "      <td>47.948571</td>\n",
       "      <td>84.394286</td>\n",
       "    </tr>\n",
       "  </tbody>\n",
       "</table>\n",
       "</div>"
      ],
      "text/plain": [
       "   left_eye_center_x  left_eye_center_y  right_eye_center_x  \\\n",
       "0          66.342364          38.523613           28.930840   \n",
       "1          68.912604          31.409117           29.652226   \n",
       "2          68.708994          40.371149           27.130820   \n",
       "3          65.334176          35.471878           29.366461   \n",
       "4          68.634857          29.999486           31.094571   \n",
       "\n",
       "   right_eye_center_y  nose_tip_x  nose_tip_y  mouth_center_bottom_lip_x  \\\n",
       "0           35.577773   49.256845   68.275955                  47.783946   \n",
       "1           33.028075   51.913358   48.408453                  50.698868   \n",
       "2           40.940680   44.502523   69.988486                  45.926427   \n",
       "3           37.767684   50.411373   64.934767                  50.028780   \n",
       "4           29.616429   50.247429   51.450857                  47.948571   \n",
       "\n",
       "   mouth_center_bottom_lip_y  \n",
       "0                  85.361582  \n",
       "1                  79.574038  \n",
       "2                  86.221009  \n",
       "3                  74.883241  \n",
       "4                  84.394286  "
      ]
     },
     "execution_count": 86,
     "metadata": {},
     "output_type": "execute_result"
    }
   ],
   "source": [
    "train_df = pd.read_csv('人脸关键点检测挑战赛_数据集/train.csv')\n",
    "train_df = train_df.fillna(48)\n",
    "train_df.head()"
   ]
  },
  {
   "cell_type": "code",
   "execution_count": 87,
   "metadata": {
    "execution": {
     "iopub.execute_input": "2021-08-09T06:18:53.653455Z",
     "iopub.status.busy": "2021-08-09T06:18:53.652881Z",
     "iopub.status.idle": "2021-08-09T06:18:53.799384Z",
     "shell.execute_reply": "2021-08-09T06:18:53.798871Z",
     "shell.execute_reply.started": "2021-08-09T06:18:53.653407Z"
    },
    "tags": []
   },
   "outputs": [
    {
     "name": "stdout",
     "output_type": "stream",
     "text": [
      "(96, 96, 5000) (96, 96, 2049)\n"
     ]
    }
   ],
   "source": [
    "train_img = np.load('人脸关键点检测挑战赛_数据集/train.npy')\n",
    "test_img = np.load('人脸关键点检测挑战赛_数据集/test.npy')\n",
    "\n",
    "print(train_img.shape, test_img.shape)"
   ]
  },
  {
   "cell_type": "code",
   "execution_count": 88,
   "metadata": {
    "execution": {
     "iopub.execute_input": "2021-08-09T06:18:54.698219Z",
     "iopub.status.busy": "2021-08-09T06:18:54.697661Z",
     "iopub.status.idle": "2021-08-09T06:18:54.802604Z",
     "shell.execute_reply": "2021-08-09T06:18:54.802099Z",
     "shell.execute_reply.started": "2021-08-09T06:18:54.698172Z"
    },
    "tags": []
   },
   "outputs": [
    {
     "name": "stdout",
     "output_type": "stream",
     "text": [
      "Populating the interactive namespace from numpy and matplotlib\n"
     ]
    },
    {
     "data": {
      "text/plain": [
       "<matplotlib.image.AxesImage at 0x7fb929e7a358>"
      ]
     },
     "execution_count": 88,
     "metadata": {},
     "output_type": "execute_result"
    },
    {
     "data": {
      "image/png": "[encoded data removed]",
      "text/plain": [
       "<Figure size 432x288 with 1 Axes>"
      ]
     },
     "metadata": {
      "needs_background": "light"
     },
     "output_type": "display_data"
    }
   ],
   "source": [
    "%pylab inline\n",
    "idx = 409\n",
    "xy = train_df.iloc[idx].values.reshape(-1, 2)\n",
    "plt.scatter(xy[:, 0], xy[:, 1])\n",
    "plt.imshow(train_img[:, :, idx], cmap='gray')"
   ]
  },
  {
   "cell_type": "code",
   "execution_count": 89,
   "metadata": {
    "execution": {
     "iopub.execute_input": "2021-08-09T06:18:55.741646Z",
     "iopub.status.busy": "2021-08-09T06:18:55.741074Z",
     "iopub.status.idle": "2021-08-09T06:18:55.842935Z",
     "shell.execute_reply": "2021-08-09T06:18:55.842446Z",
     "shell.execute_reply.started": "2021-08-09T06:18:55.741599Z"
    },
    "tags": []
   },
   "outputs": [
    {
     "name": "stdout",
     "output_type": "stream",
     "text": [
      "Populating the interactive namespace from numpy and matplotlib\n"
     ]
    },
    {
     "data": {
      "text/plain": [
       "<matplotlib.image.AxesImage at 0x7fb927291518>"
      ]
     },
     "execution_count": 89,
     "metadata": {},
     "output_type": "execute_result"
    },
    {
     "data": {
      "image/png": "[encoded data removed]",
      "text/plain": [
       "<Figure size 432x288 with 1 Axes>"
      ]
     },
     "metadata": {
      "needs_background": "light"
     },
     "output_type": "display_data"
    }
   ],
   "source": [
    "%pylab inline\n",
    "idx = 400\n",
    "xy = train_df.iloc[idx].values.reshape(-1, 2)\n",
    "plt.scatter(xy[:, 0], xy[:, 1])\n",
    "plt.imshow(train_img[:, :, idx], cmap='gray')"
   ]
  },
  {
   "cell_type": "code",
   "execution_count": 90,
   "metadata": {
    "execution": {
     "iopub.execute_input": "2021-08-09T06:18:56.925019Z",
     "iopub.status.busy": "2021-08-09T06:18:56.924442Z",
     "iopub.status.idle": "2021-08-09T06:18:56.931900Z",
     "shell.execute_reply": "2021-08-09T06:18:56.931241Z",
     "shell.execute_reply.started": "2021-08-09T06:18:56.924972Z"
    },
    "tags": []
   },
   "outputs": [],
   "source": [
    "import os, sys, codecs, glob\n",
    "from PIL import Image, ImageDraw\n",
    "import numpy as np\n",
    "import pandas as pd\n",
    "import cv2\n",
    "\n",
    "import torch\n",
    "torch.backends.cudnn.benchmark = False\n",
    "import torchvision.models as models\n",
    "import torchvision.transforms as transforms\n",
    "import torchvision.datasets as datasets\n",
    "import torch.nn as nn\n",
    "import torch.nn.functional as F\n",
    "import torch.optim as optim\n",
    "from torch.autograd import Variable\n",
    "from torch.utils.data.dataset import Dataset"
   ]
  },
  {
   "cell_type": "code",
   "execution_count": 91,
   "metadata": {
    "execution": {
     "iopub.execute_input": "2021-08-09T06:18:57.990877Z",
     "iopub.status.busy": "2021-08-09T06:18:57.990290Z",
     "iopub.status.idle": "2021-08-09T06:18:57.998269Z",
     "shell.execute_reply": "2021-08-09T06:18:57.997618Z",
     "shell.execute_reply.started": "2021-08-09T06:18:57.990812Z"
    },
    "tags": []
   },
   "outputs": [],
   "source": [
    "class XunFeiDataset(Dataset):\n",
    "    def __init__(self, img, keypoint, transform=None):\n",
    "        self.img = img\n",
    "        self.transform = transform\n",
    "        self.keypoint = keypoint\n",
    "\n",
    "    def __getitem__(self, index):\n",
    "        img = Image.fromarray(self.img[:, :, index]).convert('RGB')\n",
    "        \n",
    "        if self.transform is not None:\n",
    "            img = self.transform(img)\n",
    "        \n",
    "        return img, self.keypoint[index] / 96.0\n",
    "\n",
    "    def __len__(self):\n",
    "        return self.img.shape[-1]"
   ]
  },
  {
   "cell_type": "code",
   "execution_count": 92,
   "metadata": {
    "execution": {
     "iopub.execute_input": "2021-08-09T06:18:59.075060Z",
     "iopub.status.busy": "2021-08-09T06:18:59.074481Z",
     "iopub.status.idle": "2021-08-09T06:18:59.083792Z",
     "shell.execute_reply": "2021-08-09T06:18:59.083138Z",
     "shell.execute_reply.started": "2021-08-09T06:18:59.075013Z"
    },
    "tags": []
   },
   "outputs": [],
   "source": [
    "train_loader = torch.utils.data.DataLoader(\n",
    "    XunFeiDataset(train_img[:, :, :-500], train_df.values[:-500],\n",
    "                    transforms.Compose([\n",
    "                        transforms.ToTensor(),\n",
    "        ])\n",
    "    ),\n",
    "    batch_size=10, shuffle=True, num_workers=5,\n",
    ")\n",
    "\n",
    "val_loader = torch.utils.data.DataLoader(\n",
    "    XunFeiDataset(train_img[:, :, -500:], train_df.values[-500:],\n",
    "                    transforms.Compose([\n",
    "                        transforms.ToTensor(),\n",
    "        ])\n",
    "    ),\n",
    "    batch_size=10, shuffle=False, num_workers=5,\n",
    ")"
   ]
  },
  {
   "cell_type": "code",
   "execution_count": 93,
   "metadata": {
    "execution": {
     "iopub.execute_input": "2021-08-09T06:19:00.010044Z",
     "iopub.status.busy": "2021-08-09T06:19:00.009648Z",
     "iopub.status.idle": "2021-08-09T06:19:00.015667Z",
     "shell.execute_reply": "2021-08-09T06:19:00.014854Z",
     "shell.execute_reply.started": "2021-08-09T06:19:00.010012Z"
    },
    "tags": []
   },
   "outputs": [
    {
     "data": {
      "text/plain": [
       "(96, 96, 500)"
      ]
     },
     "execution_count": 93,
     "metadata": {},
     "output_type": "execute_result"
    }
   ],
   "source": [
    "train_img[:, :, -500:].shape"
   ]
  },
  {
   "cell_type": "code",
   "execution_count": 94,
   "metadata": {
    "execution": {
     "iopub.execute_input": "2021-08-09T06:19:01.308490Z",
     "iopub.status.busy": "2021-08-09T06:19:01.307913Z",
     "iopub.status.idle": "2021-08-09T06:19:01.510954Z",
     "shell.execute_reply": "2021-08-09T06:19:01.510465Z",
     "shell.execute_reply.started": "2021-08-09T06:19:01.308442Z"
    },
    "tags": []
   },
   "outputs": [],
   "source": [
    "import timm\n",
    "\n",
    "class XunFeiNet(nn.Module):\n",
    "    def __init__(self):\n",
    "        super(XunFeiNet, self).__init__()\n",
    "        self.model = timm.create_model('efficientnet_b2', num_classes=8, \n",
    "                          pretrained=True)\n",
    "        \n",
    "    def forward(self, img, labels=None):        \n",
    "        feat = self.model(img)\n",
    "        return feat\n",
    "    \n",
    "model = XunFeiNet().cuda()"
   ]
  },
  {
   "cell_type": "code",
   "execution_count": 97,
   "metadata": {
    "execution": {
     "iopub.execute_input": "2021-08-09T06:19:46.174292Z",
     "iopub.status.busy": "2021-08-09T06:19:46.173675Z",
     "iopub.status.idle": "2021-08-09T06:19:46.182439Z",
     "shell.execute_reply": "2021-08-09T06:19:46.181974Z",
     "shell.execute_reply.started": "2021-08-09T06:19:46.174240Z"
    },
    "tags": []
   },
   "outputs": [],
   "source": [
    "def train(train_loader, model, criterion, optimizer, epoch):\n",
    "    model.train()\n",
    "\n",
    "    for i, (input, target) in enumerate(train_loader):\n",
    "        input = input.cuda(non_blocking=True).float()\n",
    "        target = target.cuda(non_blocking=True).float()\n",
    "\n",
    "        output = model(input, target)\n",
    "        loss = criterion(output, target)\n",
    "        optimizer.zero_grad()\n",
    "        torch.nn.utils.clip_grad_norm_(model.parameters(), 1.0)\n",
    "        loss.backward()\n",
    "        optimizer.step()\n",
    "        \n",
    "        if i % 40 == 0:\n",
    "            print(loss.item())\n",
    "            \n",
    "def validate(val_loader, model):\n",
    "    model.eval()\n",
    "    \n",
    "    val_feats = []\n",
    "    with torch.no_grad():\n",
    "        end = time.time()\n",
    "        for i, (input, target) in enumerate(val_loader):\n",
    "            input = input.cuda().float()\n",
    "            target = target.cuda().float()\n",
    "            output = model(input)\n",
    "            val_feats.append(output.data.cpu().numpy())\n",
    "    return val_feats"
   ]
  },
  {
   "cell_type": "code",
   "execution_count": 108,
   "metadata": {
    "execution": {
     "iopub.execute_input": "2021-08-09T06:24:01.296640Z",
     "iopub.status.busy": "2021-08-09T06:24:01.296055Z",
     "iopub.status.idle": "2021-08-09T06:26:54.422063Z",
     "shell.execute_reply": "2021-08-09T06:26:54.420736Z",
     "shell.execute_reply.started": "2021-08-09T06:24:01.296591Z"
    },
    "scrolled": true,
    "tags": []
   },
   "outputs": [
    {
     "name": "stdout",
     "output_type": "stream",
     "text": [
      "Epoch:  0\n",
      "0.14932881295681\n",
      "0.11036612093448639\n",
      "0.1012566015124321\n",
      "0.076789990067482\n",
      "0.08345494419336319\n",
      "0.08900832384824753\n",
      "0.09732230752706528\n",
      "0.05284625291824341\n",
      "0.06075301393866539\n",
      "0.06667089462280273\n",
      "0.06253930926322937\n",
      "0.047588419169187546\n",
      "Val 21.679407207277357\n",
      "Epoch:  1\n",
      "0.06721837818622589\n",
      "0.03572618588805199\n",
      "0.03186364844441414\n",
      "0.040276676416397095\n",
      "0.03900137543678284\n",
      "0.048599280416965485\n",
      "0.026183605194091797\n",
      "0.039958175271749496\n",
      "0.03507665917277336\n",
      "0.03169254586100578\n",
      "0.0353345088660717\n",
      "0.031176066026091576\n",
      "Val 16.717350484993947\n",
      "Epoch:  2\n",
      "0.029041999951004982\n",
      "0.02885553240776062\n",
      "0.019698794931173325\n",
      "0.03400104492902756\n",
      "0.02097838930785656\n",
      "0.035465043038129807\n",
      "0.030916571617126465\n",
      "0.03679990395903587\n",
      "0.021085580810904503\n",
      "0.025437980890274048\n",
      "0.02623896673321724\n",
      "0.020391065627336502\n",
      "Val 14.216371347548904\n",
      "Epoch:  3\n",
      "0.02657110057771206\n",
      "0.020630603656172752\n",
      "0.018363019451498985\n",
      "0.033554740250110626\n",
      "0.019173502922058105\n",
      "0.030652305111289024\n",
      "0.020343098789453506\n",
      "0.01951799914240837\n",
      "0.017434464767575264\n",
      "0.01862201653420925\n",
      "0.021433258429169655\n",
      "0.014975234866142273\n",
      "Val 12.220621898780399\n",
      "Epoch:  4\n",
      "0.015890253707766533\n",
      "0.0176831241697073\n",
      "0.018635131418704987\n",
      "0.02448231540620327\n",
      "0.01655784621834755\n",
      "0.01590149663388729\n",
      "0.018129315227270126\n",
      "0.017299294471740723\n",
      "0.016370326280593872\n",
      "0.021687326952815056\n",
      "0.014714340679347515\n",
      "0.010721874423325062\n",
      "Val 11.36881506987145\n",
      "Epoch:  5\n",
      "0.014725479297339916\n",
      "0.024911101907491684\n",
      "0.015041734091937542\n",
      "0.014008416794240475\n",
      "0.015359804034233093\n",
      "0.014116659760475159\n",
      "0.014267767779529095\n",
      "0.01410349365323782\n",
      "0.011804620735347271\n",
      "0.01773138716816902\n",
      "0.012361632660031319\n",
      "0.010912850499153137\n",
      "Val 10.472020711206472\n",
      "Epoch:  6\n",
      "0.015053743496537209\n",
      "0.011685292236506939\n",
      "0.010627735406160355\n",
      "0.013557550497353077\n",
      "0.008883532136678696\n",
      "0.013943013735115528\n",
      "0.011277848854660988\n",
      "0.014186781831085682\n",
      "0.014953156001865864\n",
      "0.010625963099300861\n",
      "0.009802830405533314\n",
      "0.009221491403877735\n",
      "Val 10.541951963191075\n",
      "Epoch:  7\n",
      "0.015150886960327625\n",
      "0.006846617441624403\n",
      "0.010702522471547127\n",
      "0.008947773836553097\n"
     ]
    },
    {
     "ename": "KeyboardInterrupt",
     "evalue": "",
     "output_type": "error",
     "traceback": [
      "\u001b[0;31m---------------------------------------------------------------------------\u001b[0m",
      "\u001b[0;31mKeyboardInterrupt\u001b[0m                         Traceback (most recent call last)",
      "\u001b[0;32m<ipython-input-108-1f22364de5e9>\u001b[0m in \u001b[0;36m<module>\u001b[0;34m\u001b[0m\n\u001b[1;32m      9\u001b[0m     \u001b[0mprint\u001b[0m\u001b[0;34m(\u001b[0m\u001b[0;34m'Epoch: '\u001b[0m\u001b[0;34m,\u001b[0m \u001b[0mepoch\u001b[0m\u001b[0;34m)\u001b[0m\u001b[0;34m\u001b[0m\u001b[0;34m\u001b[0m\u001b[0m\n\u001b[1;32m     10\u001b[0m \u001b[0;34m\u001b[0m\u001b[0m\n\u001b[0;32m---> 11\u001b[0;31m     \u001b[0mtrain\u001b[0m\u001b[0;34m(\u001b[0m\u001b[0mtrain_loader\u001b[0m\u001b[0;34m,\u001b[0m \u001b[0mmodel\u001b[0m\u001b[0;34m,\u001b[0m \u001b[0mcriterion\u001b[0m\u001b[0;34m,\u001b[0m \u001b[0moptimizer\u001b[0m\u001b[0;34m,\u001b[0m \u001b[0mepoch\u001b[0m\u001b[0;34m)\u001b[0m\u001b[0;34m\u001b[0m\u001b[0;34m\u001b[0m\u001b[0m\n\u001b[0m\u001b[1;32m     12\u001b[0m \u001b[0;34m\u001b[0m\u001b[0m\n\u001b[1;32m     13\u001b[0m     \u001b[0mval_feats\u001b[0m \u001b[0;34m=\u001b[0m \u001b[0mvalidate\u001b[0m\u001b[0;34m(\u001b[0m\u001b[0mval_loader\u001b[0m\u001b[0;34m,\u001b[0m \u001b[0mmodel\u001b[0m\u001b[0;34m)\u001b[0m\u001b[0;34m\u001b[0m\u001b[0;34m\u001b[0m\u001b[0m\n",
      "\u001b[0;32m<ipython-input-97-d20d87e082e7>\u001b[0m in \u001b[0;36mtrain\u001b[0;34m(train_loader, model, criterion, optimizer, epoch)\u001b[0m\n\u001b[1;32m     11\u001b[0m         \u001b[0mtorch\u001b[0m\u001b[0;34m.\u001b[0m\u001b[0mnn\u001b[0m\u001b[0;34m.\u001b[0m\u001b[0mutils\u001b[0m\u001b[0;34m.\u001b[0m\u001b[0mclip_grad_norm_\u001b[0m\u001b[0;34m(\u001b[0m\u001b[0mmodel\u001b[0m\u001b[0;34m.\u001b[0m\u001b[0mparameters\u001b[0m\u001b[0;34m(\u001b[0m\u001b[0;34m)\u001b[0m\u001b[0;34m,\u001b[0m \u001b[0;36m1.0\u001b[0m\u001b[0;34m)\u001b[0m\u001b[0;34m\u001b[0m\u001b[0;34m\u001b[0m\u001b[0m\n\u001b[1;32m     12\u001b[0m         \u001b[0mloss\u001b[0m\u001b[0;34m.\u001b[0m\u001b[0mbackward\u001b[0m\u001b[0;34m(\u001b[0m\u001b[0;34m)\u001b[0m\u001b[0;34m\u001b[0m\u001b[0;34m\u001b[0m\u001b[0m\n\u001b[0;32m---> 13\u001b[0;31m         \u001b[0moptimizer\u001b[0m\u001b[0;34m.\u001b[0m\u001b[0mstep\u001b[0m\u001b[0;34m(\u001b[0m\u001b[0;34m)\u001b[0m\u001b[0;34m\u001b[0m\u001b[0;34m\u001b[0m\u001b[0m\n\u001b[0m\u001b[1;32m     14\u001b[0m \u001b[0;34m\u001b[0m\u001b[0m\n\u001b[1;32m     15\u001b[0m         \u001b[0;32mif\u001b[0m \u001b[0mi\u001b[0m \u001b[0;34m%\u001b[0m \u001b[0;36m40\u001b[0m \u001b[0;34m==\u001b[0m \u001b[0;36m0\u001b[0m\u001b[0;34m:\u001b[0m\u001b[0;34m\u001b[0m\u001b[0;34m\u001b[0m\u001b[0m\n",
      "\u001b[0;32m~/.local/lib/python3.6/site-packages/torch/optim/lr_scheduler.py\u001b[0m in \u001b[0;36mwrapper\u001b[0;34m(*args, **kwargs)\u001b[0m\n\u001b[1;32m     65\u001b[0m                 \u001b[0minstance\u001b[0m\u001b[0;34m.\u001b[0m\u001b[0m_step_count\u001b[0m \u001b[0;34m+=\u001b[0m \u001b[0;36m1\u001b[0m\u001b[0;34m\u001b[0m\u001b[0;34m\u001b[0m\u001b[0m\n\u001b[1;32m     66\u001b[0m                 \u001b[0mwrapped\u001b[0m \u001b[0;34m=\u001b[0m \u001b[0mfunc\u001b[0m\u001b[0;34m.\u001b[0m\u001b[0m__get__\u001b[0m\u001b[0;34m(\u001b[0m\u001b[0minstance\u001b[0m\u001b[0;34m,\u001b[0m \u001b[0mcls\u001b[0m\u001b[0;34m)\u001b[0m\u001b[0;34m\u001b[0m\u001b[0;34m\u001b[0m\u001b[0m\n\u001b[0;32m---> 67\u001b[0;31m                 \u001b[0;32mreturn\u001b[0m \u001b[0mwrapped\u001b[0m\u001b[0;34m(\u001b[0m\u001b[0;34m*\u001b[0m\u001b[0margs\u001b[0m\u001b[0;34m,\u001b[0m \u001b[0;34m**\u001b[0m\u001b[0mkwargs\u001b[0m\u001b[0;34m)\u001b[0m\u001b[0;34m\u001b[0m\u001b[0;34m\u001b[0m\u001b[0m\n\u001b[0m\u001b[1;32m     68\u001b[0m \u001b[0;34m\u001b[0m\u001b[0m\n\u001b[1;32m     69\u001b[0m             \u001b[0;31m# Note that the returned function here is no longer a bound method,\u001b[0m\u001b[0;34m\u001b[0m\u001b[0;34m\u001b[0m\u001b[0;34m\u001b[0m\u001b[0m\n",
      "\u001b[0;32m~/.local/lib/python3.6/site-packages/torch/autograd/grad_mode.py\u001b[0m in \u001b[0;36mdecorate_context\u001b[0;34m(*args, **kwargs)\u001b[0m\n\u001b[1;32m     24\u001b[0m         \u001b[0;32mdef\u001b[0m \u001b[0mdecorate_context\u001b[0m\u001b[0;34m(\u001b[0m\u001b[0;34m*\u001b[0m\u001b[0margs\u001b[0m\u001b[0;34m,\u001b[0m \u001b[0;34m**\u001b[0m\u001b[0mkwargs\u001b[0m\u001b[0;34m)\u001b[0m\u001b[0;34m:\u001b[0m\u001b[0;34m\u001b[0m\u001b[0;34m\u001b[0m\u001b[0m\n\u001b[1;32m     25\u001b[0m             \u001b[0;32mwith\u001b[0m \u001b[0mself\u001b[0m\u001b[0;34m.\u001b[0m\u001b[0m__class__\u001b[0m\u001b[0;34m(\u001b[0m\u001b[0;34m)\u001b[0m\u001b[0;34m:\u001b[0m\u001b[0;34m\u001b[0m\u001b[0;34m\u001b[0m\u001b[0m\n\u001b[0;32m---> 26\u001b[0;31m                 \u001b[0;32mreturn\u001b[0m \u001b[0mfunc\u001b[0m\u001b[0;34m(\u001b[0m\u001b[0;34m*\u001b[0m\u001b[0margs\u001b[0m\u001b[0;34m,\u001b[0m \u001b[0;34m**\u001b[0m\u001b[0mkwargs\u001b[0m\u001b[0;34m)\u001b[0m\u001b[0;34m\u001b[0m\u001b[0;34m\u001b[0m\u001b[0m\n\u001b[0m\u001b[1;32m     27\u001b[0m         \u001b[0;32mreturn\u001b[0m \u001b[0mcast\u001b[0m\u001b[0;34m(\u001b[0m\u001b[0mF\u001b[0m\u001b[0;34m,\u001b[0m \u001b[0mdecorate_context\u001b[0m\u001b[0;34m)\u001b[0m\u001b[0;34m\u001b[0m\u001b[0;34m\u001b[0m\u001b[0m\n\u001b[1;32m     28\u001b[0m \u001b[0;34m\u001b[0m\u001b[0m\n",
      "\u001b[0;32m~/.local/lib/python3.6/site-packages/torch/optim/sgd.py\u001b[0m in \u001b[0;36mstep\u001b[0;34m(self, closure)\u001b[0m\n\u001b[1;32m     95\u001b[0m                 \u001b[0;32mif\u001b[0m \u001b[0mp\u001b[0m\u001b[0;34m.\u001b[0m\u001b[0mgrad\u001b[0m \u001b[0;32mis\u001b[0m \u001b[0;32mNone\u001b[0m\u001b[0;34m:\u001b[0m\u001b[0;34m\u001b[0m\u001b[0;34m\u001b[0m\u001b[0m\n\u001b[1;32m     96\u001b[0m                     \u001b[0;32mcontinue\u001b[0m\u001b[0;34m\u001b[0m\u001b[0;34m\u001b[0m\u001b[0m\n\u001b[0;32m---> 97\u001b[0;31m                 \u001b[0md_p\u001b[0m \u001b[0;34m=\u001b[0m \u001b[0mp\u001b[0m\u001b[0;34m.\u001b[0m\u001b[0mgrad\u001b[0m\u001b[0;34m\u001b[0m\u001b[0;34m\u001b[0m\u001b[0m\n\u001b[0m\u001b[1;32m     98\u001b[0m                 \u001b[0;32mif\u001b[0m \u001b[0mweight_decay\u001b[0m \u001b[0;34m!=\u001b[0m \u001b[0;36m0\u001b[0m\u001b[0;34m:\u001b[0m\u001b[0;34m\u001b[0m\u001b[0;34m\u001b[0m\u001b[0m\n\u001b[1;32m     99\u001b[0m                     \u001b[0md_p\u001b[0m \u001b[0;34m=\u001b[0m \u001b[0md_p\u001b[0m\u001b[0;34m.\u001b[0m\u001b[0madd\u001b[0m\u001b[0;34m(\u001b[0m\u001b[0mp\u001b[0m\u001b[0;34m,\u001b[0m \u001b[0malpha\u001b[0m\u001b[0;34m=\u001b[0m\u001b[0mweight_decay\u001b[0m\u001b[0;34m)\u001b[0m\u001b[0;34m\u001b[0m\u001b[0;34m\u001b[0m\u001b[0m\n",
      "\u001b[0;32m~/.local/lib/python3.6/site-packages/torch/tensor.py\u001b[0m in \u001b[0;36mgrad\u001b[0;34m(self)\u001b[0m\n\u001b[1;32m    941\u001b[0m         \u001b[0mrelevant_args\u001b[0m \u001b[0;34m=\u001b[0m \u001b[0;34m(\u001b[0m\u001b[0mself\u001b[0m\u001b[0;34m,\u001b[0m\u001b[0;34m)\u001b[0m\u001b[0;34m\u001b[0m\u001b[0;34m\u001b[0m\u001b[0m\n\u001b[1;32m    942\u001b[0m         \u001b[0;32mfrom\u001b[0m \u001b[0mtorch\u001b[0m\u001b[0;34m.\u001b[0m\u001b[0moverrides\u001b[0m \u001b[0;32mimport\u001b[0m \u001b[0mhas_torch_function\u001b[0m\u001b[0;34m,\u001b[0m \u001b[0mhandle_torch_function\u001b[0m\u001b[0;34m\u001b[0m\u001b[0;34m\u001b[0m\u001b[0m\n\u001b[0;32m--> 943\u001b[0;31m         \u001b[0;32mif\u001b[0m \u001b[0mtype\u001b[0m\u001b[0;34m(\u001b[0m\u001b[0mself\u001b[0m\u001b[0;34m)\u001b[0m \u001b[0;32mis\u001b[0m \u001b[0;32mnot\u001b[0m \u001b[0mTensor\u001b[0m \u001b[0;32mand\u001b[0m \u001b[0mhas_torch_function\u001b[0m\u001b[0;34m(\u001b[0m\u001b[0mrelevant_args\u001b[0m\u001b[0;34m)\u001b[0m\u001b[0;34m:\u001b[0m\u001b[0;34m\u001b[0m\u001b[0;34m\u001b[0m\u001b[0m\n\u001b[0m\u001b[1;32m    944\u001b[0m             \u001b[0;31m# TODO mypy doesn't support @property, see: https://github.com/python/mypy/issues/6185\u001b[0m\u001b[0;34m\u001b[0m\u001b[0;34m\u001b[0m\u001b[0;34m\u001b[0m\u001b[0m\n\u001b[1;32m    945\u001b[0m             \u001b[0;32mreturn\u001b[0m \u001b[0mhandle_torch_function\u001b[0m\u001b[0;34m(\u001b[0m\u001b[0mTensor\u001b[0m\u001b[0;34m.\u001b[0m\u001b[0mgrad\u001b[0m\u001b[0;34m.\u001b[0m\u001b[0m__get__\u001b[0m\u001b[0;34m,\u001b[0m \u001b[0mrelevant_args\u001b[0m\u001b[0;34m,\u001b[0m \u001b[0mself\u001b[0m\u001b[0;34m)\u001b[0m  \u001b[0;31m# type: ignore[attr-defined]\u001b[0m\u001b[0;34m\u001b[0m\u001b[0;34m\u001b[0m\u001b[0m\n",
      "\u001b[0;32m~/.local/lib/python3.6/site-packages/torch/overrides.py\u001b[0m in \u001b[0;36mhas_torch_function\u001b[0;34m(relevant_args)\u001b[0m\n\u001b[1;32m   1085\u001b[0m         \u001b[0mgetattr\u001b[0m\u001b[0;34m(\u001b[0m\u001b[0ma\u001b[0m\u001b[0;34m,\u001b[0m \u001b[0;34m'__torch_function__'\u001b[0m\u001b[0;34m,\u001b[0m \u001b[0m_disabled_torch_function_impl\u001b[0m\u001b[0;34m)\u001b[0m\u001b[0;34m\u001b[0m\u001b[0;34m\u001b[0m\u001b[0m\n\u001b[1;32m   1086\u001b[0m         \u001b[0;32mis\u001b[0m \u001b[0;32mnot\u001b[0m \u001b[0m_disabled_torch_function_impl\u001b[0m\u001b[0;34m\u001b[0m\u001b[0;34m\u001b[0m\u001b[0m\n\u001b[0;32m-> 1087\u001b[0;31m         \u001b[0;32mfor\u001b[0m \u001b[0ma\u001b[0m \u001b[0;32min\u001b[0m \u001b[0mrelevant_args\u001b[0m\u001b[0;34m\u001b[0m\u001b[0;34m\u001b[0m\u001b[0m\n\u001b[0m\u001b[1;32m   1088\u001b[0m     )\n\u001b[1;32m   1089\u001b[0m \u001b[0;34m\u001b[0m\u001b[0m\n",
      "\u001b[0;31mKeyboardInterrupt\u001b[0m: "
     ]
    }
   ],
   "source": [
    "from sklearn.metrics import mean_absolute_error\n",
    "\n",
    "criterion = nn.MSELoss().cuda()\n",
    "optimizer = torch.optim.SGD(model.parameters(), 0.005)\n",
    "scheduler = optim.lr_scheduler.StepLR(optimizer, step_size=10, gamma=0.85)\n",
    "best_acc = 0.0\n",
    "\n",
    "for epoch in range(20):\n",
    "    print('Epoch: ', epoch)\n",
    "\n",
    "    train(train_loader, model, criterion, optimizer, epoch)\n",
    "    \n",
    "    val_feats = validate(val_loader, model)\n",
    "    scheduler.step()\n",
    "    \n",
    "    val_feats = np.vstack(val_feats) * 96 + 48\n",
    "    print('Val', mean_absolute_error(val_feats, train_df.values[-500:]))"
   ]
  },
  {
   "cell_type": "code",
   "execution_count": 111,
   "metadata": {
    "execution": {
     "iopub.execute_input": "2021-08-09T06:27:31.507441Z",
     "iopub.status.busy": "2021-08-09T06:27:31.506851Z",
     "iopub.status.idle": "2021-08-09T06:27:31.514139Z",
     "shell.execute_reply": "2021-08-09T06:27:31.513568Z",
     "shell.execute_reply.started": "2021-08-09T06:27:31.507393Z"
    },
    "tags": []
   },
   "outputs": [],
   "source": [
    "test_loader = torch.utils.data.DataLoader(\n",
    "    XunFeiDataset(test_img, np.zeros((2049, 8)),\n",
    "                    transforms.Compose([\n",
    "                        transforms.ToTensor(),\n",
    "        ])\n",
    "    ),\n",
    "    batch_size=10, shuffle=False, num_workers=5,\n",
    ")"
   ]
  },
  {
   "cell_type": "code",
   "execution_count": 112,
   "metadata": {
    "execution": {
     "iopub.execute_input": "2021-08-09T06:27:40.091157Z",
     "iopub.status.busy": "2021-08-09T06:27:40.090560Z",
     "iopub.status.idle": "2021-08-09T06:27:43.125122Z",
     "shell.execute_reply": "2021-08-09T06:27:43.124552Z",
     "shell.execute_reply.started": "2021-08-09T06:27:40.091108Z"
    },
    "tags": []
   },
   "outputs": [
    {
     "name": "stderr",
     "output_type": "stream",
     "text": [
      "/usr/local/lib/python3.6/dist-packages/ipykernel_launcher.py:6: UserWarning: This overload of cuda is deprecated:\n",
      "\tcuda(torch.device device, bool async, *, torch.memory_format memory_format)\n",
      "Consider using one of the following signatures instead:\n",
      "\tcuda(torch.device device, bool non_blocking, *, torch.memory_format memory_format) (Triggered internally at  /pytorch/torch/csrc/utils/python_arg_parser.cpp:882.)\n",
      "  \n"
     ]
    },
    {
     "name": "stdout",
     "output_type": "stream",
     "text": [
      "0\n"
     ]
    }
   ],
   "source": [
    "pred_tta = []\n",
    "for tti in range(1):\n",
    "    pred = []\n",
    "    with torch.no_grad():\n",
    "        for t, (x, y) in enumerate(test_loader):\n",
    "            x_var = Variable(x).cuda(async=True)\n",
    "            y_var = Variable(y).cuda()\n",
    "            scores = model(x_var)\n",
    "            pred.append(scores.data.cpu().numpy())\n",
    "    pred = np.concatenate(pred, 0)    \n",
    "    print(tti)\n",
    "    pred_tta.append(pred)\n",
    "\n",
    "pred = np.mean(pred_tta, axis=0)"
   ]
  },
  {
   "cell_type": "code",
   "execution_count": 121,
   "metadata": {
    "execution": {
     "iopub.execute_input": "2021-08-09T06:29:35.863476Z",
     "iopub.status.busy": "2021-08-09T06:29:35.863008Z",
     "iopub.status.idle": "2021-08-09T06:29:35.885401Z",
     "shell.execute_reply": "2021-08-09T06:29:35.884736Z",
     "shell.execute_reply.started": "2021-08-09T06:29:35.863439Z"
    },
    "tags": []
   },
   "outputs": [],
   "source": [
    "col = ['left_eye_center_x', 'left_eye_center_y', 'right_eye_center_x',\n",
    " 'right_eye_center_y', 'nose_tip_x', 'nose_tip_y', \n",
    " 'mouth_center_bottom_lip_x','mouth_center_bottom_lip_y']\n",
    "pd.DataFrame(pred * 96 + 48, columns=col).to_csv('submit.csv', index=None)"
   ]
  },
  {
   "cell_type": "code",
   "execution_count": 120,
   "metadata": {
    "execution": {
     "iopub.execute_input": "2021-08-09T06:29:21.861905Z",
     "iopub.status.busy": "2021-08-09T06:29:21.861334Z",
     "iopub.status.idle": "2021-08-09T06:29:21.875635Z",
     "shell.execute_reply": "2021-08-09T06:29:21.875014Z",
     "shell.execute_reply.started": "2021-08-09T06:29:21.861853Z"
    },
    "tags": []
   },
   "outputs": [
    {
     "data": {
      "text/html": [
       "<div>\n",
       "<style scoped>\n",
       "    .dataframe tbody tr th:only-of-type {\n",
       "        vertical-align: middle;\n",
       "    }\n",
       "\n",
       "    .dataframe tbody tr th {\n",
       "        vertical-align: top;\n",
       "    }\n",
       "\n",
       "    .dataframe thead th {\n",
       "        text-align: right;\n",
       "    }\n",
       "</style>\n",
       "<table border=\"1\" class=\"dataframe\">\n",
       "  <thead>\n",
       "    <tr style=\"text-align: right;\">\n",
       "      <th></th>\n",
       "      <th>left_eye_center_x</th>\n",
       "      <th>left_eye_center_y</th>\n",
       "      <th>right_eye_center_x</th>\n",
       "      <th>right_eye_center_y</th>\n",
       "      <th>nose_tip_x</th>\n",
       "      <th>nose_tip_y</th>\n",
       "      <th>mouth_center_bottom_lip_x</th>\n",
       "      <th>mouth_center_bottom_lip_y</th>\n",
       "    </tr>\n",
       "  </thead>\n",
       "  <tbody>\n",
       "    <tr>\n",
       "      <th>0</th>\n",
       "      <td>66.342364</td>\n",
       "      <td>38.523613</td>\n",
       "      <td>28.930840</td>\n",
       "      <td>35.577773</td>\n",
       "      <td>49.256845</td>\n",
       "      <td>68.275955</td>\n",
       "      <td>47.783946</td>\n",
       "      <td>85.361582</td>\n",
       "    </tr>\n",
       "    <tr>\n",
       "      <th>1</th>\n",
       "      <td>68.912604</td>\n",
       "      <td>31.409117</td>\n",
       "      <td>29.652226</td>\n",
       "      <td>33.028075</td>\n",
       "      <td>51.913358</td>\n",
       "      <td>48.408453</td>\n",
       "      <td>50.698868</td>\n",
       "      <td>79.574038</td>\n",
       "    </tr>\n",
       "    <tr>\n",
       "      <th>2</th>\n",
       "      <td>68.708994</td>\n",
       "      <td>40.371149</td>\n",
       "      <td>27.130820</td>\n",
       "      <td>40.940680</td>\n",
       "      <td>44.502523</td>\n",
       "      <td>69.988486</td>\n",
       "      <td>45.926427</td>\n",
       "      <td>86.221009</td>\n",
       "    </tr>\n",
       "    <tr>\n",
       "      <th>3</th>\n",
       "      <td>65.334176</td>\n",
       "      <td>35.471878</td>\n",
       "      <td>29.366461</td>\n",
       "      <td>37.767684</td>\n",
       "      <td>50.411373</td>\n",
       "      <td>64.934767</td>\n",
       "      <td>50.028780</td>\n",
       "      <td>74.883241</td>\n",
       "    </tr>\n",
       "    <tr>\n",
       "      <th>4</th>\n",
       "      <td>68.634857</td>\n",
       "      <td>29.999486</td>\n",
       "      <td>31.094571</td>\n",
       "      <td>29.616429</td>\n",
       "      <td>50.247429</td>\n",
       "      <td>51.450857</td>\n",
       "      <td>47.948571</td>\n",
       "      <td>84.394286</td>\n",
       "    </tr>\n",
       "    <tr>\n",
       "      <th>...</th>\n",
       "      <td>...</td>\n",
       "      <td>...</td>\n",
       "      <td>...</td>\n",
       "      <td>...</td>\n",
       "      <td>...</td>\n",
       "      <td>...</td>\n",
       "      <td>...</td>\n",
       "      <td>...</td>\n",
       "    </tr>\n",
       "    <tr>\n",
       "      <th>4995</th>\n",
       "      <td>66.489689</td>\n",
       "      <td>36.358727</td>\n",
       "      <td>28.595587</td>\n",
       "      <td>39.653849</td>\n",
       "      <td>45.071286</td>\n",
       "      <td>64.367420</td>\n",
       "      <td>45.071286</td>\n",
       "      <td>70.957708</td>\n",
       "    </tr>\n",
       "    <tr>\n",
       "      <th>4996</th>\n",
       "      <td>50.262958</td>\n",
       "      <td>43.791096</td>\n",
       "      <td>21.053248</td>\n",
       "      <td>39.981146</td>\n",
       "      <td>23.275707</td>\n",
       "      <td>59.348474</td>\n",
       "      <td>21.688240</td>\n",
       "      <td>70.778347</td>\n",
       "    </tr>\n",
       "    <tr>\n",
       "      <th>4997</th>\n",
       "      <td>67.068343</td>\n",
       "      <td>41.353426</td>\n",
       "      <td>31.536000</td>\n",
       "      <td>35.159712</td>\n",
       "      <td>51.747154</td>\n",
       "      <td>64.824329</td>\n",
       "      <td>48.161280</td>\n",
       "      <td>80.471602</td>\n",
       "    </tr>\n",
       "    <tr>\n",
       "      <th>4998</th>\n",
       "      <td>62.549189</td>\n",
       "      <td>41.343645</td>\n",
       "      <td>35.927611</td>\n",
       "      <td>43.211831</td>\n",
       "      <td>48.070832</td>\n",
       "      <td>60.025401</td>\n",
       "      <td>49.004886</td>\n",
       "      <td>67.965146</td>\n",
       "    </tr>\n",
       "    <tr>\n",
       "      <th>4999</th>\n",
       "      <td>67.517887</td>\n",
       "      <td>38.994657</td>\n",
       "      <td>28.257509</td>\n",
       "      <td>37.780438</td>\n",
       "      <td>47.684830</td>\n",
       "      <td>53.970294</td>\n",
       "      <td>47.684830</td>\n",
       "      <td>90.802415</td>\n",
       "    </tr>\n",
       "  </tbody>\n",
       "</table>\n",
       "<p>5000 rows × 8 columns</p>\n",
       "</div>"
      ],
      "text/plain": [
       "      left_eye_center_x  left_eye_center_y  right_eye_center_x  \\\n",
       "0             66.342364          38.523613           28.930840   \n",
       "1             68.912604          31.409117           29.652226   \n",
       "2             68.708994          40.371149           27.130820   \n",
       "3             65.334176          35.471878           29.366461   \n",
       "4             68.634857          29.999486           31.094571   \n",
       "...                 ...                ...                 ...   \n",
       "4995          66.489689          36.358727           28.595587   \n",
       "4996          50.262958          43.791096           21.053248   \n",
       "4997          67.068343          41.353426           31.536000   \n",
       "4998          62.549189          41.343645           35.927611   \n",
       "4999          67.517887          38.994657           28.257509   \n",
       "\n",
       "      right_eye_center_y  nose_tip_x  nose_tip_y  mouth_center_bottom_lip_x  \\\n",
       "0              35.577773   49.256845   68.275955                  47.783946   \n",
       "1              33.028075   51.913358   48.408453                  50.698868   \n",
       "2              40.940680   44.502523   69.988486                  45.926427   \n",
       "3              37.767684   50.411373   64.934767                  50.028780   \n",
       "4              29.616429   50.247429   51.450857                  47.948571   \n",
       "...                  ...         ...         ...                        ...   \n",
       "4995           39.653849   45.071286   64.367420                  45.071286   \n",
       "4996           39.981146   23.275707   59.348474                  21.688240   \n",
       "4997           35.159712   51.747154   64.824329                  48.161280   \n",
       "4998           43.211831   48.070832   60.025401                  49.004886   \n",
       "4999           37.780438   47.684830   53.970294                  47.684830   \n",
       "\n",
       "      mouth_center_bottom_lip_y  \n",
       "0                     85.361582  \n",
       "1                     79.574038  \n",
       "2                     86.221009  \n",
       "3                     74.883241  \n",
       "4                     84.394286  \n",
       "...                         ...  \n",
       "4995                  70.957708  \n",
       "4996                  70.778347  \n",
       "4997                  80.471602  \n",
       "4998                  67.965146  \n",
       "4999                  90.802415  \n",
       "\n",
       "[5000 rows x 8 columns]"
      ]
     },
     "execution_count": 120,
     "metadata": {},
     "output_type": "execute_result"
    }
   ],
   "source": [
    "train_df"
   ]
  },
  {
   "cell_type": "code",
   "execution_count": null,
   "metadata": {},
   "outputs": [],
   "source": []
  }
 ],
 "metadata": {
  "kernelspec": {
   "display_name": "Python 3",
   "language": "python",
   "name": "python3"
  },
  "language_info": {
   "codemirror_mode": {
    "name": "ipython",
    "version": 3
   },
   "file_extension": ".py",
   "mimetype": "text/x-python",
   "name": "python",
   "nbconvert_exporter": "python",
   "pygments_lexer": "ipython3",
   "version": "3.6.9"
  }
 },
 "nbformat": 4,
 "nbformat_minor": 4
}
