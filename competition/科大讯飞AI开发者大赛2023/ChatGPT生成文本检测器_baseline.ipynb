{
 "cells": [
  {
   "cell_type": "code",
   "execution_count": 48,
   "id": "26ec15a2-884b-49a7-b5ae-777c9baebd5d",
   "metadata": {
    "tags": []
   },
   "outputs": [],
   "source": [
    "import glob\n",
    "import numpy as np\n",
    "from sklearn.linear_model import LogisticRegression\n",
    "from sklearn.feature_extraction.text import TfidfVectorizer\n",
    "from sklearn.model_selection import cross_val_predict"
   ]
  },
  {
   "cell_type": "code",
   "execution_count": 65,
   "id": "6d4dfe41-3f99-4e6d-ba08-d9df68a0ef75",
   "metadata": {
    "tags": []
   },
   "outputs": [],
   "source": [
    "train_paths = glob.glob('./ChatGPT生成文本检测器公开数据/train/*/*.txt')\n",
    "test_paths = glob.glob('./ChatGPT生成文本检测器公开数据/test/*.txt')\n",
    "test_paths.sort()"
   ]
  },
  {
   "cell_type": "code",
   "execution_count": 66,
   "id": "fc6df9e4-acaf-4695-aad5-e10641e26017",
   "metadata": {
    "tags": []
   },
   "outputs": [
    {
     "data": {
      "text/plain": [
       "['这一天，我接到了妹妹的来信，说她很不舒服，需要我的帮助。我立刻赶到了妹妹的家里，看到她躺在床上，脸色苍白，看起来非常虚弱。我知道，妹妹已经经历了很多病痛，所以我赶紧帮她做了一些检查，确定她没有什么大碍。\\n',\n",
       " '\\n',\n",
       " '接下来，我考虑了很多措施，帮助妹妹恢复健康。我给她喝了很多水，让她吃了一些易消化的食物，还给她按摩身体，让她的身体得到放松。我带她去看了医生，医生告诉我们，妹妹需要多休息，不能多做运动，但是我会尽力让她的身体尽快恢复。\\n',\n",
       " '\\n',\n",
       " '在这个过程中，我感受到了作为哥哥的责任和喜悦。我知道自己需要学会如何照顾妹妹，让她过上健康的生活。我也意识到，我需要成为一个可靠的哥哥，帮助妹妹成长。\\n',\n",
       " '\\n',\n",
       " '照顾妹妹是一件非常有意义的事情。它不仅让我们成为了一个更好的人，也让我们感受到了家庭的温暖和亲情的重要性。我希望在未来的岁月中，我能够继续照顾妹妹，让她感受到我的爱和关怀。']"
      ]
     },
     "execution_count": 66,
     "metadata": {},
     "output_type": "execute_result"
    }
   ],
   "source": [
    "open(train_paths[0]).readlines()"
   ]
  },
  {
   "cell_type": "code",
   "execution_count": 67,
   "id": "d939e199-26f2-4c2f-a5c6-10b1bd9e011f",
   "metadata": {
    "tags": []
   },
   "outputs": [
    {
     "data": {
      "text/plain": [
       "['屋檐下，是一处温暖的地方，是我与母亲共同的家园。每一次想起那里，我就会感到一股深深的思念。\\n',\n",
       " '\\n',\n",
       " '那是一个风雨交加的夜晚，我因为感冒而躺在床上无法入睡。母亲进来看到我躺在床上，便轻轻地给我盖上了一层被子，然后走到屋檐下，把窗门关上，开始轻轻地唱歌。\\n',\n",
       " '\\n',\n",
       " '我躺在床上，听着母亲的歌唱，感觉仿佛她的歌声在陪伴着我。我开始想象母亲在那里唱歌的情景，想象她的身影和声音，想象她的微笑和泪水。我感觉到，母亲在那里，她是我生命中最重要的人，是我心灵的归宿。\\n',\n",
       " '\\n',\n",
       " '随着时间的推移，我渐渐长大了，离开了家乡，开始了自己的学业和事业。每当想起母亲在那里，我就会感到一阵深深的思念。我想回家，回到那个屋檐下，回到母亲身边，和她一起度过每一个美好的时光。\\n',\n",
       " '\\n',\n",
       " '屋檐下的思念，是一种深深的情感，是一种无法言说的感动。它伴随着我成长，伴随着我走过人生的每一个阶段。它是我生命中最珍贵的财富，也是我最珍视的情感。']"
      ]
     },
     "execution_count": 67,
     "metadata": {},
     "output_type": "execute_result"
    }
   ],
   "source": [
    "open(train_paths[10]).readlines()"
   ]
  },
  {
   "cell_type": "code",
   "execution_count": 68,
   "id": "c3211811-9ba9-49e0-be58-135f29b55919",
   "metadata": {
    "tags": []
   },
   "outputs": [],
   "source": [
    "train_text = [''.join(open(x).readlines()) for x in train_paths]\n",
    "test_text = [''.join(open(x).readlines()) for x in test_paths]\n",
    "train_label = ['chatgpt' in x for x in train_paths]"
   ]
  },
  {
   "cell_type": "code",
   "execution_count": 73,
   "id": "eb5964eb-4ab4-4a88-b4e4-762eb2858733",
   "metadata": {
    "tags": []
   },
   "outputs": [],
   "source": [
    "tfidf = TfidfVectorizer(token_pattern=r'\\w{1}', max_features=2000)\n",
    "train_tfidf = tfidf.fit_transform(train_text)\n",
    "test_tfidf = tfidf.fit_transform(test_text)"
   ]
  },
  {
   "cell_type": "code",
   "execution_count": 74,
   "id": "710996bc-40fc-49c1-829d-71069200dff8",
   "metadata": {
    "tags": []
   },
   "outputs": [
    {
     "data": {
      "text/html": [
       "<style>#sk-container-id-3 {color: black;background-color: white;}#sk-container-id-3 pre{padding: 0;}#sk-container-id-3 div.sk-toggleable {background-color: white;}#sk-container-id-3 label.sk-toggleable__label {cursor: pointer;display: block;width: 100%;margin-bottom: 0;padding: 0.3em;box-sizing: border-box;text-align: center;}#sk-container-id-3 label.sk-toggleable__label-arrow:before {content: \"▸\";float: left;margin-right: 0.25em;color: #696969;}#sk-container-id-3 label.sk-toggleable__label-arrow:hover:before {color: black;}#sk-container-id-3 div.sk-estimator:hover label.sk-toggleable__label-arrow:before {color: black;}#sk-container-id-3 div.sk-toggleable__content {max-height: 0;max-width: 0;overflow: hidden;text-align: left;background-color: #f0f8ff;}#sk-container-id-3 div.sk-toggleable__content pre {margin: 0.2em;color: black;border-radius: 0.25em;background-color: #f0f8ff;}#sk-container-id-3 input.sk-toggleable__control:checked~div.sk-toggleable__content {max-height: 200px;max-width: 100%;overflow: auto;}#sk-container-id-3 input.sk-toggleable__control:checked~label.sk-toggleable__label-arrow:before {content: \"▾\";}#sk-container-id-3 div.sk-estimator input.sk-toggleable__control:checked~label.sk-toggleable__label {background-color: #d4ebff;}#sk-container-id-3 div.sk-label input.sk-toggleable__control:checked~label.sk-toggleable__label {background-color: #d4ebff;}#sk-container-id-3 input.sk-hidden--visually {border: 0;clip: rect(1px 1px 1px 1px);clip: rect(1px, 1px, 1px, 1px);height: 1px;margin: -1px;overflow: hidden;padding: 0;position: absolute;width: 1px;}#sk-container-id-3 div.sk-estimator {font-family: monospace;background-color: #f0f8ff;border: 1px dotted black;border-radius: 0.25em;box-sizing: border-box;margin-bottom: 0.5em;}#sk-container-id-3 div.sk-estimator:hover {background-color: #d4ebff;}#sk-container-id-3 div.sk-parallel-item::after {content: \"\";width: 100%;border-bottom: 1px solid gray;flex-grow: 1;}#sk-container-id-3 div.sk-label:hover label.sk-toggleable__label {background-color: #d4ebff;}#sk-container-id-3 div.sk-serial::before {content: \"\";position: absolute;border-left: 1px solid gray;box-sizing: border-box;top: 0;bottom: 0;left: 50%;z-index: 0;}#sk-container-id-3 div.sk-serial {display: flex;flex-direction: column;align-items: center;background-color: white;padding-right: 0.2em;padding-left: 0.2em;position: relative;}#sk-container-id-3 div.sk-item {position: relative;z-index: 1;}#sk-container-id-3 div.sk-parallel {display: flex;align-items: stretch;justify-content: center;background-color: white;position: relative;}#sk-container-id-3 div.sk-item::before, #sk-container-id-3 div.sk-parallel-item::before {content: \"\";position: absolute;border-left: 1px solid gray;box-sizing: border-box;top: 0;bottom: 0;left: 50%;z-index: -1;}#sk-container-id-3 div.sk-parallel-item {display: flex;flex-direction: column;z-index: 1;position: relative;background-color: white;}#sk-container-id-3 div.sk-parallel-item:first-child::after {align-self: flex-end;width: 50%;}#sk-container-id-3 div.sk-parallel-item:last-child::after {align-self: flex-start;width: 50%;}#sk-container-id-3 div.sk-parallel-item:only-child::after {width: 0;}#sk-container-id-3 div.sk-dashed-wrapped {border: 1px dashed gray;margin: 0 0.4em 0.5em 0.4em;box-sizing: border-box;padding-bottom: 0.4em;background-color: white;}#sk-container-id-3 div.sk-label label {font-family: monospace;font-weight: bold;display: inline-block;line-height: 1.2em;}#sk-container-id-3 div.sk-label-container {text-align: center;}#sk-container-id-3 div.sk-container {/* jupyter's `normalize.less` sets `[hidden] { display: none; }` but bootstrap.min.css set `[hidden] { display: none !important; }` so we also need the `!important` here to be able to override the default hidden behavior on the sphinx rendered scikit-learn.org. See: https://github.com/scikit-learn/scikit-learn/issues/21755 */display: inline-block !important;position: relative;}#sk-container-id-3 div.sk-text-repr-fallback {display: none;}</style><div id=\"sk-container-id-3\" class=\"sk-top-container\"><div class=\"sk-text-repr-fallback\"><pre>LogisticRegression()</pre><b>In a Jupyter environment, please rerun this cell to show the HTML representation or trust the notebook. <br />On GitHub, the HTML representation is unable to render, please try loading this page with nbviewer.org.</b></div><div class=\"sk-container\" hidden><div class=\"sk-item\"><div class=\"sk-estimator sk-toggleable\"><input class=\"sk-toggleable__control sk-hidden--visually\" id=\"sk-estimator-id-3\" type=\"checkbox\" checked><label for=\"sk-estimator-id-3\" class=\"sk-toggleable__label sk-toggleable__label-arrow\">LogisticRegression</label><div class=\"sk-toggleable__content\"><pre>LogisticRegression()</pre></div></div></div></div></div>"
      ],
      "text/plain": [
       "LogisticRegression()"
      ]
     },
     "execution_count": 74,
     "metadata": {},
     "output_type": "execute_result"
    }
   ],
   "source": [
    "m = LogisticRegression()\n",
    "m.fit(\n",
    "    train_tfidf,\n",
    "    train_label\n",
    ")"
   ]
  },
  {
   "cell_type": "code",
   "execution_count": 75,
   "id": "bd421bf3-7e6f-4fe2-ab80-39263b5c628b",
   "metadata": {
    "tags": []
   },
   "outputs": [],
   "source": [
    "import pandas as pd\n",
    "submit = pd.read_csv('sample_submit.csv')\n",
    "submit = submit.sort_values(by='name')"
   ]
  },
  {
   "cell_type": "code",
   "execution_count": 76,
   "id": "868341bf-abfe-4f6e-8b30-12909794de02",
   "metadata": {
    "tags": []
   },
   "outputs": [],
   "source": [
    "submit['label'] = m.predict(test_tfidf).astype(int)"
   ]
  },
  {
   "cell_type": "code",
   "execution_count": 78,
   "id": "ca16c6a6-d9d5-46ca-8187-f73ecae82eb4",
   "metadata": {
    "tags": []
   },
   "outputs": [],
   "source": [
    "submit.to_csv('lr.csv', index=None)"
   ]
  },
  {
   "cell_type": "code",
   "execution_count": null,
   "id": "33e5a227-5741-4a59-b75f-4c4c265740bc",
   "metadata": {},
   "outputs": [],
   "source": []
  }
 ],
 "metadata": {
  "kernelspec": {
   "display_name": "Python 3 (ipykernel)",
   "language": "python",
   "name": "python3.10"
  },
  "language_info": {
   "codemirror_mode": {
    "name": "ipython",
    "version": 3
   },
   "file_extension": ".py",
   "mimetype": "text/x-python",
   "name": "python",
   "nbconvert_exporter": "python",
   "pygments_lexer": "ipython3",
   "version": "3.9.10"
  },
  "widgets": {
   "application/vnd.jupyter.widget-state+json": {
    "state": {},
    "version_major": 2,
    "version_minor": 0
   }
  }
 },
 "nbformat": 4,
 "nbformat_minor": 5
}
