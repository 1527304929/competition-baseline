{
 "cells": [
  {
   "cell_type": "code",
   "execution_count": 1,
   "id": "6a9a8431-35e9-4f0b-9a67-48ec37359034",
   "metadata": {},
   "outputs": [],
   "source": [
    "import pandas as pd\n",
    "import numpy as np\n",
    "import matplotlib.pyplot as plt"
   ]
  },
  {
   "cell_type": "code",
   "execution_count": 2,
   "id": "cf1b409b-7e2d-4919-9615-67aff3769328",
   "metadata": {},
   "outputs": [],
   "source": [
    "train_data = pd.read_csv('农机作业轨迹测算挑战赛公开数据/trainData.csv')\n",
    "train_label = pd.read_csv('农机作业轨迹测算挑战赛公开数据/trainLabel.csv')\n",
    "\n",
    "test_data = pd.read_csv('农机作业轨迹测算挑战赛公开数据/testData.csv')\n",
    "test_submit = pd.read_csv('提交示例.csv')"
   ]
  },
  {
   "cell_type": "code",
   "execution_count": 3,
   "id": "3e075068-324f-495e-8162-960d84a72a04",
   "metadata": {},
   "outputs": [
    {
     "data": {
      "text/plain": [
       "num          601.500000\n",
       "latitude      29.419376\n",
       "longitude    106.728831\n",
       "dtype: float64"
      ]
     },
     "execution_count": 3,
     "metadata": {},
     "output_type": "execute_result"
    }
   ],
   "source": [
    "train_data.mean()"
   ]
  },
  {
   "cell_type": "code",
   "execution_count": 4,
   "id": "1f15d943-8f00-465d-bf23-c0aa282293b0",
   "metadata": {},
   "outputs": [
    {
     "data": {
      "text/html": [
       "<div>\n",
       "<style scoped>\n",
       "    .dataframe tbody tr th:only-of-type {\n",
       "        vertical-align: middle;\n",
       "    }\n",
       "\n",
       "    .dataframe tbody tr th {\n",
       "        vertical-align: top;\n",
       "    }\n",
       "\n",
       "    .dataframe thead th {\n",
       "        text-align: right;\n",
       "    }\n",
       "</style>\n",
       "<table border=\"1\" class=\"dataframe\">\n",
       "  <thead>\n",
       "    <tr style=\"text-align: right;\">\n",
       "      <th></th>\n",
       "      <th>num</th>\n",
       "      <th>latitude</th>\n",
       "      <th>longitude</th>\n",
       "    </tr>\n",
       "  </thead>\n",
       "  <tbody>\n",
       "    <tr>\n",
       "      <th>0</th>\n",
       "      <td>3</td>\n",
       "      <td>29.419273</td>\n",
       "      <td>106.728780</td>\n",
       "    </tr>\n",
       "    <tr>\n",
       "      <th>1</th>\n",
       "      <td>6</td>\n",
       "      <td>29.419276</td>\n",
       "      <td>106.728775</td>\n",
       "    </tr>\n",
       "    <tr>\n",
       "      <th>2</th>\n",
       "      <td>9</td>\n",
       "      <td>29.419279</td>\n",
       "      <td>106.728770</td>\n",
       "    </tr>\n",
       "    <tr>\n",
       "      <th>3</th>\n",
       "      <td>12</td>\n",
       "      <td>29.419282</td>\n",
       "      <td>106.728763</td>\n",
       "    </tr>\n",
       "    <tr>\n",
       "      <th>4</th>\n",
       "      <td>15</td>\n",
       "      <td>29.419285</td>\n",
       "      <td>106.728756</td>\n",
       "    </tr>\n",
       "    <tr>\n",
       "      <th>...</th>\n",
       "      <td>...</td>\n",
       "      <td>...</td>\n",
       "      <td>...</td>\n",
       "    </tr>\n",
       "    <tr>\n",
       "      <th>395</th>\n",
       "      <td>1188</td>\n",
       "      <td>29.419284</td>\n",
       "      <td>106.728713</td>\n",
       "    </tr>\n",
       "    <tr>\n",
       "      <th>396</th>\n",
       "      <td>1191</td>\n",
       "      <td>29.419289</td>\n",
       "      <td>106.728698</td>\n",
       "    </tr>\n",
       "    <tr>\n",
       "      <th>397</th>\n",
       "      <td>1194</td>\n",
       "      <td>29.419293</td>\n",
       "      <td>106.728691</td>\n",
       "    </tr>\n",
       "    <tr>\n",
       "      <th>398</th>\n",
       "      <td>1197</td>\n",
       "      <td>29.419299</td>\n",
       "      <td>106.728683</td>\n",
       "    </tr>\n",
       "    <tr>\n",
       "      <th>399</th>\n",
       "      <td>1200</td>\n",
       "      <td>29.419304</td>\n",
       "      <td>106.728674</td>\n",
       "    </tr>\n",
       "  </tbody>\n",
       "</table>\n",
       "<p>400 rows × 3 columns</p>\n",
       "</div>"
      ],
      "text/plain": [
       "      num   latitude   longitude\n",
       "0       3  29.419273  106.728780\n",
       "1       6  29.419276  106.728775\n",
       "2       9  29.419279  106.728770\n",
       "3      12  29.419282  106.728763\n",
       "4      15  29.419285  106.728756\n",
       "..    ...        ...         ...\n",
       "395  1188  29.419284  106.728713\n",
       "396  1191  29.419289  106.728698\n",
       "397  1194  29.419293  106.728691\n",
       "398  1197  29.419299  106.728683\n",
       "399  1200  29.419304  106.728674\n",
       "\n",
       "[400 rows x 3 columns]"
      ]
     },
     "execution_count": 4,
     "metadata": {},
     "output_type": "execute_result"
    }
   ],
   "source": [
    "train_data"
   ]
  },
  {
   "cell_type": "code",
   "execution_count": 5,
   "id": "967ba20a-b388-49a1-8958-3110d60b303e",
   "metadata": {},
   "outputs": [
    {
     "data": {
      "text/html": [
       "<div>\n",
       "<style scoped>\n",
       "    .dataframe tbody tr th:only-of-type {\n",
       "        vertical-align: middle;\n",
       "    }\n",
       "\n",
       "    .dataframe tbody tr th {\n",
       "        vertical-align: top;\n",
       "    }\n",
       "\n",
       "    .dataframe thead th {\n",
       "        text-align: right;\n",
       "    }\n",
       "</style>\n",
       "<table border=\"1\" class=\"dataframe\">\n",
       "  <thead>\n",
       "    <tr style=\"text-align: right;\">\n",
       "      <th></th>\n",
       "      <th>num</th>\n",
       "      <th>latitude</th>\n",
       "      <th>longitude</th>\n",
       "    </tr>\n",
       "  </thead>\n",
       "  <tbody>\n",
       "    <tr>\n",
       "      <th>0</th>\n",
       "      <td>1</td>\n",
       "      <td>29.419271</td>\n",
       "      <td>106.728785</td>\n",
       "    </tr>\n",
       "    <tr>\n",
       "      <th>1</th>\n",
       "      <td>2</td>\n",
       "      <td>29.419272</td>\n",
       "      <td>106.728783</td>\n",
       "    </tr>\n",
       "    <tr>\n",
       "      <th>2</th>\n",
       "      <td>4</td>\n",
       "      <td>29.419274</td>\n",
       "      <td>106.728779</td>\n",
       "    </tr>\n",
       "    <tr>\n",
       "      <th>3</th>\n",
       "      <td>5</td>\n",
       "      <td>29.419275</td>\n",
       "      <td>106.728777</td>\n",
       "    </tr>\n",
       "    <tr>\n",
       "      <th>4</th>\n",
       "      <td>7</td>\n",
       "      <td>29.419277</td>\n",
       "      <td>106.728773</td>\n",
       "    </tr>\n",
       "    <tr>\n",
       "      <th>...</th>\n",
       "      <td>...</td>\n",
       "      <td>...</td>\n",
       "      <td>...</td>\n",
       "    </tr>\n",
       "    <tr>\n",
       "      <th>795</th>\n",
       "      <td>1193</td>\n",
       "      <td>29.419292</td>\n",
       "      <td>106.728693</td>\n",
       "    </tr>\n",
       "    <tr>\n",
       "      <th>796</th>\n",
       "      <td>1195</td>\n",
       "      <td>29.419295</td>\n",
       "      <td>106.728688</td>\n",
       "    </tr>\n",
       "    <tr>\n",
       "      <th>797</th>\n",
       "      <td>1196</td>\n",
       "      <td>29.419297</td>\n",
       "      <td>106.728685</td>\n",
       "    </tr>\n",
       "    <tr>\n",
       "      <th>798</th>\n",
       "      <td>1198</td>\n",
       "      <td>29.419301</td>\n",
       "      <td>106.728680</td>\n",
       "    </tr>\n",
       "    <tr>\n",
       "      <th>799</th>\n",
       "      <td>1199</td>\n",
       "      <td>29.419302</td>\n",
       "      <td>106.728678</td>\n",
       "    </tr>\n",
       "  </tbody>\n",
       "</table>\n",
       "<p>800 rows × 3 columns</p>\n",
       "</div>"
      ],
      "text/plain": [
       "      num   latitude   longitude\n",
       "0       1  29.419271  106.728785\n",
       "1       2  29.419272  106.728783\n",
       "2       4  29.419274  106.728779\n",
       "3       5  29.419275  106.728777\n",
       "4       7  29.419277  106.728773\n",
       "..    ...        ...         ...\n",
       "795  1193  29.419292  106.728693\n",
       "796  1195  29.419295  106.728688\n",
       "797  1196  29.419297  106.728685\n",
       "798  1198  29.419301  106.728680\n",
       "799  1199  29.419302  106.728678\n",
       "\n",
       "[800 rows x 3 columns]"
      ]
     },
     "execution_count": 5,
     "metadata": {},
     "output_type": "execute_result"
    }
   ],
   "source": [
    "train_label"
   ]
  },
  {
   "cell_type": "code",
   "execution_count": 6,
   "id": "49c88c19-1bd5-4efa-826d-2d6dc768453e",
   "metadata": {},
   "outputs": [
    {
     "data": {
      "text/plain": [
       "<matplotlib.collections.PathCollection at 0x7fb033c86970>"
      ]
     },
     "execution_count": 6,
     "metadata": {},
     "output_type": "execute_result"
    },
    {
     "data": {
      "image/png": "[encoded data removed]",
      "text/plain": [
       "<Figure size 432x288 with 1 Axes>"
      ]
     },
     "metadata": {
      "needs_background": "light"
     },
     "output_type": "display_data"
    }
   ],
   "source": [
    "plt.scatter(train_data['latitude'],train_data['longitude'])\n",
    "plt.scatter(train_label['latitude'],train_label['longitude'])"
   ]
  },
  {
   "cell_type": "code",
   "execution_count": 7,
   "id": "f846bac8-157e-45b9-8298-bea37fbde68a",
   "metadata": {},
   "outputs": [
    {
     "data": {
      "text/html": [
       "<div>\n",
       "<style scoped>\n",
       "    .dataframe tbody tr th:only-of-type {\n",
       "        vertical-align: middle;\n",
       "    }\n",
       "\n",
       "    .dataframe tbody tr th {\n",
       "        vertical-align: top;\n",
       "    }\n",
       "\n",
       "    .dataframe thead th {\n",
       "        text-align: right;\n",
       "    }\n",
       "</style>\n",
       "<table border=\"1\" class=\"dataframe\">\n",
       "  <thead>\n",
       "    <tr style=\"text-align: right;\">\n",
       "      <th></th>\n",
       "      <th>num</th>\n",
       "      <th>latitude</th>\n",
       "      <th>longitude</th>\n",
       "    </tr>\n",
       "  </thead>\n",
       "  <tbody>\n",
       "    <tr>\n",
       "      <th>0</th>\n",
       "      <td>3</td>\n",
       "      <td>29.419354</td>\n",
       "      <td>106.728641</td>\n",
       "    </tr>\n",
       "    <tr>\n",
       "      <th>1</th>\n",
       "      <td>6</td>\n",
       "      <td>29.419360</td>\n",
       "      <td>106.728633</td>\n",
       "    </tr>\n",
       "    <tr>\n",
       "      <th>2</th>\n",
       "      <td>9</td>\n",
       "      <td>29.419368</td>\n",
       "      <td>106.728628</td>\n",
       "    </tr>\n",
       "    <tr>\n",
       "      <th>3</th>\n",
       "      <td>12</td>\n",
       "      <td>29.419376</td>\n",
       "      <td>106.728622</td>\n",
       "    </tr>\n",
       "    <tr>\n",
       "      <th>4</th>\n",
       "      <td>15</td>\n",
       "      <td>29.419387</td>\n",
       "      <td>106.728614</td>\n",
       "    </tr>\n",
       "    <tr>\n",
       "      <th>...</th>\n",
       "      <td>...</td>\n",
       "      <td>...</td>\n",
       "      <td>...</td>\n",
       "    </tr>\n",
       "    <tr>\n",
       "      <th>256</th>\n",
       "      <td>771</td>\n",
       "      <td>29.419577</td>\n",
       "      <td>106.728675</td>\n",
       "    </tr>\n",
       "    <tr>\n",
       "      <th>257</th>\n",
       "      <td>774</td>\n",
       "      <td>29.419565</td>\n",
       "      <td>106.728669</td>\n",
       "    </tr>\n",
       "    <tr>\n",
       "      <th>258</th>\n",
       "      <td>777</td>\n",
       "      <td>29.419554</td>\n",
       "      <td>106.728662</td>\n",
       "    </tr>\n",
       "    <tr>\n",
       "      <th>259</th>\n",
       "      <td>780</td>\n",
       "      <td>29.419551</td>\n",
       "      <td>106.728654</td>\n",
       "    </tr>\n",
       "    <tr>\n",
       "      <th>260</th>\n",
       "      <td>783</td>\n",
       "      <td>29.419534</td>\n",
       "      <td>106.728644</td>\n",
       "    </tr>\n",
       "  </tbody>\n",
       "</table>\n",
       "<p>261 rows × 3 columns</p>\n",
       "</div>"
      ],
      "text/plain": [
       "     num   latitude   longitude\n",
       "0      3  29.419354  106.728641\n",
       "1      6  29.419360  106.728633\n",
       "2      9  29.419368  106.728628\n",
       "3     12  29.419376  106.728622\n",
       "4     15  29.419387  106.728614\n",
       "..   ...        ...         ...\n",
       "256  771  29.419577  106.728675\n",
       "257  774  29.419565  106.728669\n",
       "258  777  29.419554  106.728662\n",
       "259  780  29.419551  106.728654\n",
       "260  783  29.419534  106.728644\n",
       "\n",
       "[261 rows x 3 columns]"
      ]
     },
     "execution_count": 7,
     "metadata": {},
     "output_type": "execute_result"
    }
   ],
   "source": [
    "test_data"
   ]
  },
  {
   "cell_type": "code",
   "execution_count": 8,
   "id": "881460c4-a0a6-4d10-a43c-287064c96bf7",
   "metadata": {},
   "outputs": [
    {
     "data": {
      "text/plain": [
       "<matplotlib.collections.PathCollection at 0x7fb031b8d520>"
      ]
     },
     "execution_count": 8,
     "metadata": {},
     "output_type": "execute_result"
    },
    {
     "data": {
      "image/png": "[encoded data removed]",
      "text/plain": [
       "<Figure size 432x288 with 1 Axes>"
      ]
     },
     "metadata": {
      "needs_background": "light"
     },
     "output_type": "display_data"
    }
   ],
   "source": [
    "plt.scatter(test_data['latitude'],test_data['longitude'])"
   ]
  },
  {
   "cell_type": "code",
   "execution_count": 9,
   "id": "7be0a4aa-d562-4622-bd92-0206339d7930",
   "metadata": {},
   "outputs": [],
   "source": [
    "test_submit['latitude'] = np.nan\n",
    "test_submit['longitude'] = np.nan"
   ]
  },
  {
   "cell_type": "code",
   "execution_count": 10,
   "id": "a9e11559-617c-45d7-862c-83595aa8b84d",
   "metadata": {},
   "outputs": [
    {
     "name": "stderr",
     "output_type": "stream",
     "text": [
      "/tmp/ipykernel_24192/1090000891.py:1: FutureWarning: In a future version of pandas all arguments of concat except for the argument 'objs' will be keyword-only\n",
      "  test_submit = pd.concat([test_submit, test_data], 0).sort_values(by='num')\n"
     ]
    }
   ],
   "source": [
    "test_submit = pd.concat([test_submit, test_data], 0).sort_values(by='num')"
   ]
  },
  {
   "cell_type": "code",
   "execution_count": 11,
   "id": "2faf5f79-b37c-48f7-bc4e-537fc85b9b8f",
   "metadata": {},
   "outputs": [],
   "source": [
    "test_submit['submit'] = test_submit['latitude'].isnull()"
   ]
  },
  {
   "cell_type": "code",
   "execution_count": 12,
   "id": "132a1f46-61f9-442e-a0fd-4de6961fd3af",
   "metadata": {},
   "outputs": [],
   "source": [
    "test_submit['latitude'] = test_submit['latitude'].fillna(method='ffill').fillna(test_submit['latitude'].dropna().iloc[0])\n",
    "test_submit['longitude'] = test_submit['longitude'].fillna(method='ffill').fillna(test_submit['longitude'].dropna().iloc[0])"
   ]
  },
  {
   "cell_type": "code",
   "execution_count": 13,
   "id": "36cd969e-58eb-4ef2-a5f8-cee123acd8a8",
   "metadata": {},
   "outputs": [],
   "source": [
    "test_submit[test_submit['submit']][['num', 'latitude', 'longitude']].to_csv('submit.csv', index=None)"
   ]
  },
  {
   "cell_type": "code",
   "execution_count": null,
   "id": "43a74511-4092-4012-96ac-6bf35a949b1f",
   "metadata": {},
   "outputs": [],
   "source": []
  }
 ],
 "metadata": {
  "kernelspec": {
   "display_name": "Python 3 (ipykernel)",
   "language": "python",
   "name": "python3.10"
  },
  "language_info": {
   "codemirror_mode": {
    "name": "ipython",
    "version": 3
   },
   "file_extension": ".py",
   "mimetype": "text/x-python",
   "name": "python",
   "nbconvert_exporter": "python",
   "pygments_lexer": "ipython3",
   "version": "3.9.10"
  }
 },
 "nbformat": 4,
 "nbformat_minor": 5
}
