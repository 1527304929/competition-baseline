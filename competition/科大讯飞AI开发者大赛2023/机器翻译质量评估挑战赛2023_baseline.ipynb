{
 "cells": [
  {
   "cell_type": "code",
   "execution_count": 23,
   "id": "c98393c4-06a6-42f4-bea7-5ffa3d1b4232",
   "metadata": {
    "tags": []
   },
   "outputs": [],
   "source": [
    "import pandas as pd\n",
    "from tqdm import tqdm_notebook\n",
    "import seaborn as sns\n",
    "from sklearn.preprocessing import normalize\n",
    "\n",
    "import warnings\n",
    "warnings.filterwarnings(\"ignore\", category=UserWarning, module=\"transformers\")\n",
    "warnings.filterwarnings(\"ignore\", category=UserWarning, module=\"tqdm\")\n",
    "\n",
    "valid_data = pd.read_csv('./机器翻译质量评估挑战赛公开数据/valid.txt', sep='\\t', header=None)\n",
    "valid_data = valid_data[~valid_data[2].isnull()]"
   ]
  },
  {
   "cell_type": "code",
   "execution_count": 34,
   "id": "fe5cd971-df00-4db3-b0f9-374b36ff463b",
   "metadata": {
    "tags": []
   },
   "outputs": [
    {
     "data": {
      "text/html": [
       "<div>\n",
       "<style scoped>\n",
       "    .dataframe tbody tr th:only-of-type {\n",
       "        vertical-align: middle;\n",
       "    }\n",
       "\n",
       "    .dataframe tbody tr th {\n",
       "        vertical-align: top;\n",
       "    }\n",
       "\n",
       "    .dataframe thead th {\n",
       "        text-align: right;\n",
       "    }\n",
       "</style>\n",
       "<table border=\"1\" class=\"dataframe\">\n",
       "  <thead>\n",
       "    <tr style=\"text-align: right;\">\n",
       "      <th></th>\n",
       "      <th>0</th>\n",
       "      <th>1</th>\n",
       "    </tr>\n",
       "  </thead>\n",
       "  <tbody>\n",
       "    <tr>\n",
       "      <th>0</th>\n",
       "      <td>在变电所和供电系统的设计和运行中，基于如下用途必须进行短路电流的计算：</td>\n",
       "      <td>In the design and operation of substations and...</td>\n",
       "    </tr>\n",
       "    <tr>\n",
       "      <th>1</th>\n",
       "      <td>The Prostate Testing for Cancer and Treatment ...</td>\n",
       "      <td>前列腺癌检测与治疗（ProtecT）研究比较了PSA检测出前列腺癌的男性患者的前列腺切除术与...</td>\n",
       "    </tr>\n",
       "    <tr>\n",
       "      <th>2</th>\n",
       "      <td>Particles with nonzero electric charge interac...</td>\n",
       "      <td>电电荷为非零的粒子通过交换光子（电磁力的载体）相互作用。</td>\n",
       "    </tr>\n",
       "    <tr>\n",
       "      <th>3</th>\n",
       "      <td>中国的一个租船人,租了一条10万吨的美国船东的油轮,从上海装货去美国。</td>\n",
       "      <td>A Chinese charterer chartered a 100000 ton tan...</td>\n",
       "    </tr>\n",
       "    <tr>\n",
       "      <th>4</th>\n",
       "      <td>为了节省成本，运营商在5G建网初期都会选择NSA。</td>\n",
       "      <td>In order to save costs, operators will choose ...</td>\n",
       "    </tr>\n",
       "    <tr>\n",
       "      <th>...</th>\n",
       "      <td>...</td>\n",
       "      <td>...</td>\n",
       "    </tr>\n",
       "    <tr>\n",
       "      <th>495</th>\n",
       "      <td>在周五黄昏巨浪冲击海岸时，有数百人聚集在海滩庆祝节日，很多人被巨浪冲走，巨浪所到之处一切尽毁。</td>\n",
       "      <td>Hundreds of people gathered on the beach to ce...</td>\n",
       "    </tr>\n",
       "    <tr>\n",
       "      <th>496</th>\n",
       "      <td>我不确定。但在我们解决之前不要做任何事。</td>\n",
       "      <td>Well, I'm not sure. But don't do anything unti...</td>\n",
       "    </tr>\n",
       "    <tr>\n",
       "      <th>497</th>\n",
       "      <td>在本法规定的范围以外需要悬挂国微或者使用国徽图案的，由全国人民代表大会常务委员会办公厅或者国...</td>\n",
       "      <td>If it is necessary to hang the national emblem...</td>\n",
       "    </tr>\n",
       "    <tr>\n",
       "      <th>498</th>\n",
       "      <td>贸易的吹鼓手们对此负有一定的责任。</td>\n",
       "      <td>The trade drummers are responsible for this.</td>\n",
       "    </tr>\n",
       "    <tr>\n",
       "      <th>499</th>\n",
       "      <td>苹果 。</td>\n",
       "      <td>Apples .</td>\n",
       "    </tr>\n",
       "  </tbody>\n",
       "</table>\n",
       "<p>500 rows × 2 columns</p>\n",
       "</div>"
      ],
      "text/plain": [
       "                                                     0  \\\n",
       "0                  在变电所和供电系统的设计和运行中，基于如下用途必须进行短路电流的计算：   \n",
       "1    The Prostate Testing for Cancer and Treatment ...   \n",
       "2    Particles with nonzero electric charge interac...   \n",
       "3                  中国的一个租船人,租了一条10万吨的美国船东的油轮,从上海装货去美国。   \n",
       "4                            为了节省成本，运营商在5G建网初期都会选择NSA。   \n",
       "..                                                 ...   \n",
       "495    在周五黄昏巨浪冲击海岸时，有数百人聚集在海滩庆祝节日，很多人被巨浪冲走，巨浪所到之处一切尽毁。   \n",
       "496                               我不确定。但在我们解决之前不要做任何事。   \n",
       "497  在本法规定的范围以外需要悬挂国微或者使用国徽图案的，由全国人民代表大会常务委员会办公厅或者国...   \n",
       "498                                  贸易的吹鼓手们对此负有一定的责任。   \n",
       "499                                               苹果 。   \n",
       "\n",
       "                                                     1  \n",
       "0    In the design and operation of substations and...  \n",
       "1    前列腺癌检测与治疗（ProtecT）研究比较了PSA检测出前列腺癌的男性患者的前列腺切除术与...  \n",
       "2                         电电荷为非零的粒子通过交换光子（电磁力的载体）相互作用。  \n",
       "3    A Chinese charterer chartered a 100000 ton tan...  \n",
       "4    In order to save costs, operators will choose ...  \n",
       "..                                                 ...  \n",
       "495  Hundreds of people gathered on the beach to ce...  \n",
       "496  Well, I'm not sure. But don't do anything unti...  \n",
       "497  If it is necessary to hang the national emblem...  \n",
       "498       The trade drummers are responsible for this.  \n",
       "499                                           Apples .  \n",
       "\n",
       "[500 rows x 2 columns]"
      ]
     },
     "execution_count": 34,
     "metadata": {},
     "output_type": "execute_result"
    }
   ],
   "source": [
    "test_data = pd.read_csv('./机器翻译质量评估挑战赛公开数据/test.txt', sep='\\t', header=None)\n",
    "test_data"
   ]
  },
  {
   "cell_type": "code",
   "execution_count": 24,
   "id": "f5a2d3ee-b510-46cc-871f-7e9b494446fc",
   "metadata": {
    "tags": []
   },
   "outputs": [],
   "source": [
    "from langdetect import detect_langs\n",
    "a = detect_langs(\"屏幕需要稍加区别对待。\")[0]"
   ]
  },
  {
   "cell_type": "code",
   "execution_count": 25,
   "id": "2d8ce3cb-d2fa-4438-affd-c1ba9dd290f9",
   "metadata": {
    "tags": []
   },
   "outputs": [
    {
     "name": "stdout",
     "output_type": "stream",
     "text": [
      "0.75\n"
     ]
    }
   ],
   "source": [
    "from nltk.translate.bleu_score import sentence_bleu\n",
    "reference = [['this', 'is', 'two', 'test']]\n",
    "candidate = ['this', 'is', 'a', 'test']\n",
    "score = sentence_bleu(reference, candidate, weights=[1])\n",
    "print(score)"
   ]
  },
  {
   "cell_type": "code",
   "execution_count": 26,
   "id": "fc49e36c-8845-47ad-b277-ce513a56f35a",
   "metadata": {
    "tags": []
   },
   "outputs": [
    {
     "data": {
      "text/plain": [
       "0.88148904"
      ]
     },
     "execution_count": 26,
     "metadata": {},
     "output_type": "execute_result"
    }
   ],
   "source": [
    "from sentence_transformers import SentenceTransformer\n",
    "sentences = [\"This is an example sentence\", \"This is two example sentence\"]\n",
    "model = SentenceTransformer('sentence-transformers/all-MiniLM-L6-v2')\n",
    "embeddings = normalize(model.encode(sentences))\n",
    "\n",
    "embeddings[0].dot(embeddings[1])"
   ]
  },
  {
   "cell_type": "code",
   "execution_count": 27,
   "id": "37fa19e5-a7a8-4162-bb48-a2a6a7822e3a",
   "metadata": {
    "tags": []
   },
   "outputs": [],
   "source": [
    "from transformers import pipeline\n",
    "# pipe = pipeline(\"text2text-generation\", model=\"Helsinki-NLP/opus-mt-zh-en\", device='cuda:0')\n",
    "pipe = pipeline(\"text2text-generation\", model=\"/home/lyz/huggingface-models/Helsinki-NLP/opus-mt-zh-en\", device='cuda:0')"
   ]
  },
  {
   "cell_type": "code",
   "execution_count": 28,
   "id": "1d25776e-391c-4a7e-8d0f-4241f67c8485",
   "metadata": {
    "scrolled": true,
    "tags": []
   },
   "outputs": [
    {
     "name": "stderr",
     "output_type": "stream",
     "text": [
      "/tmp/ipykernel_9659/4261872139.py:2: TqdmDeprecationWarning: This function will be removed in tqdm==5.0.0\n",
      "Please use `tqdm.notebook.tqdm` instead of `tqdm.tqdm_notebook`\n",
      "  for row in tqdm_notebook(valid_data.iterrows()):\n"
     ]
    },
    {
     "data": {
      "application/vnd.jupyter.widget-view+json": {
       "model_id": "e3bb36a702064d2b903d88daace99000",
       "version_major": 2,
       "version_minor": 0
      },
      "text/plain": [
       "0it [00:00, ?it/s]"
      ]
     },
     "metadata": {},
     "output_type": "display_data"
    }
   ],
   "source": [
    "result = []\n",
    "for row in tqdm_notebook(valid_data.iterrows()):\n",
    "    str1 = row[1].iloc[0]\n",
    "    str2 = row[1].iloc[1]\n",
    "    score = row[1].iloc[2]\n",
    "    \n",
    "    if detect_langs(str1)[0].lang == 'zh-cn':\n",
    "        pass\n",
    "    else:\n",
    "        str1, str2 = str2, str1\n",
    "    \n",
    "    str1_translate = pipe(str1)[0]['generated_text']\n",
    "    bleu_score = sentence_bleu([str2.split()], str1_translate.split(), weights=[1])\n",
    "    \n",
    "    sentences = [str2, str1_translate]\n",
    "    embeddings = normalize(model.encode(sentences))\n",
    "    sentence_score = embeddings[0].dot(embeddings[1])\n",
    "    \n",
    "    result.append([bleu_score, sentence_score, score])"
   ]
  },
  {
   "cell_type": "code",
   "execution_count": 29,
   "id": "8102a695-68a2-4cfb-87c4-b17aa6224ccd",
   "metadata": {
    "tags": []
   },
   "outputs": [
    {
     "data": {
      "text/plain": [
       "<Axes: xlabel='0', ylabel='2'>"
      ]
     },
     "execution_count": 29,
     "metadata": {},
     "output_type": "execute_result"
    },
    {
     "data": {
      "image/png": "[encoded data removed]",
      "text/plain": [
       "<Figure size 432x288 with 1 Axes>"
      ]
     },
     "metadata": {
      "needs_background": "light"
     },
     "output_type": "display_data"
    }
   ],
   "source": [
    "sns.regplot(x=pd.DataFrame(result)[0], y=pd.DataFrame(result)[2])"
   ]
  },
  {
   "cell_type": "code",
   "execution_count": 30,
   "id": "d3fa9418-80ea-413f-b90e-870ce4442e0b",
   "metadata": {
    "tags": []
   },
   "outputs": [
    {
     "data": {
      "text/plain": [
       "<Axes: xlabel='1', ylabel='2'>"
      ]
     },
     "execution_count": 30,
     "metadata": {},
     "output_type": "execute_result"
    },
    {
     "data": {
      "image/png": "[encoded data removed]",
      "text/plain": [
       "<Figure size 432x288 with 1 Axes>"
      ]
     },
     "metadata": {
      "needs_background": "light"
     },
     "output_type": "display_data"
    }
   ],
   "source": [
    "sns.regplot(x=pd.DataFrame(result)[1], y=pd.DataFrame(result)[2])"
   ]
  },
  {
   "cell_type": "code",
   "execution_count": 31,
   "id": "44e94913-fa2c-422e-a0ba-6e3a7ed8f8fc",
   "metadata": {
    "tags": []
   },
   "outputs": [
    {
     "data": {
      "text/html": [
       "<style>#sk-container-id-1 {color: black;background-color: white;}#sk-container-id-1 pre{padding: 0;}#sk-container-id-1 div.sk-toggleable {background-color: white;}#sk-container-id-1 label.sk-toggleable__label {cursor: pointer;display: block;width: 100%;margin-bottom: 0;padding: 0.3em;box-sizing: border-box;text-align: center;}#sk-container-id-1 label.sk-toggleable__label-arrow:before {content: \"▸\";float: left;margin-right: 0.25em;color: #696969;}#sk-container-id-1 label.sk-toggleable__label-arrow:hover:before {color: black;}#sk-container-id-1 div.sk-estimator:hover label.sk-toggleable__label-arrow:before {color: black;}#sk-container-id-1 div.sk-toggleable__content {max-height: 0;max-width: 0;overflow: hidden;text-align: left;background-color: #f0f8ff;}#sk-container-id-1 div.sk-toggleable__content pre {margin: 0.2em;color: black;border-radius: 0.25em;background-color: #f0f8ff;}#sk-container-id-1 input.sk-toggleable__control:checked~div.sk-toggleable__content {max-height: 200px;max-width: 100%;overflow: auto;}#sk-container-id-1 input.sk-toggleable__control:checked~label.sk-toggleable__label-arrow:before {content: \"▾\";}#sk-container-id-1 div.sk-estimator input.sk-toggleable__control:checked~label.sk-toggleable__label {background-color: #d4ebff;}#sk-container-id-1 div.sk-label input.sk-toggleable__control:checked~label.sk-toggleable__label {background-color: #d4ebff;}#sk-container-id-1 input.sk-hidden--visually {border: 0;clip: rect(1px 1px 1px 1px);clip: rect(1px, 1px, 1px, 1px);height: 1px;margin: -1px;overflow: hidden;padding: 0;position: absolute;width: 1px;}#sk-container-id-1 div.sk-estimator {font-family: monospace;background-color: #f0f8ff;border: 1px dotted black;border-radius: 0.25em;box-sizing: border-box;margin-bottom: 0.5em;}#sk-container-id-1 div.sk-estimator:hover {background-color: #d4ebff;}#sk-container-id-1 div.sk-parallel-item::after {content: \"\";width: 100%;border-bottom: 1px solid gray;flex-grow: 1;}#sk-container-id-1 div.sk-label:hover label.sk-toggleable__label {background-color: #d4ebff;}#sk-container-id-1 div.sk-serial::before {content: \"\";position: absolute;border-left: 1px solid gray;box-sizing: border-box;top: 0;bottom: 0;left: 50%;z-index: 0;}#sk-container-id-1 div.sk-serial {display: flex;flex-direction: column;align-items: center;background-color: white;padding-right: 0.2em;padding-left: 0.2em;position: relative;}#sk-container-id-1 div.sk-item {position: relative;z-index: 1;}#sk-container-id-1 div.sk-parallel {display: flex;align-items: stretch;justify-content: center;background-color: white;position: relative;}#sk-container-id-1 div.sk-item::before, #sk-container-id-1 div.sk-parallel-item::before {content: \"\";position: absolute;border-left: 1px solid gray;box-sizing: border-box;top: 0;bottom: 0;left: 50%;z-index: -1;}#sk-container-id-1 div.sk-parallel-item {display: flex;flex-direction: column;z-index: 1;position: relative;background-color: white;}#sk-container-id-1 div.sk-parallel-item:first-child::after {align-self: flex-end;width: 50%;}#sk-container-id-1 div.sk-parallel-item:last-child::after {align-self: flex-start;width: 50%;}#sk-container-id-1 div.sk-parallel-item:only-child::after {width: 0;}#sk-container-id-1 div.sk-dashed-wrapped {border: 1px dashed gray;margin: 0 0.4em 0.5em 0.4em;box-sizing: border-box;padding-bottom: 0.4em;background-color: white;}#sk-container-id-1 div.sk-label label {font-family: monospace;font-weight: bold;display: inline-block;line-height: 1.2em;}#sk-container-id-1 div.sk-label-container {text-align: center;}#sk-container-id-1 div.sk-container {/* jupyter's `normalize.less` sets `[hidden] { display: none; }` but bootstrap.min.css set `[hidden] { display: none !important; }` so we also need the `!important` here to be able to override the default hidden behavior on the sphinx rendered scikit-learn.org. See: https://github.com/scikit-learn/scikit-learn/issues/21755 */display: inline-block !important;position: relative;}#sk-container-id-1 div.sk-text-repr-fallback {display: none;}</style><div id=\"sk-container-id-1\" class=\"sk-top-container\"><div class=\"sk-text-repr-fallback\"><pre>LinearRegression()</pre><b>In a Jupyter environment, please rerun this cell to show the HTML representation or trust the notebook. <br />On GitHub, the HTML representation is unable to render, please try loading this page with nbviewer.org.</b></div><div class=\"sk-container\" hidden><div class=\"sk-item\"><div class=\"sk-estimator sk-toggleable\"><input class=\"sk-toggleable__control sk-hidden--visually\" id=\"sk-estimator-id-1\" type=\"checkbox\" checked><label for=\"sk-estimator-id-1\" class=\"sk-toggleable__label sk-toggleable__label-arrow\">LinearRegression</label><div class=\"sk-toggleable__content\"><pre>LinearRegression()</pre></div></div></div></div></div>"
      ],
      "text/plain": [
       "LinearRegression()"
      ]
     },
     "execution_count": 31,
     "metadata": {},
     "output_type": "execute_result"
    }
   ],
   "source": [
    "from sklearn.linear_model import LinearRegression\n",
    "\n",
    "m = LinearRegression()\n",
    "m.fit(pd.DataFrame(result).iloc[:, :2], pd.DataFrame(result).iloc[:, 2])"
   ]
  },
  {
   "cell_type": "code",
   "execution_count": 33,
   "id": "104d439b-985a-461f-8699-c09758c63a79",
   "metadata": {
    "tags": []
   },
   "outputs": [
    {
     "data": {
      "text/plain": [
       "<Axes: ylabel='2'>"
      ]
     },
     "execution_count": 33,
     "metadata": {},
     "output_type": "execute_result"
    },
    {
     "data": {
      "image/png": "[encoded data removed]",
      "text/plain": [
       "<Figure size 432x288 with 1 Axes>"
      ]
     },
     "metadata": {
      "needs_background": "light"
     },
     "output_type": "display_data"
    }
   ],
   "source": [
    "sns.scatterplot(x=m.predict(pd.DataFrame(result).iloc[:, :2]), y=pd.DataFrame(result).iloc[:, 2])"
   ]
  },
  {
   "cell_type": "code",
   "execution_count": 35,
   "id": "892e9103-ae62-44b1-97ec-0fb764cd504b",
   "metadata": {
    "tags": []
   },
   "outputs": [
    {
     "name": "stderr",
     "output_type": "stream",
     "text": [
      "/tmp/ipykernel_9659/1336079783.py:2: TqdmDeprecationWarning: This function will be removed in tqdm==5.0.0\n",
      "Please use `tqdm.notebook.tqdm` instead of `tqdm.tqdm_notebook`\n",
      "  for row in tqdm_notebook(test_data.iterrows()):\n"
     ]
    },
    {
     "data": {
      "application/vnd.jupyter.widget-view+json": {
       "model_id": "2c26801d06d34c298e1582ac7c5569a6",
       "version_major": 2,
       "version_minor": 0
      },
      "text/plain": [
       "0it [00:00, ?it/s]"
      ]
     },
     "metadata": {},
     "output_type": "display_data"
    }
   ],
   "source": [
    "result = []\n",
    "for row in tqdm_notebook(test_data.iterrows()):\n",
    "    str1 = row[1].iloc[0]\n",
    "    str2 = row[1].iloc[1]\n",
    "    \n",
    "    if detect_langs(str1)[0].lang == 'zh-cn':\n",
    "        pass\n",
    "    else:\n",
    "        str1, str2 = str2, str1\n",
    "    \n",
    "    str1_translate = pipe(str1)[0]['generated_text']\n",
    "    bleu_score = sentence_bleu([str2.split()], str1_translate.split(), weights=[1])\n",
    "    \n",
    "    sentences = [str2, str1_translate]\n",
    "    embeddings = normalize(model.encode(sentences))\n",
    "    sentence_score = embeddings[0].dot(embeddings[1])\n",
    "    \n",
    "    result.append([bleu_score, sentence_score])"
   ]
  },
  {
   "cell_type": "code",
   "execution_count": 40,
   "id": "07ffe98a-b965-4107-bf69-9c3b3be2d585",
   "metadata": {
    "tags": []
   },
   "outputs": [],
   "source": [
    "pd.DataFrame({\n",
    "    'uuid': range(500),\n",
    "    'label': m.predict(pd.DataFrame(result).iloc[:, :2]) // 5 * 5\n",
    "}).astype(int).to_csv('sub.csv', index=None)"
   ]
  },
  {
   "cell_type": "code",
   "execution_count": null,
   "id": "e893537f-120d-4c40-9608-fef7f94c43f0",
   "metadata": {},
   "outputs": [],
   "source": []
  }
 ],
 "metadata": {
  "kernelspec": {
   "display_name": "Python 3 (ipykernel)",
   "language": "python",
   "name": "python3.10"
  },
  "language_info": {
   "codemirror_mode": {
    "name": "ipython",
    "version": 3
   },
   "file_extension": ".py",
   "mimetype": "text/x-python",
   "name": "python",
   "nbconvert_exporter": "python",
   "pygments_lexer": "ipython3",
   "version": "3.9.10"
  },
  "widgets": {
   "application/vnd.jupyter.widget-state+json": {
    "state": {
     "07b025f6d1ce4dc48d693f50a761ff92": {
      "model_module": "@jupyter-widgets/controls",
      "model_module_version": "1.5.0",
      "model_name": "HTMLModel",
      "state": {
       "layout": "IPY_MODEL_f48cf21b56564494bb9b182492773f5d",
       "style": "IPY_MODEL_8d0d8b67c764463ca739e875f033cb63"
      }
     },
     "07bdab109ca2404a9a1512eefae27f84": {
      "model_module": "@jupyter-widgets/controls",
      "model_module_version": "1.5.0",
      "model_name": "FloatProgressModel",
      "state": {
       "bar_style": "success",
       "layout": "IPY_MODEL_c2af689abc2c41ac99b2eb55d1419c4d",
       "max": 1,
       "style": "IPY_MODEL_822b029923164bedb9a36673b7cf727c",
       "value": 1
      }
     },
     "094a423d7c9d4e85b7942c9821c75c74": {
      "model_module": "@jupyter-widgets/base",
      "model_module_version": "1.2.0",
      "model_name": "LayoutModel",
      "state": {}
     },
     "0acad3fe29b84da18d4913d7aabebadb": {
      "model_module": "@jupyter-widgets/base",
      "model_module_version": "1.2.0",
      "model_name": "LayoutModel",
      "state": {
       "width": "20px"
      }
     },
     "1f625b57d5b342d79b0947b528fc92af": {
      "model_module": "@jupyter-widgets/controls",
      "model_module_version": "1.5.0",
      "model_name": "FloatProgressModel",
      "state": {
       "bar_style": "success",
       "layout": "IPY_MODEL_62a7193459d645b8a6927dac61caa00f",
       "max": 1,
       "style": "IPY_MODEL_4b6b5b5b320c4efb82a9465caec73477",
       "value": 1
      }
     },
     "2c26801d06d34c298e1582ac7c5569a6": {
      "model_module": "@jupyter-widgets/controls",
      "model_module_version": "1.5.0",
      "model_name": "HBoxModel",
      "state": {
       "children": [
        "IPY_MODEL_fab3e8634d0a447098d3184a2a23d5a2",
        "IPY_MODEL_1f625b57d5b342d79b0947b528fc92af",
        "IPY_MODEL_d148d624f1d043c1ad81943c84c0b496"
       ],
       "layout": "IPY_MODEL_71bbfb6b7cb7407d94ecabb7c26effab"
      }
     },
     "2d07f85d5b3948dea2101fedd33424f3": {
      "model_module": "@jupyter-widgets/base",
      "model_module_version": "1.2.0",
      "model_name": "LayoutModel",
      "state": {}
     },
     "306d8cbf0c604fe8a8a5634288ff2315": {
      "model_module": "@jupyter-widgets/controls",
      "model_module_version": "1.5.0",
      "model_name": "DescriptionStyleModel",
      "state": {
       "description_width": ""
      }
     },
     "3326e3973028420dac7d7b38d7ee3a82": {
      "model_module": "@jupyter-widgets/controls",
      "model_module_version": "1.5.0",
      "model_name": "HBoxModel",
      "state": {
       "children": [
        "IPY_MODEL_9a3883e3f75e45998fe25af8af3df2e5",
        "IPY_MODEL_884d6cdb6a8e4c3c9a1b2e9e6b51a0b9",
        "IPY_MODEL_7bb2be3713ba460d9b0ed42600f4deee"
       ],
       "layout": "IPY_MODEL_094a423d7c9d4e85b7942c9821c75c74"
      }
     },
     "3c94d19d801e43c6af6903bb2d9d085d": {
      "model_module": "@jupyter-widgets/controls",
      "model_module_version": "1.5.0",
      "model_name": "DescriptionStyleModel",
      "state": {
       "description_width": ""
      }
     },
     "426163ce46ca4cb8871b715ed15f2a48": {
      "model_module": "@jupyter-widgets/base",
      "model_module_version": "1.2.0",
      "model_name": "LayoutModel",
      "state": {}
     },
     "4b6b5b5b320c4efb82a9465caec73477": {
      "model_module": "@jupyter-widgets/controls",
      "model_module_version": "1.5.0",
      "model_name": "ProgressStyleModel",
      "state": {
       "description_width": ""
      }
     },
     "4c9eb66533164fa1b17ba317e78a6b52": {
      "model_module": "@jupyter-widgets/base",
      "model_module_version": "1.2.0",
      "model_name": "LayoutModel",
      "state": {}
     },
     "5b4a66cbd0f64088a2c559726edba42f": {
      "model_module": "@jupyter-widgets/controls",
      "model_module_version": "1.5.0",
      "model_name": "HTMLModel",
      "state": {
       "layout": "IPY_MODEL_e003d8d4349a4a6c9e7fc68cff39cf70",
       "style": "IPY_MODEL_3c94d19d801e43c6af6903bb2d9d085d"
      }
     },
     "5f1aebad3478415bb6460c9c6b4b177b": {
      "model_module": "@jupyter-widgets/base",
      "model_module_version": "1.2.0",
      "model_name": "LayoutModel",
      "state": {}
     },
     "62a7193459d645b8a6927dac61caa00f": {
      "model_module": "@jupyter-widgets/base",
      "model_module_version": "1.2.0",
      "model_name": "LayoutModel",
      "state": {
       "width": "20px"
      }
     },
     "687be062ba7348d2bde91bd862366f3c": {
      "model_module": "@jupyter-widgets/controls",
      "model_module_version": "1.5.0",
      "model_name": "DescriptionStyleModel",
      "state": {
       "description_width": ""
      }
     },
     "71bbfb6b7cb7407d94ecabb7c26effab": {
      "model_module": "@jupyter-widgets/base",
      "model_module_version": "1.2.0",
      "model_name": "LayoutModel",
      "state": {}
     },
     "7bb2be3713ba460d9b0ed42600f4deee": {
      "model_module": "@jupyter-widgets/controls",
      "model_module_version": "1.5.0",
      "model_name": "HTMLModel",
      "state": {
       "layout": "IPY_MODEL_b2c1ea775abf49bfaa1e718dc8096946",
       "style": "IPY_MODEL_984b755bc34e44a5a0d6902c3bf44705",
       "value": " 495/? [01:09&lt;00:00,  9.89it/s]"
      }
     },
     "7dc663d5aa2749d79c57b885d38fe057": {
      "model_module": "@jupyter-widgets/controls",
      "model_module_version": "1.5.0",
      "model_name": "DescriptionStyleModel",
      "state": {
       "description_width": ""
      }
     },
     "7f42f079c265469da4c96be6fb93d21b": {
      "model_module": "@jupyter-widgets/base",
      "model_module_version": "1.2.0",
      "model_name": "LayoutModel",
      "state": {}
     },
     "822b029923164bedb9a36673b7cf727c": {
      "model_module": "@jupyter-widgets/controls",
      "model_module_version": "1.5.0",
      "model_name": "ProgressStyleModel",
      "state": {
       "description_width": ""
      }
     },
     "884d6cdb6a8e4c3c9a1b2e9e6b51a0b9": {
      "model_module": "@jupyter-widgets/controls",
      "model_module_version": "1.5.0",
      "model_name": "FloatProgressModel",
      "state": {
       "bar_style": "success",
       "layout": "IPY_MODEL_f8c66ae473ad4614996005399c0a4a80",
       "max": 1,
       "style": "IPY_MODEL_e602aaa333984ef6a638090f0598485a",
       "value": 1
      }
     },
     "8d0d8b67c764463ca739e875f033cb63": {
      "model_module": "@jupyter-widgets/controls",
      "model_module_version": "1.5.0",
      "model_name": "DescriptionStyleModel",
      "state": {
       "description_width": ""
      }
     },
     "8e1002a3f2ec497fb1e057a424ff0da5": {
      "model_module": "@jupyter-widgets/controls",
      "model_module_version": "1.5.0",
      "model_name": "DescriptionStyleModel",
      "state": {
       "description_width": ""
      }
     },
     "94371c8147694b9785c8c3f8ed44b68a": {
      "model_module": "@jupyter-widgets/controls",
      "model_module_version": "1.5.0",
      "model_name": "HTMLModel",
      "state": {
       "layout": "IPY_MODEL_e10dadc49e0340f88a8cc7b9329a9972",
       "style": "IPY_MODEL_306d8cbf0c604fe8a8a5634288ff2315",
       "value": " 494/? [01:09&lt;00:00,  9.06it/s]"
      }
     },
     "984b755bc34e44a5a0d6902c3bf44705": {
      "model_module": "@jupyter-widgets/controls",
      "model_module_version": "1.5.0",
      "model_name": "DescriptionStyleModel",
      "state": {
       "description_width": ""
      }
     },
     "9a3883e3f75e45998fe25af8af3df2e5": {
      "model_module": "@jupyter-widgets/controls",
      "model_module_version": "1.5.0",
      "model_name": "HTMLModel",
      "state": {
       "layout": "IPY_MODEL_4c9eb66533164fa1b17ba317e78a6b52",
       "style": "IPY_MODEL_ed832bb04fc0441ab4637f65d6e2b95f"
      }
     },
     "9fb6a891095f4af5aa4fd59fcd8eb54f": {
      "model_module": "@jupyter-widgets/controls",
      "model_module_version": "1.5.0",
      "model_name": "ProgressStyleModel",
      "state": {
       "description_width": ""
      }
     },
     "b2c1ea775abf49bfaa1e718dc8096946": {
      "model_module": "@jupyter-widgets/base",
      "model_module_version": "1.2.0",
      "model_name": "LayoutModel",
      "state": {}
     },
     "c2af689abc2c41ac99b2eb55d1419c4d": {
      "model_module": "@jupyter-widgets/base",
      "model_module_version": "1.2.0",
      "model_name": "LayoutModel",
      "state": {
       "width": "20px"
      }
     },
     "ccdfca4f1b5b488ba28d4d98a43e38f2": {
      "model_module": "@jupyter-widgets/controls",
      "model_module_version": "1.5.0",
      "model_name": "HTMLModel",
      "state": {
       "layout": "IPY_MODEL_5f1aebad3478415bb6460c9c6b4b177b",
       "style": "IPY_MODEL_687be062ba7348d2bde91bd862366f3c",
       "value": " 495/? [01:09&lt;00:00,  8.94it/s]"
      }
     },
     "d148d624f1d043c1ad81943c84c0b496": {
      "model_module": "@jupyter-widgets/controls",
      "model_module_version": "1.5.0",
      "model_name": "HTMLModel",
      "state": {
       "layout": "IPY_MODEL_ffe75d13af344eb5b05d59c267e99bdf",
       "style": "IPY_MODEL_7dc663d5aa2749d79c57b885d38fe057",
       "value": " 500/? [01:11&lt;00:00,  8.39it/s]"
      }
     },
     "ddbb9c39fca2465b94807e409adefa63": {
      "model_module": "@jupyter-widgets/controls",
      "model_module_version": "1.5.0",
      "model_name": "FloatProgressModel",
      "state": {
       "bar_style": "success",
       "layout": "IPY_MODEL_0acad3fe29b84da18d4913d7aabebadb",
       "max": 1,
       "style": "IPY_MODEL_9fb6a891095f4af5aa4fd59fcd8eb54f",
       "value": 1
      }
     },
     "e003d8d4349a4a6c9e7fc68cff39cf70": {
      "model_module": "@jupyter-widgets/base",
      "model_module_version": "1.2.0",
      "model_name": "LayoutModel",
      "state": {}
     },
     "e10dadc49e0340f88a8cc7b9329a9972": {
      "model_module": "@jupyter-widgets/base",
      "model_module_version": "1.2.0",
      "model_name": "LayoutModel",
      "state": {}
     },
     "e3bb36a702064d2b903d88daace99000": {
      "model_module": "@jupyter-widgets/controls",
      "model_module_version": "1.5.0",
      "model_name": "HBoxModel",
      "state": {
       "children": [
        "IPY_MODEL_5b4a66cbd0f64088a2c559726edba42f",
        "IPY_MODEL_ddbb9c39fca2465b94807e409adefa63",
        "IPY_MODEL_94371c8147694b9785c8c3f8ed44b68a"
       ],
       "layout": "IPY_MODEL_2d07f85d5b3948dea2101fedd33424f3"
      }
     },
     "e602aaa333984ef6a638090f0598485a": {
      "model_module": "@jupyter-widgets/controls",
      "model_module_version": "1.5.0",
      "model_name": "ProgressStyleModel",
      "state": {
       "description_width": ""
      }
     },
     "ed832bb04fc0441ab4637f65d6e2b95f": {
      "model_module": "@jupyter-widgets/controls",
      "model_module_version": "1.5.0",
      "model_name": "DescriptionStyleModel",
      "state": {
       "description_width": ""
      }
     },
     "f48cf21b56564494bb9b182492773f5d": {
      "model_module": "@jupyter-widgets/base",
      "model_module_version": "1.2.0",
      "model_name": "LayoutModel",
      "state": {}
     },
     "f8c66ae473ad4614996005399c0a4a80": {
      "model_module": "@jupyter-widgets/base",
      "model_module_version": "1.2.0",
      "model_name": "LayoutModel",
      "state": {
       "width": "20px"
      }
     },
     "fab3e8634d0a447098d3184a2a23d5a2": {
      "model_module": "@jupyter-widgets/controls",
      "model_module_version": "1.5.0",
      "model_name": "HTMLModel",
      "state": {
       "layout": "IPY_MODEL_426163ce46ca4cb8871b715ed15f2a48",
       "style": "IPY_MODEL_8e1002a3f2ec497fb1e057a424ff0da5"
      }
     },
     "fe86544c47974a5886fb5b99159e3df2": {
      "model_module": "@jupyter-widgets/controls",
      "model_module_version": "1.5.0",
      "model_name": "HBoxModel",
      "state": {
       "children": [
        "IPY_MODEL_07b025f6d1ce4dc48d693f50a761ff92",
        "IPY_MODEL_07bdab109ca2404a9a1512eefae27f84",
        "IPY_MODEL_ccdfca4f1b5b488ba28d4d98a43e38f2"
       ],
       "layout": "IPY_MODEL_7f42f079c265469da4c96be6fb93d21b"
      }
     },
     "ffe75d13af344eb5b05d59c267e99bdf": {
      "model_module": "@jupyter-widgets/base",
      "model_module_version": "1.2.0",
      "model_name": "LayoutModel",
      "state": {}
     }
    },
    "version_major": 2,
    "version_minor": 0
   }
  }
 },
 "nbformat": 4,
 "nbformat_minor": 5
}
