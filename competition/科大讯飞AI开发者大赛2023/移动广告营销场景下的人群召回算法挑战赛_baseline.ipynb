{
 "cells": [
  {
   "cell_type": "code",
   "execution_count": 2,
   "id": "31ee2113-a90d-4344-86b1-afbc76015f37",
   "metadata": {
    "tags": []
   },
   "outputs": [],
   "source": [
    "import os, sys, gc\n",
    "import glob\n",
    "import pandas as pd\n",
    "import numpy as np\n",
    "from tqdm import tqdm_notebook\n",
    "\n",
    "train_paths = glob.glob('移动广告营销场景下的人群召回算法挑战赛公开数据/train_dataset/*/*.orc')\n",
    "train_paths.sort()\n",
    "\n",
    "test_paths = glob.glob('移动广告营销场景下的人群召回算法挑战赛公开数据/test_dataset/*/*/*.orc')\n",
    "test_paths.sort()\n",
    "\n",
    "image_paths = glob.glob('移动广告营销场景下的人群召回算法挑战赛公开数据/image_byte/*.txt')\n",
    "image_paths.sort()\n",
    "image_paths = [os.path.basename(x)[:-4] for x in image_paths]"
   ]
  },
  {
   "cell_type": "code",
   "execution_count": 20,
   "id": "f6725751-31f5-4fb4-af66-b70be75822ca",
   "metadata": {
    "tags": []
   },
   "outputs": [],
   "source": [
    "def load_orc(path, train=True):\n",
    "    if train:\n",
    "        df = pd.read_orc(path)[['uid', 'creative_image_md5', 'click']]\n",
    "        df = df[df['creative_image_md5'] != 'na']\n",
    "        df['creative_image_md5'] = df['creative_image_md5'].apply(lambda x: image_paths.index(x))\n",
    "        df['click'] = df['click'].astype(np.bool_)\n",
    "        \n",
    "        df = pd.concat([\n",
    "            df[df['click']],\n",
    "            df[~df['click']].sample(5000)\n",
    "        ], axis=0)\n",
    "    else:\n",
    "        df = pd.read_orc(path)[['uid', 'creative_image_md5']]\n",
    "        df = df[df['creative_image_md5'] != 'na']\n",
    "        df['creative_image_encode'] = df['creative_image_md5'].apply(lambda x: image_paths.index(x))\n",
    "        \n",
    "    gc.collect()\n",
    "    \n",
    "    return df"
   ]
  },
  {
   "cell_type": "code",
   "execution_count": 12,
   "id": "10cc77b4-f5d0-42f5-ae9a-f5f25762d27f",
   "metadata": {
    "tags": []
   },
   "outputs": [
    {
     "name": "stderr",
     "output_type": "stream",
     "text": [
      "/tmp/ipykernel_28790/1882801668.py:2: TqdmDeprecationWarning: This function will be removed in tqdm==5.0.0\n",
      "Please use `tqdm.notebook.tqdm` instead of `tqdm.tqdm_notebook`\n",
      "  train_df = [load_orc(x, True) for x in tqdm_notebook(train_paths[:])]\n"
     ]
    },
    {
     "data": {
      "application/vnd.jupyter.widget-view+json": {
       "model_id": "545e8fe8eaf547f4a457e5a2e85ea507",
       "version_major": 2,
       "version_minor": 0
      },
      "text/plain": [
       "  0%|          | 0/149 [00:00<?, ?it/s]"
      ]
     },
     "metadata": {},
     "output_type": "display_data"
    }
   ],
   "source": [
    "# test_df = [load_orc(x, False) for x in tqdm_notebook(test_paths[:])]\n",
    "train_df = [load_orc(x, True) for x in tqdm_notebook(train_paths[:])]"
   ]
  },
  {
   "cell_type": "code",
   "execution_count": 14,
   "id": "31bba808-7e56-46fd-a021-a542205aeb5e",
   "metadata": {
    "tags": []
   },
   "outputs": [
    {
     "data": {
      "text/plain": [
       "(50235, 3)"
      ]
     },
     "execution_count": 14,
     "metadata": {},
     "output_type": "execute_result"
    }
   ],
   "source": [
    "train_df[0].shape"
   ]
  },
  {
   "cell_type": "code",
   "execution_count": 8,
   "id": "844caf56-011d-4ee0-8516-67c35b2d69bb",
   "metadata": {
    "tags": []
   },
   "outputs": [
    {
     "name": "stderr",
     "output_type": "stream",
     "text": [
      "/tmp/ipykernel_10945/2519294989.py:7: FutureWarning: In a future version of pandas all arguments of concat except for the argument 'objs' will be keyword-only\n",
      "  data = Dataset.load_from_df(pd.concat(train_df[:50], 0), reader)\n"
     ]
    },
    {
     "name": "stdout",
     "output_type": "stream",
     "text": [
      "{'test_rmse': array([0.23058688, 0.23307187, 0.2325818 , 0.23178389, 0.23299759]), 'test_mae': array([0.11072786, 0.1115454 , 0.10984755, 0.10947936, 0.11143533]), 'fit_time': (1.643669843673706, 1.6307125091552734, 1.664658546447754, 1.6445331573486328, 1.6656889915466309), 'test_time': (0.6042773723602295, 0.507967472076416, 0.3289833068847656, 0.3328075408935547, 0.3662583827972412)}\n"
     ]
    }
   ],
   "source": [
    "import pandas as pd\n",
    "\n",
    "from surprise import Dataset, NormalPredictor, Reader, SVD, SVDpp\n",
    "from surprise.model_selection import cross_validate\n",
    "\n",
    "reader = Reader(rating_scale=(0, 1))\n",
    "data = Dataset.load_from_df(pd.concat(train_df[:50], 0), reader)\n",
    "print(cross_validate(SVDpp(n_epochs=2), data, cv=5))"
   ]
  },
  {
   "cell_type": "code",
   "execution_count": 9,
   "id": "fd2db801-3651-4700-983a-f5d25dd8f682",
   "metadata": {
    "tags": []
   },
   "outputs": [
    {
     "name": "stderr",
     "output_type": "stream",
     "text": [
      "/tmp/ipykernel_10945/3910771530.py:1: FutureWarning: In a future version of pandas all arguments of concat except for the argument 'objs' will be keyword-only\n",
      "  train_df_full = pd.concat(train_df, 0)\n"
     ]
    }
   ],
   "source": [
    "train_df_full = pd.concat(train_df, 0)"
   ]
  },
  {
   "cell_type": "code",
   "execution_count": 10,
   "id": "88266ec9-2b72-4dca-956d-aacf3f9b9f75",
   "metadata": {
    "tags": []
   },
   "outputs": [
    {
     "data": {
      "text/plain": [
       "24"
      ]
     },
     "execution_count": 10,
     "metadata": {},
     "output_type": "execute_result"
    }
   ],
   "source": [
    "del train_df\n",
    "gc.collect()"
   ]
  },
  {
   "cell_type": "code",
   "execution_count": 11,
   "id": "bdc7fbaf-fa96-401f-a935-ebdec49ebfa1",
   "metadata": {
    "tags": []
   },
   "outputs": [
    {
     "data": {
      "text/plain": [
       "<surprise.prediction_algorithms.matrix_factorization.SVDpp at 0x7f705817e370>"
      ]
     },
     "execution_count": 11,
     "metadata": {},
     "output_type": "execute_result"
    }
   ],
   "source": [
    "data = Dataset.load_from_df(train_df_full, reader)\n",
    "train_data = data.build_full_trainset()\n",
    "algo = SVDpp(n_epochs=2)\n",
    "algo.fit(train_data)"
   ]
  },
  {
   "cell_type": "code",
   "execution_count": 13,
   "id": "646b0633-3595-460e-bb0c-b08982d51935",
   "metadata": {
    "tags": []
   },
   "outputs": [
    {
     "data": {
      "text/plain": [
       "Prediction(uid='45762638', iid='584', r_ui=None, est=0.0900224460996544, details={'was_impossible': False})"
      ]
     },
     "execution_count": 13,
     "metadata": {},
     "output_type": "execute_result"
    }
   ],
   "source": [
    "algo.predict('45762638', '584')"
   ]
  },
  {
   "cell_type": "code",
   "execution_count": 17,
   "id": "efb6cedd-15d2-4383-99b4-81b8c637e002",
   "metadata": {
    "tags": []
   },
   "outputs": [],
   "source": [
    "!mkdir -p submit"
   ]
  },
  {
   "cell_type": "code",
   "execution_count": 40,
   "id": "5b37960d-26fd-4701-8968-e9a9a0d5f259",
   "metadata": {
    "tags": []
   },
   "outputs": [
    {
     "name": "stderr",
     "output_type": "stream",
     "text": [
      "/tmp/ipykernel_10945/3957378726.py:6: TqdmDeprecationWarning: This function will be removed in tqdm==5.0.0\n",
      "Please use `tqdm.notebook.tqdm` instead of `tqdm.tqdm_notebook`\n",
      "  for row in tqdm_notebook(df.iterrows(), total=len(df)):\n"
     ]
    },
    {
     "data": {
      "application/vnd.jupyter.widget-view+json": {
       "model_id": "0e1b96c1bb464386897c98bb3209d363",
       "version_major": 2,
       "version_minor": 0
      },
      "text/plain": [
       "  0%|          | 0/368969 [00:00<?, ?it/s]"
      ]
     },
     "metadata": {},
     "output_type": "display_data"
    },
    {
     "data": {
      "application/vnd.jupyter.widget-view+json": {
       "model_id": "1cb4c6ea925449efb1db0fb87095609f",
       "version_major": 2,
       "version_minor": 0
      },
      "text/plain": [
       "  0%|          | 0/369850 [00:00<?, ?it/s]"
      ]
     },
     "metadata": {},
     "output_type": "display_data"
    },
    {
     "data": {
      "application/vnd.jupyter.widget-view+json": {
       "model_id": "9f8a37427737492e93c876182974bda2",
       "version_major": 2,
       "version_minor": 0
      },
      "text/plain": [
       "  0%|          | 0/369389 [00:00<?, ?it/s]"
      ]
     },
     "metadata": {},
     "output_type": "display_data"
    },
    {
     "data": {
      "application/vnd.jupyter.widget-view+json": {
       "model_id": "ff973c4ae69a479e896f2c076a58a2ea",
       "version_major": 2,
       "version_minor": 0
      },
      "text/plain": [
       "  0%|          | 0/369151 [00:00<?, ?it/s]"
      ]
     },
     "metadata": {},
     "output_type": "display_data"
    },
    {
     "data": {
      "application/vnd.jupyter.widget-view+json": {
       "model_id": "6a33cf62543e4465ae41d117fa5122c5",
       "version_major": 2,
       "version_minor": 0
      },
      "text/plain": [
       "  0%|          | 0/368838 [00:00<?, ?it/s]"
      ]
     },
     "metadata": {},
     "output_type": "display_data"
    },
    {
     "data": {
      "application/vnd.jupyter.widget-view+json": {
       "model_id": "3fedcb36a645456480219f138a45f759",
       "version_major": 2,
       "version_minor": 0
      },
      "text/plain": [
       "  0%|          | 0/368921 [00:00<?, ?it/s]"
      ]
     },
     "metadata": {},
     "output_type": "display_data"
    },
    {
     "data": {
      "application/vnd.jupyter.widget-view+json": {
       "model_id": "397dba9d8c6945e2bc44c38509a58a9c",
       "version_major": 2,
       "version_minor": 0
      },
      "text/plain": [
       "  0%|          | 0/368925 [00:00<?, ?it/s]"
      ]
     },
     "metadata": {},
     "output_type": "display_data"
    },
    {
     "data": {
      "application/vnd.jupyter.widget-view+json": {
       "model_id": "d8492e4873ed403a86e2a19a3141dc7a",
       "version_major": 2,
       "version_minor": 0
      },
      "text/plain": [
       "  0%|          | 0/369034 [00:00<?, ?it/s]"
      ]
     },
     "metadata": {},
     "output_type": "display_data"
    },
    {
     "data": {
      "application/vnd.jupyter.widget-view+json": {
       "model_id": "0cb14532f4144d56810d27f74ad2cca3",
       "version_major": 2,
       "version_minor": 0
      },
      "text/plain": [
       "  0%|          | 0/368905 [00:00<?, ?it/s]"
      ]
     },
     "metadata": {},
     "output_type": "display_data"
    },
    {
     "data": {
      "application/vnd.jupyter.widget-view+json": {
       "model_id": "8bdf0fafffa44dde8a0b01a8b17f2e0f",
       "version_major": 2,
       "version_minor": 0
      },
      "text/plain": [
       "  0%|          | 0/368766 [00:00<?, ?it/s]"
      ]
     },
     "metadata": {},
     "output_type": "display_data"
    },
    {
     "name": "stderr",
     "output_type": "stream",
     "text": [
      "/tmp/ipykernel_10945/3957378726.py:16: TqdmDeprecationWarning: This function will be removed in tqdm==5.0.0\n",
      "Please use `tqdm.notebook.tqdm` instead of `tqdm.tqdm_notebook`\n",
      "  for row in tqdm_notebook(df.iterrows(), total=len(df)):\n"
     ]
    },
    {
     "data": {
      "application/vnd.jupyter.widget-view+json": {
       "model_id": "92f033ef7a744860a234995875fe3655",
       "version_major": 2,
       "version_minor": 0
      },
      "text/plain": [
       "  0%|          | 0/381970 [00:00<?, ?it/s]"
      ]
     },
     "metadata": {},
     "output_type": "display_data"
    },
    {
     "data": {
      "application/vnd.jupyter.widget-view+json": {
       "model_id": "f430c8effd7a429fbddb7f5b062e8529",
       "version_major": 2,
       "version_minor": 0
      },
      "text/plain": [
       "  0%|          | 0/382605 [00:00<?, ?it/s]"
      ]
     },
     "metadata": {},
     "output_type": "display_data"
    },
    {
     "data": {
      "application/vnd.jupyter.widget-view+json": {
       "model_id": "b4c3f0bf55234a63b7aaeb4685980f74",
       "version_major": 2,
       "version_minor": 0
      },
      "text/plain": [
       "  0%|          | 0/381928 [00:00<?, ?it/s]"
      ]
     },
     "metadata": {},
     "output_type": "display_data"
    },
    {
     "data": {
      "application/vnd.jupyter.widget-view+json": {
       "model_id": "976ac5ac2e324a6f8b4d2cab91dd2dd2",
       "version_major": 2,
       "version_minor": 0
      },
      "text/plain": [
       "  0%|          | 0/382340 [00:00<?, ?it/s]"
      ]
     },
     "metadata": {},
     "output_type": "display_data"
    },
    {
     "data": {
      "application/vnd.jupyter.widget-view+json": {
       "model_id": "928ee8810f2c456492d6bd3259a7d851",
       "version_major": 2,
       "version_minor": 0
      },
      "text/plain": [
       "  0%|          | 0/382898 [00:00<?, ?it/s]"
      ]
     },
     "metadata": {},
     "output_type": "display_data"
    },
    {
     "data": {
      "application/vnd.jupyter.widget-view+json": {
       "model_id": "b7bfade6c2a7484fae08f28fd209d4c3",
       "version_major": 2,
       "version_minor": 0
      },
      "text/plain": [
       "  0%|          | 0/382903 [00:00<?, ?it/s]"
      ]
     },
     "metadata": {},
     "output_type": "display_data"
    },
    {
     "data": {
      "application/vnd.jupyter.widget-view+json": {
       "model_id": "85f1a85b9cba4ba89a47cd790094151a",
       "version_major": 2,
       "version_minor": 0
      },
      "text/plain": [
       "  0%|          | 0/382569 [00:00<?, ?it/s]"
      ]
     },
     "metadata": {},
     "output_type": "display_data"
    },
    {
     "data": {
      "application/vnd.jupyter.widget-view+json": {
       "model_id": "21d366fdb0854231929dca0df0e045b0",
       "version_major": 2,
       "version_minor": 0
      },
      "text/plain": [
       "  0%|          | 0/382402 [00:00<?, ?it/s]"
      ]
     },
     "metadata": {},
     "output_type": "display_data"
    },
    {
     "data": {
      "application/vnd.jupyter.widget-view+json": {
       "model_id": "feba85d606bb4afc9ab0cdb07f9dc49f",
       "version_major": 2,
       "version_minor": 0
      },
      "text/plain": [
       "  0%|          | 0/383117 [00:00<?, ?it/s]"
      ]
     },
     "metadata": {},
     "output_type": "display_data"
    },
    {
     "data": {
      "application/vnd.jupyter.widget-view+json": {
       "model_id": "6d482e963db64f5eb85012f5c1b2ad4f",
       "version_major": 2,
       "version_minor": 0
      },
      "text/plain": [
       "  0%|          | 0/382243 [00:00<?, ?it/s]"
      ]
     },
     "metadata": {},
     "output_type": "display_data"
    },
    {
     "name": "stderr",
     "output_type": "stream",
     "text": [
      "/tmp/ipykernel_10945/3957378726.py:27: TqdmDeprecationWarning: This function will be removed in tqdm==5.0.0\n",
      "Please use `tqdm.notebook.tqdm` instead of `tqdm.tqdm_notebook`\n",
      "  for row in tqdm_notebook(df.iterrows(), total=len(df)):\n"
     ]
    },
    {
     "data": {
      "application/vnd.jupyter.widget-view+json": {
       "model_id": "c412f61fcd0f4a459ee050588dccf4f1",
       "version_major": 2,
       "version_minor": 0
      },
      "text/plain": [
       "  0%|          | 0/457600 [00:00<?, ?it/s]"
      ]
     },
     "metadata": {},
     "output_type": "display_data"
    },
    {
     "data": {
      "application/vnd.jupyter.widget-view+json": {
       "model_id": "50d998cc37e44f0898b38a883e8d920e",
       "version_major": 2,
       "version_minor": 0
      },
      "text/plain": [
       "  0%|          | 0/457886 [00:00<?, ?it/s]"
      ]
     },
     "metadata": {},
     "output_type": "display_data"
    },
    {
     "data": {
      "application/vnd.jupyter.widget-view+json": {
       "model_id": "da6787ac37f04b27afd0d677dac59cb8",
       "version_major": 2,
       "version_minor": 0
      },
      "text/plain": [
       "  0%|          | 0/457806 [00:00<?, ?it/s]"
      ]
     },
     "metadata": {},
     "output_type": "display_data"
    },
    {
     "data": {
      "application/vnd.jupyter.widget-view+json": {
       "model_id": "1d527ba7126c44d085a155a07a088737",
       "version_major": 2,
       "version_minor": 0
      },
      "text/plain": [
       "  0%|          | 0/458372 [00:00<?, ?it/s]"
      ]
     },
     "metadata": {},
     "output_type": "display_data"
    },
    {
     "data": {
      "application/vnd.jupyter.widget-view+json": {
       "model_id": "fd7d6e151b9647ba8c86419c3165cad8",
       "version_major": 2,
       "version_minor": 0
      },
      "text/plain": [
       "  0%|          | 0/458373 [00:00<?, ?it/s]"
      ]
     },
     "metadata": {},
     "output_type": "display_data"
    },
    {
     "data": {
      "application/vnd.jupyter.widget-view+json": {
       "model_id": "8ce9c2c9bc754463b77a6d5531283ca9",
       "version_major": 2,
       "version_minor": 0
      },
      "text/plain": [
       "  0%|          | 0/456957 [00:00<?, ?it/s]"
      ]
     },
     "metadata": {},
     "output_type": "display_data"
    },
    {
     "data": {
      "application/vnd.jupyter.widget-view+json": {
       "model_id": "6d433b27d52e4f9da943a3011ed68fa2",
       "version_major": 2,
       "version_minor": 0
      },
      "text/plain": [
       "  0%|          | 0/457697 [00:00<?, ?it/s]"
      ]
     },
     "metadata": {},
     "output_type": "display_data"
    },
    {
     "data": {
      "application/vnd.jupyter.widget-view+json": {
       "model_id": "d3533f4e502749d3b365ed64f76202a7",
       "version_major": 2,
       "version_minor": 0
      },
      "text/plain": [
       "  0%|          | 0/457431 [00:00<?, ?it/s]"
      ]
     },
     "metadata": {},
     "output_type": "display_data"
    },
    {
     "data": {
      "application/vnd.jupyter.widget-view+json": {
       "model_id": "b592b1d3dce94868bd13c768b843b3c5",
       "version_major": 2,
       "version_minor": 0
      },
      "text/plain": [
       "  0%|          | 0/457352 [00:00<?, ?it/s]"
      ]
     },
     "metadata": {},
     "output_type": "display_data"
    },
    {
     "data": {
      "application/vnd.jupyter.widget-view+json": {
       "model_id": "30be37083bf144e8af09a31e5c83902a",
       "version_major": 2,
       "version_minor": 0
      },
      "text/plain": [
       "  0%|          | 0/457822 [00:00<?, ?it/s]"
      ]
     },
     "metadata": {},
     "output_type": "display_data"
    }
   ],
   "source": [
    "with open('submit/submission_2023-05-14.csv', 'w') as up:\n",
    "    up.write('uid,creative_image_md5,pro\\n')\n",
    "    for path in test_paths[:10]:\n",
    "        df = load_orc(path, False)\n",
    "\n",
    "        for row in tqdm_notebook(df.iterrows(), total=len(df)):\n",
    "            pred = algo.predict(str(row[1].uid), str(row[1].creative_image_encode)).est\n",
    "            pred = str(pred)[:8]\n",
    "            up.write(f'{row[1].uid},{row[1].creative_image_md5},{pred}\\n')\n",
    "\n",
    "with open('submit/submission_2023-05-15.csv', 'w') as up:\n",
    "    up.write('uid,creative_image_md5,pro\\n')\n",
    "    for path in test_paths[10:20]:\n",
    "        df = load_orc(path, False)\n",
    "\n",
    "        for row in tqdm_notebook(df.iterrows(), total=len(df)):\n",
    "            pred = algo.predict(str(row[1].uid), str(row[1].creative_image_encode)).est\n",
    "            pred = str(pred)[:8]\n",
    "            up.write(f'{row[1].uid},{row[1].creative_image_md5},{pred}\\n')\n",
    "\n",
    "            \n",
    "with open('submit/submission_2023-05-16.csv', 'w') as up:\n",
    "    up.write('uid,creative_image_md5,pro\\n')\n",
    "    for path in test_paths[20:]:\n",
    "        df = load_orc(path, False)\n",
    "\n",
    "        for row in tqdm_notebook(df.iterrows(), total=len(df)):\n",
    "            pred = algo.predict(str(row[1].uid), str(row[1].creative_image_encode)).est\n",
    "            pred = str(pred)[:8]\n",
    "            up.write(f'{row[1].uid},{row[1].creative_image_md5},{pred}\\n')\n"
   ]
  },
  {
   "cell_type": "code",
   "execution_count": 41,
   "id": "fee13615-6bf7-482a-b58c-416642e6a6bd",
   "metadata": {
    "tags": []
   },
   "outputs": [
    {
     "name": "stdout",
     "output_type": "stream",
     "text": [
      "  adding: submit/ (stored 0%)\n",
      "  adding: submit/submission_2023-05-14.csv (deflated 84%)\n",
      "  adding: submit/submission_2023-05-16.csv (deflated 85%)\n",
      "  adding: submit/submission_2023-05-15.csv (deflated 84%)\n"
     ]
    }
   ],
   "source": [
    "!zip -r submit.zip submit"
   ]
  },
  {
   "cell_type": "code",
   "execution_count": null,
   "id": "8480cfa5-7ada-420d-a9b7-803ed8708e07",
   "metadata": {},
   "outputs": [],
   "source": []
  }
 ],
 "metadata": {
  "kernelspec": {
   "display_name": "Python 3 (ipykernel)",
   "language": "python",
   "name": "python3.10"
  },
  "language_info": {
   "codemirror_mode": {
    "name": "ipython",
    "version": 3
   },
   "file_extension": ".py",
   "mimetype": "text/x-python",
   "name": "python",
   "nbconvert_exporter": "python",
   "pygments_lexer": "ipython3",
   "version": "3.9.10"
  },
  "widgets": {
   "application/vnd.jupyter.widget-state+json": {
    "state": {
     "00ebf7699a18499d9e79b1f5efdee11c": {
      "model_module": "@jupyter-widgets/controls",
      "model_module_version": "1.5.0",
      "model_name": "HTMLModel",
      "state": {
       "layout": "IPY_MODEL_3c37684e90a74d4dbca81b6c26ee8e4e",
       "style": "IPY_MODEL_4ae7250176e24bddb603490af979ee5f",
       "value": "100%"
      }
     },
     "0396b2dc7a934e90bbb0951afb48327a": {
      "model_module": "@jupyter-widgets/controls",
      "model_module_version": "1.5.0",
      "model_name": "DescriptionStyleModel",
      "state": {
       "description_width": ""
      }
     },
     "03af72f62ead4d488d357ba1c43c7400": {
      "model_module": "@jupyter-widgets/base",
      "model_module_version": "1.2.0",
      "model_name": "LayoutModel",
      "state": {}
     },
     "063807babd6541a8b906b17d7dd0bd2f": {
      "model_module": "@jupyter-widgets/base",
      "model_module_version": "1.2.0",
      "model_name": "LayoutModel",
      "state": {}
     },
     "08d76426bcae46f0b420887f4bcb7d12": {
      "model_module": "@jupyter-widgets/base",
      "model_module_version": "1.2.0",
      "model_name": "LayoutModel",
      "state": {}
     },
     "093ff131ccac4c63a4f2ef211e3a4c4c": {
      "model_module": "@jupyter-widgets/controls",
      "model_module_version": "1.5.0",
      "model_name": "DescriptionStyleModel",
      "state": {
       "description_width": ""
      }
     },
     "0bc8c7ac08794b15889e408c4615dcb6": {
      "model_module": "@jupyter-widgets/controls",
      "model_module_version": "1.5.0",
      "model_name": "HTMLModel",
      "state": {
       "layout": "IPY_MODEL_cdcfb6333e7b437199ddcad1a64f6f8b",
       "style": "IPY_MODEL_a33f49fad333434f986e8db856b0c936",
       "value": " 368921/368921 [00:22&lt;00:00, 15715.10it/s]"
      }
     },
     "0be1aebecb514a6486eb9e3ab1467a2d": {
      "model_module": "@jupyter-widgets/controls",
      "model_module_version": "1.5.0",
      "model_name": "HTMLModel",
      "state": {
       "layout": "IPY_MODEL_349da355256248db9077f3551ed2a74e",
       "style": "IPY_MODEL_7cb16e054be44c1ea68f41ff4a0a36c9",
       "value": "100%"
      }
     },
     "0cb14532f4144d56810d27f74ad2cca3": {
      "model_module": "@jupyter-widgets/controls",
      "model_module_version": "1.5.0",
      "model_name": "HBoxModel",
      "state": {
       "children": [
        "IPY_MODEL_4c2e94c9b464463a919968d894a77ba9",
        "IPY_MODEL_e330529fdbae4936908528a1722eabb0",
        "IPY_MODEL_505c5b3e51484995ba995f612bf8fc06"
       ],
       "layout": "IPY_MODEL_527a7b94df2d4c76ab44ba8178e0f40d"
      }
     },
     "0e1b96c1bb464386897c98bb3209d363": {
      "model_module": "@jupyter-widgets/controls",
      "model_module_version": "1.5.0",
      "model_name": "HBoxModel",
      "state": {
       "children": [
        "IPY_MODEL_d1c186ebbc5248caaa9b9589012796e8",
        "IPY_MODEL_a2e35bebabf24f89a6f3af2424c48062",
        "IPY_MODEL_6c223fc05e484c36965b2b432bec7fdc"
       ],
       "layout": "IPY_MODEL_67840cf8caff4373955b12d2e909e53f"
      }
     },
     "0e5ca983b889422497dac12fc5586efe": {
      "model_module": "@jupyter-widgets/controls",
      "model_module_version": "1.5.0",
      "model_name": "DescriptionStyleModel",
      "state": {
       "description_width": ""
      }
     },
     "0eb05ccecff74cde8c455f0fe9ef9601": {
      "model_module": "@jupyter-widgets/controls",
      "model_module_version": "1.5.0",
      "model_name": "HTMLModel",
      "state": {
       "layout": "IPY_MODEL_14ac0fbc30f14ca8b92decdd0ccef5ad",
       "style": "IPY_MODEL_386e4132078a431cb0984d8ea72040f9",
       "value": "100%"
      }
     },
     "0fa880a5828443cd9c2774f6ffee8226": {
      "model_module": "@jupyter-widgets/controls",
      "model_module_version": "1.5.0",
      "model_name": "DescriptionStyleModel",
      "state": {
       "description_width": ""
      }
     },
     "1037ceb636d14927a14a9f4f2d12ea1f": {
      "model_module": "@jupyter-widgets/base",
      "model_module_version": "1.2.0",
      "model_name": "LayoutModel",
      "state": {}
     },
     "10caac761a394aed9e59f19f6bf4d41b": {
      "model_module": "@jupyter-widgets/base",
      "model_module_version": "1.2.0",
      "model_name": "LayoutModel",
      "state": {}
     },
     "11d3e90939f149a9a68f1fc2690191e9": {
      "model_module": "@jupyter-widgets/base",
      "model_module_version": "1.2.0",
      "model_name": "LayoutModel",
      "state": {
       "width": "20px"
      }
     },
     "1396a4a18a6340059ec4a60115bcb62b": {
      "model_module": "@jupyter-widgets/controls",
      "model_module_version": "1.5.0",
      "model_name": "HTMLModel",
      "state": {
       "layout": "IPY_MODEL_eca69bfc3eb148368d1f70b4b623dd9f",
       "style": "IPY_MODEL_98924faff9d54d67a280cdcbd9cca868",
       "value": " 381928/381928 [00:23&lt;00:00, 16430.03it/s]"
      }
     },
     "13980da3c8bc404f9a57b0f62ef39f7f": {
      "model_module": "@jupyter-widgets/base",
      "model_module_version": "1.2.0",
      "model_name": "LayoutModel",
      "state": {}
     },
     "146d5df1e257417a90b8eac29f5a2c81": {
      "model_module": "@jupyter-widgets/controls",
      "model_module_version": "1.5.0",
      "model_name": "HBoxModel",
      "state": {
       "children": [
        "IPY_MODEL_b88dc34c90994cfba2ba173b73e93fb7",
        "IPY_MODEL_b54faf36ad6a4d6bbfc95972271600a8",
        "IPY_MODEL_9aae0f88169644858e97c5ff3f02f3e3"
       ],
       "layout": "IPY_MODEL_e4701e5f9f504ba5b91b9e56cc4eda73"
      }
     },
     "14ac0fbc30f14ca8b92decdd0ccef5ad": {
      "model_module": "@jupyter-widgets/base",
      "model_module_version": "1.2.0",
      "model_name": "LayoutModel",
      "state": {}
     },
     "16565c9f2e9e4d35a887c90d2aa96bf5": {
      "model_module": "@jupyter-widgets/base",
      "model_module_version": "1.2.0",
      "model_name": "LayoutModel",
      "state": {}
     },
     "16a11dfcf5ca4b579d68e71735027135": {
      "model_module": "@jupyter-widgets/base",
      "model_module_version": "1.2.0",
      "model_name": "LayoutModel",
      "state": {}
     },
     "171ebd23010d43b0813f5561f0a37bd9": {
      "model_module": "@jupyter-widgets/base",
      "model_module_version": "1.2.0",
      "model_name": "LayoutModel",
      "state": {}
     },
     "176e18fd688e4bc08c0288cf00818678": {
      "model_module": "@jupyter-widgets/controls",
      "model_module_version": "1.5.0",
      "model_name": "DescriptionStyleModel",
      "state": {
       "description_width": ""
      }
     },
     "18987ec0d64d4938ad6343dd51706a34": {
      "model_module": "@jupyter-widgets/controls",
      "model_module_version": "1.5.0",
      "model_name": "DescriptionStyleModel",
      "state": {
       "description_width": ""
      }
     },
     "1a1791239bc543cd8e441ee41971d539": {
      "model_module": "@jupyter-widgets/base",
      "model_module_version": "1.2.0",
      "model_name": "LayoutModel",
      "state": {}
     },
     "1cb4c6ea925449efb1db0fb87095609f": {
      "model_module": "@jupyter-widgets/controls",
      "model_module_version": "1.5.0",
      "model_name": "HBoxModel",
      "state": {
       "children": [
        "IPY_MODEL_bc0c2485e6e244a7a674f231d2909fab",
        "IPY_MODEL_23fbe16dce8245c491ec05bb8c269536",
        "IPY_MODEL_2ccdaaa2acb042058c44b31d7716f4ea"
       ],
       "layout": "IPY_MODEL_08d76426bcae46f0b420887f4bcb7d12"
      }
     },
     "1d527ba7126c44d085a155a07a088737": {
      "model_module": "@jupyter-widgets/controls",
      "model_module_version": "1.5.0",
      "model_name": "HBoxModel",
      "state": {
       "children": [
        "IPY_MODEL_6ae0987182c14fbb957797b7ac2df410",
        "IPY_MODEL_4fcd6f04ad594f659e8244dcaf4b4f16",
        "IPY_MODEL_90ef0626db6149c3ac8284af3381497f"
       ],
       "layout": "IPY_MODEL_2bee5809dbe849c8aad617d28ba19896"
      }
     },
     "1dacc5de5b9b47ae98a64026411ad83d": {
      "model_module": "@jupyter-widgets/base",
      "model_module_version": "1.2.0",
      "model_name": "LayoutModel",
      "state": {}
     },
     "1e7edac800ce42b9901591e594fe8ea3": {
      "model_module": "@jupyter-widgets/base",
      "model_module_version": "1.2.0",
      "model_name": "LayoutModel",
      "state": {}
     },
     "1f282b6fd65f4ab0b5a3e18363678fc2": {
      "model_module": "@jupyter-widgets/controls",
      "model_module_version": "1.5.0",
      "model_name": "DescriptionStyleModel",
      "state": {
       "description_width": ""
      }
     },
     "1fe2e7e21d044f24b8cb9c5f7cbbdd2f": {
      "model_module": "@jupyter-widgets/base",
      "model_module_version": "1.2.0",
      "model_name": "LayoutModel",
      "state": {}
     },
     "1fece82816454c3f9eebecd376c16719": {
      "model_module": "@jupyter-widgets/base",
      "model_module_version": "1.2.0",
      "model_name": "LayoutModel",
      "state": {}
     },
     "202547346e114990a3a134b32ef94931": {
      "model_module": "@jupyter-widgets/base",
      "model_module_version": "1.2.0",
      "model_name": "LayoutModel",
      "state": {}
     },
     "213392d5364144a7a96448da87f62876": {
      "model_module": "@jupyter-widgets/controls",
      "model_module_version": "1.5.0",
      "model_name": "DescriptionStyleModel",
      "state": {
       "description_width": ""
      }
     },
     "218ae6e30c22448c91fa69b7079817ab": {
      "model_module": "@jupyter-widgets/controls",
      "model_module_version": "1.5.0",
      "model_name": "ProgressStyleModel",
      "state": {
       "description_width": ""
      }
     },
     "21b8caef5889414a80905329d4ea0a17": {
      "model_module": "@jupyter-widgets/base",
      "model_module_version": "1.2.0",
      "model_name": "LayoutModel",
      "state": {}
     },
     "21d366fdb0854231929dca0df0e045b0": {
      "model_module": "@jupyter-widgets/controls",
      "model_module_version": "1.5.0",
      "model_name": "HBoxModel",
      "state": {
       "children": [
        "IPY_MODEL_37731a071d6040728ce8740cb441ce74",
        "IPY_MODEL_e611ae5605f648f4a6c7786b68125cf9",
        "IPY_MODEL_b059471cb5a64170856e7ab9a95f511e"
       ],
       "layout": "IPY_MODEL_d188db75b6b74b64b5580bcc6459b310"
      }
     },
     "22f45ab95b794d8eb5c7e60f2bde88c7": {
      "model_module": "@jupyter-widgets/controls",
      "model_module_version": "1.5.0",
      "model_name": "DescriptionStyleModel",
      "state": {
       "description_width": ""
      }
     },
     "232237f934064ce99b62011a03a000a8": {
      "model_module": "@jupyter-widgets/base",
      "model_module_version": "1.2.0",
      "model_name": "LayoutModel",
      "state": {}
     },
     "23dedbc24f024783a6a06d1ea5261ff0": {
      "model_module": "@jupyter-widgets/controls",
      "model_module_version": "1.5.0",
      "model_name": "ProgressStyleModel",
      "state": {
       "description_width": ""
      }
     },
     "23fbe16dce8245c491ec05bb8c269536": {
      "model_module": "@jupyter-widgets/controls",
      "model_module_version": "1.5.0",
      "model_name": "FloatProgressModel",
      "state": {
       "bar_style": "success",
       "layout": "IPY_MODEL_827c5cae36a0450583e11b850b2732f5",
       "max": 369850,
       "style": "IPY_MODEL_e9155cff65b54bb587d29afb01381246",
       "value": 369850
      }
     },
     "2476fc365f95495091f554e8550f7bee": {
      "model_module": "@jupyter-widgets/controls",
      "model_module_version": "1.5.0",
      "model_name": "DescriptionStyleModel",
      "state": {
       "description_width": ""
      }
     },
     "2498292d70214c408937b0440963b309": {
      "model_module": "@jupyter-widgets/controls",
      "model_module_version": "1.5.0",
      "model_name": "ProgressStyleModel",
      "state": {
       "description_width": ""
      }
     },
     "25c7319b33da4da8bcbc4ab5c73f8719": {
      "model_module": "@jupyter-widgets/controls",
      "model_module_version": "1.5.0",
      "model_name": "ProgressStyleModel",
      "state": {
       "description_width": ""
      }
     },
     "260d5c1693cb4e73a7ce180a9486eaf6": {
      "model_module": "@jupyter-widgets/controls",
      "model_module_version": "1.5.0",
      "model_name": "ProgressStyleModel",
      "state": {
       "description_width": ""
      }
     },
     "260de4ae757d4cac81c0cca5e81946d0": {
      "model_module": "@jupyter-widgets/controls",
      "model_module_version": "1.5.0",
      "model_name": "HTMLModel",
      "state": {
       "layout": "IPY_MODEL_b88c302acfe54be7808fdbc7f1710ec4",
       "style": "IPY_MODEL_6bead392ead44cdc9b02d0933df0686f",
       "value": " 382605/382605 [00:23&lt;00:00, 16388.45it/s]"
      }
     },
     "269a5838ca3b45f8934b74678cb2545f": {
      "model_module": "@jupyter-widgets/controls",
      "model_module_version": "1.5.0",
      "model_name": "ProgressStyleModel",
      "state": {
       "description_width": ""
      }
     },
     "27714e60521a454aafba985026b2bca5": {
      "model_module": "@jupyter-widgets/controls",
      "model_module_version": "1.5.0",
      "model_name": "DescriptionStyleModel",
      "state": {
       "description_width": ""
      }
     },
     "277613bb55884e0991bd05d396f6878a": {
      "model_module": "@jupyter-widgets/controls",
      "model_module_version": "1.5.0",
      "model_name": "DescriptionStyleModel",
      "state": {
       "description_width": ""
      }
     },
     "27bfbe94f84243c790b733a16c486746": {
      "model_module": "@jupyter-widgets/controls",
      "model_module_version": "1.5.0",
      "model_name": "ProgressStyleModel",
      "state": {
       "description_width": ""
      }
     },
     "289fede7bb60417c967dfe0c5410c695": {
      "model_module": "@jupyter-widgets/controls",
      "model_module_version": "1.5.0",
      "model_name": "DescriptionStyleModel",
      "state": {
       "description_width": ""
      }
     },
     "29608f2a469c4cc5a14595393c93959e": {
      "model_module": "@jupyter-widgets/base",
      "model_module_version": "1.2.0",
      "model_name": "LayoutModel",
      "state": {}
     },
     "29c40d76f82a430aac5a8150b962e98e": {
      "model_module": "@jupyter-widgets/controls",
      "model_module_version": "1.5.0",
      "model_name": "DescriptionStyleModel",
      "state": {
       "description_width": ""
      }
     },
     "29d1587f21f9448c98f2e43ecf9faf77": {
      "model_module": "@jupyter-widgets/base",
      "model_module_version": "1.2.0",
      "model_name": "LayoutModel",
      "state": {}
     },
     "2b9c1383487f4d61b66e637ae2039636": {
      "model_module": "@jupyter-widgets/base",
      "model_module_version": "1.2.0",
      "model_name": "LayoutModel",
      "state": {}
     },
     "2bbb1fc6889e4fa4bef3f515ef169cef": {
      "model_module": "@jupyter-widgets/controls",
      "model_module_version": "1.5.0",
      "model_name": "ProgressStyleModel",
      "state": {
       "description_width": ""
      }
     },
     "2bee5809dbe849c8aad617d28ba19896": {
      "model_module": "@jupyter-widgets/base",
      "model_module_version": "1.2.0",
      "model_name": "LayoutModel",
      "state": {}
     },
     "2c231b7e33fe4ced8c8c6d4f6d81b555": {
      "model_module": "@jupyter-widgets/controls",
      "model_module_version": "1.5.0",
      "model_name": "DescriptionStyleModel",
      "state": {
       "description_width": ""
      }
     },
     "2c7c893e718a4013b24ce726dfaf2dbc": {
      "model_module": "@jupyter-widgets/controls",
      "model_module_version": "1.5.0",
      "model_name": "DescriptionStyleModel",
      "state": {
       "description_width": ""
      }
     },
     "2c81460f0d9549d5b8eb6ed876f87f25": {
      "model_module": "@jupyter-widgets/base",
      "model_module_version": "1.2.0",
      "model_name": "LayoutModel",
      "state": {}
     },
     "2ccdaaa2acb042058c44b31d7716f4ea": {
      "model_module": "@jupyter-widgets/controls",
      "model_module_version": "1.5.0",
      "model_name": "HTMLModel",
      "state": {
       "layout": "IPY_MODEL_5e7eabb19e574313a40cb009352fdf86",
       "style": "IPY_MODEL_715e4291a13341f9a1b5cd7cca7cdb98",
       "value": " 369850/369850 [00:22&lt;00:00, 16360.28it/s]"
      }
     },
     "2cdec86d9a254735b91f8ee4d5b252c6": {
      "model_module": "@jupyter-widgets/controls",
      "model_module_version": "1.5.0",
      "model_name": "FloatProgressModel",
      "state": {
       "bar_style": "success",
       "layout": "IPY_MODEL_43cd7decc0dc4db0a51eaf76eace7bb0",
       "max": 381970,
       "style": "IPY_MODEL_c815798269c34d43b279ee4f23bd9a7c",
       "value": 381970
      }
     },
     "2e435ba5b5b14406a202bde7c977e846": {
      "model_module": "@jupyter-widgets/controls",
      "model_module_version": "1.5.0",
      "model_name": "ProgressStyleModel",
      "state": {
       "description_width": ""
      }
     },
     "2f6a0945a03847c0a7e34076474f6ff3": {
      "model_module": "@jupyter-widgets/base",
      "model_module_version": "1.2.0",
      "model_name": "LayoutModel",
      "state": {}
     },
     "2fd4acc006bd4cdab2574dfc1fda6d6f": {
      "model_module": "@jupyter-widgets/controls",
      "model_module_version": "1.5.0",
      "model_name": "FloatProgressModel",
      "state": {
       "bar_style": "success",
       "layout": "IPY_MODEL_aaa2dedfb3064c868dd7418a56724a6c",
       "max": 382569,
       "style": "IPY_MODEL_d6756d5fbc8b4a48a937a6fd2c213fdf",
       "value": 382569
      }
     },
     "3080bee0079b4e1abacf5faed430ef54": {
      "model_module": "@jupyter-widgets/base",
      "model_module_version": "1.2.0",
      "model_name": "LayoutModel",
      "state": {}
     },
     "30be37083bf144e8af09a31e5c83902a": {
      "model_module": "@jupyter-widgets/controls",
      "model_module_version": "1.5.0",
      "model_name": "HBoxModel",
      "state": {
       "children": [
        "IPY_MODEL_f95232886f0d4a33be7135a914091ad0",
        "IPY_MODEL_ccf8dcc826d14dc4b4fda92e1d0838cd",
        "IPY_MODEL_d26723584a9541bdbcefd9ea36425f19"
       ],
       "layout": "IPY_MODEL_cbf869af8eab45e59243b1eb46d0584d"
      }
     },
     "317556e9512a4c839df7d6a2d786755f": {
      "model_module": "@jupyter-widgets/controls",
      "model_module_version": "1.5.0",
      "model_name": "DescriptionStyleModel",
      "state": {
       "description_width": ""
      }
     },
     "318c26787f9343feb868b5d5b19c2fec": {
      "model_module": "@jupyter-widgets/controls",
      "model_module_version": "1.5.0",
      "model_name": "HTMLModel",
      "state": {
       "layout": "IPY_MODEL_b2fd33d71b3544a2977e1a15f7fad8ba",
       "style": "IPY_MODEL_1f282b6fd65f4ab0b5a3e18363678fc2",
       "value": "100%"
      }
     },
     "3224802c1066414ea60e3eda75426911": {
      "model_module": "@jupyter-widgets/base",
      "model_module_version": "1.2.0",
      "model_name": "LayoutModel",
      "state": {}
     },
     "325239f9189a484489f74a66500c97b0": {
      "model_module": "@jupyter-widgets/base",
      "model_module_version": "1.2.0",
      "model_name": "LayoutModel",
      "state": {}
     },
     "349da355256248db9077f3551ed2a74e": {
      "model_module": "@jupyter-widgets/base",
      "model_module_version": "1.2.0",
      "model_name": "LayoutModel",
      "state": {}
     },
     "34c191d1af0d4098bfc1d87cd7318d44": {
      "model_module": "@jupyter-widgets/base",
      "model_module_version": "1.2.0",
      "model_name": "LayoutModel",
      "state": {}
     },
     "369b59437bb442cdac7052da613e2e3a": {
      "model_module": "@jupyter-widgets/controls",
      "model_module_version": "1.5.0",
      "model_name": "HTMLModel",
      "state": {
       "layout": "IPY_MODEL_8378d1129cfa45f687beaa3b3d858ad6",
       "style": "IPY_MODEL_ea944b4321534e65afc8f1cfc54c651d",
       "value": "100%"
      }
     },
     "37731a071d6040728ce8740cb441ce74": {
      "model_module": "@jupyter-widgets/controls",
      "model_module_version": "1.5.0",
      "model_name": "HTMLModel",
      "state": {
       "layout": "IPY_MODEL_400ec8ebd393417c8d8cd87a681c42ce",
       "style": "IPY_MODEL_8e57d9640126432bb4fc57b8cb0d4768",
       "value": "100%"
      }
     },
     "3775c67fe53c4871b753bbf6eece956e": {
      "model_module": "@jupyter-widgets/controls",
      "model_module_version": "1.5.0",
      "model_name": "HTMLModel",
      "state": {
       "layout": "IPY_MODEL_521915d514874cdc85877102bc78a86e",
       "style": "IPY_MODEL_e49c11fc7f9c4c4398e477a914ae5d03",
       "value": "100%"
      }
     },
     "3795a0d66c174255a0d0005dd22464e8": {
      "model_module": "@jupyter-widgets/controls",
      "model_module_version": "1.5.0",
      "model_name": "DescriptionStyleModel",
      "state": {
       "description_width": ""
      }
     },
     "38646c4d2dea4547a7a5783f0259b493": {
      "model_module": "@jupyter-widgets/base",
      "model_module_version": "1.2.0",
      "model_name": "LayoutModel",
      "state": {}
     },
     "3865f7cc8e564f398304b4e2ceaf369d": {
      "model_module": "@jupyter-widgets/controls",
      "model_module_version": "1.5.0",
      "model_name": "ProgressStyleModel",
      "state": {
       "description_width": ""
      }
     },
     "3869b980de004d0eaf671982db9ef8a9": {
      "model_module": "@jupyter-widgets/base",
      "model_module_version": "1.2.0",
      "model_name": "LayoutModel",
      "state": {}
     },
     "386e4132078a431cb0984d8ea72040f9": {
      "model_module": "@jupyter-widgets/controls",
      "model_module_version": "1.5.0",
      "model_name": "DescriptionStyleModel",
      "state": {
       "description_width": ""
      }
     },
     "38d3c26ecb2543799d20d15dbc76f0ae": {
      "model_module": "@jupyter-widgets/base",
      "model_module_version": "1.2.0",
      "model_name": "LayoutModel",
      "state": {}
     },
     "397dba9d8c6945e2bc44c38509a58a9c": {
      "model_module": "@jupyter-widgets/controls",
      "model_module_version": "1.5.0",
      "model_name": "HBoxModel",
      "state": {
       "children": [
        "IPY_MODEL_e63a347553bc416c904f856b32290888",
        "IPY_MODEL_c1e7860f4acc4ec2bd5d995de71bc7da",
        "IPY_MODEL_b1dbf3e8d6f84151a6753c94dceb50bc"
       ],
       "layout": "IPY_MODEL_92da4ca53c7d4f199455a377bac4d4b9"
      }
     },
     "3b47338a867a48b78adf58232db4d37e": {
      "model_module": "@jupyter-widgets/controls",
      "model_module_version": "1.5.0",
      "model_name": "FloatProgressModel",
      "state": {
       "bar_style": "success",
       "layout": "IPY_MODEL_13980da3c8bc404f9a57b0f62ef39f7f",
       "max": 368921,
       "style": "IPY_MODEL_aa813bda40b8495092e32b254add2f25",
       "value": 368921
      }
     },
     "3b9a900cddf4461889225c7ab1b534c0": {
      "model_module": "@jupyter-widgets/base",
      "model_module_version": "1.2.0",
      "model_name": "LayoutModel",
      "state": {}
     },
     "3c37684e90a74d4dbca81b6c26ee8e4e": {
      "model_module": "@jupyter-widgets/base",
      "model_module_version": "1.2.0",
      "model_name": "LayoutModel",
      "state": {}
     },
     "3d68347e3fea496898a14dc92061967a": {
      "model_module": "@jupyter-widgets/base",
      "model_module_version": "1.2.0",
      "model_name": "LayoutModel",
      "state": {}
     },
     "3d97a995824e4998af4604e8af7811a4": {
      "model_module": "@jupyter-widgets/base",
      "model_module_version": "1.2.0",
      "model_name": "LayoutModel",
      "state": {}
     },
     "3dcff1fc6b6f4675b8c7db37b9e127a6": {
      "model_module": "@jupyter-widgets/base",
      "model_module_version": "1.2.0",
      "model_name": "LayoutModel",
      "state": {}
     },
     "3ee8bbc6afa74fcabdd20b01fa75b1ce": {
      "model_module": "@jupyter-widgets/controls",
      "model_module_version": "1.5.0",
      "model_name": "DescriptionStyleModel",
      "state": {
       "description_width": ""
      }
     },
     "3f02707c620645fc8180131fcdae9e2f": {
      "model_module": "@jupyter-widgets/base",
      "model_module_version": "1.2.0",
      "model_name": "LayoutModel",
      "state": {}
     },
     "3fd6368ae5f54a99a95e82347398ce9f": {
      "model_module": "@jupyter-widgets/controls",
      "model_module_version": "1.5.0",
      "model_name": "ProgressStyleModel",
      "state": {
       "description_width": ""
      }
     },
     "3fedcb36a645456480219f138a45f759": {
      "model_module": "@jupyter-widgets/controls",
      "model_module_version": "1.5.0",
      "model_name": "HBoxModel",
      "state": {
       "children": [
        "IPY_MODEL_d1cf7ddaf1b84ee682bbf91d95a81786",
        "IPY_MODEL_3b47338a867a48b78adf58232db4d37e",
        "IPY_MODEL_0bc8c7ac08794b15889e408c4615dcb6"
       ],
       "layout": "IPY_MODEL_7ed4c70ab88f4ae38baa85dbca745e18"
      }
     },
     "400ec8ebd393417c8d8cd87a681c42ce": {
      "model_module": "@jupyter-widgets/base",
      "model_module_version": "1.2.0",
      "model_name": "LayoutModel",
      "state": {}
     },
     "41665729fdd142b389018fd5bae04607": {
      "model_module": "@jupyter-widgets/controls",
      "model_module_version": "1.5.0",
      "model_name": "HTMLModel",
      "state": {
       "layout": "IPY_MODEL_16565c9f2e9e4d35a887c90d2aa96bf5",
       "style": "IPY_MODEL_bd54f7619e5d445b94c485129c08ed8b",
       "value": " 381970/381970 [00:23&lt;00:00, 16395.68it/s]"
      }
     },
     "416a721058444672a89acd76488b0937": {
      "model_module": "@jupyter-widgets/controls",
      "model_module_version": "1.5.0",
      "model_name": "DescriptionStyleModel",
      "state": {
       "description_width": ""
      }
     },
     "42ae47944f964812a64c8ced51c90a4f": {
      "model_module": "@jupyter-widgets/base",
      "model_module_version": "1.2.0",
      "model_name": "LayoutModel",
      "state": {}
     },
     "43b43d291d3440bdae3bf4ff833c0c20": {
      "model_module": "@jupyter-widgets/base",
      "model_module_version": "1.2.0",
      "model_name": "LayoutModel",
      "state": {}
     },
     "43cd7decc0dc4db0a51eaf76eace7bb0": {
      "model_module": "@jupyter-widgets/base",
      "model_module_version": "1.2.0",
      "model_name": "LayoutModel",
      "state": {}
     },
     "455d86303b844a5c9d2305c98ed42896": {
      "model_module": "@jupyter-widgets/controls",
      "model_module_version": "1.5.0",
      "model_name": "ProgressStyleModel",
      "state": {
       "description_width": ""
      }
     },
     "474093a0859c4e88b13ff85ed1950153": {
      "model_module": "@jupyter-widgets/base",
      "model_module_version": "1.2.0",
      "model_name": "LayoutModel",
      "state": {}
     },
     "47726abc26764c49a5f7d8707cf52d9d": {
      "model_module": "@jupyter-widgets/controls",
      "model_module_version": "1.5.0",
      "model_name": "HTMLModel",
      "state": {
       "layout": "IPY_MODEL_9315fb1af2064fc38079a9e1acba84d7",
       "style": "IPY_MODEL_f3a1f967f7ad4b6e8bc6dd3d28917e3a",
       "value": " 382340/382340 [00:23&lt;00:00, 16377.15it/s]"
      }
     },
     "47d103b6716947759193a393c9ae78ab": {
      "model_module": "@jupyter-widgets/base",
      "model_module_version": "1.2.0",
      "model_name": "LayoutModel",
      "state": {}
     },
     "48d4ff9e90c546c8b185ba738f3eaec3": {
      "model_module": "@jupyter-widgets/controls",
      "model_module_version": "1.5.0",
      "model_name": "FloatProgressModel",
      "state": {
       "bar_style": "success",
       "layout": "IPY_MODEL_a975b31d193a40fd8b5861cf342996ba",
       "max": 369389,
       "style": "IPY_MODEL_2bbb1fc6889e4fa4bef3f515ef169cef",
       "value": 369389
      }
     },
     "4a2ff77afee54f7ca93a6ee5407ccd23": {
      "model_module": "@jupyter-widgets/base",
      "model_module_version": "1.2.0",
      "model_name": "LayoutModel",
      "state": {}
     },
     "4ab044de898b4a4784c9f8ba1df793f8": {
      "model_module": "@jupyter-widgets/controls",
      "model_module_version": "1.5.0",
      "model_name": "DescriptionStyleModel",
      "state": {
       "description_width": ""
      }
     },
     "4ae7250176e24bddb603490af979ee5f": {
      "model_module": "@jupyter-widgets/controls",
      "model_module_version": "1.5.0",
      "model_name": "DescriptionStyleModel",
      "state": {
       "description_width": ""
      }
     },
     "4b48035d84a448e1b0d0a1bb00fc83fc": {
      "model_module": "@jupyter-widgets/base",
      "model_module_version": "1.2.0",
      "model_name": "LayoutModel",
      "state": {}
     },
     "4c2e94c9b464463a919968d894a77ba9": {
      "model_module": "@jupyter-widgets/controls",
      "model_module_version": "1.5.0",
      "model_name": "HTMLModel",
      "state": {
       "layout": "IPY_MODEL_72f8164f600e4c2d8b384c5a60406fc6",
       "style": "IPY_MODEL_675ab305565e4b078cebeb01e9159e4d",
       "value": "100%"
      }
     },
     "4cd42cca52cb4742be57f46e1f27f642": {
      "model_module": "@jupyter-widgets/controls",
      "model_module_version": "1.5.0",
      "model_name": "HTMLModel",
      "state": {
       "layout": "IPY_MODEL_7d1e0635540f4c288425ace4a75515a7",
       "style": "IPY_MODEL_93880c68c5dd47f7b4fdc92e94823c65",
       "value": "100%"
      }
     },
     "4e67bf1490f148d496c16f929aef1f11": {
      "model_module": "@jupyter-widgets/controls",
      "model_module_version": "1.5.0",
      "model_name": "DescriptionStyleModel",
      "state": {
       "description_width": ""
      }
     },
     "4eda2e8ec83e4046873c5010679c2a55": {
      "model_module": "@jupyter-widgets/controls",
      "model_module_version": "1.5.0",
      "model_name": "HTMLModel",
      "state": {
       "layout": "IPY_MODEL_47d103b6716947759193a393c9ae78ab",
       "style": "IPY_MODEL_5976c431f16e4a06b0c70808225cf001",
       "value": "100%"
      }
     },
     "4fcd6f04ad594f659e8244dcaf4b4f16": {
      "model_module": "@jupyter-widgets/controls",
      "model_module_version": "1.5.0",
      "model_name": "FloatProgressModel",
      "state": {
       "bar_style": "success",
       "layout": "IPY_MODEL_e23d83ccb1724756981eb362eb85c937",
       "max": 458372,
       "style": "IPY_MODEL_a21121733f3d4bea9aebba8737ea3211",
       "value": 458372
      }
     },
     "505c5b3e51484995ba995f612bf8fc06": {
      "model_module": "@jupyter-widgets/controls",
      "model_module_version": "1.5.0",
      "model_name": "HTMLModel",
      "state": {
       "layout": "IPY_MODEL_7a6d47e7ca5042cfad2139df861490e3",
       "style": "IPY_MODEL_534de17dc89842ec904a6f8456ca3364",
       "value": " 368905/368905 [00:22&lt;00:00, 16419.45it/s]"
      }
     },
     "50d998cc37e44f0898b38a883e8d920e": {
      "model_module": "@jupyter-widgets/controls",
      "model_module_version": "1.5.0",
      "model_name": "HBoxModel",
      "state": {
       "children": [
        "IPY_MODEL_52b7beabcd064be0a3750e752d18716d",
        "IPY_MODEL_a82f72aeb2ba4f8aa61bba85395385fc",
        "IPY_MODEL_686887ff87ea47f8b40119a966b0822f"
       ],
       "layout": "IPY_MODEL_16a11dfcf5ca4b579d68e71735027135"
      }
     },
     "521915d514874cdc85877102bc78a86e": {
      "model_module": "@jupyter-widgets/base",
      "model_module_version": "1.2.0",
      "model_name": "LayoutModel",
      "state": {}
     },
     "525c292c6138403d9343915f7e03981a": {
      "model_module": "@jupyter-widgets/base",
      "model_module_version": "1.2.0",
      "model_name": "LayoutModel",
      "state": {}
     },
     "5263e562c1854f249b3cd4b3875ac53d": {
      "model_module": "@jupyter-widgets/base",
      "model_module_version": "1.2.0",
      "model_name": "LayoutModel",
      "state": {}
     },
     "527a7b94df2d4c76ab44ba8178e0f40d": {
      "model_module": "@jupyter-widgets/base",
      "model_module_version": "1.2.0",
      "model_name": "LayoutModel",
      "state": {}
     },
     "52b7beabcd064be0a3750e752d18716d": {
      "model_module": "@jupyter-widgets/controls",
      "model_module_version": "1.5.0",
      "model_name": "HTMLModel",
      "state": {
       "layout": "IPY_MODEL_42ae47944f964812a64c8ced51c90a4f",
       "style": "IPY_MODEL_b40f24ab5cbe40aca8ca32ff429dfdb4",
       "value": "100%"
      }
     },
     "534de17dc89842ec904a6f8456ca3364": {
      "model_module": "@jupyter-widgets/controls",
      "model_module_version": "1.5.0",
      "model_name": "DescriptionStyleModel",
      "state": {
       "description_width": ""
      }
     },
     "550f3a52d4a940b5aeb4589d12bc7ad3": {
      "model_module": "@jupyter-widgets/controls",
      "model_module_version": "1.5.0",
      "model_name": "HTMLModel",
      "state": {
       "layout": "IPY_MODEL_f8d182f989724bde85970d519cd930dd",
       "style": "IPY_MODEL_3ee8bbc6afa74fcabdd20b01fa75b1ce",
       "value": "100%"
      }
     },
     "55ba523d1e944453b49f7941005a6928": {
      "model_module": "@jupyter-widgets/controls",
      "model_module_version": "1.5.0",
      "model_name": "HTMLModel",
      "state": {
       "layout": "IPY_MODEL_525c292c6138403d9343915f7e03981a",
       "style": "IPY_MODEL_f618fb84cda04199926cfc8809cf2af1",
       "value": "100%"
      }
     },
     "57084829e4684fc6b34f4ac425390a03": {
      "model_module": "@jupyter-widgets/base",
      "model_module_version": "1.2.0",
      "model_name": "LayoutModel",
      "state": {}
     },
     "5976c431f16e4a06b0c70808225cf001": {
      "model_module": "@jupyter-widgets/controls",
      "model_module_version": "1.5.0",
      "model_name": "DescriptionStyleModel",
      "state": {
       "description_width": ""
      }
     },
     "5dfce443b74f4ee9bce66513773dd937": {
      "model_module": "@jupyter-widgets/controls",
      "model_module_version": "1.5.0",
      "model_name": "HTMLModel",
      "state": {
       "layout": "IPY_MODEL_a0430a82e2b141e78435a494275f97b4",
       "style": "IPY_MODEL_a3e7d3bba3dc4a8fa199ab205d63a2c4",
       "value": "100%"
      }
     },
     "5e7eabb19e574313a40cb009352fdf86": {
      "model_module": "@jupyter-widgets/base",
      "model_module_version": "1.2.0",
      "model_name": "LayoutModel",
      "state": {}
     },
     "5e88311249f74f6ca5e0ebc0a5eb93dc": {
      "model_module": "@jupyter-widgets/controls",
      "model_module_version": "1.5.0",
      "model_name": "FloatProgressModel",
      "state": {
       "bar_style": "success",
       "layout": "IPY_MODEL_d9becf5e4d2742cca62350d88b33da65",
       "max": 457431,
       "style": "IPY_MODEL_c510b3e9b3864165a7de93f6a9910003",
       "value": 457431
      }
     },
     "5e9259c234b043a99d320433576062c5": {
      "model_module": "@jupyter-widgets/base",
      "model_module_version": "1.2.0",
      "model_name": "LayoutModel",
      "state": {}
     },
     "61635964b880492f819e227d845169c5": {
      "model_module": "@jupyter-widgets/controls",
      "model_module_version": "1.5.0",
      "model_name": "HTMLModel",
      "state": {
       "layout": "IPY_MODEL_96f0734acf9b4e0db387bef7d458d1da",
       "style": "IPY_MODEL_d34807e2523f4737982739dff9b56f64",
       "value": "100%"
      }
     },
     "6187bb6e8db54efa9d16ff5416194623": {
      "model_module": "@jupyter-widgets/base",
      "model_module_version": "1.2.0",
      "model_name": "LayoutModel",
      "state": {}
     },
     "62465513645c473aaef01d87d1275800": {
      "model_module": "@jupyter-widgets/controls",
      "model_module_version": "1.5.0",
      "model_name": "HTMLModel",
      "state": {
       "layout": "IPY_MODEL_fd5c7e7da5804827bbec7e83d4465158",
       "style": "IPY_MODEL_c317c4eeac4d4f0aa98509713d3c33b0",
       "value": " 382898/382898 [00:23&lt;00:00, 16253.74it/s]"
      }
     },
     "64b098a542f444f4b44357b598c50f9f": {
      "model_module": "@jupyter-widgets/base",
      "model_module_version": "1.2.0",
      "model_name": "LayoutModel",
      "state": {}
     },
     "64d12af199cc4978ae74e9428c1cf77f": {
      "model_module": "@jupyter-widgets/base",
      "model_module_version": "1.2.0",
      "model_name": "LayoutModel",
      "state": {}
     },
     "670ea41e9eb6433aa1047d454704712a": {
      "model_module": "@jupyter-widgets/controls",
      "model_module_version": "1.5.0",
      "model_name": "HTMLModel",
      "state": {
       "layout": "IPY_MODEL_bbb61e0f560c4a83adbd0c9c4be3ed87",
       "style": "IPY_MODEL_b523e2360a6f43d89bc722db6b84d364",
       "value": "100%"
      }
     },
     "675ab305565e4b078cebeb01e9159e4d": {
      "model_module": "@jupyter-widgets/controls",
      "model_module_version": "1.5.0",
      "model_name": "DescriptionStyleModel",
      "state": {
       "description_width": ""
      }
     },
     "67840cf8caff4373955b12d2e909e53f": {
      "model_module": "@jupyter-widgets/base",
      "model_module_version": "1.2.0",
      "model_name": "LayoutModel",
      "state": {}
     },
     "686887ff87ea47f8b40119a966b0822f": {
      "model_module": "@jupyter-widgets/controls",
      "model_module_version": "1.5.0",
      "model_name": "HTMLModel",
      "state": {
       "layout": "IPY_MODEL_fc5b5b34b40d45888227896a4c637134",
       "style": "IPY_MODEL_ef382a5449904713b38124a372ac1f1e",
       "value": " 457886/457886 [00:28&lt;00:00, 15957.01it/s]"
      }
     },
     "697766efc4004a46ad7b0d0dedcabc70": {
      "model_module": "@jupyter-widgets/controls",
      "model_module_version": "1.5.0",
      "model_name": "ProgressStyleModel",
      "state": {
       "description_width": ""
      }
     },
     "69db79b292704a5cafeeef9551a8a043": {
      "model_module": "@jupyter-widgets/controls",
      "model_module_version": "1.5.0",
      "model_name": "FloatProgressModel",
      "state": {
       "bar_style": "success",
       "layout": "IPY_MODEL_325239f9189a484489f74a66500c97b0",
       "max": 457600,
       "style": "IPY_MODEL_d053e8d9927c450a9ce1d5d0a53ebb09",
       "value": 457600
      }
     },
     "69e84ba0e6c04efe968fc45bff7140e9": {
      "model_module": "@jupyter-widgets/base",
      "model_module_version": "1.2.0",
      "model_name": "LayoutModel",
      "state": {}
     },
     "6a33cf62543e4465ae41d117fa5122c5": {
      "model_module": "@jupyter-widgets/controls",
      "model_module_version": "1.5.0",
      "model_name": "HBoxModel",
      "state": {
       "children": [
        "IPY_MODEL_670ea41e9eb6433aa1047d454704712a",
        "IPY_MODEL_71887fd1069648e58cdcadc0f1f21dd0",
        "IPY_MODEL_6a75b1fce15749d884321df51eca11ce"
       ],
       "layout": "IPY_MODEL_f98410688bdb4ae2a2093883c6f3465e"
      }
     },
     "6a75b1fce15749d884321df51eca11ce": {
      "model_module": "@jupyter-widgets/controls",
      "model_module_version": "1.5.0",
      "model_name": "HTMLModel",
      "state": {
       "layout": "IPY_MODEL_29d1587f21f9448c98f2e43ecf9faf77",
       "style": "IPY_MODEL_29c40d76f82a430aac5a8150b962e98e",
       "value": " 368838/368838 [00:22&lt;00:00, 16342.89it/s]"
      }
     },
     "6ae0987182c14fbb957797b7ac2df410": {
      "model_module": "@jupyter-widgets/controls",
      "model_module_version": "1.5.0",
      "model_name": "HTMLModel",
      "state": {
       "layout": "IPY_MODEL_c0f048cfe8d84572ad41cc85f5f86118",
       "style": "IPY_MODEL_4ab044de898b4a4784c9f8ba1df793f8",
       "value": "100%"
      }
     },
     "6b48a113fa4c403eb6c061a75e3d53cc": {
      "model_module": "@jupyter-widgets/controls",
      "model_module_version": "1.5.0",
      "model_name": "HTMLModel",
      "state": {
       "layout": "IPY_MODEL_ed59717aa42a449c83dfb22a4e9fdd3d",
       "style": "IPY_MODEL_713dcb3fe37348eb941b1319d2b87a54",
       "value": "  8%"
      }
     },
     "6bead392ead44cdc9b02d0933df0686f": {
      "model_module": "@jupyter-widgets/controls",
      "model_module_version": "1.5.0",
      "model_name": "DescriptionStyleModel",
      "state": {
       "description_width": ""
      }
     },
     "6c223fc05e484c36965b2b432bec7fdc": {
      "model_module": "@jupyter-widgets/controls",
      "model_module_version": "1.5.0",
      "model_name": "HTMLModel",
      "state": {
       "layout": "IPY_MODEL_4b48035d84a448e1b0d0a1bb00fc83fc",
       "style": "IPY_MODEL_dc2c7e72f7524832bf626cdf628a1250",
       "value": " 368969/368969 [00:22&lt;00:00, 16361.42it/s]"
      }
     },
     "6d433b27d52e4f9da943a3011ed68fa2": {
      "model_module": "@jupyter-widgets/controls",
      "model_module_version": "1.5.0",
      "model_name": "HBoxModel",
      "state": {
       "children": [
        "IPY_MODEL_b986cd7dad254a34945e4261e4852f5a",
        "IPY_MODEL_eca7dd9f4fa9435f8c6d9ad08dd888de",
        "IPY_MODEL_99537a54d5324373b66e5496e7780bcd"
       ],
       "layout": "IPY_MODEL_80090e20e7a84258bbe9a3c89e93626c"
      }
     },
     "6d482e963db64f5eb85012f5c1b2ad4f": {
      "model_module": "@jupyter-widgets/controls",
      "model_module_version": "1.5.0",
      "model_name": "HBoxModel",
      "state": {
       "children": [
        "IPY_MODEL_00ebf7699a18499d9e79b1f5efdee11c",
        "IPY_MODEL_75850364a8ff4daa9c10483f66e1eba2",
        "IPY_MODEL_a7a69fbffae244e1952a1cad4407adbd"
       ],
       "layout": "IPY_MODEL_f77ad845dbdf4844a2edc54f9df02470"
      }
     },
     "6e2c393cd39b4b9db63c19d1eb54314d": {
      "model_module": "@jupyter-widgets/controls",
      "model_module_version": "1.5.0",
      "model_name": "HTMLModel",
      "state": {
       "layout": "IPY_MODEL_6187bb6e8db54efa9d16ff5416194623",
       "style": "IPY_MODEL_4e67bf1490f148d496c16f929aef1f11",
       "value": " 382903/382903 [00:23&lt;00:00, 16069.48it/s]"
      }
     },
     "6fce615555a543d2993fce4646463a3a": {
      "model_module": "@jupyter-widgets/base",
      "model_module_version": "1.2.0",
      "model_name": "LayoutModel",
      "state": {}
     },
     "7124cdefb7514f93aaec61be94eaf99c": {
      "model_module": "@jupyter-widgets/base",
      "model_module_version": "1.2.0",
      "model_name": "LayoutModel",
      "state": {}
     },
     "713dcb3fe37348eb941b1319d2b87a54": {
      "model_module": "@jupyter-widgets/controls",
      "model_module_version": "1.5.0",
      "model_name": "DescriptionStyleModel",
      "state": {
       "description_width": ""
      }
     },
     "715e4291a13341f9a1b5cd7cca7cdb98": {
      "model_module": "@jupyter-widgets/controls",
      "model_module_version": "1.5.0",
      "model_name": "DescriptionStyleModel",
      "state": {
       "description_width": ""
      }
     },
     "71887fd1069648e58cdcadc0f1f21dd0": {
      "model_module": "@jupyter-widgets/controls",
      "model_module_version": "1.5.0",
      "model_name": "FloatProgressModel",
      "state": {
       "bar_style": "success",
       "layout": "IPY_MODEL_97318d56fd4647329479c917c0dd75b4",
       "max": 368838,
       "style": "IPY_MODEL_fa5af34540f244079d9cd511e210dc46",
       "value": 368838
      }
     },
     "7204c237ab1c4de48788113853263e23": {
      "model_module": "@jupyter-widgets/controls",
      "model_module_version": "1.5.0",
      "model_name": "HTMLModel",
      "state": {
       "layout": "IPY_MODEL_b8951af0c4354f27a274778fae6c3e7e",
       "style": "IPY_MODEL_863a9dab0299488ca8492e0a18adbcf0",
       "value": " 458373/458373 [00:28&lt;00:00, 16471.73it/s]"
      }
     },
     "72f8164f600e4c2d8b384c5a60406fc6": {
      "model_module": "@jupyter-widgets/base",
      "model_module_version": "1.2.0",
      "model_name": "LayoutModel",
      "state": {}
     },
     "7340d10ba4ad4f04b684f24720c36054": {
      "model_module": "@jupyter-widgets/controls",
      "model_module_version": "1.5.0",
      "model_name": "HTMLModel",
      "state": {
       "layout": "IPY_MODEL_e0d134a2ae2c4e29adbc08e591af7d1d",
       "style": "IPY_MODEL_27714e60521a454aafba985026b2bca5",
       "value": "100%"
      }
     },
     "73d9d4095582420d93ae50ed8d91fef0": {
      "model_module": "@jupyter-widgets/base",
      "model_module_version": "1.2.0",
      "model_name": "LayoutModel",
      "state": {}
     },
     "75850364a8ff4daa9c10483f66e1eba2": {
      "model_module": "@jupyter-widgets/controls",
      "model_module_version": "1.5.0",
      "model_name": "FloatProgressModel",
      "state": {
       "bar_style": "success",
       "layout": "IPY_MODEL_7d5f5a0adcef4286b583b416e3e817f8",
       "max": 382243,
       "style": "IPY_MODEL_2e435ba5b5b14406a202bde7c977e846",
       "value": 382243
      }
     },
     "786902a917764489a9e23451c9ce9a2d": {
      "model_module": "@jupyter-widgets/controls",
      "model_module_version": "1.5.0",
      "model_name": "FloatProgressModel",
      "state": {
       "bar_style": "success",
       "layout": "IPY_MODEL_64d12af199cc4978ae74e9428c1cf77f",
       "max": 369034,
       "style": "IPY_MODEL_c2e9cf7552ce41018365801c2b5f6e63",
       "value": 369034
      }
     },
     "79a544a151464daa89907d6e9bc9903b": {
      "model_module": "@jupyter-widgets/controls",
      "model_module_version": "1.5.0",
      "model_name": "DescriptionStyleModel",
      "state": {
       "description_width": ""
      }
     },
     "7a6d47e7ca5042cfad2139df861490e3": {
      "model_module": "@jupyter-widgets/base",
      "model_module_version": "1.2.0",
      "model_name": "LayoutModel",
      "state": {}
     },
     "7ba66e11943a4838938433ef3d8385bb": {
      "model_module": "@jupyter-widgets/base",
      "model_module_version": "1.2.0",
      "model_name": "LayoutModel",
      "state": {}
     },
     "7cb16e054be44c1ea68f41ff4a0a36c9": {
      "model_module": "@jupyter-widgets/controls",
      "model_module_version": "1.5.0",
      "model_name": "DescriptionStyleModel",
      "state": {
       "description_width": ""
      }
     },
     "7cbe5d9d086049f7948134b13e5cea06": {
      "model_module": "@jupyter-widgets/base",
      "model_module_version": "1.2.0",
      "model_name": "LayoutModel",
      "state": {}
     },
     "7d1e0635540f4c288425ace4a75515a7": {
      "model_module": "@jupyter-widgets/base",
      "model_module_version": "1.2.0",
      "model_name": "LayoutModel",
      "state": {}
     },
     "7d5f5a0adcef4286b583b416e3e817f8": {
      "model_module": "@jupyter-widgets/base",
      "model_module_version": "1.2.0",
      "model_name": "LayoutModel",
      "state": {}
     },
     "7ed4c70ab88f4ae38baa85dbca745e18": {
      "model_module": "@jupyter-widgets/base",
      "model_module_version": "1.2.0",
      "model_name": "LayoutModel",
      "state": {}
     },
     "7f4b5452c29e4d398647735d8e3ed344": {
      "model_module": "@jupyter-widgets/controls",
      "model_module_version": "1.5.0",
      "model_name": "FloatProgressModel",
      "state": {
       "bar_style": "success",
       "layout": "IPY_MODEL_3080bee0079b4e1abacf5faed430ef54",
       "max": 457806,
       "style": "IPY_MODEL_80f58958c1e643c798e5fd14d03d0d60",
       "value": 457806
      }
     },
     "7f7e3b22fdfa425594f24d44d99585a7": {
      "model_module": "@jupyter-widgets/base",
      "model_module_version": "1.2.0",
      "model_name": "LayoutModel",
      "state": {}
     },
     "7fb51b3f1774414d97025d087d1022f7": {
      "model_module": "@jupyter-widgets/base",
      "model_module_version": "1.2.0",
      "model_name": "LayoutModel",
      "state": {}
     },
     "80090e20e7a84258bbe9a3c89e93626c": {
      "model_module": "@jupyter-widgets/base",
      "model_module_version": "1.2.0",
      "model_name": "LayoutModel",
      "state": {}
     },
     "809c0449439b49978c8dd84ad2862cd1": {
      "model_module": "@jupyter-widgets/base",
      "model_module_version": "1.2.0",
      "model_name": "LayoutModel",
      "state": {}
     },
     "80f58958c1e643c798e5fd14d03d0d60": {
      "model_module": "@jupyter-widgets/controls",
      "model_module_version": "1.5.0",
      "model_name": "ProgressStyleModel",
      "state": {
       "description_width": ""
      }
     },
     "827c5cae36a0450583e11b850b2732f5": {
      "model_module": "@jupyter-widgets/base",
      "model_module_version": "1.2.0",
      "model_name": "LayoutModel",
      "state": {}
     },
     "82c8b0b54a4648e68d90c0bfe90c62a4": {
      "model_module": "@jupyter-widgets/controls",
      "model_module_version": "1.5.0",
      "model_name": "ProgressStyleModel",
      "state": {
       "description_width": ""
      }
     },
     "836270a5466d423fa208455b9e63ab5a": {
      "model_module": "@jupyter-widgets/controls",
      "model_module_version": "1.5.0",
      "model_name": "FloatProgressModel",
      "state": {
       "bar_style": "success",
       "layout": "IPY_MODEL_f8111d85424e4c57b124f5db351b81c8",
       "max": 456957,
       "style": "IPY_MODEL_260d5c1693cb4e73a7ce180a9486eaf6",
       "value": 456957
      }
     },
     "8378d1129cfa45f687beaa3b3d858ad6": {
      "model_module": "@jupyter-widgets/base",
      "model_module_version": "1.2.0",
      "model_name": "LayoutModel",
      "state": {}
     },
     "84db117debf242ab93d66e2a9af44421": {
      "model_module": "@jupyter-widgets/controls",
      "model_module_version": "1.5.0",
      "model_name": "DescriptionStyleModel",
      "state": {
       "description_width": ""
      }
     },
     "85f1a85b9cba4ba89a47cd790094151a": {
      "model_module": "@jupyter-widgets/controls",
      "model_module_version": "1.5.0",
      "model_name": "HBoxModel",
      "state": {
       "children": [
        "IPY_MODEL_acec94029b7a42d294c781d977487d0d",
        "IPY_MODEL_2fd4acc006bd4cdab2574dfc1fda6d6f",
        "IPY_MODEL_ce5de1cf88d144149542608bce719ac7"
       ],
       "layout": "IPY_MODEL_7ba66e11943a4838938433ef3d8385bb"
      }
     },
     "862c5034c76841918781a067792566b5": {
      "model_module": "@jupyter-widgets/base",
      "model_module_version": "1.2.0",
      "model_name": "LayoutModel",
      "state": {}
     },
     "863a9dab0299488ca8492e0a18adbcf0": {
      "model_module": "@jupyter-widgets/controls",
      "model_module_version": "1.5.0",
      "model_name": "DescriptionStyleModel",
      "state": {
       "description_width": ""
      }
     },
     "86b85c024bc14d0c9968ce8d741e0fc1": {
      "model_module": "@jupyter-widgets/controls",
      "model_module_version": "1.5.0",
      "model_name": "FloatProgressModel",
      "state": {
       "bar_style": "success",
       "layout": "IPY_MODEL_b947d50b77784edcab57c810c261c900",
       "max": 149,
       "style": "IPY_MODEL_3fd6368ae5f54a99a95e82347398ce9f",
       "value": 149
      }
     },
     "88631b82cd2343a39b528b403a695462": {
      "model_module": "@jupyter-widgets/base",
      "model_module_version": "1.2.0",
      "model_name": "LayoutModel",
      "state": {}
     },
     "8b07618325c8455389a39d2516d67f77": {
      "model_module": "@jupyter-widgets/base",
      "model_module_version": "1.2.0",
      "model_name": "LayoutModel",
      "state": {}
     },
     "8b2c8a42d77d4020bdced8d6209b87a2": {
      "model_module": "@jupyter-widgets/controls",
      "model_module_version": "1.5.0",
      "model_name": "HTMLModel",
      "state": {
       "layout": "IPY_MODEL_063807babd6541a8b906b17d7dd0bd2f",
       "style": "IPY_MODEL_c0fc06bab84b41d68d923b7c38fbe143",
       "value": " 457600/457600 [00:28&lt;00:00, 16345.26it/s]"
      }
     },
     "8bdf0fafffa44dde8a0b01a8b17f2e0f": {
      "model_module": "@jupyter-widgets/controls",
      "model_module_version": "1.5.0",
      "model_name": "HBoxModel",
      "state": {
       "children": [
        "IPY_MODEL_0eb05ccecff74cde8c455f0fe9ef9601",
        "IPY_MODEL_94e3cc5c2ee3440f9ffdbe90a86fc037",
        "IPY_MODEL_9b3e04d86e81491e966455d49afc33e9"
       ],
       "layout": "IPY_MODEL_7cbe5d9d086049f7948134b13e5cea06"
      }
     },
     "8cbfcb4a40cb45fd816def46b1a3028f": {
      "model_module": "@jupyter-widgets/base",
      "model_module_version": "1.2.0",
      "model_name": "LayoutModel",
      "state": {}
     },
     "8ce9c2c9bc754463b77a6d5531283ca9": {
      "model_module": "@jupyter-widgets/controls",
      "model_module_version": "1.5.0",
      "model_name": "HBoxModel",
      "state": {
       "children": [
        "IPY_MODEL_5dfce443b74f4ee9bce66513773dd937",
        "IPY_MODEL_836270a5466d423fa208455b9e63ab5a",
        "IPY_MODEL_dc67c6e454344653beb5beb9f26fcad7"
       ],
       "layout": "IPY_MODEL_a7d81b7a2efa4767b75daf24a5e277f0"
      }
     },
     "8e57d9640126432bb4fc57b8cb0d4768": {
      "model_module": "@jupyter-widgets/controls",
      "model_module_version": "1.5.0",
      "model_name": "DescriptionStyleModel",
      "state": {
       "description_width": ""
      }
     },
     "904b848bb9ea4bceafc6ea37c0199a5f": {
      "model_module": "@jupyter-widgets/controls",
      "model_module_version": "1.5.0",
      "model_name": "HTMLModel",
      "state": {
       "layout": "IPY_MODEL_f650415805e84bd1a77b7c33e63d654d",
       "style": "IPY_MODEL_277613bb55884e0991bd05d396f6878a",
       "value": "100%"
      }
     },
     "90ef0626db6149c3ac8284af3381497f": {
      "model_module": "@jupyter-widgets/controls",
      "model_module_version": "1.5.0",
      "model_name": "HTMLModel",
      "state": {
       "layout": "IPY_MODEL_e5d0f85ec5eb4d22a769218ebb12b533",
       "style": "IPY_MODEL_c5b2f11ada0d4ffd894ac1fef0ab30f2",
       "value": " 458372/458372 [00:28&lt;00:00, 16376.07it/s]"
      }
     },
     "918c6094b9114d26a06e745411502551": {
      "model_module": "@jupyter-widgets/controls",
      "model_module_version": "1.5.0",
      "model_name": "HTMLModel",
      "state": {
       "layout": "IPY_MODEL_171ebd23010d43b0813f5561f0a37bd9",
       "style": "IPY_MODEL_416a721058444672a89acd76488b0937",
       "value": " 369389/369389 [00:22&lt;00:00, 16328.50it/s]"
      }
     },
     "91cebd3642f949549c07b0156f011ec3": {
      "model_module": "@jupyter-widgets/base",
      "model_module_version": "1.2.0",
      "model_name": "LayoutModel",
      "state": {}
     },
     "91f7ae8dab8c4fdfa17657603f453032": {
      "model_module": "@jupyter-widgets/base",
      "model_module_version": "1.2.0",
      "model_name": "LayoutModel",
      "state": {}
     },
     "928ee8810f2c456492d6bd3259a7d851": {
      "model_module": "@jupyter-widgets/controls",
      "model_module_version": "1.5.0",
      "model_name": "HBoxModel",
      "state": {
       "children": [
        "IPY_MODEL_3775c67fe53c4871b753bbf6eece956e",
        "IPY_MODEL_da008b0cd84640f5b0ead493cb5f5315",
        "IPY_MODEL_62465513645c473aaef01d87d1275800"
       ],
       "layout": "IPY_MODEL_5e9259c234b043a99d320433576062c5"
      }
     },
     "92da4ca53c7d4f199455a377bac4d4b9": {
      "model_module": "@jupyter-widgets/base",
      "model_module_version": "1.2.0",
      "model_name": "LayoutModel",
      "state": {}
     },
     "92f033ef7a744860a234995875fe3655": {
      "model_module": "@jupyter-widgets/controls",
      "model_module_version": "1.5.0",
      "model_name": "HBoxModel",
      "state": {
       "children": [
        "IPY_MODEL_97ff6c98c6624c7db6810a840d7b2fed",
        "IPY_MODEL_2cdec86d9a254735b91f8ee4d5b252c6",
        "IPY_MODEL_41665729fdd142b389018fd5bae04607"
       ],
       "layout": "IPY_MODEL_daac4bb2ce26465ab1d4e2530d16d1b5"
      }
     },
     "9315fb1af2064fc38079a9e1acba84d7": {
      "model_module": "@jupyter-widgets/base",
      "model_module_version": "1.2.0",
      "model_name": "LayoutModel",
      "state": {}
     },
     "9384a624a61b4b81a11b37a11b6bedcc": {
      "model_module": "@jupyter-widgets/controls",
      "model_module_version": "1.5.0",
      "model_name": "HTMLModel",
      "state": {
       "layout": "IPY_MODEL_a2fd0e12eb20475f9251e9299b058057",
       "style": "IPY_MODEL_0fa880a5828443cd9c2774f6ffee8226",
       "value": "100%"
      }
     },
     "93880c68c5dd47f7b4fdc92e94823c65": {
      "model_module": "@jupyter-widgets/controls",
      "model_module_version": "1.5.0",
      "model_name": "DescriptionStyleModel",
      "state": {
       "description_width": ""
      }
     },
     "94e3cc5c2ee3440f9ffdbe90a86fc037": {
      "model_module": "@jupyter-widgets/controls",
      "model_module_version": "1.5.0",
      "model_name": "FloatProgressModel",
      "state": {
       "bar_style": "success",
       "layout": "IPY_MODEL_4a2ff77afee54f7ca93a6ee5407ccd23",
       "max": 368766,
       "style": "IPY_MODEL_a2e99220b5d64fe4b49d354b0ee03216",
       "value": 368766
      }
     },
     "9583dfa4139a45a8b626e18da4e141e8": {
      "model_module": "@jupyter-widgets/controls",
      "model_module_version": "1.5.0",
      "model_name": "FloatProgressModel",
      "state": {
       "bar_style": "success",
       "layout": "IPY_MODEL_91cebd3642f949549c07b0156f011ec3",
       "max": 457352,
       "style": "IPY_MODEL_269a5838ca3b45f8934b74678cb2545f",
       "value": 457352
      }
     },
     "96ae4ee8de1d416b9e2fac9e710265a5": {
      "model_module": "@jupyter-widgets/controls",
      "model_module_version": "1.5.0",
      "model_name": "DescriptionStyleModel",
      "state": {
       "description_width": ""
      }
     },
     "96b7f4db85fb428084633749dca86648": {
      "model_module": "@jupyter-widgets/controls",
      "model_module_version": "1.5.0",
      "model_name": "DescriptionStyleModel",
      "state": {
       "description_width": ""
      }
     },
     "96f0734acf9b4e0db387bef7d458d1da": {
      "model_module": "@jupyter-widgets/base",
      "model_module_version": "1.2.0",
      "model_name": "LayoutModel",
      "state": {}
     },
     "97318d56fd4647329479c917c0dd75b4": {
      "model_module": "@jupyter-widgets/base",
      "model_module_version": "1.2.0",
      "model_name": "LayoutModel",
      "state": {}
     },
     "976ac5ac2e324a6f8b4d2cab91dd2dd2": {
      "model_module": "@jupyter-widgets/controls",
      "model_module_version": "1.5.0",
      "model_name": "HBoxModel",
      "state": {
       "children": [
        "IPY_MODEL_fb9c7ab9f79a43a9bd5bab7986030199",
        "IPY_MODEL_ac301ee57b684691bf085e2691d79bb9",
        "IPY_MODEL_47726abc26764c49a5f7d8707cf52d9d"
       ],
       "layout": "IPY_MODEL_21b8caef5889414a80905329d4ea0a17"
      }
     },
     "97ff6c98c6624c7db6810a840d7b2fed": {
      "model_module": "@jupyter-widgets/controls",
      "model_module_version": "1.5.0",
      "model_name": "HTMLModel",
      "state": {
       "layout": "IPY_MODEL_38646c4d2dea4547a7a5783f0259b493",
       "style": "IPY_MODEL_84db117debf242ab93d66e2a9af44421",
       "value": "100%"
      }
     },
     "98924faff9d54d67a280cdcbd9cca868": {
      "model_module": "@jupyter-widgets/controls",
      "model_module_version": "1.5.0",
      "model_name": "DescriptionStyleModel",
      "state": {
       "description_width": ""
      }
     },
     "99537a54d5324373b66e5496e7780bcd": {
      "model_module": "@jupyter-widgets/controls",
      "model_module_version": "1.5.0",
      "model_name": "HTMLModel",
      "state": {
       "layout": "IPY_MODEL_3d68347e3fea496898a14dc92061967a",
       "style": "IPY_MODEL_2c7c893e718a4013b24ce726dfaf2dbc",
       "value": " 457697/457697 [00:28&lt;00:00, 16329.45it/s]"
      }
     },
     "998e05c58c7042d089a1fa2c1bf1d2d8": {
      "model_module": "@jupyter-widgets/controls",
      "model_module_version": "1.5.0",
      "model_name": "DescriptionStyleModel",
      "state": {
       "description_width": ""
      }
     },
     "99afcb31dc3a46f58b69aff52210a301": {
      "model_module": "@jupyter-widgets/controls",
      "model_module_version": "1.5.0",
      "model_name": "ProgressStyleModel",
      "state": {
       "description_width": ""
      }
     },
     "99cfe9cb44da4aec86d2d76a7ae6a330": {
      "model_module": "@jupyter-widgets/base",
      "model_module_version": "1.2.0",
      "model_name": "LayoutModel",
      "state": {}
     },
     "9a2606720b9e4dabb0aa2cec3865fd4e": {
      "model_module": "@jupyter-widgets/controls",
      "model_module_version": "1.5.0",
      "model_name": "DescriptionStyleModel",
      "state": {
       "description_width": ""
      }
     },
     "9aae0f88169644858e97c5ff3f02f3e3": {
      "model_module": "@jupyter-widgets/controls",
      "model_module_version": "1.5.0",
      "model_name": "HTMLModel",
      "state": {
       "layout": "IPY_MODEL_f9340ec4d2164853a635b1c24ec3b922",
       "style": "IPY_MODEL_0396b2dc7a934e90bbb0951afb48327a",
       "value": " 368969/? [00:18&lt;00:00, 20658.91it/s]"
      }
     },
     "9b3e04d86e81491e966455d49afc33e9": {
      "model_module": "@jupyter-widgets/controls",
      "model_module_version": "1.5.0",
      "model_name": "HTMLModel",
      "state": {
       "layout": "IPY_MODEL_d965439e70014b6fbc27e5b628a040b4",
       "style": "IPY_MODEL_d3cb4cce16bc43ae8374e2a97a75b9c3",
       "value": " 368766/368766 [00:22&lt;00:00, 16429.95it/s]"
      }
     },
     "9ed1b6d378824e438eb51e36d2461c61": {
      "model_module": "@jupyter-widgets/base",
      "model_module_version": "1.2.0",
      "model_name": "LayoutModel",
      "state": {}
     },
     "9f6a0220f9314ba39f2b4c7662f590de": {
      "model_module": "@jupyter-widgets/base",
      "model_module_version": "1.2.0",
      "model_name": "LayoutModel",
      "state": {}
     },
     "9f8a37427737492e93c876182974bda2": {
      "model_module": "@jupyter-widgets/controls",
      "model_module_version": "1.5.0",
      "model_name": "HBoxModel",
      "state": {
       "children": [
        "IPY_MODEL_4eda2e8ec83e4046873c5010679c2a55",
        "IPY_MODEL_48d4ff9e90c546c8b185ba738f3eaec3",
        "IPY_MODEL_918c6094b9114d26a06e745411502551"
       ],
       "layout": "IPY_MODEL_7f7e3b22fdfa425594f24d44d99585a7"
      }
     },
     "a0430a82e2b141e78435a494275f97b4": {
      "model_module": "@jupyter-widgets/base",
      "model_module_version": "1.2.0",
      "model_name": "LayoutModel",
      "state": {}
     },
     "a0a6862b319b45679a2c7d781158b592": {
      "model_module": "@jupyter-widgets/base",
      "model_module_version": "1.2.0",
      "model_name": "LayoutModel",
      "state": {}
     },
     "a12bca48e1ca4291aed7a42611ccce7c": {
      "model_module": "@jupyter-widgets/base",
      "model_module_version": "1.2.0",
      "model_name": "LayoutModel",
      "state": {}
     },
     "a13326f41cdb4d35a40c700808bf095e": {
      "model_module": "@jupyter-widgets/controls",
      "model_module_version": "1.5.0",
      "model_name": "DescriptionStyleModel",
      "state": {
       "description_width": ""
      }
     },
     "a21121733f3d4bea9aebba8737ea3211": {
      "model_module": "@jupyter-widgets/controls",
      "model_module_version": "1.5.0",
      "model_name": "ProgressStyleModel",
      "state": {
       "description_width": ""
      }
     },
     "a2e35bebabf24f89a6f3af2424c48062": {
      "model_module": "@jupyter-widgets/controls",
      "model_module_version": "1.5.0",
      "model_name": "FloatProgressModel",
      "state": {
       "bar_style": "success",
       "layout": "IPY_MODEL_1fe2e7e21d044f24b8cb9c5f7cbbdd2f",
       "max": 368969,
       "style": "IPY_MODEL_218ae6e30c22448c91fa69b7079817ab",
       "value": 368969
      }
     },
     "a2e99220b5d64fe4b49d354b0ee03216": {
      "model_module": "@jupyter-widgets/controls",
      "model_module_version": "1.5.0",
      "model_name": "ProgressStyleModel",
      "state": {
       "description_width": ""
      }
     },
     "a2fd0e12eb20475f9251e9299b058057": {
      "model_module": "@jupyter-widgets/base",
      "model_module_version": "1.2.0",
      "model_name": "LayoutModel",
      "state": {}
     },
     "a33f49fad333434f986e8db856b0c936": {
      "model_module": "@jupyter-widgets/controls",
      "model_module_version": "1.5.0",
      "model_name": "DescriptionStyleModel",
      "state": {
       "description_width": ""
      }
     },
     "a3e7d3bba3dc4a8fa199ab205d63a2c4": {
      "model_module": "@jupyter-widgets/controls",
      "model_module_version": "1.5.0",
      "model_name": "DescriptionStyleModel",
      "state": {
       "description_width": ""
      }
     },
     "a48e1fab04384222935c7aeb5941215e": {
      "model_module": "@jupyter-widgets/base",
      "model_module_version": "1.2.0",
      "model_name": "LayoutModel",
      "state": {}
     },
     "a4e609968d714b84a3aeb53ba652c6d6": {
      "model_module": "@jupyter-widgets/controls",
      "model_module_version": "1.5.0",
      "model_name": "FloatProgressModel",
      "state": {
       "bar_style": "success",
       "layout": "IPY_MODEL_64b098a542f444f4b44357b598c50f9f",
       "max": 381928,
       "style": "IPY_MODEL_697766efc4004a46ad7b0d0dedcabc70",
       "value": 381928
      }
     },
     "a5e3bbcede334154b22b2f81e1fc7e2a": {
      "model_module": "@jupyter-widgets/controls",
      "model_module_version": "1.5.0",
      "model_name": "DescriptionStyleModel",
      "state": {
       "description_width": ""
      }
     },
     "a603b4b9570f4d50a943700d1f670faf": {
      "model_module": "@jupyter-widgets/controls",
      "model_module_version": "1.5.0",
      "model_name": "DescriptionStyleModel",
      "state": {
       "description_width": ""
      }
     },
     "a6e0ccf0976e4690b81b2284dac7b6e9": {
      "model_module": "@jupyter-widgets/controls",
      "model_module_version": "1.5.0",
      "model_name": "HTMLModel",
      "state": {
       "layout": "IPY_MODEL_dbb90bc2f79649d79f84a1ee90913c8e",
       "style": "IPY_MODEL_ec8e7a68d19e4ebdadadf0909b3614b4",
       "value": " 368969/368969 [00:22&lt;00:00, 16351.98it/s]"
      }
     },
     "a7a69fbffae244e1952a1cad4407adbd": {
      "model_module": "@jupyter-widgets/controls",
      "model_module_version": "1.5.0",
      "model_name": "HTMLModel",
      "state": {
       "layout": "IPY_MODEL_3224802c1066414ea60e3eda75426911",
       "style": "IPY_MODEL_176e18fd688e4bc08c0288cf00818678",
       "value": " 382243/382243 [00:23&lt;00:00, 16398.66it/s]"
      }
     },
     "a7d81b7a2efa4767b75daf24a5e277f0": {
      "model_module": "@jupyter-widgets/base",
      "model_module_version": "1.2.0",
      "model_name": "LayoutModel",
      "state": {}
     },
     "a82f72aeb2ba4f8aa61bba85395385fc": {
      "model_module": "@jupyter-widgets/controls",
      "model_module_version": "1.5.0",
      "model_name": "FloatProgressModel",
      "state": {
       "bar_style": "success",
       "layout": "IPY_MODEL_1037ceb636d14927a14a9f4f2d12ea1f",
       "max": 457886,
       "style": "IPY_MODEL_fb6d6b1e49aa4ced9ba8ef1d5c57d9c3",
       "value": 457886
      }
     },
     "a975b31d193a40fd8b5861cf342996ba": {
      "model_module": "@jupyter-widgets/base",
      "model_module_version": "1.2.0",
      "model_name": "LayoutModel",
      "state": {}
     },
     "a986ad93ae414888aeed2ff93c2e014f": {
      "model_module": "@jupyter-widgets/controls",
      "model_module_version": "1.5.0",
      "model_name": "HBoxModel",
      "state": {
       "children": [
        "IPY_MODEL_0be1aebecb514a6486eb9e3ab1467a2d",
        "IPY_MODEL_ba9cf3d83e0c49f0adc6088209d176e0",
        "IPY_MODEL_a6e0ccf0976e4690b81b2284dac7b6e9"
       ],
       "layout": "IPY_MODEL_9f6a0220f9314ba39f2b4c7662f590de"
      }
     },
     "a9911bd23c6d414486d9e757d8e43741": {
      "model_module": "@jupyter-widgets/controls",
      "model_module_version": "1.5.0",
      "model_name": "DescriptionStyleModel",
      "state": {
       "description_width": ""
      }
     },
     "aa813bda40b8495092e32b254add2f25": {
      "model_module": "@jupyter-widgets/controls",
      "model_module_version": "1.5.0",
      "model_name": "ProgressStyleModel",
      "state": {
       "description_width": ""
      }
     },
     "aaa2dedfb3064c868dd7418a56724a6c": {
      "model_module": "@jupyter-widgets/base",
      "model_module_version": "1.2.0",
      "model_name": "LayoutModel",
      "state": {}
     },
     "ac301ee57b684691bf085e2691d79bb9": {
      "model_module": "@jupyter-widgets/controls",
      "model_module_version": "1.5.0",
      "model_name": "FloatProgressModel",
      "state": {
       "bar_style": "success",
       "layout": "IPY_MODEL_cdcce9f6fb374448aa86fa6b2a8b7cf7",
       "max": 382340,
       "style": "IPY_MODEL_e86ecd213a8d4100bda2180b08b4b806",
       "value": 382340
      }
     },
     "ac42b45481f84b0784b721dad837e2d3": {
      "model_module": "@jupyter-widgets/base",
      "model_module_version": "1.2.0",
      "model_name": "LayoutModel",
      "state": {}
     },
     "acec94029b7a42d294c781d977487d0d": {
      "model_module": "@jupyter-widgets/controls",
      "model_module_version": "1.5.0",
      "model_name": "HTMLModel",
      "state": {
       "layout": "IPY_MODEL_1a1791239bc543cd8e441ee41971d539",
       "style": "IPY_MODEL_96b7f4db85fb428084633749dca86648",
       "value": "100%"
      }
     },
     "b059471cb5a64170856e7ab9a95f511e": {
      "model_module": "@jupyter-widgets/controls",
      "model_module_version": "1.5.0",
      "model_name": "HTMLModel",
      "state": {
       "layout": "IPY_MODEL_b710818ec47d43f6b56bad8102cc7850",
       "style": "IPY_MODEL_0e5ca983b889422497dac12fc5586efe",
       "value": " 382402/382402 [00:23&lt;00:00, 16281.29it/s]"
      }
     },
     "b08f416a8e5f4cc0bbd8a7c955235b34": {
      "model_module": "@jupyter-widgets/base",
      "model_module_version": "1.2.0",
      "model_name": "LayoutModel",
      "state": {}
     },
     "b1dbf3e8d6f84151a6753c94dceb50bc": {
      "model_module": "@jupyter-widgets/controls",
      "model_module_version": "1.5.0",
      "model_name": "HTMLModel",
      "state": {
       "layout": "IPY_MODEL_91f7ae8dab8c4fdfa17657603f453032",
       "style": "IPY_MODEL_18987ec0d64d4938ad6343dd51706a34",
       "value": " 368925/368925 [00:22&lt;00:00, 16370.18it/s]"
      }
     },
     "b2fd33d71b3544a2977e1a15f7fad8ba": {
      "model_module": "@jupyter-widgets/base",
      "model_module_version": "1.2.0",
      "model_name": "LayoutModel",
      "state": {}
     },
     "b40f24ab5cbe40aca8ca32ff429dfdb4": {
      "model_module": "@jupyter-widgets/controls",
      "model_module_version": "1.5.0",
      "model_name": "DescriptionStyleModel",
      "state": {
       "description_width": ""
      }
     },
     "b4c3f0bf55234a63b7aaeb4685980f74": {
      "model_module": "@jupyter-widgets/controls",
      "model_module_version": "1.5.0",
      "model_name": "HBoxModel",
      "state": {
       "children": [
        "IPY_MODEL_d9c4736846e2487c8d3c2daf2287fa04",
        "IPY_MODEL_a4e609968d714b84a3aeb53ba652c6d6",
        "IPY_MODEL_1396a4a18a6340059ec4a60115bcb62b"
       ],
       "layout": "IPY_MODEL_ce377d1a0e51483993917be20a38035c"
      }
     },
     "b5149a7c13334ab5803b99a03c242b9e": {
      "model_module": "@jupyter-widgets/controls",
      "model_module_version": "1.5.0",
      "model_name": "HTMLModel",
      "state": {
       "layout": "IPY_MODEL_73d9d4095582420d93ae50ed8d91fef0",
       "style": "IPY_MODEL_a13326f41cdb4d35a40c700808bf095e",
       "value": " 369034/369034 [00:22&lt;00:00, 16413.80it/s]"
      }
     },
     "b523e2360a6f43d89bc722db6b84d364": {
      "model_module": "@jupyter-widgets/controls",
      "model_module_version": "1.5.0",
      "model_name": "DescriptionStyleModel",
      "state": {
       "description_width": ""
      }
     },
     "b54faf36ad6a4d6bbfc95972271600a8": {
      "model_module": "@jupyter-widgets/controls",
      "model_module_version": "1.5.0",
      "model_name": "FloatProgressModel",
      "state": {
       "bar_style": "success",
       "layout": "IPY_MODEL_11d3e90939f149a9a68f1fc2690191e9",
       "max": 1,
       "style": "IPY_MODEL_27bfbe94f84243c790b733a16c486746",
       "value": 1
      }
     },
     "b592b1d3dce94868bd13c768b843b3c5": {
      "model_module": "@jupyter-widgets/controls",
      "model_module_version": "1.5.0",
      "model_name": "HBoxModel",
      "state": {
       "children": [
        "IPY_MODEL_318c26787f9343feb868b5d5b19c2fec",
        "IPY_MODEL_9583dfa4139a45a8b626e18da4e141e8",
        "IPY_MODEL_c3a115edd938403c833c660e0549d8fd"
       ],
       "layout": "IPY_MODEL_2c81460f0d9549d5b8eb6ed876f87f25"
      }
     },
     "b676796875cf4328a81fd7556bd725de": {
      "model_module": "@jupyter-widgets/controls",
      "model_module_version": "1.5.0",
      "model_name": "FloatProgressModel",
      "state": {
       "bar_style": "danger",
       "layout": "IPY_MODEL_34c191d1af0d4098bfc1d87cd7318d44",
       "max": 368969,
       "style": "IPY_MODEL_23dedbc24f024783a6a06d1ea5261ff0",
       "value": 31239
      }
     },
     "b710818ec47d43f6b56bad8102cc7850": {
      "model_module": "@jupyter-widgets/base",
      "model_module_version": "1.2.0",
      "model_name": "LayoutModel",
      "state": {}
     },
     "b7bfade6c2a7484fae08f28fd209d4c3": {
      "model_module": "@jupyter-widgets/controls",
      "model_module_version": "1.5.0",
      "model_name": "HBoxModel",
      "state": {
       "children": [
        "IPY_MODEL_61635964b880492f819e227d845169c5",
        "IPY_MODEL_f689afe79fd9494a80c9cc05169f3d8e",
        "IPY_MODEL_6e2c393cd39b4b9db63c19d1eb54314d"
       ],
       "layout": "IPY_MODEL_3dcff1fc6b6f4675b8c7db37b9e127a6"
      }
     },
     "b88c302acfe54be7808fdbc7f1710ec4": {
      "model_module": "@jupyter-widgets/base",
      "model_module_version": "1.2.0",
      "model_name": "LayoutModel",
      "state": {}
     },
     "b88dc34c90994cfba2ba173b73e93fb7": {
      "model_module": "@jupyter-widgets/controls",
      "model_module_version": "1.5.0",
      "model_name": "HTMLModel",
      "state": {
       "layout": "IPY_MODEL_1fece82816454c3f9eebecd376c16719",
       "style": "IPY_MODEL_2c231b7e33fe4ced8c8c6d4f6d81b555"
      }
     },
     "b8951af0c4354f27a274778fae6c3e7e": {
      "model_module": "@jupyter-widgets/base",
      "model_module_version": "1.2.0",
      "model_name": "LayoutModel",
      "state": {}
     },
     "b8b7445e47df4ab198b5f471635046aa": {
      "model_module": "@jupyter-widgets/controls",
      "model_module_version": "1.5.0",
      "model_name": "ProgressStyleModel",
      "state": {
       "description_width": ""
      }
     },
     "b947d50b77784edcab57c810c261c900": {
      "model_module": "@jupyter-widgets/base",
      "model_module_version": "1.2.0",
      "model_name": "LayoutModel",
      "state": {}
     },
     "b986cd7dad254a34945e4261e4852f5a": {
      "model_module": "@jupyter-widgets/controls",
      "model_module_version": "1.5.0",
      "model_name": "HTMLModel",
      "state": {
       "layout": "IPY_MODEL_a12bca48e1ca4291aed7a42611ccce7c",
       "style": "IPY_MODEL_093ff131ccac4c63a4f2ef211e3a4c4c",
       "value": "100%"
      }
     },
     "ba462762be0e43f9940361eacbc5efce": {
      "model_module": "@jupyter-widgets/controls",
      "model_module_version": "1.5.0",
      "model_name": "DescriptionStyleModel",
      "state": {
       "description_width": ""
      }
     },
     "ba9cf3d83e0c49f0adc6088209d176e0": {
      "model_module": "@jupyter-widgets/controls",
      "model_module_version": "1.5.0",
      "model_name": "FloatProgressModel",
      "state": {
       "bar_style": "success",
       "layout": "IPY_MODEL_88631b82cd2343a39b528b403a695462",
       "max": 368969,
       "style": "IPY_MODEL_99afcb31dc3a46f58b69aff52210a301",
       "value": 368969
      }
     },
     "bbb61e0f560c4a83adbd0c9c4be3ed87": {
      "model_module": "@jupyter-widgets/base",
      "model_module_version": "1.2.0",
      "model_name": "LayoutModel",
      "state": {}
     },
     "bc0c2485e6e244a7a674f231d2909fab": {
      "model_module": "@jupyter-widgets/controls",
      "model_module_version": "1.5.0",
      "model_name": "HTMLModel",
      "state": {
       "layout": "IPY_MODEL_99cfe9cb44da4aec86d2d76a7ae6a330",
       "style": "IPY_MODEL_a9911bd23c6d414486d9e757d8e43741",
       "value": "100%"
      }
     },
     "bce2b9db58004437853b8044642370cc": {
      "model_module": "@jupyter-widgets/controls",
      "model_module_version": "1.5.0",
      "model_name": "HTMLModel",
      "state": {
       "layout": "IPY_MODEL_69e84ba0e6c04efe968fc45bff7140e9",
       "style": "IPY_MODEL_d0b472657da540bc9b05943d1f4d80b1",
       "value": " 457431/457431 [00:27&lt;00:00, 16379.44it/s]"
      }
     },
     "bd54f7619e5d445b94c485129c08ed8b": {
      "model_module": "@jupyter-widgets/controls",
      "model_module_version": "1.5.0",
      "model_name": "DescriptionStyleModel",
      "state": {
       "description_width": ""
      }
     },
     "c0c25ed794ae41cca77bde0fe2a79455": {
      "model_module": "@jupyter-widgets/controls",
      "model_module_version": "1.5.0",
      "model_name": "HTMLModel",
      "state": {
       "layout": "IPY_MODEL_38d3c26ecb2543799d20d15dbc76f0ae",
       "style": "IPY_MODEL_c68991d71e9b46cba0a81012e70bab8e",
       "value": " 31239/368969 [00:01&lt;00:17, 19735.43it/s]"
      }
     },
     "c0df34cada544e7abe5416c2b71885e5": {
      "model_module": "@jupyter-widgets/controls",
      "model_module_version": "1.5.0",
      "model_name": "HTMLModel",
      "state": {
       "layout": "IPY_MODEL_43b43d291d3440bdae3bf4ff833c0c20",
       "style": "IPY_MODEL_a603b4b9570f4d50a943700d1f670faf",
       "value": " 457806/457806 [00:28&lt;00:00, 16377.42it/s]"
      }
     },
     "c0f048cfe8d84572ad41cc85f5f86118": {
      "model_module": "@jupyter-widgets/base",
      "model_module_version": "1.2.0",
      "model_name": "LayoutModel",
      "state": {}
     },
     "c0fc06bab84b41d68d923b7c38fbe143": {
      "model_module": "@jupyter-widgets/controls",
      "model_module_version": "1.5.0",
      "model_name": "DescriptionStyleModel",
      "state": {
       "description_width": ""
      }
     },
     "c1e7860f4acc4ec2bd5d995de71bc7da": {
      "model_module": "@jupyter-widgets/controls",
      "model_module_version": "1.5.0",
      "model_name": "FloatProgressModel",
      "state": {
       "bar_style": "success",
       "layout": "IPY_MODEL_b08f416a8e5f4cc0bbd8a7c955235b34",
       "max": 368925,
       "style": "IPY_MODEL_ee29788277fe411da24bab3368b80a7a",
       "value": 368925
      }
     },
     "c2e9cf7552ce41018365801c2b5f6e63": {
      "model_module": "@jupyter-widgets/controls",
      "model_module_version": "1.5.0",
      "model_name": "ProgressStyleModel",
      "state": {
       "description_width": ""
      }
     },
     "c317c4eeac4d4f0aa98509713d3c33b0": {
      "model_module": "@jupyter-widgets/controls",
      "model_module_version": "1.5.0",
      "model_name": "DescriptionStyleModel",
      "state": {
       "description_width": ""
      }
     },
     "c3a115edd938403c833c660e0549d8fd": {
      "model_module": "@jupyter-widgets/controls",
      "model_module_version": "1.5.0",
      "model_name": "HTMLModel",
      "state": {
       "layout": "IPY_MODEL_03af72f62ead4d488d357ba1c43c7400",
       "style": "IPY_MODEL_22f45ab95b794d8eb5c7e60f2bde88c7",
       "value": " 457352/457352 [00:28&lt;00:00, 16313.56it/s]"
      }
     },
     "c412f61fcd0f4a459ee050588dccf4f1": {
      "model_module": "@jupyter-widgets/controls",
      "model_module_version": "1.5.0",
      "model_name": "HBoxModel",
      "state": {
       "children": [
        "IPY_MODEL_550f3a52d4a940b5aeb4589d12bc7ad3",
        "IPY_MODEL_69db79b292704a5cafeeef9551a8a043",
        "IPY_MODEL_8b2c8a42d77d4020bdced8d6209b87a2"
       ],
       "layout": "IPY_MODEL_dfb09daaea5f4631ada6637d9fa74057"
      }
     },
     "c4d44b9b974044f096fe3d4fc8d08a75": {
      "model_module": "@jupyter-widgets/base",
      "model_module_version": "1.2.0",
      "model_name": "LayoutModel",
      "state": {}
     },
     "c510b3e9b3864165a7de93f6a9910003": {
      "model_module": "@jupyter-widgets/controls",
      "model_module_version": "1.5.0",
      "model_name": "ProgressStyleModel",
      "state": {
       "description_width": ""
      }
     },
     "c5b2f11ada0d4ffd894ac1fef0ab30f2": {
      "model_module": "@jupyter-widgets/controls",
      "model_module_version": "1.5.0",
      "model_name": "DescriptionStyleModel",
      "state": {
       "description_width": ""
      }
     },
     "c63cfa6ff04b4324ad3d2c304964039a": {
      "model_module": "@jupyter-widgets/controls",
      "model_module_version": "1.5.0",
      "model_name": "HBoxModel",
      "state": {
       "children": [
        "IPY_MODEL_6b48a113fa4c403eb6c061a75e3d53cc",
        "IPY_MODEL_b676796875cf4328a81fd7556bd725de",
        "IPY_MODEL_c0c25ed794ae41cca77bde0fe2a79455"
       ],
       "layout": "IPY_MODEL_5263e562c1854f249b3cd4b3875ac53d"
      }
     },
     "c68991d71e9b46cba0a81012e70bab8e": {
      "model_module": "@jupyter-widgets/controls",
      "model_module_version": "1.5.0",
      "model_name": "DescriptionStyleModel",
      "state": {
       "description_width": ""
      }
     },
     "c716a8b2524c46d59abcc19c57462020": {
      "model_module": "@jupyter-widgets/controls",
      "model_module_version": "1.5.0",
      "model_name": "FloatProgressModel",
      "state": {
       "bar_style": "success",
       "layout": "IPY_MODEL_474093a0859c4e88b13ff85ed1950153",
       "max": 458373,
       "style": "IPY_MODEL_e0fcd7618eac41c28b570ceb45c92d96",
       "value": 458373
      }
     },
     "c72a4a6fe73340a8a098a65d834412f5": {
      "model_module": "@jupyter-widgets/controls",
      "model_module_version": "1.5.0",
      "model_name": "HTMLModel",
      "state": {
       "layout": "IPY_MODEL_9ed1b6d378824e438eb51e36d2461c61",
       "style": "IPY_MODEL_998e05c58c7042d089a1fa2c1bf1d2d8",
       "value": " 383117/383117 [00:23&lt;00:00, 16381.52it/s]"
      }
     },
     "c815798269c34d43b279ee4f23bd9a7c": {
      "model_module": "@jupyter-widgets/controls",
      "model_module_version": "1.5.0",
      "model_name": "ProgressStyleModel",
      "state": {
       "description_width": ""
      }
     },
     "cb2d9715721b4fde901463d105683be5": {
      "model_module": "@jupyter-widgets/controls",
      "model_module_version": "1.5.0",
      "model_name": "FloatProgressModel",
      "state": {
       "bar_style": "success",
       "layout": "IPY_MODEL_cdc6ab3194df49148f483c8f481b87e5",
       "max": 383117,
       "style": "IPY_MODEL_b8b7445e47df4ab198b5f471635046aa",
       "value": 383117
      }
     },
     "cbf869af8eab45e59243b1eb46d0584d": {
      "model_module": "@jupyter-widgets/base",
      "model_module_version": "1.2.0",
      "model_name": "LayoutModel",
      "state": {}
     },
     "ccf8dcc826d14dc4b4fda92e1d0838cd": {
      "model_module": "@jupyter-widgets/controls",
      "model_module_version": "1.5.0",
      "model_name": "FloatProgressModel",
      "state": {
       "bar_style": "success",
       "layout": "IPY_MODEL_dfd75e23eae7435dac903ec76eb17711",
       "max": 457822,
       "style": "IPY_MODEL_82c8b0b54a4648e68d90c0bfe90c62a4",
       "value": 457822
      }
     },
     "cdc6ab3194df49148f483c8f481b87e5": {
      "model_module": "@jupyter-widgets/base",
      "model_module_version": "1.2.0",
      "model_name": "LayoutModel",
      "state": {}
     },
     "cdcce9f6fb374448aa86fa6b2a8b7cf7": {
      "model_module": "@jupyter-widgets/base",
      "model_module_version": "1.2.0",
      "model_name": "LayoutModel",
      "state": {}
     },
     "cdcfb6333e7b437199ddcad1a64f6f8b": {
      "model_module": "@jupyter-widgets/base",
      "model_module_version": "1.2.0",
      "model_name": "LayoutModel",
      "state": {}
     },
     "ce377d1a0e51483993917be20a38035c": {
      "model_module": "@jupyter-widgets/base",
      "model_module_version": "1.2.0",
      "model_name": "LayoutModel",
      "state": {}
     },
     "ce5de1cf88d144149542608bce719ac7": {
      "model_module": "@jupyter-widgets/controls",
      "model_module_version": "1.5.0",
      "model_name": "HTMLModel",
      "state": {
       "layout": "IPY_MODEL_8b07618325c8455389a39d2516d67f77",
       "style": "IPY_MODEL_3795a0d66c174255a0d0005dd22464e8",
       "value": " 382569/382569 [00:23&lt;00:00, 16324.33it/s]"
      }
     },
     "d053e8d9927c450a9ce1d5d0a53ebb09": {
      "model_module": "@jupyter-widgets/controls",
      "model_module_version": "1.5.0",
      "model_name": "ProgressStyleModel",
      "state": {
       "description_width": ""
      }
     },
     "d0b472657da540bc9b05943d1f4d80b1": {
      "model_module": "@jupyter-widgets/controls",
      "model_module_version": "1.5.0",
      "model_name": "DescriptionStyleModel",
      "state": {
       "description_width": ""
      }
     },
     "d188db75b6b74b64b5580bcc6459b310": {
      "model_module": "@jupyter-widgets/base",
      "model_module_version": "1.2.0",
      "model_name": "LayoutModel",
      "state": {}
     },
     "d1c186ebbc5248caaa9b9589012796e8": {
      "model_module": "@jupyter-widgets/controls",
      "model_module_version": "1.5.0",
      "model_name": "HTMLModel",
      "state": {
       "layout": "IPY_MODEL_6fce615555a543d2993fce4646463a3a",
       "style": "IPY_MODEL_da8a863ea61341bd92792d8fd778df20",
       "value": "100%"
      }
     },
     "d1cf7ddaf1b84ee682bbf91d95a81786": {
      "model_module": "@jupyter-widgets/controls",
      "model_module_version": "1.5.0",
      "model_name": "HTMLModel",
      "state": {
       "layout": "IPY_MODEL_7124cdefb7514f93aaec61be94eaf99c",
       "style": "IPY_MODEL_9a2606720b9e4dabb0aa2cec3865fd4e",
       "value": "100%"
      }
     },
     "d24f81a5816449dc8f1bb4c943e78332": {
      "model_module": "@jupyter-widgets/controls",
      "model_module_version": "1.5.0",
      "model_name": "HTMLModel",
      "state": {
       "layout": "IPY_MODEL_3869b980de004d0eaf671982db9ef8a9",
       "style": "IPY_MODEL_d4b1003c917e4e0a9d56d4d910b4c017",
       "value": " 369151/369151 [00:22&lt;00:00, 16387.53it/s]"
      }
     },
     "d26723584a9541bdbcefd9ea36425f19": {
      "model_module": "@jupyter-widgets/controls",
      "model_module_version": "1.5.0",
      "model_name": "HTMLModel",
      "state": {
       "layout": "IPY_MODEL_7fb51b3f1774414d97025d087d1022f7",
       "style": "IPY_MODEL_213392d5364144a7a96448da87f62876",
       "value": " 457822/457822 [00:28&lt;00:00, 16166.37it/s]"
      }
     },
     "d34807e2523f4737982739dff9b56f64": {
      "model_module": "@jupyter-widgets/controls",
      "model_module_version": "1.5.0",
      "model_name": "DescriptionStyleModel",
      "state": {
       "description_width": ""
      }
     },
     "d3533f4e502749d3b365ed64f76202a7": {
      "model_module": "@jupyter-widgets/controls",
      "model_module_version": "1.5.0",
      "model_name": "HBoxModel",
      "state": {
       "children": [
        "IPY_MODEL_369b59437bb442cdac7052da613e2e3a",
        "IPY_MODEL_5e88311249f74f6ca5e0ebc0a5eb93dc",
        "IPY_MODEL_bce2b9db58004437853b8044642370cc"
       ],
       "layout": "IPY_MODEL_e8193251a2af42d7b19e11ff657fa1ad"
      }
     },
     "d3cb4cce16bc43ae8374e2a97a75b9c3": {
      "model_module": "@jupyter-widgets/controls",
      "model_module_version": "1.5.0",
      "model_name": "DescriptionStyleModel",
      "state": {
       "description_width": ""
      }
     },
     "d4b1003c917e4e0a9d56d4d910b4c017": {
      "model_module": "@jupyter-widgets/controls",
      "model_module_version": "1.5.0",
      "model_name": "DescriptionStyleModel",
      "state": {
       "description_width": ""
      }
     },
     "d6756d5fbc8b4a48a937a6fd2c213fdf": {
      "model_module": "@jupyter-widgets/controls",
      "model_module_version": "1.5.0",
      "model_name": "ProgressStyleModel",
      "state": {
       "description_width": ""
      }
     },
     "d6aa5561eae74af5ba05e043ab69d834": {
      "model_module": "@jupyter-widgets/controls",
      "model_module_version": "1.5.0",
      "model_name": "HBoxModel",
      "state": {
       "children": [
        "IPY_MODEL_9384a624a61b4b81a11b37a11b6bedcc",
        "IPY_MODEL_86b85c024bc14d0c9968ce8d741e0fc1",
        "IPY_MODEL_fa4000814d054d91ae819566f3bcba2e"
       ],
       "layout": "IPY_MODEL_29608f2a469c4cc5a14595393c93959e"
      }
     },
     "d8492e4873ed403a86e2a19a3141dc7a": {
      "model_module": "@jupyter-widgets/controls",
      "model_module_version": "1.5.0",
      "model_name": "HBoxModel",
      "state": {
       "children": [
        "IPY_MODEL_e80867888de644dea86595c06d807f8e",
        "IPY_MODEL_786902a917764489a9e23451c9ce9a2d",
        "IPY_MODEL_b5149a7c13334ab5803b99a03c242b9e"
       ],
       "layout": "IPY_MODEL_1e7edac800ce42b9901591e594fe8ea3"
      }
     },
     "d965439e70014b6fbc27e5b628a040b4": {
      "model_module": "@jupyter-widgets/base",
      "model_module_version": "1.2.0",
      "model_name": "LayoutModel",
      "state": {}
     },
     "d9becf5e4d2742cca62350d88b33da65": {
      "model_module": "@jupyter-widgets/base",
      "model_module_version": "1.2.0",
      "model_name": "LayoutModel",
      "state": {}
     },
     "d9c4736846e2487c8d3c2daf2287fa04": {
      "model_module": "@jupyter-widgets/controls",
      "model_module_version": "1.5.0",
      "model_name": "HTMLModel",
      "state": {
       "layout": "IPY_MODEL_f830546f5cd24919a75088755f190bf1",
       "style": "IPY_MODEL_2476fc365f95495091f554e8550f7bee",
       "value": "100%"
      }
     },
     "da008b0cd84640f5b0ead493cb5f5315": {
      "model_module": "@jupyter-widgets/controls",
      "model_module_version": "1.5.0",
      "model_name": "FloatProgressModel",
      "state": {
       "bar_style": "success",
       "layout": "IPY_MODEL_3b9a900cddf4461889225c7ab1b534c0",
       "max": 382898,
       "style": "IPY_MODEL_455d86303b844a5c9d2305c98ed42896",
       "value": 382898
      }
     },
     "da6787ac37f04b27afd0d677dac59cb8": {
      "model_module": "@jupyter-widgets/controls",
      "model_module_version": "1.5.0",
      "model_name": "HBoxModel",
      "state": {
       "children": [
        "IPY_MODEL_7340d10ba4ad4f04b684f24720c36054",
        "IPY_MODEL_7f4b5452c29e4d398647735d8e3ed344",
        "IPY_MODEL_c0df34cada544e7abe5416c2b71885e5"
       ],
       "layout": "IPY_MODEL_10caac761a394aed9e59f19f6bf4d41b"
      }
     },
     "da8a863ea61341bd92792d8fd778df20": {
      "model_module": "@jupyter-widgets/controls",
      "model_module_version": "1.5.0",
      "model_name": "DescriptionStyleModel",
      "state": {
       "description_width": ""
      }
     },
     "daac4bb2ce26465ab1d4e2530d16d1b5": {
      "model_module": "@jupyter-widgets/base",
      "model_module_version": "1.2.0",
      "model_name": "LayoutModel",
      "state": {}
     },
     "db5175c25f964324b7e49698b47cbea9": {
      "model_module": "@jupyter-widgets/controls",
      "model_module_version": "1.5.0",
      "model_name": "DescriptionStyleModel",
      "state": {
       "description_width": ""
      }
     },
     "dbb90bc2f79649d79f84a1ee90913c8e": {
      "model_module": "@jupyter-widgets/base",
      "model_module_version": "1.2.0",
      "model_name": "LayoutModel",
      "state": {}
     },
     "dc2c7e72f7524832bf626cdf628a1250": {
      "model_module": "@jupyter-widgets/controls",
      "model_module_version": "1.5.0",
      "model_name": "DescriptionStyleModel",
      "state": {
       "description_width": ""
      }
     },
     "dc67c6e454344653beb5beb9f26fcad7": {
      "model_module": "@jupyter-widgets/controls",
      "model_module_version": "1.5.0",
      "model_name": "HTMLModel",
      "state": {
       "layout": "IPY_MODEL_a0a6862b319b45679a2c7d781158b592",
       "style": "IPY_MODEL_db5175c25f964324b7e49698b47cbea9",
       "value": " 456957/456957 [00:28&lt;00:00, 16388.98it/s]"
      }
     },
     "dfb09daaea5f4631ada6637d9fa74057": {
      "model_module": "@jupyter-widgets/base",
      "model_module_version": "1.2.0",
      "model_name": "LayoutModel",
      "state": {}
     },
     "dfd75e23eae7435dac903ec76eb17711": {
      "model_module": "@jupyter-widgets/base",
      "model_module_version": "1.2.0",
      "model_name": "LayoutModel",
      "state": {}
     },
     "e0d134a2ae2c4e29adbc08e591af7d1d": {
      "model_module": "@jupyter-widgets/base",
      "model_module_version": "1.2.0",
      "model_name": "LayoutModel",
      "state": {}
     },
     "e0fcd7618eac41c28b570ceb45c92d96": {
      "model_module": "@jupyter-widgets/controls",
      "model_module_version": "1.5.0",
      "model_name": "ProgressStyleModel",
      "state": {
       "description_width": ""
      }
     },
     "e23d83ccb1724756981eb362eb85c937": {
      "model_module": "@jupyter-widgets/base",
      "model_module_version": "1.2.0",
      "model_name": "LayoutModel",
      "state": {}
     },
     "e2839354f91f41d4b4ecbaecf45fe4ce": {
      "model_module": "@jupyter-widgets/controls",
      "model_module_version": "1.5.0",
      "model_name": "FloatProgressModel",
      "state": {
       "bar_style": "success",
       "layout": "IPY_MODEL_57084829e4684fc6b34f4ac425390a03",
       "max": 382605,
       "style": "IPY_MODEL_f8724095c137448d9838229b7b0b1f1d",
       "value": 382605
      }
     },
     "e330529fdbae4936908528a1722eabb0": {
      "model_module": "@jupyter-widgets/controls",
      "model_module_version": "1.5.0",
      "model_name": "FloatProgressModel",
      "state": {
       "bar_style": "success",
       "layout": "IPY_MODEL_ac42b45481f84b0784b721dad837e2d3",
       "max": 368905,
       "style": "IPY_MODEL_f3c74eccd4fe4657999d9b0d93e071f9",
       "value": 368905
      }
     },
     "e4701e5f9f504ba5b91b9e56cc4eda73": {
      "model_module": "@jupyter-widgets/base",
      "model_module_version": "1.2.0",
      "model_name": "LayoutModel",
      "state": {}
     },
     "e49c11fc7f9c4c4398e477a914ae5d03": {
      "model_module": "@jupyter-widgets/controls",
      "model_module_version": "1.5.0",
      "model_name": "DescriptionStyleModel",
      "state": {
       "description_width": ""
      }
     },
     "e4a3b353e2cf4d94baef32a998f16162": {
      "model_module": "@jupyter-widgets/controls",
      "model_module_version": "1.5.0",
      "model_name": "HTMLModel",
      "state": {
       "layout": "IPY_MODEL_3f02707c620645fc8180131fcdae9e2f",
       "style": "IPY_MODEL_96ae4ee8de1d416b9e2fac9e710265a5",
       "value": "100%"
      }
     },
     "e5d0f85ec5eb4d22a769218ebb12b533": {
      "model_module": "@jupyter-widgets/base",
      "model_module_version": "1.2.0",
      "model_name": "LayoutModel",
      "state": {}
     },
     "e611ae5605f648f4a6c7786b68125cf9": {
      "model_module": "@jupyter-widgets/controls",
      "model_module_version": "1.5.0",
      "model_name": "FloatProgressModel",
      "state": {
       "bar_style": "success",
       "layout": "IPY_MODEL_1dacc5de5b9b47ae98a64026411ad83d",
       "max": 382402,
       "style": "IPY_MODEL_25c7319b33da4da8bcbc4ab5c73f8719",
       "value": 382402
      }
     },
     "e63a347553bc416c904f856b32290888": {
      "model_module": "@jupyter-widgets/controls",
      "model_module_version": "1.5.0",
      "model_name": "HTMLModel",
      "state": {
       "layout": "IPY_MODEL_202547346e114990a3a134b32ef94931",
       "style": "IPY_MODEL_317556e9512a4c839df7d6a2d786755f",
       "value": "100%"
      }
     },
     "e66e7f4061494d0eb111f8ea83029514": {
      "model_module": "@jupyter-widgets/controls",
      "model_module_version": "1.5.0",
      "model_name": "FloatProgressModel",
      "state": {
       "bar_style": "success",
       "layout": "IPY_MODEL_232237f934064ce99b62011a03a000a8",
       "max": 369151,
       "style": "IPY_MODEL_2498292d70214c408937b0440963b309",
       "value": 369151
      }
     },
     "e80867888de644dea86595c06d807f8e": {
      "model_module": "@jupyter-widgets/controls",
      "model_module_version": "1.5.0",
      "model_name": "HTMLModel",
      "state": {
       "layout": "IPY_MODEL_3d97a995824e4998af4604e8af7811a4",
       "style": "IPY_MODEL_79a544a151464daa89907d6e9bc9903b",
       "value": "100%"
      }
     },
     "e8193251a2af42d7b19e11ff657fa1ad": {
      "model_module": "@jupyter-widgets/base",
      "model_module_version": "1.2.0",
      "model_name": "LayoutModel",
      "state": {}
     },
     "e86ecd213a8d4100bda2180b08b4b806": {
      "model_module": "@jupyter-widgets/controls",
      "model_module_version": "1.5.0",
      "model_name": "ProgressStyleModel",
      "state": {
       "description_width": ""
      }
     },
     "e9155cff65b54bb587d29afb01381246": {
      "model_module": "@jupyter-widgets/controls",
      "model_module_version": "1.5.0",
      "model_name": "ProgressStyleModel",
      "state": {
       "description_width": ""
      }
     },
     "ea944b4321534e65afc8f1cfc54c651d": {
      "model_module": "@jupyter-widgets/controls",
      "model_module_version": "1.5.0",
      "model_name": "DescriptionStyleModel",
      "state": {
       "description_width": ""
      }
     },
     "ec8e7a68d19e4ebdadadf0909b3614b4": {
      "model_module": "@jupyter-widgets/controls",
      "model_module_version": "1.5.0",
      "model_name": "DescriptionStyleModel",
      "state": {
       "description_width": ""
      }
     },
     "eca69bfc3eb148368d1f70b4b623dd9f": {
      "model_module": "@jupyter-widgets/base",
      "model_module_version": "1.2.0",
      "model_name": "LayoutModel",
      "state": {}
     },
     "eca7dd9f4fa9435f8c6d9ad08dd888de": {
      "model_module": "@jupyter-widgets/controls",
      "model_module_version": "1.5.0",
      "model_name": "FloatProgressModel",
      "state": {
       "bar_style": "success",
       "layout": "IPY_MODEL_8cbfcb4a40cb45fd816def46b1a3028f",
       "max": 457697,
       "style": "IPY_MODEL_f48b4926f1dc4271a33e65a85344211c",
       "value": 457697
      }
     },
     "ed59717aa42a449c83dfb22a4e9fdd3d": {
      "model_module": "@jupyter-widgets/base",
      "model_module_version": "1.2.0",
      "model_name": "LayoutModel",
      "state": {}
     },
     "edd0bf8018fc45e4b79645962144ecac": {
      "model_module": "@jupyter-widgets/base",
      "model_module_version": "1.2.0",
      "model_name": "LayoutModel",
      "state": {}
     },
     "ee29788277fe411da24bab3368b80a7a": {
      "model_module": "@jupyter-widgets/controls",
      "model_module_version": "1.5.0",
      "model_name": "ProgressStyleModel",
      "state": {
       "description_width": ""
      }
     },
     "ee5d17931a3a47cd8e88cd76eb9efbf0": {
      "model_module": "@jupyter-widgets/base",
      "model_module_version": "1.2.0",
      "model_name": "LayoutModel",
      "state": {}
     },
     "ef382a5449904713b38124a372ac1f1e": {
      "model_module": "@jupyter-widgets/controls",
      "model_module_version": "1.5.0",
      "model_name": "DescriptionStyleModel",
      "state": {
       "description_width": ""
      }
     },
     "f3a1f967f7ad4b6e8bc6dd3d28917e3a": {
      "model_module": "@jupyter-widgets/controls",
      "model_module_version": "1.5.0",
      "model_name": "DescriptionStyleModel",
      "state": {
       "description_width": ""
      }
     },
     "f3c74eccd4fe4657999d9b0d93e071f9": {
      "model_module": "@jupyter-widgets/controls",
      "model_module_version": "1.5.0",
      "model_name": "ProgressStyleModel",
      "state": {
       "description_width": ""
      }
     },
     "f430c8effd7a429fbddb7f5b062e8529": {
      "model_module": "@jupyter-widgets/controls",
      "model_module_version": "1.5.0",
      "model_name": "HBoxModel",
      "state": {
       "children": [
        "IPY_MODEL_e4a3b353e2cf4d94baef32a998f16162",
        "IPY_MODEL_e2839354f91f41d4b4ecbaecf45fe4ce",
        "IPY_MODEL_260de4ae757d4cac81c0cca5e81946d0"
       ],
       "layout": "IPY_MODEL_862c5034c76841918781a067792566b5"
      }
     },
     "f48b4926f1dc4271a33e65a85344211c": {
      "model_module": "@jupyter-widgets/controls",
      "model_module_version": "1.5.0",
      "model_name": "ProgressStyleModel",
      "state": {
       "description_width": ""
      }
     },
     "f618fb84cda04199926cfc8809cf2af1": {
      "model_module": "@jupyter-widgets/controls",
      "model_module_version": "1.5.0",
      "model_name": "DescriptionStyleModel",
      "state": {
       "description_width": ""
      }
     },
     "f650415805e84bd1a77b7c33e63d654d": {
      "model_module": "@jupyter-widgets/base",
      "model_module_version": "1.2.0",
      "model_name": "LayoutModel",
      "state": {}
     },
     "f689afe79fd9494a80c9cc05169f3d8e": {
      "model_module": "@jupyter-widgets/controls",
      "model_module_version": "1.5.0",
      "model_name": "FloatProgressModel",
      "state": {
       "bar_style": "success",
       "layout": "IPY_MODEL_809c0449439b49978c8dd84ad2862cd1",
       "max": 382903,
       "style": "IPY_MODEL_3865f7cc8e564f398304b4e2ceaf369d",
       "value": 382903
      }
     },
     "f77ad845dbdf4844a2edc54f9df02470": {
      "model_module": "@jupyter-widgets/base",
      "model_module_version": "1.2.0",
      "model_name": "LayoutModel",
      "state": {}
     },
     "f8111d85424e4c57b124f5db351b81c8": {
      "model_module": "@jupyter-widgets/base",
      "model_module_version": "1.2.0",
      "model_name": "LayoutModel",
      "state": {}
     },
     "f830546f5cd24919a75088755f190bf1": {
      "model_module": "@jupyter-widgets/base",
      "model_module_version": "1.2.0",
      "model_name": "LayoutModel",
      "state": {}
     },
     "f8724095c137448d9838229b7b0b1f1d": {
      "model_module": "@jupyter-widgets/controls",
      "model_module_version": "1.5.0",
      "model_name": "ProgressStyleModel",
      "state": {
       "description_width": ""
      }
     },
     "f8d182f989724bde85970d519cd930dd": {
      "model_module": "@jupyter-widgets/base",
      "model_module_version": "1.2.0",
      "model_name": "LayoutModel",
      "state": {}
     },
     "f9340ec4d2164853a635b1c24ec3b922": {
      "model_module": "@jupyter-widgets/base",
      "model_module_version": "1.2.0",
      "model_name": "LayoutModel",
      "state": {}
     },
     "f95232886f0d4a33be7135a914091ad0": {
      "model_module": "@jupyter-widgets/controls",
      "model_module_version": "1.5.0",
      "model_name": "HTMLModel",
      "state": {
       "layout": "IPY_MODEL_a48e1fab04384222935c7aeb5941215e",
       "style": "IPY_MODEL_ba462762be0e43f9940361eacbc5efce",
       "value": "100%"
      }
     },
     "f98410688bdb4ae2a2093883c6f3465e": {
      "model_module": "@jupyter-widgets/base",
      "model_module_version": "1.2.0",
      "model_name": "LayoutModel",
      "state": {}
     },
     "fa4000814d054d91ae819566f3bcba2e": {
      "model_module": "@jupyter-widgets/controls",
      "model_module_version": "1.5.0",
      "model_name": "HTMLModel",
      "state": {
       "layout": "IPY_MODEL_2f6a0945a03847c0a7e34076474f6ff3",
       "style": "IPY_MODEL_289fede7bb60417c967dfe0c5410c695",
       "value": " 149/149 [15:13&lt;00:00,  4.00s/it]"
      }
     },
     "fa5af34540f244079d9cd511e210dc46": {
      "model_module": "@jupyter-widgets/controls",
      "model_module_version": "1.5.0",
      "model_name": "ProgressStyleModel",
      "state": {
       "description_width": ""
      }
     },
     "fb6d6b1e49aa4ced9ba8ef1d5c57d9c3": {
      "model_module": "@jupyter-widgets/controls",
      "model_module_version": "1.5.0",
      "model_name": "ProgressStyleModel",
      "state": {
       "description_width": ""
      }
     },
     "fb9c7ab9f79a43a9bd5bab7986030199": {
      "model_module": "@jupyter-widgets/controls",
      "model_module_version": "1.5.0",
      "model_name": "HTMLModel",
      "state": {
       "layout": "IPY_MODEL_edd0bf8018fc45e4b79645962144ecac",
       "style": "IPY_MODEL_a5e3bbcede334154b22b2f81e1fc7e2a",
       "value": "100%"
      }
     },
     "fc5b5b34b40d45888227896a4c637134": {
      "model_module": "@jupyter-widgets/base",
      "model_module_version": "1.2.0",
      "model_name": "LayoutModel",
      "state": {}
     },
     "fd5c7e7da5804827bbec7e83d4465158": {
      "model_module": "@jupyter-widgets/base",
      "model_module_version": "1.2.0",
      "model_name": "LayoutModel",
      "state": {}
     },
     "fd7d6e151b9647ba8c86419c3165cad8": {
      "model_module": "@jupyter-widgets/controls",
      "model_module_version": "1.5.0",
      "model_name": "HBoxModel",
      "state": {
       "children": [
        "IPY_MODEL_904b848bb9ea4bceafc6ea37c0199a5f",
        "IPY_MODEL_c716a8b2524c46d59abcc19c57462020",
        "IPY_MODEL_7204c237ab1c4de48788113853263e23"
       ],
       "layout": "IPY_MODEL_2b9c1383487f4d61b66e637ae2039636"
      }
     },
     "feba85d606bb4afc9ab0cdb07f9dc49f": {
      "model_module": "@jupyter-widgets/controls",
      "model_module_version": "1.5.0",
      "model_name": "HBoxModel",
      "state": {
       "children": [
        "IPY_MODEL_4cd42cca52cb4742be57f46e1f27f642",
        "IPY_MODEL_cb2d9715721b4fde901463d105683be5",
        "IPY_MODEL_c72a4a6fe73340a8a098a65d834412f5"
       ],
       "layout": "IPY_MODEL_ee5d17931a3a47cd8e88cd76eb9efbf0"
      }
     },
     "ff973c4ae69a479e896f2c076a58a2ea": {
      "model_module": "@jupyter-widgets/controls",
      "model_module_version": "1.5.0",
      "model_name": "HBoxModel",
      "state": {
       "children": [
        "IPY_MODEL_55ba523d1e944453b49f7941005a6928",
        "IPY_MODEL_e66e7f4061494d0eb111f8ea83029514",
        "IPY_MODEL_d24f81a5816449dc8f1bb4c943e78332"
       ],
       "layout": "IPY_MODEL_c4d44b9b974044f096fe3d4fc8d08a75"
      }
     }
    },
    "version_major": 2,
    "version_minor": 0
   }
  }
 },
 "nbformat": 4,
 "nbformat_minor": 5
}
